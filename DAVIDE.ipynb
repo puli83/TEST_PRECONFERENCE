{
  "cells": [
    {
      "cell_type": "markdown",
      "metadata": {
        "id": "3uuATYYtzkB2"
      },
      "source": [
        "**Tool Showcase**\n",
        "=======\n",
        "\n",
        "<font color = 'E3A440'>*Webscraping tutorial*</font>\n",
        "=============\n",
        "\n",
        "This tutorial is a short hands-on tutorial to introduce the webscraping pratice.\n",
        "It was presented during the <font color = 'E3A440'>Tool Showcase</font> at [P4IE Conference - Measuring Metrics that Matter](https://event.fourwaves.com/p4ie/pages), which took place on 9-10-11 May 2022 at the *Hilton Garden Inn*, in Ottawa.\n",
        "\n",
        "Structure of the showcase:\n",
        "1. General Framework\n",
        "2. Web scraping step by step\n",
        "3. Launch a program \n",
        "\n",
        "This tutorial cannot be considered as ehaustif of the domain. \n",
        "\n",
        "### Author: \n",
        "- Davide Pulizzotto <davide.pulizzotto@polymtl.ca>\n",
        "\n",
        "### Table of Contents\n",
        "\n",
        "- [Section 1. Introduction](#introduction)\n",
        "- [Section 2. Step by step](#step-by-step)\n",
        "- [Section 3. Launch a program](#Launch)\n"
      ]
    },
    {
      "cell_type": "markdown",
      "metadata": {
        "id": "232GZfpEzkB5"
      },
      "source": [
        "<a id='introduction'></a>\n",
        "# <font size = '6' color='E3A440'>Section 1. Introduction</font>\n",
        "\n",
        "\n",
        "\n",
        "[Journal of Responsible Innovation](https://www.tandfonline.com/action/journalInformation?show=aimsScope&journalCode=tjri20) by Taylor & Francis.\n"
      ]
    },
    {
      "cell_type": "markdown",
      "metadata": {
        "id": "QRKQ8i7BzkB7"
      },
      "source": [
        "## 0.1 Preparation of Colab Virtual Machine\n",
        "\n",
        "In order to work correctly on Colab, we need to prepare the environment by executing two main steps:\n",
        "1. Download data from the GitHub project \n",
        "2. Install package to run code of this workshop"
      ]
    },
    {
      "cell_type": "code",
      "source": [
        "import requests\n",
        "from bs4 import BeautifulSoup\n",
        "import pandas as pd\n",
        "import re\n",
        "import time"
      ],
      "metadata": {
        "id": "x7LcqedRb3zI"
      },
      "execution_count": 206,
      "outputs": []
    },
    {
      "cell_type": "code",
      "source": [
        "headers = {'User-Agent': 'Mozilla/5.0 (Macintosh; Intel Mac OS X 10_11_5) AppleWebKit/537.36 (KHTML, like Gecko) Chrome/50.0.2661.102 Safari/537.36'}\n"
      ],
      "metadata": {
        "id": "DskUc3Maf73R"
      },
      "execution_count": 64,
      "outputs": []
    },
    {
      "cell_type": "markdown",
      "source": [
        "Make the request to the server"
      ],
      "metadata": {
        "id": "kEIc_XnuDOuL"
      }
    },
    {
      "cell_type": "code",
      "source": [
        "# response_req = requests.get('https://www.sciencedirect.com/journal/international-journal-of-innovation-studies/issues',\n",
        "#                             headers = headers,\n",
        "#                             timeout = 10)"
      ],
      "metadata": {
        "id": "O1Vk6I9OfS2Z"
      },
      "execution_count": 11,
      "outputs": []
    },
    {
      "cell_type": "code",
      "source": [
        "response_req = requests.get('https://www.tandfonline.com/toc/tjri20/9/1?nav=tocList',\n",
        "                            headers = headers,\n",
        "                            timeout = 10)"
      ],
      "metadata": {
        "id": "-GnvHP0cEnic"
      },
      "execution_count": 74,
      "outputs": []
    },
    {
      "cell_type": "code",
      "source": [
        "response_req.status_code"
      ],
      "metadata": {
        "id": "ccLwGNv-Tl7a",
        "outputId": "8f6ff2cc-d92c-40d4-ad14-64bbdbb75851",
        "colab": {
          "base_uri": "https://localhost:8080/"
        }
      },
      "execution_count": 75,
      "outputs": [
        {
          "output_type": "execute_result",
          "data": {
            "text/plain": [
              "200"
            ]
          },
          "metadata": {},
          "execution_count": 75
        }
      ]
    },
    {
      "cell_type": "markdown",
      "source": [
        "Parse the response's content"
      ],
      "metadata": {
        "id": "qAzfHRB4DSRy"
      }
    },
    {
      "cell_type": "code",
      "source": [
        "if response_req.status_code == 200:\n",
        "    soup = BeautifulSoup(response_req.content, features=\"lxml\")"
      ],
      "metadata": {
        "id": "ZQjmkXqwgPpS"
      },
      "execution_count": 76,
      "outputs": []
    },
    {
      "cell_type": "code",
      "source": [
        "list_article = soup.findAll('div', attrs={\"class\":re.compile(\"art_title linkable\")})"
      ],
      "metadata": {
        "id": "SohAjms2g_3C"
      },
      "execution_count": 77,
      "outputs": []
    },
    {
      "cell_type": "markdown",
      "source": [
        "Get list articles, and url"
      ],
      "metadata": {
        "id": "olj1uCmdGAut"
      }
    },
    {
      "cell_type": "code",
      "source": [
        "\n",
        "for x in list_article:\n",
        "    print(x.text)"
      ],
      "metadata": {
        "id": "q8K9jK1QhTm5",
        "outputId": "15f56fef-ebf3-46f4-d426-9811310eb72b",
        "colab": {
          "base_uri": "https://localhost:8080/"
        }
      },
      "execution_count": 80,
      "outputs": [
        {
          "output_type": "stream",
          "name": "stdout",
          "text": [
            "Engaging with societal challenges in responsible innovation\n",
            "What’s wrong with global challenges?\n",
            "Co-creation in support of responsible research and innovation: an analysis of three stakeholder workshops on nanotechnology for health\n",
            "Innovation and equality: an approach to constructing a community governed network commons\n",
            "Nanoscientists’ perceptions of serving as ethical leaders within their organization: Implications from ethical leadership for responsible innovation\n",
            "The uses of grand challenges in research policy and university management: something for everyone\n",
            "Toward institutionalization of responsible innovation in the contemporary research university: insights from case studies of Arizona State University\n",
            "Looking beyond the ‘horizon’ of RRI: moving from discomforts to commitments as early career researchers\n",
            "Responsibility and innovation\n",
            "New horizons, old friends: taking an ‘ARIA in six keys’ approach to the future of R(R)I\n",
            "Against bureaucrapitalism: a response to Shanley and colleagues\n"
          ]
        }
      ]
    },
    {
      "cell_type": "code",
      "source": [
        "list_url_articles = []\n",
        "for art_element in list_article:\n",
        "    for link_ in art_element.findAll(\"a\", href=True):\n",
        "        print(link_)\n",
        "        list_url_articles.append(link_['href'])\n"
      ],
      "metadata": {
        "id": "As-K9yOeTfHD",
        "outputId": "d22eb20f-3f55-44ac-8488-92534fb71cf1",
        "colab": {
          "base_uri": "https://localhost:8080/"
        }
      },
      "execution_count": 90,
      "outputs": [
        {
          "output_type": "stream",
          "name": "stdout",
          "text": [
            "/doi/full/10.1080/23299460.2022.2063910\n",
            "/doi/full/10.1080/23299460.2021.2000130\n",
            "/doi/full/10.1080/23299460.2021.1994195\n",
            "/doi/full/10.1080/23299460.2022.2043681\n",
            "/doi/full/10.1080/23299460.2022.2043630\n",
            "/doi/full/10.1080/23299460.2022.2040870\n",
            "/doi/full/10.1080/23299460.2022.2042983\n",
            "/doi/full/10.1080/23299460.2022.2049506\n",
            "/doi/full/10.1080/23299460.2022.2050570\n",
            "/doi/full/10.1080/23299460.2022.2050592\n",
            "/doi/full/10.1080/23299460.2022.2055993\n"
          ]
        }
      ]
    },
    {
      "cell_type": "code",
      "source": [
        "list_url_articles"
      ],
      "metadata": {
        "id": "mwGQ-qqGhft6",
        "outputId": "86b20ba5-30dd-41a5-ecf0-80ac491df47e",
        "colab": {
          "base_uri": "https://localhost:8080/"
        }
      },
      "execution_count": 82,
      "outputs": [
        {
          "output_type": "execute_result",
          "data": {
            "text/plain": [
              "['/doi/full/10.1080/23299460.2022.2063910',\n",
              " '/doi/full/10.1080/23299460.2021.2000130',\n",
              " '/doi/full/10.1080/23299460.2021.1994195',\n",
              " '/doi/full/10.1080/23299460.2022.2043681',\n",
              " '/doi/full/10.1080/23299460.2022.2043630',\n",
              " '/doi/full/10.1080/23299460.2022.2040870',\n",
              " '/doi/full/10.1080/23299460.2022.2042983',\n",
              " '/doi/full/10.1080/23299460.2022.2049506',\n",
              " '/doi/full/10.1080/23299460.2022.2050570',\n",
              " '/doi/full/10.1080/23299460.2022.2050592',\n",
              " '/doi/full/10.1080/23299460.2022.2055993']"
            ]
          },
          "metadata": {},
          "execution_count": 82
        }
      ]
    },
    {
      "cell_type": "code",
      "source": [
        "for url_article in list_url_articles:\n",
        "    url_art_temp = f\"https://www.tandfonline.com{url_article}\"\n",
        "    print(url_art_temp)\n"
      ],
      "metadata": {
        "id": "w9y-EHkNl7G_",
        "outputId": "2a0e73e6-b6e3-4413-ebdd-86d7441994bf",
        "colab": {
          "base_uri": "https://localhost:8080/"
        }
      },
      "execution_count": 85,
      "outputs": [
        {
          "output_type": "stream",
          "name": "stdout",
          "text": [
            "https://www.tandfonline.com/doi/full/10.1080/23299460.2022.2063910\n",
            "https://www.tandfonline.com/doi/full/10.1080/23299460.2021.2000130\n",
            "https://www.tandfonline.com/doi/full/10.1080/23299460.2021.1994195\n",
            "https://www.tandfonline.com/doi/full/10.1080/23299460.2022.2043681\n",
            "https://www.tandfonline.com/doi/full/10.1080/23299460.2022.2043630\n",
            "https://www.tandfonline.com/doi/full/10.1080/23299460.2022.2040870\n",
            "https://www.tandfonline.com/doi/full/10.1080/23299460.2022.2042983\n",
            "https://www.tandfonline.com/doi/full/10.1080/23299460.2022.2049506\n",
            "https://www.tandfonline.com/doi/full/10.1080/23299460.2022.2050570\n",
            "https://www.tandfonline.com/doi/full/10.1080/23299460.2022.2050592\n",
            "https://www.tandfonline.com/doi/full/10.1080/23299460.2022.2055993\n"
          ]
        }
      ]
    },
    {
      "cell_type": "code",
      "source": [
        "for url_article in list_url_articles:\n",
        "    url_art_temp = f\"https://www.tandfonline.com{url_article}\"\n",
        "    response_req_article = requests.get(url_art_temp,\n",
        "                            headers = headers,\n",
        "                            timeout = 10)\n",
        "    if response_req_article.status_code == 200:\n",
        "        soup_article = BeautifulSoup(response_req_article.content, features=\"lxml\")\n",
        "        if soup_article.find(\"div\", attrs = {\"class\": \"toc-heading\"}).text == 'Editorial':\n",
        "            continue\n",
        "    break"
      ],
      "metadata": {
        "id": "2U8zeL3YGrxL"
      },
      "execution_count": 102,
      "outputs": []
    },
    {
      "cell_type": "code",
      "source": [
        "type_article = soup_article.find(\"div\", attrs = {\"class\": \"toc-heading\"}).text\n",
        "print(type_article)"
      ],
      "metadata": {
        "id": "ZD9hNHXVYJvV",
        "outputId": "95db1feb-5a0f-41bd-e714-a333c92337a5",
        "colab": {
          "base_uri": "https://localhost:8080/"
        }
      },
      "execution_count": 103,
      "outputs": [
        {
          "output_type": "stream",
          "name": "stdout",
          "text": [
            "Research Articles\n"
          ]
        }
      ]
    },
    {
      "cell_type": "code",
      "source": [
        "title = soup_article.find(\"span\", attrs = {\"class\": re.compile(\"article-title\")})\n",
        "print(title.text)"
      ],
      "metadata": {
        "id": "Gs0QT8wGHJUM",
        "outputId": "640fc1ff-a6ac-4c5f-f82d-d0220b3832b2",
        "colab": {
          "base_uri": "https://localhost:8080/"
        }
      },
      "execution_count": 104,
      "outputs": [
        {
          "output_type": "stream",
          "name": "stdout",
          "text": [
            "What’s wrong with global challenges?\n"
          ]
        }
      ]
    },
    {
      "cell_type": "code",
      "source": [
        "list_authors = []\n",
        "for author_temp in soup_article.findAll(\"a\", attrs = {'class': \"author\"}):\n",
        "    list_authors.append(author_temp.text)\n",
        "    print(author_temp.text)"
      ],
      "metadata": {
        "id": "itvZAe0-J8-m",
        "outputId": "27a96e9f-00ff-4874-c353-cbbb1e7306bb",
        "colab": {
          "base_uri": "https://localhost:8080/"
        }
      },
      "execution_count": 106,
      "outputs": [
        {
          "output_type": "stream",
          "name": "stdout",
          "text": [
            "David Ludwig\n",
            "Vincent Blok\n",
            "Marie Garnier\n",
            "Phil Macnaghten\n",
            "Auke Pols\n"
          ]
        }
      ]
    },
    {
      "cell_type": "code",
      "source": [
        "authors = '; '.join(list_authors)\n",
        "authors"
      ],
      "metadata": {
        "id": "WCVgCSBBL9s-",
        "outputId": "eda8b04a-d64c-4e67-e9da-76c2fd2aa01c",
        "colab": {
          "base_uri": "https://localhost:8080/",
          "height": 35
        }
      },
      "execution_count": 108,
      "outputs": [
        {
          "output_type": "execute_result",
          "data": {
            "text/plain": [
              "'David Ludwig; Vincent Blok; Marie Garnier; Phil Macnaghten; Auke Pols'"
            ],
            "application/vnd.google.colaboratory.intrinsic+json": {
              "type": "string"
            }
          },
          "metadata": {},
          "execution_count": 108
        }
      ]
    },
    {
      "cell_type": "markdown",
      "source": [
        "Get abstract"
      ],
      "metadata": {
        "id": "sa2JhqDmMaNn"
      }
    },
    {
      "cell_type": "code",
      "source": [
        "abstract_el =  soup_article.find(\"div\", attrs = {'class': \"abstractSection abstractInFull\"})\n",
        "abstract_text = abstract_el.find('p').next_sibling.text\n",
        "abstract_text"
      ],
      "metadata": {
        "id": "VCmQqg4jMHLP",
        "outputId": "cc0c777e-c2a0-4211-fc04-20a199fb9ec8",
        "colab": {
          "base_uri": "https://localhost:8080/",
          "height": 142
        }
      },
      "execution_count": 131,
      "outputs": [
        {
          "output_type": "execute_result",
          "data": {
            "text/plain": [
              "\"Global challenges such as climate change, food security, or public health have become dominant concerns in research and innovation policy. This article examines how responses to these challenges are addressed by governance actors. We argue that appeals to global challenges can give rise to a ‘solution strategy' that presents responses of dominant actors as solutions and a ‘negotiation strategy' that highlights the availability of heterogeneous and often conflicting responses. On the basis of interviews and document analyses, the study identifies both strategies across local, national, and European levels. While our results demonstrate the co-existence of both strategies, we find that global challenges are most commonly highlighted together with the solutions offered by dominant actors. Global challenges are ‘wicked problems' that often become misframed as ‘tame problems’ in governance practice and thereby legitimise dominant responses.\""
            ],
            "application/vnd.google.colaboratory.intrinsic+json": {
              "type": "string"
            }
          },
          "metadata": {},
          "execution_count": 131
        }
      ]
    },
    {
      "cell_type": "markdown",
      "source": [
        "prepare your programe and launch it!"
      ],
      "metadata": {
        "id": "3aYS5nM2rsmV"
      }
    },
    {
      "cell_type": "code",
      "source": [
        "df_data_jri = pd.DataFrame(columns=['Vol','Issue','Year','Authors', 'Title','Abstract','url'])"
      ],
      "metadata": {
        "id": "rAyoF3Z3mrPt"
      },
      "execution_count": 245,
      "outputs": []
    },
    {
      "cell_type": "code",
      "source": [
        "# Volumes\n",
        "for vol_ in [7]:\n",
        "    # Issues\n",
        "    for issue_ in [1,2,3]:\n",
        "        url_issue = f\"https://www.tandfonline.com/toc/tjri20/{vol_}/{issue_}?nav=tocList\"\n",
        "        issue_req = requests.get(url_issue,\n",
        "                                    headers = headers,\n",
        "                                    timeout = 10)\n",
        "        if issue_req.status_code == 200:\n",
        "            soup_issue = BeautifulSoup(issue_req.content, features=\"lxml\")\n",
        "        \n",
        "        # Year\n",
        "        title_issue_el = soup_issue.find(\"div\", \"toc-title\")\n",
        "        year = re.search(\"(\\()([0-9]{4})(\\))\", title_issue_el.text).groups()[1]\n",
        "        print(f\"\\n{title_issue_el.text\")\n",
        "        # Articles\n",
        "        list_url_articles = soup_issue.findAll('div', attrs={\"class\":re.compile(\"art_title linkable\")})\n",
        "        for url_article in list_url_articles:\n",
        "            time.sleep(1)\n",
        "            url_arti_href  = url_article.find(\"a\")['href']\n",
        "            url_art_temp = f\"https://www.tandfonline.com{url_arti_href}\"\n",
        "            # print(url_art_temp)\n",
        "            req_article = requests.get(url_art_temp,\n",
        "                                    headers = headers,\n",
        "                                    timeout = 10)\n",
        "            # print(req_article.status_code)\n",
        "            if req_article.status_code == 200:\n",
        "                soup_article = BeautifulSoup(req_article.content, features=\"lxml\")\n",
        "                # print(soup_article.find(\"span\", attrs = {\"class\": \"article-type\"}).text)\n",
        "                \n",
        "                if not re.search(\"Article\", soup_article.find(\"div\", attrs = {\"class\": \"toc-heading\"}).text):\n",
        "                    # print(soup_article.find(\"div\", attrs = {\"class\": \"toc-heading\"}).text)\n",
        "                    continue\n",
        "            # title\n",
        "            title = soup_article.find(\"span\", attrs = {\"class\": re.compile(\"article-title\")})\n",
        "            print(title.text)\n",
        "            # author\n",
        "            list_authors = []\n",
        "            for author_temp in soup_article.findAll(\"a\", attrs = {'class': \"author\"}):\n",
        "                list_authors.append(author_temp.text)\n",
        "            authors = '; '.join(list_authors)\n",
        "            # abstract\n",
        "            abstract_el =  soup_article.find(\"div\", attrs = {'class': \"abstractSection abstractInFull\"})\n",
        "            abs_list_par = []\n",
        "            for par_ in abstract_el.findAll('p'):\n",
        "                if not re.search(\"^abstract\", par_.text, re.IGNORECASE):\n",
        "                    abs_list_par.append(par_.text)\n",
        "            abstract_text = '\\n'.join(abs_list_par)\n",
        "            # fill database\n",
        "            idx = len(df_data_jri)\n",
        "            df_data_jri.loc[idx] = [vol_, issue_, year, authors, title.text, abstract_text, url_art_temp]"
      ],
      "metadata": {
        "id": "7vEN6Xmlf3PK",
        "outputId": "db20fd1e-e791-4279-808f-a7fd093992cc",
        "colab": {
          "base_uri": "https://localhost:8080/"
        }
      },
      "execution_count": 246,
      "outputs": [
        {
          "output_type": "stream",
          "name": "stdout",
          "text": [
            "Journal of Responsible Innovation, Volume 7, Issue 1 (2020)\n",
            "Responsible innovation as empowering ways of knowing\n",
            "Traditional ecological knowledge in innovation governance: a framework for responsible and just innovation\n",
            "The design and testing of a tool for developing responsible innovation in start-up enterprises\n",
            "When desirability and feasibility go hand in hand: innovators’ perspectives on what is and is not responsible innovation in health\n",
            "The objects of technology assessment. Hermeneutic extension of consequentialist reasoning\n",
            "Journal of Responsible Innovation, Volume 7, Issue 2 (2020)\n",
            "Responsible research and innovation: hopes and fears in the scientific community in Europe\n",
            "Subtle voices, distant futures: a critical look at conditions for patient involvement in Alzheimer’s biomarker research and beyond\n",
            "Land use conflicts between biomass and power production – citizens’ participation in the technology development of Agrophotovoltaics\n",
            "Creating relevant knowledge in transdisciplinary research projects - Coping with inherent tensions\n",
            "Innovation, value-neutrality and the question of politics: unmasking the rhetorical and ideological abuse of evolutionary theory\n",
            "Journal of Responsible Innovation, Volume 7, Issue 3 (2020)\n",
            "The distribution of ethical labor in the scientific community\n",
            "Social license and synthetic biology: the trouble with mining terms\n",
            "Emotions, values and technology: illuminating the blind spots\n",
            "Managing budgetary uncertainty, interpreting policy. How researchers integrate “grand challenges” funding programs into their research agendas\n",
            "When nature goes digital: routes for responsible innovation\n",
            "Inclusion in responsible innovation: revisiting the desirability of opening up\n",
            "Embedding responsible innovation within synthetic biology research and innovation: insights from a UK multi-disciplinary research centre\n",
            "Social labs as an inclusive methodology to implement and study social change: the case of responsible research and innovation\n",
            "Open science for responsible innovation in Australia: understanding the expectations and priorities of scientists and researchers\n",
            "Values in responsible research and innovation: from entities to practices\n",
            "Responsible innovation between virtue and governance: revisiting Arendt’s notion of work as action\n",
            "Civic ethics as a normative framework for responsible research and innovation\n",
            "Who gets to be born? The anticipatory governance of pre-implantation genetic diagnosis technology in the United Kingdom from 1978–2001\n",
            "A cross-dimensional analysis of nanotechnology and equality: examining gender fairness and pro-poor potential in Canada’s R&D landscape\n",
            "Reducing inequality through technology diffusion: the case of 3D printing in public libraries\n",
            "Responsible innovation in school design – a systematic review\n",
            "Advantages and disadvantages of societal engagement: a case study in a research and technology organization\n",
            "Why do newly industrialized economies deter to adopt responsible research and innovation?: the case of emerging technologies in Korea\n",
            "The responsible innovation in health tool and the need to reconcile formative and summative ends in RRI tools for business\n"
          ]
        }
      ]
    },
    {
      "cell_type": "code",
      "source": [
        "df_data_jri"
      ],
      "metadata": {
        "id": "Rpz1Y6NeovfG",
        "outputId": "c92d5e6c-e383-42a9-b1b9-3f154a0202ac",
        "colab": {
          "base_uri": "https://localhost:8080/",
          "height": 1000
        }
      },
      "execution_count": 249,
      "outputs": [
        {
          "output_type": "execute_result",
          "data": {
            "text/plain": [
              "   Vol Issue  Year                                            Authors  \\\n",
              "0    7     1  2020  Govert Valkenburg; Annapurna Mamidipudi; Poona...   \n",
              "1    7     1  2020                      David Ludwig; Phil Macnaghten   \n",
              "2    7     1  2020  Thomas B. Long; Vincent Blok; Steven Dorrestij...   \n",
              "3    7     1  2020                     Lysanne Rivard; Pascale Lehoux   \n",
              "4    7     1  2020                                     Armin Grunwald   \n",
              "5    7     2  2020                 Martin Carrier ;  Minea Gartzlaff    \n",
              "6    7     2  2020             Karen Dam Nielsen ;  Marianne Boenink    \n",
              "7    7     2  2020   Daniel Ketzer ;  Nora Weinberger ;  Christine...   \n",
              "8    7     2  2020                                 Andrea Schikowitz    \n",
              "9    7     2  2020                                  Theo Papaioannou    \n",
              "10   7     3  2020                Vincenzo Politi ;  Alexei Grinbaum    \n",
              "11   7     3  2020   Jason A. Delborne ;  Adam E. Kokotovich ;  Je...   \n",
              "12   7     3  2020                 Steffen Steinert ;  Sabine Roeser    \n",
              "13   7     3  2020                            Wolfgang Kaltenbrunner    \n",
              "14   7     3  2020                                   Koen Bruynseels    \n",
              "15   7     3  2020   Barbara van Mierlo ;  PJ Beers ;  Anne-Charlo...   \n",
              "16   7     3  2020   Mario Pansera ;  Richard Owen ;  Darian Meach...   \n",
              "17   7     3  2020   Job Timmermans ;  Vincent Blok ;  Robert Brau...   \n",
              "18   7     3  2020   Justine Lacey ;  Rebecca Coates ;  Matthew He...   \n",
              "19   7     3  2020                   Marianne Boenink ;  Olya Kudina    \n",
              "20   7     3  2020                                    Wessel Reijers    \n",
              "21   7     3  2020               Félix Lozano ;  Irene Monsonís-Payá    \n",
              "22   7     3  2020                                 Shannon N. Conley    \n",
              "23   7     3  2020   Gita Ghiasi ;  Matthew Harsh ;  Andrea Schiff...   \n",
              "24   7     3  2020   Thomas Woodson ;  Nataliia Telendii ;  Robert...   \n",
              "25   7     3  2020                Joanne Deppeler ;  Kathleen Aikens    \n",
              "26   7     3  2020                         Marc Steen ;  Joram Nauta    \n",
              "27   7     3  2020           Eunok Ko ;  Jungsub Yoon ;  Yeonbae Kim    \n",
              "28   7     3  2020   P. Lehoux ;  H.P. Silva ;  R.R. Oliveira ;  L...   \n",
              "\n",
              "                                                Title  \\\n",
              "0   Responsible innovation as empowering ways of k...   \n",
              "1   Traditional ecological knowledge in innovation...   \n",
              "2   The design and testing of a tool for developin...   \n",
              "3   When desirability and feasibility go hand in h...   \n",
              "4   The objects of technology assessment. Hermeneu...   \n",
              "5   Responsible research and innovation: hopes and...   \n",
              "6   Subtle voices, distant futures: a critical loo...   \n",
              "7   Land use conflicts between biomass and power p...   \n",
              "8   Creating relevant knowledge in transdisciplina...   \n",
              "9   Innovation, value-neutrality and the question ...   \n",
              "10  The distribution of ethical labor in the scien...   \n",
              "11  Social license and synthetic biology: the trou...   \n",
              "12  Emotions, values and technology: illuminating ...   \n",
              "13  Managing budgetary uncertainty, interpreting p...   \n",
              "14  When nature goes digital: routes for responsib...   \n",
              "15  Inclusion in responsible innovation: revisitin...   \n",
              "16  Embedding responsible innovation within synthe...   \n",
              "17  Social labs as an inclusive methodology to imp...   \n",
              "18  Open science for responsible innovation in Aus...   \n",
              "19  Values in responsible research and innovation:...   \n",
              "20  Responsible innovation between virtue and gove...   \n",
              "21  Civic ethics as a normative framework for resp...   \n",
              "22  Who gets to be born? The anticipatory governan...   \n",
              "23  A cross-dimensional analysis of nanotechnology...   \n",
              "24  Reducing inequality through technology diffusi...   \n",
              "25  Responsible innovation in school design – a sy...   \n",
              "26  Advantages and disadvantages of societal engag...   \n",
              "27  Why do newly industrialized economies deter to...   \n",
              "28  The responsible innovation in health tool and ...   \n",
              "\n",
              "                                             Abstract  \\\n",
              "0   In pursuit of responsible research and innovat...   \n",
              "1   Change in Traditional Ecological Knowledge (TE...   \n",
              "2   Innovation leads to new products, business mod...   \n",
              "3   While the conceptual foundations of Responsibl...   \n",
              "4   Since the beginning of this century, the estab...   \n",
              "5   We conducted interviews among some 80 research...   \n",
              "6   Patient involvement is increasingly regarded a...   \n",
              "7   Despite the technical feasibility of renewable...   \n",
              "8   Transdisciplinarity aims to address ‘grand soc...   \n",
              "9   Since the reconstruction of Joseph Schumpeter’...   \n",
              "10  To believe that every single scientist ought t...   \n",
              "11  In the wake of controversies over first-genera...   \n",
              "12  Responsible innovation and ethics of technolog...   \n",
              "13  A recent trend in European science policy is t...   \n",
              "14  Digitalization of biological populations and e...   \n",
              "15  We investigate opening up, a crucial aim of re...   \n",
              "16  Over the last decade the discourse of responsi...   \n",
              "17  The embedding and promotion of social change i...   \n",
              "18  Recent arguments for responsible innovation to...   \n",
              "19  This article explores the understanding of val...   \n",
              "20  Recent developments in responsible innovation ...   \n",
              "21  Responsible Research and Innovation (RRI) is a...   \n",
              "22  This paper focuses on explicating and understa...   \n",
              "23  This study provides a cross-dimensional analys...   \n",
              "24  3D printers are hailed as the next revolutiona...   \n",
              "25  This paper considers Responsible Innovation (R...   \n",
              "26  We view Societal Engagement (SE) as a key elem...   \n",
              "27  Technologically advanced countries have recent...   \n",
              "28  Responsible Research and Innovation (RRI) scho...   \n",
              "\n",
              "                                                  url  \n",
              "0   https://www.tandfonline.com/doi/full/10.1080/2...  \n",
              "1   https://www.tandfonline.com/doi/full/10.1080/2...  \n",
              "2   https://www.tandfonline.com/doi/full/10.1080/2...  \n",
              "3   https://www.tandfonline.com/doi/full/10.1080/2...  \n",
              "4   https://www.tandfonline.com/doi/full/10.1080/2...  \n",
              "5   https://www.tandfonline.com/doi/full/10.1080/2...  \n",
              "6   https://www.tandfonline.com/doi/full/10.1080/2...  \n",
              "7   https://www.tandfonline.com/doi/full/10.1080/2...  \n",
              "8   https://www.tandfonline.com/doi/full/10.1080/2...  \n",
              "9   https://www.tandfonline.com/doi/full/10.1080/2...  \n",
              "10  https://www.tandfonline.com/doi/full/10.1080/2...  \n",
              "11  https://www.tandfonline.com/doi/full/10.1080/2...  \n",
              "12  https://www.tandfonline.com/doi/full/10.1080/2...  \n",
              "13  https://www.tandfonline.com/doi/full/10.1080/2...  \n",
              "14  https://www.tandfonline.com/doi/full/10.1080/2...  \n",
              "15  https://www.tandfonline.com/doi/full/10.1080/2...  \n",
              "16  https://www.tandfonline.com/doi/full/10.1080/2...  \n",
              "17  https://www.tandfonline.com/doi/full/10.1080/2...  \n",
              "18  https://www.tandfonline.com/doi/full/10.1080/2...  \n",
              "19  https://www.tandfonline.com/doi/full/10.1080/2...  \n",
              "20  https://www.tandfonline.com/doi/full/10.1080/2...  \n",
              "21  https://www.tandfonline.com/doi/full/10.1080/2...  \n",
              "22  https://www.tandfonline.com/doi/full/10.1080/2...  \n",
              "23  https://www.tandfonline.com/doi/full/10.1080/2...  \n",
              "24  https://www.tandfonline.com/doi/full/10.1080/2...  \n",
              "25  https://www.tandfonline.com/doi/full/10.1080/2...  \n",
              "26  https://www.tandfonline.com/doi/full/10.1080/2...  \n",
              "27  https://www.tandfonline.com/doi/full/10.1080/2...  \n",
              "28  https://www.tandfonline.com/doi/full/10.1080/2...  "
            ],
            "text/html": [
              "\n",
              "  <div id=\"df-cfe6365e-0966-4903-87e3-4ec7b51d205f\">\n",
              "    <div class=\"colab-df-container\">\n",
              "      <div>\n",
              "<style scoped>\n",
              "    .dataframe tbody tr th:only-of-type {\n",
              "        vertical-align: middle;\n",
              "    }\n",
              "\n",
              "    .dataframe tbody tr th {\n",
              "        vertical-align: top;\n",
              "    }\n",
              "\n",
              "    .dataframe thead th {\n",
              "        text-align: right;\n",
              "    }\n",
              "</style>\n",
              "<table border=\"1\" class=\"dataframe\">\n",
              "  <thead>\n",
              "    <tr style=\"text-align: right;\">\n",
              "      <th></th>\n",
              "      <th>Vol</th>\n",
              "      <th>Issue</th>\n",
              "      <th>Year</th>\n",
              "      <th>Authors</th>\n",
              "      <th>Title</th>\n",
              "      <th>Abstract</th>\n",
              "      <th>url</th>\n",
              "    </tr>\n",
              "  </thead>\n",
              "  <tbody>\n",
              "    <tr>\n",
              "      <th>0</th>\n",
              "      <td>7</td>\n",
              "      <td>1</td>\n",
              "      <td>2020</td>\n",
              "      <td>Govert Valkenburg; Annapurna Mamidipudi; Poona...</td>\n",
              "      <td>Responsible innovation as empowering ways of k...</td>\n",
              "      <td>In pursuit of responsible research and innovat...</td>\n",
              "      <td>https://www.tandfonline.com/doi/full/10.1080/2...</td>\n",
              "    </tr>\n",
              "    <tr>\n",
              "      <th>1</th>\n",
              "      <td>7</td>\n",
              "      <td>1</td>\n",
              "      <td>2020</td>\n",
              "      <td>David Ludwig; Phil Macnaghten</td>\n",
              "      <td>Traditional ecological knowledge in innovation...</td>\n",
              "      <td>Change in Traditional Ecological Knowledge (TE...</td>\n",
              "      <td>https://www.tandfonline.com/doi/full/10.1080/2...</td>\n",
              "    </tr>\n",
              "    <tr>\n",
              "      <th>2</th>\n",
              "      <td>7</td>\n",
              "      <td>1</td>\n",
              "      <td>2020</td>\n",
              "      <td>Thomas B. Long; Vincent Blok; Steven Dorrestij...</td>\n",
              "      <td>The design and testing of a tool for developin...</td>\n",
              "      <td>Innovation leads to new products, business mod...</td>\n",
              "      <td>https://www.tandfonline.com/doi/full/10.1080/2...</td>\n",
              "    </tr>\n",
              "    <tr>\n",
              "      <th>3</th>\n",
              "      <td>7</td>\n",
              "      <td>1</td>\n",
              "      <td>2020</td>\n",
              "      <td>Lysanne Rivard; Pascale Lehoux</td>\n",
              "      <td>When desirability and feasibility go hand in h...</td>\n",
              "      <td>While the conceptual foundations of Responsibl...</td>\n",
              "      <td>https://www.tandfonline.com/doi/full/10.1080/2...</td>\n",
              "    </tr>\n",
              "    <tr>\n",
              "      <th>4</th>\n",
              "      <td>7</td>\n",
              "      <td>1</td>\n",
              "      <td>2020</td>\n",
              "      <td>Armin Grunwald</td>\n",
              "      <td>The objects of technology assessment. Hermeneu...</td>\n",
              "      <td>Since the beginning of this century, the estab...</td>\n",
              "      <td>https://www.tandfonline.com/doi/full/10.1080/2...</td>\n",
              "    </tr>\n",
              "    <tr>\n",
              "      <th>5</th>\n",
              "      <td>7</td>\n",
              "      <td>2</td>\n",
              "      <td>2020</td>\n",
              "      <td>Martin Carrier ;  Minea Gartzlaff</td>\n",
              "      <td>Responsible research and innovation: hopes and...</td>\n",
              "      <td>We conducted interviews among some 80 research...</td>\n",
              "      <td>https://www.tandfonline.com/doi/full/10.1080/2...</td>\n",
              "    </tr>\n",
              "    <tr>\n",
              "      <th>6</th>\n",
              "      <td>7</td>\n",
              "      <td>2</td>\n",
              "      <td>2020</td>\n",
              "      <td>Karen Dam Nielsen ;  Marianne Boenink</td>\n",
              "      <td>Subtle voices, distant futures: a critical loo...</td>\n",
              "      <td>Patient involvement is increasingly regarded a...</td>\n",
              "      <td>https://www.tandfonline.com/doi/full/10.1080/2...</td>\n",
              "    </tr>\n",
              "    <tr>\n",
              "      <th>7</th>\n",
              "      <td>7</td>\n",
              "      <td>2</td>\n",
              "      <td>2020</td>\n",
              "      <td>Daniel Ketzer ;  Nora Weinberger ;  Christine...</td>\n",
              "      <td>Land use conflicts between biomass and power p...</td>\n",
              "      <td>Despite the technical feasibility of renewable...</td>\n",
              "      <td>https://www.tandfonline.com/doi/full/10.1080/2...</td>\n",
              "    </tr>\n",
              "    <tr>\n",
              "      <th>8</th>\n",
              "      <td>7</td>\n",
              "      <td>2</td>\n",
              "      <td>2020</td>\n",
              "      <td>Andrea Schikowitz</td>\n",
              "      <td>Creating relevant knowledge in transdisciplina...</td>\n",
              "      <td>Transdisciplinarity aims to address ‘grand soc...</td>\n",
              "      <td>https://www.tandfonline.com/doi/full/10.1080/2...</td>\n",
              "    </tr>\n",
              "    <tr>\n",
              "      <th>9</th>\n",
              "      <td>7</td>\n",
              "      <td>2</td>\n",
              "      <td>2020</td>\n",
              "      <td>Theo Papaioannou</td>\n",
              "      <td>Innovation, value-neutrality and the question ...</td>\n",
              "      <td>Since the reconstruction of Joseph Schumpeter’...</td>\n",
              "      <td>https://www.tandfonline.com/doi/full/10.1080/2...</td>\n",
              "    </tr>\n",
              "    <tr>\n",
              "      <th>10</th>\n",
              "      <td>7</td>\n",
              "      <td>3</td>\n",
              "      <td>2020</td>\n",
              "      <td>Vincenzo Politi ;  Alexei Grinbaum</td>\n",
              "      <td>The distribution of ethical labor in the scien...</td>\n",
              "      <td>To believe that every single scientist ought t...</td>\n",
              "      <td>https://www.tandfonline.com/doi/full/10.1080/2...</td>\n",
              "    </tr>\n",
              "    <tr>\n",
              "      <th>11</th>\n",
              "      <td>7</td>\n",
              "      <td>3</td>\n",
              "      <td>2020</td>\n",
              "      <td>Jason A. Delborne ;  Adam E. Kokotovich ;  Je...</td>\n",
              "      <td>Social license and synthetic biology: the trou...</td>\n",
              "      <td>In the wake of controversies over first-genera...</td>\n",
              "      <td>https://www.tandfonline.com/doi/full/10.1080/2...</td>\n",
              "    </tr>\n",
              "    <tr>\n",
              "      <th>12</th>\n",
              "      <td>7</td>\n",
              "      <td>3</td>\n",
              "      <td>2020</td>\n",
              "      <td>Steffen Steinert ;  Sabine Roeser</td>\n",
              "      <td>Emotions, values and technology: illuminating ...</td>\n",
              "      <td>Responsible innovation and ethics of technolog...</td>\n",
              "      <td>https://www.tandfonline.com/doi/full/10.1080/2...</td>\n",
              "    </tr>\n",
              "    <tr>\n",
              "      <th>13</th>\n",
              "      <td>7</td>\n",
              "      <td>3</td>\n",
              "      <td>2020</td>\n",
              "      <td>Wolfgang Kaltenbrunner</td>\n",
              "      <td>Managing budgetary uncertainty, interpreting p...</td>\n",
              "      <td>A recent trend in European science policy is t...</td>\n",
              "      <td>https://www.tandfonline.com/doi/full/10.1080/2...</td>\n",
              "    </tr>\n",
              "    <tr>\n",
              "      <th>14</th>\n",
              "      <td>7</td>\n",
              "      <td>3</td>\n",
              "      <td>2020</td>\n",
              "      <td>Koen Bruynseels</td>\n",
              "      <td>When nature goes digital: routes for responsib...</td>\n",
              "      <td>Digitalization of biological populations and e...</td>\n",
              "      <td>https://www.tandfonline.com/doi/full/10.1080/2...</td>\n",
              "    </tr>\n",
              "    <tr>\n",
              "      <th>15</th>\n",
              "      <td>7</td>\n",
              "      <td>3</td>\n",
              "      <td>2020</td>\n",
              "      <td>Barbara van Mierlo ;  PJ Beers ;  Anne-Charlo...</td>\n",
              "      <td>Inclusion in responsible innovation: revisitin...</td>\n",
              "      <td>We investigate opening up, a crucial aim of re...</td>\n",
              "      <td>https://www.tandfonline.com/doi/full/10.1080/2...</td>\n",
              "    </tr>\n",
              "    <tr>\n",
              "      <th>16</th>\n",
              "      <td>7</td>\n",
              "      <td>3</td>\n",
              "      <td>2020</td>\n",
              "      <td>Mario Pansera ;  Richard Owen ;  Darian Meach...</td>\n",
              "      <td>Embedding responsible innovation within synthe...</td>\n",
              "      <td>Over the last decade the discourse of responsi...</td>\n",
              "      <td>https://www.tandfonline.com/doi/full/10.1080/2...</td>\n",
              "    </tr>\n",
              "    <tr>\n",
              "      <th>17</th>\n",
              "      <td>7</td>\n",
              "      <td>3</td>\n",
              "      <td>2020</td>\n",
              "      <td>Job Timmermans ;  Vincent Blok ;  Robert Brau...</td>\n",
              "      <td>Social labs as an inclusive methodology to imp...</td>\n",
              "      <td>The embedding and promotion of social change i...</td>\n",
              "      <td>https://www.tandfonline.com/doi/full/10.1080/2...</td>\n",
              "    </tr>\n",
              "    <tr>\n",
              "      <th>18</th>\n",
              "      <td>7</td>\n",
              "      <td>3</td>\n",
              "      <td>2020</td>\n",
              "      <td>Justine Lacey ;  Rebecca Coates ;  Matthew He...</td>\n",
              "      <td>Open science for responsible innovation in Aus...</td>\n",
              "      <td>Recent arguments for responsible innovation to...</td>\n",
              "      <td>https://www.tandfonline.com/doi/full/10.1080/2...</td>\n",
              "    </tr>\n",
              "    <tr>\n",
              "      <th>19</th>\n",
              "      <td>7</td>\n",
              "      <td>3</td>\n",
              "      <td>2020</td>\n",
              "      <td>Marianne Boenink ;  Olya Kudina</td>\n",
              "      <td>Values in responsible research and innovation:...</td>\n",
              "      <td>This article explores the understanding of val...</td>\n",
              "      <td>https://www.tandfonline.com/doi/full/10.1080/2...</td>\n",
              "    </tr>\n",
              "    <tr>\n",
              "      <th>20</th>\n",
              "      <td>7</td>\n",
              "      <td>3</td>\n",
              "      <td>2020</td>\n",
              "      <td>Wessel Reijers</td>\n",
              "      <td>Responsible innovation between virtue and gove...</td>\n",
              "      <td>Recent developments in responsible innovation ...</td>\n",
              "      <td>https://www.tandfonline.com/doi/full/10.1080/2...</td>\n",
              "    </tr>\n",
              "    <tr>\n",
              "      <th>21</th>\n",
              "      <td>7</td>\n",
              "      <td>3</td>\n",
              "      <td>2020</td>\n",
              "      <td>Félix Lozano ;  Irene Monsonís-Payá</td>\n",
              "      <td>Civic ethics as a normative framework for resp...</td>\n",
              "      <td>Responsible Research and Innovation (RRI) is a...</td>\n",
              "      <td>https://www.tandfonline.com/doi/full/10.1080/2...</td>\n",
              "    </tr>\n",
              "    <tr>\n",
              "      <th>22</th>\n",
              "      <td>7</td>\n",
              "      <td>3</td>\n",
              "      <td>2020</td>\n",
              "      <td>Shannon N. Conley</td>\n",
              "      <td>Who gets to be born? The anticipatory governan...</td>\n",
              "      <td>This paper focuses on explicating and understa...</td>\n",
              "      <td>https://www.tandfonline.com/doi/full/10.1080/2...</td>\n",
              "    </tr>\n",
              "    <tr>\n",
              "      <th>23</th>\n",
              "      <td>7</td>\n",
              "      <td>3</td>\n",
              "      <td>2020</td>\n",
              "      <td>Gita Ghiasi ;  Matthew Harsh ;  Andrea Schiff...</td>\n",
              "      <td>A cross-dimensional analysis of nanotechnology...</td>\n",
              "      <td>This study provides a cross-dimensional analys...</td>\n",
              "      <td>https://www.tandfonline.com/doi/full/10.1080/2...</td>\n",
              "    </tr>\n",
              "    <tr>\n",
              "      <th>24</th>\n",
              "      <td>7</td>\n",
              "      <td>3</td>\n",
              "      <td>2020</td>\n",
              "      <td>Thomas Woodson ;  Nataliia Telendii ;  Robert...</td>\n",
              "      <td>Reducing inequality through technology diffusi...</td>\n",
              "      <td>3D printers are hailed as the next revolutiona...</td>\n",
              "      <td>https://www.tandfonline.com/doi/full/10.1080/2...</td>\n",
              "    </tr>\n",
              "    <tr>\n",
              "      <th>25</th>\n",
              "      <td>7</td>\n",
              "      <td>3</td>\n",
              "      <td>2020</td>\n",
              "      <td>Joanne Deppeler ;  Kathleen Aikens</td>\n",
              "      <td>Responsible innovation in school design – a sy...</td>\n",
              "      <td>This paper considers Responsible Innovation (R...</td>\n",
              "      <td>https://www.tandfonline.com/doi/full/10.1080/2...</td>\n",
              "    </tr>\n",
              "    <tr>\n",
              "      <th>26</th>\n",
              "      <td>7</td>\n",
              "      <td>3</td>\n",
              "      <td>2020</td>\n",
              "      <td>Marc Steen ;  Joram Nauta</td>\n",
              "      <td>Advantages and disadvantages of societal engag...</td>\n",
              "      <td>We view Societal Engagement (SE) as a key elem...</td>\n",
              "      <td>https://www.tandfonline.com/doi/full/10.1080/2...</td>\n",
              "    </tr>\n",
              "    <tr>\n",
              "      <th>27</th>\n",
              "      <td>7</td>\n",
              "      <td>3</td>\n",
              "      <td>2020</td>\n",
              "      <td>Eunok Ko ;  Jungsub Yoon ;  Yeonbae Kim</td>\n",
              "      <td>Why do newly industrialized economies deter to...</td>\n",
              "      <td>Technologically advanced countries have recent...</td>\n",
              "      <td>https://www.tandfonline.com/doi/full/10.1080/2...</td>\n",
              "    </tr>\n",
              "    <tr>\n",
              "      <th>28</th>\n",
              "      <td>7</td>\n",
              "      <td>3</td>\n",
              "      <td>2020</td>\n",
              "      <td>P. Lehoux ;  H.P. Silva ;  R.R. Oliveira ;  L...</td>\n",
              "      <td>The responsible innovation in health tool and ...</td>\n",
              "      <td>Responsible Research and Innovation (RRI) scho...</td>\n",
              "      <td>https://www.tandfonline.com/doi/full/10.1080/2...</td>\n",
              "    </tr>\n",
              "  </tbody>\n",
              "</table>\n",
              "</div>\n",
              "      <button class=\"colab-df-convert\" onclick=\"convertToInteractive('df-cfe6365e-0966-4903-87e3-4ec7b51d205f')\"\n",
              "              title=\"Convert this dataframe to an interactive table.\"\n",
              "              style=\"display:none;\">\n",
              "        \n",
              "  <svg xmlns=\"http://www.w3.org/2000/svg\" height=\"24px\"viewBox=\"0 0 24 24\"\n",
              "       width=\"24px\">\n",
              "    <path d=\"M0 0h24v24H0V0z\" fill=\"none\"/>\n",
              "    <path d=\"M18.56 5.44l.94 2.06.94-2.06 2.06-.94-2.06-.94-.94-2.06-.94 2.06-2.06.94zm-11 1L8.5 8.5l.94-2.06 2.06-.94-2.06-.94L8.5 2.5l-.94 2.06-2.06.94zm10 10l.94 2.06.94-2.06 2.06-.94-2.06-.94-.94-2.06-.94 2.06-2.06.94z\"/><path d=\"M17.41 7.96l-1.37-1.37c-.4-.4-.92-.59-1.43-.59-.52 0-1.04.2-1.43.59L10.3 9.45l-7.72 7.72c-.78.78-.78 2.05 0 2.83L4 21.41c.39.39.9.59 1.41.59.51 0 1.02-.2 1.41-.59l7.78-7.78 2.81-2.81c.8-.78.8-2.07 0-2.86zM5.41 20L4 18.59l7.72-7.72 1.47 1.35L5.41 20z\"/>\n",
              "  </svg>\n",
              "      </button>\n",
              "      \n",
              "  <style>\n",
              "    .colab-df-container {\n",
              "      display:flex;\n",
              "      flex-wrap:wrap;\n",
              "      gap: 12px;\n",
              "    }\n",
              "\n",
              "    .colab-df-convert {\n",
              "      background-color: #E8F0FE;\n",
              "      border: none;\n",
              "      border-radius: 50%;\n",
              "      cursor: pointer;\n",
              "      display: none;\n",
              "      fill: #1967D2;\n",
              "      height: 32px;\n",
              "      padding: 0 0 0 0;\n",
              "      width: 32px;\n",
              "    }\n",
              "\n",
              "    .colab-df-convert:hover {\n",
              "      background-color: #E2EBFA;\n",
              "      box-shadow: 0px 1px 2px rgba(60, 64, 67, 0.3), 0px 1px 3px 1px rgba(60, 64, 67, 0.15);\n",
              "      fill: #174EA6;\n",
              "    }\n",
              "\n",
              "    [theme=dark] .colab-df-convert {\n",
              "      background-color: #3B4455;\n",
              "      fill: #D2E3FC;\n",
              "    }\n",
              "\n",
              "    [theme=dark] .colab-df-convert:hover {\n",
              "      background-color: #434B5C;\n",
              "      box-shadow: 0px 1px 3px 1px rgba(0, 0, 0, 0.15);\n",
              "      filter: drop-shadow(0px 1px 2px rgba(0, 0, 0, 0.3));\n",
              "      fill: #FFFFFF;\n",
              "    }\n",
              "  </style>\n",
              "\n",
              "      <script>\n",
              "        const buttonEl =\n",
              "          document.querySelector('#df-cfe6365e-0966-4903-87e3-4ec7b51d205f button.colab-df-convert');\n",
              "        buttonEl.style.display =\n",
              "          google.colab.kernel.accessAllowed ? 'block' : 'none';\n",
              "\n",
              "        async function convertToInteractive(key) {\n",
              "          const element = document.querySelector('#df-cfe6365e-0966-4903-87e3-4ec7b51d205f');\n",
              "          const dataTable =\n",
              "            await google.colab.kernel.invokeFunction('convertToInteractive',\n",
              "                                                     [key], {});\n",
              "          if (!dataTable) return;\n",
              "\n",
              "          const docLinkHtml = 'Like what you see? Visit the ' +\n",
              "            '<a target=\"_blank\" href=https://colab.research.google.com/notebooks/data_table.ipynb>data table notebook</a>'\n",
              "            + ' to learn more about interactive tables.';\n",
              "          element.innerHTML = '';\n",
              "          dataTable['output_type'] = 'display_data';\n",
              "          await google.colab.output.renderOutput(dataTable, element);\n",
              "          const docLink = document.createElement('div');\n",
              "          docLink.innerHTML = docLinkHtml;\n",
              "          element.appendChild(docLink);\n",
              "        }\n",
              "      </script>\n",
              "    </div>\n",
              "  </div>\n",
              "  "
            ]
          },
          "metadata": {},
          "execution_count": 249
        }
      ]
    }
  ],
  "metadata": {
    "kernelspec": {
      "display_name": "Python 3",
      "language": "python",
      "name": "python3"
    },
    "language_info": {
      "codemirror_mode": {
        "name": "ipython",
        "version": 3
      },
      "file_extension": ".py",
      "mimetype": "text/x-python",
      "name": "python",
      "nbconvert_exporter": "python",
      "pygments_lexer": "ipython3",
      "version": "3.7.3"
    },
    "colab": {
      "name": "Workshop_4POINT0_Test.ipynb",
      "provenance": [],
      "toc_visible": true
    }
  },
  "nbformat": 4,
  "nbformat_minor": 0
}