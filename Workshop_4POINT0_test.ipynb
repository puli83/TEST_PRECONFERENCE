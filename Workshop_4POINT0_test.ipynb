{
  "cells": [
    {
      "cell_type": "markdown",
      "metadata": {
        "id": "3uuATYYtzkB2"
      },
      "source": [
        "<font size='10' color = 'E3A440'>**Pre-confèrence Workshop on Python**</font>\n",
        "=======\n",
        "\n",
        "<font color = 'E3A440'>*Pratical introduction to the analysis of unstructured data*</font>\n",
        "=============\n",
        "\n",
        "This tutorial is a short hands-on workshoop to introduce to the analysis of unstructured data for innovation studies. \n",
        "\n",
        "Structure of the workshop:\n",
        "1. Presentation of section 1 and 2 in a plenary mode (20 minutes)\n",
        "2. Individual work on section 2 and 3 (20 minutes)\n",
        "3. Group work on section 3 (60 minutes)\n",
        "4. Plenary section with presentation from groups (20 minutes)\n",
        "\n",
        "This tutorial cannot be considered as ehaustif of the domain. \n",
        "\n",
        "### Auteurs: \n",
        "- Mikael Heroux-Vaillancourt <mikael.heroux-vaillancourt@polymtl.ca>\n",
        "- Davide Pulizzotto <davide.pulizzotto@polymtl.ca>\n",
        "- Pietro Cruciata <pietro.cruciata@polymtl.ca>\n",
        "- Alvar Herrera <alvar.herrera@polymtl.ca> \n",
        "\n",
        "### Table des matières\n",
        "\n",
        "- [Section 0. Introduction](#introduction)\n",
        "- [Section 1. Preparation of data](#pre-processing)\n",
        "- [Section 2. Descriptive statistics](#desc-stat)\n",
        "- [Section 3. Analysis](#analysis)\n",
        "- [Section 4. Conclusions](#concluding-remarks)"
      ]
    },
    {
      "cell_type": "markdown",
      "metadata": {
        "id": "232GZfpEzkB5"
      },
      "source": [
        "<a id='introduction'></a>\n",
        "# <font size = '6' color='E3A440'>Section 0. Introduction</font>\n",
        "\n",
        "This workshop is based on the research work of **Mikael Heroux-Vaillancourt** presented at the [P4IE Conference - Measuring Metrics that Matter](https://event.fourwaves.com/p4ie/pages), which took place  on -10-11 May 2022 at the *Hilton Garden Inn*, in Ottawa.\n",
        "\n",
        "To get more informaiton about the presentation, we address you to this [link]() wich contains the presentation.\n",
        "\n",
        "In order to succes this workshop, few concept have to been underlined:\n",
        "\n",
        "1. This study is an exploratory analsyis fo several compabines which obtained a [BCorp certification](https://www.bcorporation.net/en-us/)\n",
        "2. The data analysed come from a webscraping step of the snapshots found on [Wayback Machine](https://archive.org/web/) of all those companis of point 1.\n",
        "3. Objectives are ...\n",
        "To\n",
        "\n",
        "\n",
        "### Glossary of the workshop\n",
        "\n",
        "Here, we list some terms that are used in this workshop:\n",
        "\n",
        "1. <font color='E3A440'><b>Dataframe</b></font>: a data structure that organizes data into a 2-dimensional table of rows and columns\n",
        "2. <font color='E3A440'><b>Metadata</b></font>: it is an information about an unstructured block of data (i.e., the author of a paper is a metadata of the text of that paper).\n",
        "3. <font color='E3A440'><b>Token</b></font>: each sequence of character which constitue an indipendent linguistic unit, that is a word (i.e., each occurence of the verb eat is a different token).\n",
        "4. <font color='E3A440'><b>Type</b></font>: The unique string of caracter which represent several occurrences of the same linguistic unit or word (i.e., the string 'eat' is the type for each token of the verb to eat).\n",
        "5. <font color='E3A440'><b>POS tag</b></font>:  a process which aims to assign parts of speech to each word of a given text\n",
        "6. <font color='E3A440'><b>Stopwords</b></font>: it refers to words that are very low semantic content such as article (the, an), modals (would, must), etc. \n",
        "7. <font color='E3A440'><b>Lemmatization</b></font>: a process that reduces the inflected words properly ensuring that the root word belongs to the language\n",
        "8. <font color='E3A440'><b>Document-Term matrix</b></font>: it is a matrix where rows represent segment of text and columns are filled by linguistic features of that segment of text.\n",
        "9. <font color='E3A440'><b>Weighting</b></font>: it is the weigth a mathematical function provides for each linguistic feature of each segment of text (i.e., Term frequency, Tf-Idf, BM25, etc.)\n",
        "10. <font color='E3A440'><b>K-means clustering</b></font>: an unsupervised statistic method aiming to partition *n* observations into *k* clusters based on their proximity to the centroid\n",
        "\n",
        "\n",
        "### Some basic concepts\n",
        "In text mining, the main step is to convert unstructured textual data in a mathematical model which can be used in statistical learning. Thus, we need to create a <font color='E3A440'>**Document-Term matrix**</font>, which is generally represented as follow:   \n",
        "$$X = \\begin{bmatrix} \n",
        "x_{11} & x_{12} & \\ldots & x_{1p} \\\\\n",
        "\\vdots & \\vdots       &  \\ddots      & \\vdots \\\\ \n",
        "x_{n1} & x_{12} & \\ldots & x_{np} \\\\\n",
        "\\end{bmatrix}\n",
        "$$ \n",
        "\n",
        "Thus, it is a matrix of size $n \\times p$, where $n$ is the number of text segments and $p$ is the number of textual features selected. There textual feratuire can have different nature. In the most simple model, these features correpon to the set of types which resume each token of the corpus. In other terms, $p$ are the nombre of feature that caracterize a segment of text. \n",
        "\n",
        "When we apply a <font color='E3A440'>**clustering algorithm**</font> to this matrix, we want to group rows in a set of clusters which are homogeneous. This means to minimize the intra-classe inertie or the pairwise squared deviations of points in the same cluster:\n",
        "\n",
        "$$ \\underset{s}{\\arg\\min}\\sum_{i=1}^{k}\\frac{1}{\\vert S_i\\vert}\\sum_\\limits{x,y \\in S_i}\\Vert x-y \\Vert^2$$\n",
        "\n",
        "This kind of algorithm aims to create a vector $Y$ of size $n$, containing the <font color='E3A440'>**cluster label**</font> assigned to each segment of text from $1$ to $k$.\n",
        "\n",
        "$$\n",
        "Y = \\begin{bmatrix} \n",
        "c_1 \\\\\n",
        "c_2 \\\\\n",
        "\\vdots \\\\ \n",
        "c_n\n",
        "\\end{bmatrix}$$\n",
        "\n",
        "Thus, $Y_1$ correspond to the cluster label given at $X_1$. Generally, $k$ is the main parameters of a clustering algorithm, which represent the number of cluster into which group text segments."
      ]
    },
    {
      "cell_type": "markdown",
      "metadata": {
        "id": "QRKQ8i7BzkB7"
      },
      "source": [
        "## 0.1 Preparation of Colab Virtual Machine\n",
        "\n",
        "In order to work correctly on Colab, we need to prepare the environment by executing two main steps:\n",
        "1. Download data from the GitHub project \n",
        "2. Install package to run code of this workshop"
      ]
    },
    {
      "cell_type": "code",
      "execution_count": null,
      "metadata": {
        "id": "P9mMQQWJzkB7",
        "outputId": "505491a8-18ed-4655-c5c6-eca3fef115e7",
        "colab": {
          "base_uri": "https://localhost:8080/"
        }
      },
      "outputs": [
        {
          "output_type": "stream",
          "name": "stdout",
          "text": [
            "Cloning into 'TEST_PRECONFERENCE'...\n",
            "remote: Enumerating objects: 283, done.\u001b[K\n",
            "remote: Counting objects: 100% (31/31), done.\u001b[K\n",
            "remote: Compressing objects: 100% (31/31), done.\u001b[K\n",
            "remote: Total 283 (delta 12), reused 0 (delta 0), pack-reused 252\u001b[K\n",
            "Receiving objects: 100% (283/283), 74.86 MiB | 22.94 MiB/s, done.\n",
            "Resolving deltas: 100% (150/150), done.\n"
          ]
        }
      ],
      "source": [
        "# Downloading of datat from the GitHub project\n",
        "!rm -rf TEST_PRECONFERENCE/\n",
        "!git clone https://github.com/puli83/TEST_PRECONFERENCE"
      ]
    },
    {
      "cell_type": "code",
      "source": [
        "# Installation of packages\n",
        "!pip install pickle5\n",
        "!pip install nltk\n",
        "!python -m spacy download en_core_web_sm"
      ],
      "metadata": {
        "id": "GHzhKocKltaY",
        "outputId": "77fc45ff-e69e-4163-a83b-285bc8d24159",
        "colab": {
          "base_uri": "https://localhost:8080/"
        }
      },
      "execution_count": null,
      "outputs": [
        {
          "output_type": "stream",
          "name": "stdout",
          "text": [
            "Collecting pickle5\n",
            "  Downloading pickle5-0.0.12-cp37-cp37m-manylinux_2_5_x86_64.manylinux1_x86_64.whl (256 kB)\n",
            "\u001b[?25l\r\u001b[K     |█▎                              | 10 kB 14.8 MB/s eta 0:00:01\r\u001b[K     |██▋                             | 20 kB 8.0 MB/s eta 0:00:01\r\u001b[K     |███▉                            | 30 kB 5.6 MB/s eta 0:00:01\r\u001b[K     |█████▏                          | 40 kB 5.6 MB/s eta 0:00:01\r\u001b[K     |██████▍                         | 51 kB 4.8 MB/s eta 0:00:01\r\u001b[K     |███████▊                        | 61 kB 5.7 MB/s eta 0:00:01\r\u001b[K     |█████████                       | 71 kB 6.1 MB/s eta 0:00:01\r\u001b[K     |██████████▎                     | 81 kB 6.9 MB/s eta 0:00:01\r\u001b[K     |███████████▌                    | 92 kB 6.7 MB/s eta 0:00:01\r\u001b[K     |████████████▉                   | 102 kB 6.9 MB/s eta 0:00:01\r\u001b[K     |██████████████                  | 112 kB 6.9 MB/s eta 0:00:01\r\u001b[K     |███████████████▍                | 122 kB 6.9 MB/s eta 0:00:01\r\u001b[K     |████████████████▋               | 133 kB 6.9 MB/s eta 0:00:01\r\u001b[K     |██████████████████              | 143 kB 6.9 MB/s eta 0:00:01\r\u001b[K     |███████████████████▏            | 153 kB 6.9 MB/s eta 0:00:01\r\u001b[K     |████████████████████▌           | 163 kB 6.9 MB/s eta 0:00:01\r\u001b[K     |█████████████████████▊          | 174 kB 6.9 MB/s eta 0:00:01\r\u001b[K     |███████████████████████         | 184 kB 6.9 MB/s eta 0:00:01\r\u001b[K     |████████████████████████▎       | 194 kB 6.9 MB/s eta 0:00:01\r\u001b[K     |█████████████████████████▋      | 204 kB 6.9 MB/s eta 0:00:01\r\u001b[K     |██████████████████████████▉     | 215 kB 6.9 MB/s eta 0:00:01\r\u001b[K     |████████████████████████████▏   | 225 kB 6.9 MB/s eta 0:00:01\r\u001b[K     |█████████████████████████████▍  | 235 kB 6.9 MB/s eta 0:00:01\r\u001b[K     |██████████████████████████████▊ | 245 kB 6.9 MB/s eta 0:00:01\r\u001b[K     |████████████████████████████████| 256 kB 6.9 MB/s eta 0:00:01\r\u001b[K     |████████████████████████████████| 256 kB 6.9 MB/s \n",
            "\u001b[?25hInstalling collected packages: pickle5\n",
            "Successfully installed pickle5-0.0.12\n",
            "Requirement already satisfied: nltk in /usr/local/lib/python3.7/dist-packages (3.2.5)\n",
            "Requirement already satisfied: six in /usr/local/lib/python3.7/dist-packages (from nltk) (1.15.0)\n",
            "Collecting en_core_web_sm==2.2.5\n",
            "  Downloading https://github.com/explosion/spacy-models/releases/download/en_core_web_sm-2.2.5/en_core_web_sm-2.2.5.tar.gz (12.0 MB)\n",
            "\u001b[K     |████████████████████████████████| 12.0 MB 7.7 MB/s \n",
            "\u001b[?25hRequirement already satisfied: spacy>=2.2.2 in /usr/local/lib/python3.7/dist-packages (from en_core_web_sm==2.2.5) (2.2.4)\n",
            "Requirement already satisfied: requests<3.0.0,>=2.13.0 in /usr/local/lib/python3.7/dist-packages (from spacy>=2.2.2->en_core_web_sm==2.2.5) (2.23.0)\n",
            "Requirement already satisfied: preshed<3.1.0,>=3.0.2 in /usr/local/lib/python3.7/dist-packages (from spacy>=2.2.2->en_core_web_sm==2.2.5) (3.0.6)\n",
            "Requirement already satisfied: thinc==7.4.0 in /usr/local/lib/python3.7/dist-packages (from spacy>=2.2.2->en_core_web_sm==2.2.5) (7.4.0)\n",
            "Requirement already satisfied: tqdm<5.0.0,>=4.38.0 in /usr/local/lib/python3.7/dist-packages (from spacy>=2.2.2->en_core_web_sm==2.2.5) (4.64.0)\n",
            "Requirement already satisfied: murmurhash<1.1.0,>=0.28.0 in /usr/local/lib/python3.7/dist-packages (from spacy>=2.2.2->en_core_web_sm==2.2.5) (1.0.6)\n",
            "Requirement already satisfied: wasabi<1.1.0,>=0.4.0 in /usr/local/lib/python3.7/dist-packages (from spacy>=2.2.2->en_core_web_sm==2.2.5) (0.9.1)\n",
            "Requirement already satisfied: plac<1.2.0,>=0.9.6 in /usr/local/lib/python3.7/dist-packages (from spacy>=2.2.2->en_core_web_sm==2.2.5) (1.1.3)\n",
            "Requirement already satisfied: catalogue<1.1.0,>=0.0.7 in /usr/local/lib/python3.7/dist-packages (from spacy>=2.2.2->en_core_web_sm==2.2.5) (1.0.0)\n",
            "Requirement already satisfied: setuptools in /usr/local/lib/python3.7/dist-packages (from spacy>=2.2.2->en_core_web_sm==2.2.5) (57.4.0)\n",
            "Requirement already satisfied: numpy>=1.15.0 in /usr/local/lib/python3.7/dist-packages (from spacy>=2.2.2->en_core_web_sm==2.2.5) (1.21.6)\n",
            "Requirement already satisfied: srsly<1.1.0,>=1.0.2 in /usr/local/lib/python3.7/dist-packages (from spacy>=2.2.2->en_core_web_sm==2.2.5) (1.0.5)\n",
            "Requirement already satisfied: blis<0.5.0,>=0.4.0 in /usr/local/lib/python3.7/dist-packages (from spacy>=2.2.2->en_core_web_sm==2.2.5) (0.4.1)\n",
            "Requirement already satisfied: cymem<2.1.0,>=2.0.2 in /usr/local/lib/python3.7/dist-packages (from spacy>=2.2.2->en_core_web_sm==2.2.5) (2.0.6)\n",
            "Requirement already satisfied: importlib-metadata>=0.20 in /usr/local/lib/python3.7/dist-packages (from catalogue<1.1.0,>=0.0.7->spacy>=2.2.2->en_core_web_sm==2.2.5) (4.11.3)\n",
            "Requirement already satisfied: zipp>=0.5 in /usr/local/lib/python3.7/dist-packages (from importlib-metadata>=0.20->catalogue<1.1.0,>=0.0.7->spacy>=2.2.2->en_core_web_sm==2.2.5) (3.8.0)\n",
            "Requirement already satisfied: typing-extensions>=3.6.4 in /usr/local/lib/python3.7/dist-packages (from importlib-metadata>=0.20->catalogue<1.1.0,>=0.0.7->spacy>=2.2.2->en_core_web_sm==2.2.5) (4.2.0)\n",
            "Requirement already satisfied: certifi>=2017.4.17 in /usr/local/lib/python3.7/dist-packages (from requests<3.0.0,>=2.13.0->spacy>=2.2.2->en_core_web_sm==2.2.5) (2021.10.8)\n",
            "Requirement already satisfied: idna<3,>=2.5 in /usr/local/lib/python3.7/dist-packages (from requests<3.0.0,>=2.13.0->spacy>=2.2.2->en_core_web_sm==2.2.5) (2.10)\n",
            "Requirement already satisfied: chardet<4,>=3.0.2 in /usr/local/lib/python3.7/dist-packages (from requests<3.0.0,>=2.13.0->spacy>=2.2.2->en_core_web_sm==2.2.5) (3.0.4)\n",
            "Requirement already satisfied: urllib3!=1.25.0,!=1.25.1,<1.26,>=1.21.1 in /usr/local/lib/python3.7/dist-packages (from requests<3.0.0,>=2.13.0->spacy>=2.2.2->en_core_web_sm==2.2.5) (1.24.3)\n",
            "\u001b[38;5;2m✔ Download and installation successful\u001b[0m\n",
            "You can now load the model via spacy.load('en_core_web_sm')\n"
          ]
        }
      ]
    },
    {
      "cell_type": "markdown",
      "metadata": {
        "id": "jmzFMxo-zkB8"
      },
      "source": [
        "## 0.2 Import packages\n",
        "\n",
        "We import the following packages that contain the functions needed to accomplish our task: \n",
        "- `re` une librairie pour les expressions régulières\n",
        "- `matplotlib` pour tracer des graphiques\n",
        "- `numpy` pour des fonctions d'algèbre linéaire\n",
        "- `pandas` pour manipuler les données\n",
        "- `sklearn` (scikit-learn) pour des modèles d'apprentissage automatique ainsi que des fonctions reliées à la pratique de l'apprentissage automatique\n",
        "- `spacy` designed to build information extraction or natural language understanding systems. It supports several functions to performs several NLP task such us POS tag and NER\n",
        "- `nltk` include over 50 corpora, access to lexical resources such as WordNet and function to perform text processing task as tokenization, tagging and parsing "
      ]
    },
    {
      "cell_type": "code",
      "source": [
        "import pandas as pd\n",
        "import numpy as np\n",
        "import scipy\n",
        "import datetime\n",
        "import os\n",
        "import pickle5 as pickle\n",
        "import spacy\n",
        "import nltk\n",
        "from nltk.corpus import stopwords\n",
        "from sklearn.feature_extraction.text import CountVectorizer, TfidfTransformer #, TfidfVectorizer\n",
        "from wordcloud import WordCloud\n",
        "import matplotlib.pyplot as plt\n",
        "#% matplotlib inline\n",
        "#import sys\n",
        "#sys.path += ['TEST_PRECONFERENCE/']\n",
        "import seaborn as sns\n"
      ],
      "metadata": {
        "id": "tlI8PkH18Ofi"
      },
      "execution_count": null,
      "outputs": []
    },
    {
      "cell_type": "markdown",
      "source": [
        "## 0.3 Custum function definition\n",
        "In the next chuck of code we define some function we need for processing"
      ],
      "metadata": {
        "id": "KNlCfnZ79Ec5"
      }
    },
    {
      "cell_type": "code",
      "source": [
        "def prepare_data_for_WC(DTM, vocabulary_dtm):\n",
        "    # compute total frequency for each word\n",
        "    values_words = sum(DTM)\n",
        "    #values_words = sum(tfidf_matrix)\n",
        "    # verify type result and prepare data for wordcloud\n",
        "    if type(values_words) is np.ndarray:\n",
        "        values_words = [float(value) for value in np.nditer(values_words)]\n",
        "    elif type(values_words) is scipy.sparse.csr.csr_matrix:\n",
        "        values_words = [float(value) for value in np.nditer(values_words.todense())]\n",
        "    else:\n",
        "        print(\"Matrix in argument DTM has to be one of these two data classes:  'scipy.sparse.csr.csr_matrix' or 'numpy.ndarray'\")\n",
        "    ##\n",
        "    list_mots = sorted(vocabulary_dtm.items(), key= lambda x:x[1])\n",
        "    list_mots = [word for (word,idx) in  list_mots]\n",
        "    words = zip(list_mots, values_words)\n",
        "    words = sorted(words, key= lambda x:x[1], reverse=True)\n",
        "    ## prepare data structure for wordcloud\n",
        "    result_for_WC = {}\n",
        "    #iterating over the tuples lists\n",
        "    for (key, value) in words:\n",
        "        result_for_WC[key] = value\n",
        "    #\n",
        "    return result_for_WC"
      ],
      "metadata": {
        "id": "ORZsrIP9lm7U"
      },
      "execution_count": null,
      "outputs": []
    },
    {
      "cell_type": "markdown",
      "source": [
        "## 0.4 Import data\n",
        "\n"
      ],
      "metadata": {
        "id": "ebi993i_8XPA"
      }
    },
    {
      "cell_type": "markdown",
      "source": [
        "The following code set the paths from which import data."
      ],
      "metadata": {
        "id": "CGayi-cExJSl"
      }
    },
    {
      "cell_type": "code",
      "source": [
        "ROOT_DIR='TEST_PRECONFERENCE/'\n",
        "DATA_DIR=os.path.join(ROOT_DIR, 'Data')"
      ],
      "metadata": {
        "id": "E6Th_5mB8rAh"
      },
      "execution_count": null,
      "outputs": []
    },
    {
      "cell_type": "markdown",
      "source": [
        "---\n",
        "We import a `.csv` file. The data imported are in a tabular format (such as MS Excel) called **dataframe** and managed by `pandas`."
      ],
      "metadata": {
        "id": "Xsjk2gvXOmol"
      }
    },
    {
      "cell_type": "code",
      "source": [
        "df_data = pd.read_csv(os.path.join(DATA_DIR, 'BCorp_companies_Web_Data.csv'))"
      ],
      "metadata": {
        "id": "OS5_Fn13MTMT"
      },
      "execution_count": null,
      "outputs": []
    },
    {
      "cell_type": "markdown",
      "source": [
        "---\n",
        "We observe *1207* rows and *2* columns."
      ],
      "metadata": {
        "id": "SmzMy4Lf68rA"
      }
    },
    {
      "cell_type": "code",
      "source": [
        "df_data.shape"
      ],
      "metadata": {
        "colab": {
          "base_uri": "https://localhost:8080/"
        },
        "id": "fxp4AwWh7Ffv",
        "outputId": "3abd1cc2-7f90-4312-f512-d067a4bc01fd"
      },
      "execution_count": null,
      "outputs": [
        {
          "output_type": "execute_result",
          "data": {
            "text/plain": [
              "(1184, 129)"
            ]
          },
          "metadata": {},
          "execution_count": 7
        }
      ]
    },
    {
      "cell_type": "markdown",
      "source": [
        "---\n",
        "Further exploring some rows, we observe that the table contains two columns: one with some webpages domain and the other one with textual data.\n",
        "\n",
        "+ **company_id** contains the domain of each BCorp companies under study\n",
        "+ **text_combined** contains a combination of all those pages founded in Wayback Machine for each company.\n"
      ],
      "metadata": {
        "id": "zj32jGwz7Min"
      }
    },
    {
      "cell_type": "code",
      "source": [
        "df_data.head()"
      ],
      "metadata": {
        "id": "_n2JxRkq7Ypn"
      },
      "execution_count": null,
      "outputs": []
    },
    {
      "cell_type": "markdown",
      "source": [
        "---\n",
        "Here, we give a list of some important metadata to explore"
      ],
      "metadata": {
        "id": "cTlRTjB3R6Fr"
      }
    },
    {
      "cell_type": "code",
      "source": [
        "df_data[['website', 'company_name', 'date_certified', 'description', 'industry',\n",
        "       'industry_category','country', 'state', 'city', 'sector','assessment_year', 'overall_score']]\n"
      ],
      "metadata": {
        "id": "-a-NYE6ZSIeV"
      },
      "execution_count": null,
      "outputs": []
    },
    {
      "cell_type": "markdown",
      "source": [
        "# <font size = '6' color='E3A440'>Section 1: Data pre-processing </font>\n",
        " This section declines the main aspect of a classical preprocessing step of textual data. The main objective of this step is to organize unstructured data into a structure which can be digestible in a statistical learning process. In few words, this process allow to transform text into vectors and is diveded in three main operations: \n",
        " 1. Morphosyntactic Analysis\n",
        " 2. Filter of lexical features\n",
        " 3. Vectorisation of lexical features"
      ],
      "metadata": {
        "id": "4CJuakgp8BhK"
      }
    },
    {
      "cell_type": "markdown",
      "source": [
        "## 1.1 Filter docuemnt\n"
      ],
      "metadata": {
        "id": "mi-kc4pi8wBp"
      }
    },
    {
      "cell_type": "code",
      "source": [
        "df_data['text_web_page'].apply(len).describe()"
      ],
      "metadata": {
        "id": "Fp5caI1HzMkL",
        "colab": {
          "base_uri": "https://localhost:8080/"
        },
        "outputId": "1aabc820-0b66-4bc4-a84a-94b885721824"
      },
      "execution_count": null,
      "outputs": [
        {
          "output_type": "execute_result",
          "data": {
            "text/plain": [
              "count     1184.000000\n",
              "mean      1661.388514\n",
              "std       2272.368263\n",
              "min         16.000000\n",
              "25%        503.750000\n",
              "50%       1088.500000\n",
              "75%       2002.500000\n",
              "max      35748.000000\n",
              "Name: text_web_page, dtype: float64"
            ]
          },
          "metadata": {},
          "execution_count": 10
        }
      ]
    },
    {
      "cell_type": "code",
      "source": [
        "sum(df_data['text_web_page'].apply(len) < 200)"
      ],
      "metadata": {
        "colab": {
          "base_uri": "https://localhost:8080/"
        },
        "id": "MhrhCCEdQKKL",
        "outputId": "f7a19f71-2e9c-4e64-c26f-2b401973f50d"
      },
      "execution_count": null,
      "outputs": [
        {
          "output_type": "execute_result",
          "data": {
            "text/plain": [
              "126"
            ]
          },
          "metadata": {},
          "execution_count": 13
        }
      ]
    },
    {
      "cell_type": "markdown",
      "source": [
        "## 1.2 Morphosyntactic Analysis\n",
        "One the most important operation in preprocessing unstructured textual data is to detect the morphosyntactic features of words. This allow to understand roles that words has in their contexts. This operation is composed by two parts:\n",
        "1. Part-of-Speech tagging, generally known as POS tagging\n",
        "2. Lemmatisation, which consists in the reduction of a word to his lemma\n",
        "\n",
        "These two sub-operations can be excuted by different type of algorithms. We use a neural network pre-trained model using the module named `spacy`. In particular, we use the function `nlp.pipe()` to generate a list of preprocessed documents. This function has several arguments and it takes a list of string character to be executed. Each element of this list is a textual segment or a document. \n"
      ],
      "metadata": {
        "id": "CfUdgcOHzFV6"
      }
    },
    {
      "cell_type": "markdown",
      "source": [
        "In this first chunck of code we load from `spacy` the pretrained model  called <font color=\"#CE9178\">en_core_web_sm</font> ([More info](https://spacy.io/models/en)).   "
      ],
      "metadata": {
        "id": "GNOg27M0jUiX"
      }
    },
    {
      "cell_type": "code",
      "source": [
        "nlp = spacy.load('en_core_web_sm')"
      ],
      "metadata": {
        "id": "hcxxLkyh-4Cb"
      },
      "execution_count": null,
      "outputs": []
    },
    {
      "cell_type": "markdown",
      "source": [
        "---\n",
        "In this second chunk, we apply the NLP pipeline to our textual data contained in the **text_combined** column, and this, by using the `nlp.pipe()` function. \n",
        "\n",
        "Thus, we generate the `preprocessed_docs` variable, which is a list containing preprocessed text of all the documents. We can observe the first docuemnt with `preprocessed_docs[0]`, the second with `preprocessed_docs[1]`, the third with `preprocessed_docs[2]`, etc.\n",
        "\n",
        "Each element of the list `preprocessed_docs`, contains a list of word with several analysis associated to it."
      ],
      "metadata": {
        "id": "B9SKcfPxPvpb"
      }
    },
    {
      "cell_type": "code",
      "source": [
        "t0 = datetime.datetime.now() # line of code to register a timestamp \n",
        "preprocessed_docs = list(nlp.pipe(df_data[\"text_web_page\"], disable = [\"tok2vec\",'parser','ner']))\n",
        "print(str(datetime.datetime.now() - t0)) # line of code to print the elapsed time from t0"
      ],
      "metadata": {
        "colab": {
          "base_uri": "https://localhost:8080/"
        },
        "outputId": "c3e45694-c852-46da-9312-c88b33b08be1",
        "id": "rVAjPpkiUgAG"
      },
      "execution_count": null,
      "outputs": [
        {
          "output_type": "stream",
          "name": "stdout",
          "text": [
            "0:00:15.149201\n"
          ]
        }
      ]
    },
    {
      "cell_type": "markdown",
      "source": [
        "---\n",
        "In the next chunck, we look at the first document in his **original format**"
      ],
      "metadata": {
        "id": "LrzGwAk0_0vh"
      }
    },
    {
      "cell_type": "code",
      "source": [
        "# Print first segment of the corpus\n",
        "print(df_data.loc[0][\"text_web_page\"])"
      ],
      "metadata": {
        "colab": {
          "base_uri": "https://localhost:8080/"
        },
        "id": "yeiIr4ECXX82",
        "outputId": "88f7b709-b501-4cee-bc07-0d483dbae73a"
      },
      "execution_count": null,
      "outputs": [
        {
          "output_type": "stream",
          "name": "stdout",
          "text": [
            "Know where your food comes from. Our mission is to establish a viable, dynamic and sustainable local food economy whereby chefs have access to the freshest and best products that Ontario has to offer, and Ontario producers have a dedicated channel for the sales, marketing and distribution of their products at a fair price. Order By category © 2016 100km Foods All Rights Reserved. We want you to know where your food comes from. Order By category © 2015 100km Foods All Rights Reserved. The Ordering Site is now Closed. Please look for our email announcing the site has reopened. Our mission is to establish a viable, dynamic and sustainable local food economy whereby chefs have access to the freshest and best products that Ontario has to offer, and Ontario producers have a dedicated channel for the sales, marketing and distribution of their products at a fair price. 100km Foods Inc. specializes in the sale and distribution of local, sustainable foods, with a comprehensive offering, including: fresh, harvested-to-order, in-season fruits and vegetables, farm-fresh dairy, free-run eggs, artisanally milled grains and flours, and pantry staples like Ontario maple syrup, honey and dried beans. We aim to foster and grow authentic and genuine relationships between our customers and our producers. At 100km Foods Inc. we want you to know where your food comes from.\n"
          ]
        }
      ]
    },
    {
      "cell_type": "markdown",
      "source": [
        "Instead, in this chunck we look at the **preprocessed version** of this first document. In particular, we print three attributes for each word of the first docuemnt:\n",
        "1. `word.text`, which correspond to the original version of the word, which is called **token**.\n",
        "2. `word.pos_`, which correspond to the POS tag predicted for that word.\n",
        "3. `word.lemma_`, which correspond to the lemma of the token.\n",
        "\n",
        "For padagogical reason, we only look at the first 10 words.\n"
      ],
      "metadata": {
        "id": "igbdW_Pc_8hn"
      }
    },
    {
      "cell_type": "code",
      "source": [
        "# Print morphosyntactial analysis of the first sentence of the corpus. Each element is separeted by a vertitcal line |\n",
        "for idx, word in enumerate(preprocessed_docs[0]):\n",
        "    print(\"Token: \", word.text, \" | \", \"POS tag: \", word.pos_,\" | \", \"Lemma of the token: \", word.lemma_)\n",
        "    # Break loop after first 10 words -> idx==10\n",
        "    if idx == 10:\n",
        "        break"
      ],
      "metadata": {
        "colab": {
          "base_uri": "https://localhost:8080/"
        },
        "id": "pXZrHo9ETUiv",
        "outputId": "6c483922-0569-4ee4-9a3d-3b5032b3def8"
      },
      "execution_count": null,
      "outputs": [
        {
          "output_type": "stream",
          "name": "stdout",
          "text": [
            "Token:  You  |  POS tag:  PRON  |  Lemma of the token:  -PRON-\n",
            "Token:  have  |  POS tag:  AUX  |  Lemma of the token:  have\n",
            "Token:  no  |  POS tag:  DET  |  Lemma of the token:  no\n",
            "Token:  items  |  POS tag:  NOUN  |  Lemma of the token:  item\n",
            "Token:  in  |  POS tag:  ADP  |  Lemma of the token:  in\n",
            "Token:  your  |  POS tag:  DET  |  Lemma of the token:  -PRON-\n",
            "Token:  shopping  |  POS tag:  NOUN  |  Lemma of the token:  shopping\n",
            "Token:  cart  |  POS tag:  NOUN  |  Lemma of the token:  cart\n",
            "Token:  .  |  POS tag:  PUNCT  |  Lemma of the token:  .\n"
          ]
        }
      ]
    },
    {
      "cell_type": "markdown",
      "source": [
        "## 1.2 Filter of lexical features\n",
        "\n",
        "In this section, we perform several pre-processing steps to transform the text to a format that can be understood and analyzed by our methods. \n",
        "1.   Eliminating stopwords : removing the low-level information from our text in order to give more focus to the important information\n",
        "2.   Keeping only adverb, adjective, noun and verb\n"
      ],
      "metadata": {
        "id": "DW_cSk1TAayz"
      }
    },
    {
      "cell_type": "markdown",
      "source": [
        "In the following chunck, we load the list of english **stopwords** from the package `nltk` and we add the verb \"would\" that is not among the modale verbs included in this list. Indeed, this list is editable by the user according to the different goals."
      ],
      "metadata": {
        "id": "a0Y3jeyUg3X6"
      }
    },
    {
      "cell_type": "code",
      "source": [
        "# download default list of stopword\n",
        "nltk.download('stopwords')\n",
        "# add custum words to the stopword list\n",
        "stopwords_list = set(stopwords.words('english') + ['would'])"
      ],
      "metadata": {
        "id": "W7TCJHpej-RP",
        "colab": {
          "base_uri": "https://localhost:8080/"
        },
        "outputId": "c576e95c-938e-44a3-a77b-2d99728fc55f"
      },
      "execution_count": null,
      "outputs": [
        {
          "output_type": "stream",
          "name": "stdout",
          "text": [
            "[nltk_data] Downloading package stopwords to /root/nltk_data...\n",
            "[nltk_data]   Unzipping corpora/stopwords.zip.\n"
          ]
        }
      ]
    },
    {
      "cell_type": "markdown",
      "source": [
        "---\n",
        "In the following chunk of code, we will use the previous the list of stopwords to filter words and the POS tag analysis to select only the words that are adverbs, adjectives, nouns and verbs to further highlight the part of speach meaningfull for our task."
      ],
      "metadata": {
        "id": "fiIwdtOEdfGz"
      }
    },
    {
      "cell_type": "code",
      "source": [
        "for idx, i in enumerate(preprocessed_docs):\n",
        "    print(f\"Sentence n. {idx}\")\n",
        "    print(\"Original :\\t \", df_data.loc[idx]['text_web_page'])\n",
        "    print(\"Preprocessed:\\t \", [w.lemma_.lower() for w in i if w.pos_ in [\"ADV\", \"ADJ\", \"NOUN\", \"VERB\"]  and w.text.lower() not in stopwords_list])\n",
        "    if idx == 5:\n",
        "        break"
      ],
      "metadata": {
        "id": "qgVCsYwTAX8C",
        "colab": {
          "base_uri": "https://localhost:8080/"
        },
        "outputId": "95babc5d-10f6-4833-dcf0-443218cc1cfb"
      },
      "execution_count": null,
      "outputs": [
        {
          "output_type": "stream",
          "name": "stdout",
          "text": [
            "Sentence n. 0\n",
            "Original :\t  You have no items in your shopping cart.\n",
            "Preprocessed:\t  ['item', 'shopping', 'cart']\n",
            "Sentence n. 1\n",
            "Original :\t  Explore how you can make every B2B purchase count towards UN's Sustainable Development Goals (SDGs). 17 Ways connects SDG impact companies and multinationals for purpose-driven purchasing. Post a need and choose suppliers based on the products or services they offer and on the SDG areas you want to impact. You can also choose to search/sort by certifications. Appropriate companies will be alerted about your opportunity, but your information will be kept secure so you can decide how to engage and you won't be overwhelmed by potential suppliers. Now it's easy to be found by companies looking to purchase from businesses that are aligned with the SDG areas your company is working to impact. And 17 Ways helps you connect with other like-minded companies to create partnerships and do business together. The UN's Sustainable Development Goals (SDGs) outline 17 Ways companies can contribute to a sustainable planet and society. All the companies on 17 Ways choose which of the SDGs align with their mission. Many companies are additionally identified by third party certifications; we are actively working with these certifiers to develop measurement and reporting tools. Explore our marketplace filled with 17 Ways to make an impact with every purchase. Fill out this simple form Get ready to receive applications from users matching your request.\n",
            "Preprocessed:\t  ['explore', 'make', 'b2b', 'purchase', 'count', 'connect', 'impact', 'company', 'multinational', 'purpose', 'drive', 'purchasing', 'post', 'need', 'choose', 'supplier', 'base', 'product', 'service', 'offer', 'area', 'want', 'impact', 'also', 'choose', 'search', 'sort', 'certification', 'appropriate', 'company', 'alert', 'opportunity', 'information', 'keep', 'secure', 'decide', 'engage', 'will', 'overwhelm', 'potential', 'supplier', 'easy', 'find', 'company', 'look', 'purchase', 'business', 'align', 'area', 'company', 'work', 'impact', 'help', 'connect', 'like', 'minded', 'company', 'create', 'partnership', 'business', 'together', 'outline', 'company', 'contribute', 'sustainable', 'planet', 'society', 'company', 'way', 'choose', 'sdg', 'align', 'mission', 'many', 'company', 'additionally', 'identify', 'third', 'party', 'certification', 'actively', 'work', 'certifier', 'develop', 'measurement', 'reporting', 'tool', 'explore', 'marketplace', 'fill', 'way', 'make', 'impact', 'purchase', 'fill', 'simple', 'form', 'ready', 'receive', 'application', 'user', 'match', 'request']\n",
            "Sentence n. 2\n",
            "Original :\t  We're a parent company founded on a promise to make home better. Not just your home, but our home — the world we all share. So show us your dirtiest, hungriest jobs — we're up to the task. Together, we can make our home better. One room, one brand at a time. We remember when you had to choose between cleaning performance and a non-toxic home. Those days are long gone. Get your hands (and clothes and pans and floors) dirty. These impressively powerful, naturally clean products will tackle any mess. We know the kitchen is the heart of your home. Let us help you stock it with the freshest, healthiest, and most delicious ingredients. These tasty sauces are fresh ingredients meets old world flavor in one convenient jar. We believe snacks should do more than check the boxes, they should pass the \"can I have another one?\" test, too. From fertility and pregnancy to nursing and beyond, our products are crafted by food lovers and backed by experts to keep you safe and satisfied through every stage of motherhood. A champion of better for all, we were frustrated by the lack of yummy snacks for special diets. Then we found these rockstar goodies. Snacks are always too something. Too much sugar. Too little flavor. Too expensive. You get the idea. Finally, a snack that's just right.\n",
            "Preprocessed:\t  ['parent', 'company', 'found', 'promise', 'make', 'home', 'better', 'home', 'home', 'world', 'share', 'show', 'dirty', 'hungry', 'job', 'task', 'together', 'make', 'home', 'better', 'room', 'brand', 'time', 'remember', 'choose', 'clean', 'performance', 'non', '-', 'toxic', 'home', 'day', 'long', 'go', 'hand', 'clothe', 'pan', 'floor', 'dirty', 'impressively', 'powerful', 'naturally', 'clean', 'product', 'tackle', 'mess', 'know', 'kitchen', 'heart', 'home', 'let', 'help', 'stock', 'fresh', 'healthy', 'delicious', 'ingredient', 'tasty', 'sauce', 'fresh', 'ingredient', 'meet', 'old', 'world', 'flavor', 'convenient', 'jar', 'believe', 'snack', 'check', 'box', 'pass', 'one', 'test', 'fertility', 'pregnancy', 'nursing', 'beyond', 'product', 'craft', 'food', 'lover', 'back', 'expert', 'keep', 'safe', 'satisfied', 'stage', 'motherhood', 'champion', 'well', 'frustrate', 'lack', 'yummy', 'snack', 'special', 'diet', 'find', 'rockstar', 'goody', 'snack', 'always', 'much', 'sugar', 'little', 'flavor', 'expensive', 'get', 'idea', 'finally', 'snack', 'right']\n",
            "Sentence n. 3\n",
            "Original :\t  Opening Date: August 2019 Address: 1921 8th St NW #115, Washington,... Location: 98 District Square SW, Washington, DC 20024 Open Date:February 2018... Location: 1221 Van Street SE Setting: Within feet of the D.C.'s... Location: 4121 Wilson BLVD Suite 102B, Arlington, VA 22203 Project Type:... Address: 901 North Saint Asaph Street, Alexandria, VA, 22314 Seat Count,... Location: 1837 M Street NW, Washington D.C. Location: 1401 New York Avenue NW, Washington DC 20005 Setting: The... Location: Columbia, South Carolina Date project completed: Summer 2018 Photography: The Rohm Group Project... Location: 82 I Street SE, Washington, DC 20003 Completed: Spring, 2017 Project... Location: Annapolis, Maryland Completed: Summer 2018 Project Description: An ambitious renovation project by... The result of a collaboration between D.C.-based architecture and interior design... Tasked with repurposing Washington DC's historic Equitable Bank Building and transforming... Location: White Marsh, MD Date project completed: Fall 2017 Total size: 3,650 sq. ft. and... Location: Potomac, Maryland Date project completed: Fall 2017 Project Description: Residence7801 is a... Location: Fort Worth, Texas Date project completed: Fall 2016 Project Description: Interior design for... Location: Virginia Beach, Virginia Date project completed: Winter 2016 Project Description: Full Renovation... Location: Charleston, South Carolina Date project completed: Fall 2016 Interior Design: P3 Design Collective... Location: Washington, DC Date project completed: Winter 2017 Total square footage: 7,930 sq. ft. PACERS RUNNING CLARENDON //3877 worked hand in hand with Pacers to bring in elements... Location: 1090 I St NW, Washington, DC 20001 Owner: Momofuku CCDC... Location: Washington, DC Owner: Danielle Vogel Date project completed: December 2015 Total square footage: Photographer: Ronald... Location: Washington, DC Date project completed: Spring 2016 Project Description: Phoenix Park Hotel, Washington,... Project Location: Washington, DC Date project completed: Spring 2015 Project Description: The Randolph... Location: Denver, CO Owner: AppleREIT Total Square Footage: 3,850 sq. ft. Location: Fairfax, VA Owner: AppleREIT Date project completed: Fall 2014 Total square footage: 40,000 sq.... Location: Washington, DC Owner: Anne Mahlum Date project completed: Spring 2014 Total square... Project Location: Reston, VA Date project completed: Spring 2010 Project Description:... Location: 1901 14th Street NW Owner: Matchbox Food Group Date project completed: November... Location: Various European Locations Owner: Marriott Project Description: Moxy is a new economy-focused... Location: Washington, DC Owner: 3 Stars Brewing Date project completed: Fall 2015... Project Location: Washington, DC Date project completed: Spring 2010 Project Description: Residence156... Location: New York, NY Owner: The Atwood Kitchen + Bar Room... Project Location: Gaithersburg, MD Owner: Baywood Hotels Date project completed: Spring... Project Location: Washington, DC Date project completed: Spring 2015 Project Description: 2917... Project Location: Washington, DC Date project completed: Fall 2010 Project Description: In... Location: Various United States Locations Owner: Marriott Project Description: //3877 was tasked with... Project Location: Washington, DC Project Description: Mansion History The Patterson Mansion... Restaurant Location: Washington, DC Date project completed: Fall 2012 Photographer: Daniel... Project Location: College Park, MD Owner: Baywood Hotels Services Provided: Architecture... Location: Arlington, VA Owner: Anne Mahlum Date project completed: Summer 2014 Total... Project Location: Washington, DC Developer: Property Alchemist Date project completed: Fall 2014 Millwork: Cabinet... Location: Alexandria, VA Owner: Carluccio's Date project completed: Fall 2014 Total... Project Location: Washington, DC Owner: Sundaram Development Date project completed: Fall 2013... Location: Washington, DC Owner: Anne Mahlum Date project completed: Fall 2013 Total square... Location: Washington, DC Owner: Danielle Vogel Date project completed: April 2013 Total square... Restaurant Location: Washington, DC Restaurant Type: Sit Down Dining and Retail... Location: Washington, DC Owner: Capital City Care Date project completed: Spring 2013... First, think. Second, believe. Third, dream. Easy is not to be underestimated. Design is not just a visual thing, it's a thought process, a skill. Ultimately design is a tool to enhance our humanity. You were once wild here. Never half-ass two things. When you have a choice between being right and being kind, choose kind. Dr. Work hard & be nice to people. The Results \"//3877 has the creativity to make every space a show place and the architectural depth to make every set a plans a well thought out, buildable design\" \"//3877 has the creativity to make every space a show place and the architectural depth to make every set a plans a well thought out, buildable design\" \"To say that working with //3877 was an outstanding experience is almost an understatement. The cooperation and sensitivity that David Shove-Brown and Ryan Petyak exhibited on our project and towards our concerns was exemplary. As skilled listeners, they invested the time to learn our project goals and then execute that vision in their design and project management. I sincerely believe that the phenomenal success of our project is largely attributed to their attention and efforts. Additionally, they made the work fun. They are a dynamite team that I thoroughly enjoyed working with and I only wish that I could clone them for future projects in other cities!\" \"//3877's vision and execution provides for the perfect balance of cutting edge contemporary while maintaining the character of historic details. They have become the cornerstone partner for my commercial and residential development firm because of that unique and talented approach.\" \"//3877's vision and execution provides for the perfect balance of cutting edge contemporary while maintaining the character of historic details. They have become the cornerstone partner for my commercial and residential development firm because of that unique and talented approach.\" \"We've been working with //3877 for a number of years now on numerous projects and have found David and his team to be a pleasure to work with. I recommend them often and without reservation.\" \"We've been working with //3877 for a number of years now on numerous projects and have found David and his team to be a pleasure to work with. I recommend them often and without reservation.\" \"//3877 is so more than an architecture firm. Their designs are brilliant, cost effective, and beautiful. Their team is incredibly attentive and responsive and they make every effort to ensure that the daunting task of completing a build out is as simple and easy as possible.\" \"//3877 is so more than an architecture firm. Their team is incredibly attentive and responsive and they make every effort to ensure that the daunting task of completing a build out is as simple and easy as possible.\" \"It has been my pleasure to have //3877 as our Architect for the past 2 years. I could not be happier. In my forty years of design and construction I have never seen a more talented and caring design team. The skills they bring ensure the highest level of design and quality. I am particularly impressed with the thought that went into the build and co-ordination with the client, design team and contractor. What began as another Architect – Owner relationship soon developed into partnership and friendship. I look forward to our partnership as we move down the Eastern Seaboard, South and South West with new Veterinary Hospitals.\n",
            "Preprocessed:\t  ['opening', 'date', 'address', '8th', 'location', 'open', 'location', 'setting', 'foot', 'location', 'address', 'location', 'set', 'location', 'project', 'complete', 'summer', 'location', 'spring', 'location', 'complete', 'ambitious', 'renovation', 'project', 'result', 'collaboration', 'd.c.-based', 'architecture', 'interior', 'design', 'task', 'repurpose', 'historic', 'transforming', 'location', 'project', 'complete', 'fall', 'total', 'size', 'location', 'project', 'complete', 'fall', 'description', 'location', 'project', 'complete', 'fall', 'interior', 'design', 'location', 'project', 'complete', 'winter', 'full', 'renovation', 'location', 'project', 'complete', 'fall', 'location', 'project', 'complete', 'winter', 'total', 'square', 'footage', 'pacer', 'work', 'hand', 'hand', 'pacer', 'bring', 'element', 'location', 'owner', 'momofuku', 'location', 'project', 'complete', 'total', 'square', 'footage', 'photographer', 'location', 'project', 'complete', 'spring', 'project', 'complete', 'spring', 'location', 'location', 'project', 'complete', 'fall', 'total', 'square', 'footage', 'location', 'project', 'complete', 'spring', 'total', 'square', 'project', 'complete', 'spring', 'location', 'project', 'complete', 'location', 'various', 'new', 'economy', 'focus', 'location', 'project', 'complete', 'fall', 'project', 'complete', 'spring', 'location', 'project', 'complete', 'spring', 'project', 'complete', 'spring', 'project', 'complete', 'fall', 'location', 'task', 'mansion', 'history', 'project', 'complete', 'fall', 'photographer', 'provide', 'architecture', 'location', 'project', 'complete', 'summer', 'total', 'developer', 'project', 'complete', 'fall', 'location', 'project', 'complete', 'fall', 'total', 'project', 'complete', 'fall', 'location', 'project', 'complete', 'fall', 'total', 'square', 'location', 'project', 'complete', 'total', 'square', 'sit', 'dining', 'location', 'project', 'complete', 'spring', 'first', 'think', 'second', 'believe', 'third', 'dream', 'easy', 'underestimate', 'design', 'visual', 'thing', 'thought', 'process', 'skill', 'ultimately', 'design', 'tool', 'enhance', 'humanity', 'wild', 'never', 'half', 'ass', 'thing', 'choice', 'right', 'kind', 'choose', 'kind', 'hard', 'nice', 'people', 'result', 'creativity', 'make', 'space', 'show', 'place', 'architectural', 'depth', 'make', 'set', 'plan', 'well', 'think', 'buildable', 'design', 'creativity', 'make', 'space', 'show', 'place', 'architectural', 'depth', 'make', 'set', 'plan', 'well', 'think', 'buildable', 'design', 'say', 'work', 'outstanding', 'experience', 'almost', 'understatement', 'cooperation', 'sensitivity', 'exhibit', 'project', 'concern', 'exemplary', 'skilled', 'listener', 'invest', 'time', 'learn', 'project', 'goal', 'execute', 'vision', 'design', 'project', 'management', 'sincerely', 'believe', 'phenomenal', 'success', 'project', 'largely', 'attribute', 'attention', 'effort', 'additionally', 'make', 'work', 'fun', 'dynamite', 'team', 'thoroughly', 'enjoy', 'work', 'wish', 'could', 'clone', 'future', 'project', 'city', 'vision', 'execution', 'provide', 'perfect', 'balance', 'cut', 'edge', 'contemporary', 'maintain', 'character', 'historic', 'detail', 'become', 'cornerstone', 'partner', 'commercial', 'residential', 'development', 'firm', 'unique', 'talented', 'approach', 'vision', 'execution', 'provide', 'perfect', 'balance', 'cut', 'edge', 'contemporary', 'maintain', 'character', 'historic', 'detail', 'become', 'cornerstone', 'partner', 'commercial', 'residential', 'development', 'firm', 'unique', 'talented', 'approach', 'work', 'number', 'year', 'numerous', 'project', 'find', 'team', 'pleasure', 'work', 'recommend', 'often', 'reservation', 'work', 'number', 'year', 'numerous', 'project', 'find', 'team', 'pleasure', 'work', 'recommend', 'often', 'reservation', 'architecture', 'firm', 'design', 'brilliant', 'cost', 'effective', 'beautiful', 'team', 'incredibly', 'attentive', 'responsive', 'make', 'effort', 'ensure', 'daunting', 'task', 'complete', 'build', 'simple', 'easy', 'possible', 'architecture', 'firm', 'team', 'incredibly', 'attentive', 'responsive', 'make', 'effort', 'ensure', 'daunting', 'task', 'complete', 'build', 'simple', 'easy', 'possible', 'pleasure', 'architect', 'past', 'year', 'could', 'happy', 'year', 'design', 'construction', 'never', 'see', 'talented', 'care', 'design', 'team', 'skill', 'bring', 'ensure', 'high', 'level', 'design', 'quality', 'particularly', 'impressed', 'thought', 'go', 'build', 'co', '-', 'ordination', 'client', 'design', 'team', 'contractor', 'begin', 'architect', 'owner', 'relationship', 'soon', 'develop', 'partnership', 'friendship', 'look', 'forward', 'partnership', 'move', 'new']\n",
            "Sentence n. 4\n",
            "Original :\t  Making urgent corporate utility global bold climate action possible 3Degrees helps organizations around the world implement renewable energy, transportation decarbonization, and other climate solutions. How Verisk is Successfully Addressing Emissions from its International Energy Load 3Degrees crafted a cost-competitive plan for Verisk to address its global greenhouse gas emissions through a diverse portfolio of high-quality energy attribute certificates (EACs) and carbon offsets. Tackling the Decarbonization of Transportation As the largest emitter of greenhouse gases in the U.S., the transportation sector is exactly where we need to focus our collective efforts to reduce emissions. The solution that will have the biggest impact: transitioning to low-carbon transportation fuels. How Mondelez International is Reducing its Global GHG Emissions Mondelēz International enlisted 3Degrees to develop a global strategy roadmap and implement a new VPPA to help the company meet its ambitious emissions reduction goal. Companies Partner on Largest Renewable Energy Aggregation to Date 3Degrees helped four leading companies leverage their collective buying power in an innovative renewable energy aggregation, demonstrating how corporate energy buyers of all sizes can successfully purchase renewable energy directly from new renewable projects. Maximizing the Value of Your Green Power Programs Fully optimized green power programs provide a huge opportunity for utilities. When designed and implemented well, these programs offer numerous benefits. Invest in verified carbon offset projects Take immediate action on your Scope 1 (direct) and Scope 3 (indirect) GHG emissions, including transportation emissions, by investing in carbon offset projects. Support renewable energy on a local and global scale Reduce the environmental impact of your global energy use through high-quality, country-specific instruments like RECs, GOs, I-RECs, and TIGRs. Meet your emissions reduction and climate goals Whether you are just getting started on your sustainability journey or are a sophisticated energy buyer, meet your climate and renewable energy goals with customized, best-fit solutions. Offer utility voluntary renewable energy programs Create value for your utility and your customers with a suite of well-designed voluntary programs, including green power, community solar, green tariff, and renewable natural gas programs. Reduce the impact of transportation emissions Address the impact of your transportation-related emissions with a customized program of decarbonization solutions that incorporates Low Carbon Fuel Standard (LCFS) support, fleet decarbonization consulting, and carbon offset project investment within the transportation sector. Etsy has a long-standing track record of working to reduce our environmental footprint. Our carbon neutral shipping initiative is a major milestone within our larger commitment to act urgently and aggressively in the fight against climate change. The signing of this VPPA is a major advancement towards achieving our aggressive global emissions reduction goals. We have worked hand-in-hand with the 3Degrees team for more than a decade; in that time they have helped us make our Blue Sky renewable energy program one of the top renewable energy programs in the country. 3Degrees' expertise in program design and implementation has allowed us to continually evolve the Blue Sky program to keep it relevant to customers, the renewable energy market, and to the utility. We are updating our events calendar. Please check back soon.\n",
            "Preprocessed:\t  ['make', 'urgent', 'corporate', 'utility', 'global', 'bold', 'climate', 'action', 'possible', 'help', 'organization', 'world', 'implement', 'renewable', 'energy', 'transportation', 'decarbonization', 'climate', 'solution', 'successfully', 'address', 'emission', 'craft', 'cost', 'competitive', 'plan', 'address', 'global', 'greenhouse', 'gas', 'emission', 'diverse', 'portfolio', 'high', 'quality', 'energy', 'attribute', 'certificate', 'carbon', 'offset', 'tackle', 'decarbonization', 'large', 'emitter', 'greenhouse', 'gas', 'transportation', 'sector', 'exactly', 'need', 'focus', 'collective', 'effort', 'reduce', 'emission', 'solution', 'big', 'impact', 'transition', 'low', 'carbon', 'transportation', 'fuel', 'reduce', 'global', 'enlist', 'develop', 'global', 'strategy', 'roadmap', 'implement', 'new', 'help', 'company', 'meet', 'ambitious', 'emission', 'reduction', 'goal', 'company', 'large', 'renewable', 'energy', 'help', 'lead', 'company', 'leverage', 'collective', 'buying', 'power', 'innovative', 'renewable', 'energy', 'aggregation', 'demonstrate', 'corporate', 'energy', 'buyer', 'size', 'successfully', 'purchase', 'renewable', 'energy', 'directly', 'new', 'renewable', 'project', 'maximize', 'value', 'fully', 'optimize', 'green', 'power', 'program', 'provide', 'huge', 'opportunity', 'utility', 'design', 'implement', 'well', 'program', 'offer', 'numerous', 'benefit', 'invest', 'verified', 'carbon', 'offset', 'project', 'take', 'immediate', 'action', 'scope', 'direct', 'indirect', 'emission', 'include', 'transportation', 'emission', 'invest', 'carbon', 'offset', 'project', 'support', 'renewable', 'energy', 'local', 'global', 'scale', 'reduce', 'environmental', 'impact', 'global', 'energy', 'use', 'high', 'quality', 'country', 'specific', 'instrument', 'rec', 'go', 'meet', 'emission', 'reduction', 'climate', 'goal', 'get', 'start', 'sustainability', 'journey', 'sophisticated', 'energy', 'buyer', 'meet', 'climate', 'renewable', 'energy', 'goal', 'customized', 'best', 'fit', 'solution', 'offer', 'utility', 'voluntary', 'renewable', 'energy', 'program', 'create', 'value', 'utility', 'customer', 'suite', 'well', 'design', 'voluntary', 'program', 'include', 'green', 'power', 'community', 'solar', 'green', 'tariff', 'renewable', 'natural', 'gas', 'program', 'reduce', 'impact', 'transportation', 'emission', 'address', 'impact', 'transportation', 'relate', 'emission', 'customized', 'program', 'decarbonization', 'solution', 'incorporate', 'support', 'fleet', 'decarbonization', 'consulting', 'carbon', 'offset', 'project', 'investment', 'transportation', 'sector', 'long', 'stand', 'track', 'record', 'work', 'reduce', 'environmental', 'footprint', 'carbon', 'neutral', 'shipping', 'initiative', 'major', 'milestone', 'large', 'commitment', 'act', 'urgently', 'aggressively', 'fight', 'climate', 'change', 'signing', 'major', 'advancement', 'achieve', 'aggressive', 'global', 'emission', 'reduction', 'goal', 'work', 'hand', 'hand', 'team', 'decade', 'time', 'help', 'make', 'renewable', 'energy', 'program', 'top', 'renewable', 'energy', 'program', 'country', 'expertise', 'program', 'design', 'implementation', 'allow', 'continually', 'evolve', 'program', 'keep', 'relevant', 'customer', 'renewable', 'energy', 'market', 'utility', 'update', 'event', 'calendar', 'check', 'back', 'soon']\n",
            "Sentence n. 5\n",
            "Original :\t  Near-time multidimensional analysis and intelligence gathering to quickly map safe routes, recovery and risk mitigation. The Intelligent Eye 3D Planeta's patented technology fuses 2D satellite and aerial images of the earth to create volumetric 3D images. Imagine a digital map, but instead of seeing the earth in 2D or simulated 3D, you saw an actual 3D image. That's 3D Planeta's starting point. We contribute at least one percent of annual sales to local environmental causes as part of this global alliance of businesses financially committed to creating a healthy planet. We are actively working on three of the 17 SDGs, the global call to action to support greener, more inclusive economies, and stronger, more resilient societies. Enter your email: Invalid value © 2020 3D Planeta. All Rights Reserved. Necessary cookies are absolutely essential for the website to function properly. This category only includes cookies that ensures basic functionalities and security features of the website. These cookies do not store any personal information. Any cookies that may not be particularly necessary for the website to function and is used specifically to collect user personal data via analytics, ads, other embedded contents are termed as non-necessary cookies. It is mandatory to procure user consent prior to running these cookies on your website.\n",
            "Preprocessed:\t  ['near', 'time', 'multidimensional', 'analysis', 'intelligence', 'gathering', 'quickly', 'map', 'safe', 'route', 'recovery', 'risk', 'mitigation', '3d', 'patented', 'technology', 'fuse', 'satellite', 'aerial', 'image', 'earth', 'create', 'volumetric', '3d', 'image', 'imagine', 'digital', 'map', 'instead', 'see', 'earth', '2d', 'simulate', '3d', 'see', 'actual', '3d', 'image', '3d', 'starting', 'point', 'contribute', 'least', 'percent', 'annual', 'sale', 'local', 'environmental', 'cause', 'part', 'global', 'alliance', 'business', 'financially', 'commit', 'create', 'healthy', 'planet', 'actively', 'work', 'sdg', 'global', 'call', 'action', 'support', 'inclusive', 'economy', 'strong', 'resilient', 'society', 'enter', 'email', 'invalid', 'value', '3d', 'necessary', 'cookie', 'absolutely', 'essential', 'website', 'function', 'properly', 'category', 'include', 'cookie', 'ensure', 'basic', 'functionality', 'security', 'feature', 'website', 'cookie', 'store', 'personal', 'information', 'cookie', 'may', 'particularly', 'necessary', 'website', 'function', 'use', 'specifically', 'collect', 'user', 'personal', 'datum', 'analytic', 'ad', 'embed', 'content', 'term', 'non', '-', 'necessary', 'cookie', 'mandatory', 'procure', 'user', 'consent', 'prior', 'run', 'cookie', 'website']\n"
          ]
        }
      ]
    },
    {
      "cell_type": "code",
      "source": [
        "# initialize empty list\n",
        "text_cleaned = []\n",
        "spacy_lst_object = []\n",
        "# iterate over each preprocessed document\n",
        "for idx, i in enumerate(preprocessed_docs): \n",
        "    # keep only the lemma for each token which has been tagged as one of these POS tags [\"ADV\", \"ADJ\", \"NOUN\", \"VERB\"] AND its lemma IS NOT contained in the stopwords_list AND its lemma has more then 1 character\n",
        "    text = [w.lemma_.lower() for w in i if w.pos_ in [\"ADV\", \"ADJ\", \"NOUN\", \"VERB\"] and w.lemma_.lower() not in stopwords_list and len(w.lemma_.lower())> 1]\n",
        "    spacy_object = [w for w in i if w.pos_ in [\"ADV\", \"ADJ\", \"NOUN\", \"VERB\"] and w.lemma_.lower() not in stopwords_list and len(w.lemma_.lower())> 1]\n",
        "    text_cleaned.append(text)\n",
        "    spacy_lst_object.append(spacy_object)\n",
        "    \n",
        "df_data[\"text_cleaned\"] = text_cleaned\n",
        "df_data[\"text_spacy_prepross\"] = spacy_lst_object\n"
      ],
      "metadata": {
        "id": "4DSCDScJee8_"
      },
      "execution_count": null,
      "outputs": []
    },
    {
      "cell_type": "markdown",
      "source": [
        "## 1.3 Vectorisation of lexical features\n",
        "\n",
        "In the following section, we create the word matrix that will be used in our model tranforming a collection of text documents to a matrix of token counts. The following code is used to set the parameters of the matrix that we will create."
      ],
      "metadata": {
        "id": "-A2m2Np-heiK"
      }
    },
    {
      "cell_type": "code",
      "source": [
        "def identity_tokenizer(text):\n",
        "    return text\n",
        "\n",
        "# Transforming the word in frequencies\n",
        "vectorized = CountVectorizer(lowercase = False, # Convert all characters to lowercase before tokenizing\n",
        "                             min_df = 5, # Ignore terms that have a document frequency strictly lower than the given threshold \n",
        "                             max_df = 450, # Ignore terms that have a document frequency strictly higher than the given threshold (corpus-specific stop words)\n",
        "                             stop_words = stopwords_list, # Remove the list of words provided\n",
        "                             ngram_range = (1, 1), # Get the lower and upper boundary of the range of n-values for different word n-grams or char n-grams to be extracted\n",
        "                             tokenizer=identity_tokenizer) # Override the string tokenization step while preserving the preprocessing and n-grams generation steps"
      ],
      "metadata": {
        "id": "rh0pO9WIgApa"
      },
      "execution_count": null,
      "outputs": []
    },
    {
      "cell_type": "markdown",
      "source": [
        "---\n",
        "The following chunk of code we use the `nltk` learn a vocabulary dictionary of all tokens in the raw documents."
      ],
      "metadata": {
        "id": "YWC7liMKMr62"
      }
    },
    {
      "cell_type": "code",
      "source": [
        "freq_term_DTM = vectorized.fit_transform(df_data[\"text_cleaned\"])"
      ],
      "metadata": {
        "id": "fZru5J1zglsC",
        "outputId": "baccbb0f-6978-4d05-c995-5cc6cd554f71",
        "colab": {
          "base_uri": "https://localhost:8080/"
        }
      },
      "execution_count": null,
      "outputs": [
        {
          "output_type": "stream",
          "name": "stderr",
          "text": [
            "/usr/local/lib/python3.7/dist-packages/sklearn/feature_extraction/text.py:401: UserWarning: Your stop_words may be inconsistent with your preprocessing. Tokenizing the stop words generated tokens [\"'\", 'b', 'c', 'e', 'f', 'g', 'h', 'j', 'l', 'n', 'p', 'r', 'u', 'v', 'w'] not in stop_words.\n",
            "  % sorted(inconsistent)\n"
          ]
        }
      ]
    },
    {
      "cell_type": "code",
      "source": [
        "freq_term_DTM"
      ],
      "metadata": {
        "id": "UzS-0TEEjveo",
        "outputId": "9399aa72-f3ce-46d1-c0b6-2f468ca362e0",
        "colab": {
          "base_uri": "https://localhost:8080/"
        }
      },
      "execution_count": null,
      "outputs": [
        {
          "output_type": "execute_result",
          "data": {
            "text/plain": [
              "<1184x2997 sparse matrix of type '<class 'numpy.int64'>'\n",
              "\twith 91958 stored elements in Compressed Sparse Row format>"
            ]
          },
          "metadata": {},
          "execution_count": 99
        }
      ]
    },
    {
      "cell_type": "code",
      "source": [
        "tfidf = TfidfTransformer(norm='l1')\n",
        "tfidf_DTM = tfidf.fit_transform(freq_term_DTM)"
      ],
      "metadata": {
        "id": "1W4puzyXkA7K"
      },
      "execution_count": null,
      "outputs": []
    },
    {
      "cell_type": "markdown",
      "source": [
        "<a id=\"desc-stat\"></a>\n",
        "# <font size = '6' color='E3A440'>Section 2: Descriptive statistics</font>\n",
        "In orderr to explore the corpus preprocessed, we should begin from desciptives statistics.\n"
      ],
      "metadata": {
        "id": "_jutXQxXmMtK"
      }
    },
    {
      "cell_type": "code",
      "source": [
        "df_data['industry'].value_counts()"
      ],
      "metadata": {
        "colab": {
          "base_uri": "https://localhost:8080/"
        },
        "id": "QVmYHQylSkW0",
        "outputId": "284cb646-baaa-45f4-b295-9ea1a852bbcb"
      },
      "execution_count": null,
      "outputs": [
        {
          "output_type": "execute_result",
          "data": {
            "text/plain": [
              "Food & Beverage                        164\n",
              "IT Software & Services/Web Design       94\n",
              "Marketing & Communications Services     92\n",
              "Other                                   79\n",
              "Home & Personal Care                    72\n",
              "                                      ... \n",
              "Consumer Rewards                         1\n",
              "Catering & Meeting/Event Management      1\n",
              "Online Community                         1\n",
              "Electronic Distribution                  1\n",
              "Fitness & Wellness Centers               1\n",
              "Name: industry, Length: 65, dtype: int64"
            ]
          },
          "metadata": {},
          "execution_count": 101
        }
      ]
    },
    {
      "cell_type": "code",
      "source": [
        "df_data['sector'].value_counts()"
      ],
      "metadata": {
        "id": "e_ahE5nrWVHj",
        "outputId": "a48b17af-2ed8-49b4-c0dd-7bf47660bd75",
        "colab": {
          "base_uri": "https://localhost:8080/"
        }
      },
      "execution_count": null,
      "outputs": [
        {
          "output_type": "execute_result",
          "data": {
            "text/plain": [
              "Service with Minor Environmental Footprint          635\n",
              "Wholesale/Retail                                    243\n",
              "Manufacturing                                       167\n",
              "Service with Significant Environmental Footprint    102\n",
              "Agriculture/Growers                                  32\n",
              "Service                                               5\n",
              "Name: sector, dtype: int64"
            ]
          },
          "metadata": {},
          "execution_count": 25
        }
      ]
    },
    {
      "cell_type": "code",
      "source": [
        "df_data.groupby(['industry','industry_category']).count()"
      ],
      "metadata": {
        "id": "RYhx_c21TJ67",
        "outputId": "c59cc775-5c3d-4277-d228-c2cdd70a7095",
        "colab": {
          "base_uri": "https://localhost:8080/",
          "height": 675
        }
      },
      "execution_count": null,
      "outputs": [
        {
          "output_type": "execute_result",
          "data": {
            "text/plain": [
              "                                                                  website  \\\n",
              "industry                        industry_category                           \n",
              "Accounting Services             Business Products & Services            7   \n",
              "Agricultural Services           Agriculture                            15   \n",
              "Animal Health                   Health & Human Services                 2   \n",
              "Apparel, Footwear & Accessories Consumer Products & Services           48   \n",
              "Architecture/Design/Planning    Building                               16   \n",
              "...                                                                   ...   \n",
              "Telecommunications              Business Products & Services            3   \n",
              "Transportation & Logistics      Transportation & Logistics              7   \n",
              "Travel & Leisure                Education & Training Services           1   \n",
              "                                Restaurant, Hospitality & Travel       12   \n",
              "Waste Management                Energy & Environmental Services         6   \n",
              "\n",
              "                                                                  company_id  \\\n",
              "industry                        industry_category                              \n",
              "Accounting Services             Business Products & Services               7   \n",
              "Agricultural Services           Agriculture                               15   \n",
              "Animal Health                   Health & Human Services                    2   \n",
              "Apparel, Footwear & Accessories Consumer Products & Services              48   \n",
              "Architecture/Design/Planning    Building                                  16   \n",
              "...                                                                      ...   \n",
              "Telecommunications              Business Products & Services               3   \n",
              "Transportation & Logistics      Transportation & Logistics                 7   \n",
              "Travel & Leisure                Education & Training Services              1   \n",
              "                                Restaurant, Hospitality & Travel          12   \n",
              "Waste Management                Energy & Environmental Services            6   \n",
              "\n",
              "                                                                  company_name  \\\n",
              "industry                        industry_category                                \n",
              "Accounting Services             Business Products & Services                 7   \n",
              "Agricultural Services           Agriculture                                 15   \n",
              "Animal Health                   Health & Human Services                      2   \n",
              "Apparel, Footwear & Accessories Consumer Products & Services                48   \n",
              "Architecture/Design/Planning    Building                                    16   \n",
              "...                                                                        ...   \n",
              "Telecommunications              Business Products & Services                 3   \n",
              "Transportation & Logistics      Transportation & Logistics                   7   \n",
              "Travel & Leisure                Education & Training Services                1   \n",
              "                                Restaurant, Hospitality & Travel            12   \n",
              "Waste Management                Energy & Environmental Services              6   \n",
              "\n",
              "                                                                  date_first_certified  \\\n",
              "industry                        industry_category                                        \n",
              "Accounting Services             Business Products & Services                         7   \n",
              "Agricultural Services           Agriculture                                         15   \n",
              "Animal Health                   Health & Human Services                              2   \n",
              "Apparel, Footwear & Accessories Consumer Products & Services                        48   \n",
              "Architecture/Design/Planning    Building                                            16   \n",
              "...                                                                                ...   \n",
              "Telecommunications              Business Products & Services                         3   \n",
              "Transportation & Logistics      Transportation & Logistics                           7   \n",
              "Travel & Leisure                Education & Training Services                        1   \n",
              "                                Restaurant, Hospitality & Travel                    12   \n",
              "Waste Management                Energy & Environmental Services                      6   \n",
              "\n",
              "                                                                  date_certified  \\\n",
              "industry                        industry_category                                  \n",
              "Accounting Services             Business Products & Services                   7   \n",
              "Agricultural Services           Agriculture                                   15   \n",
              "Animal Health                   Health & Human Services                        2   \n",
              "Apparel, Footwear & Accessories Consumer Products & Services                  48   \n",
              "Architecture/Design/Planning    Building                                      16   \n",
              "...                                                                          ...   \n",
              "Telecommunications              Business Products & Services                   3   \n",
              "Transportation & Logistics      Transportation & Logistics                     7   \n",
              "Travel & Leisure                Education & Training Services                  1   \n",
              "                                Restaurant, Hospitality & Travel              12   \n",
              "Waste Management                Energy & Environmental Services                6   \n",
              "\n",
              "                                                                  current_status  \\\n",
              "industry                        industry_category                                  \n",
              "Accounting Services             Business Products & Services                   7   \n",
              "Agricultural Services           Agriculture                                   15   \n",
              "Animal Health                   Health & Human Services                        2   \n",
              "Apparel, Footwear & Accessories Consumer Products & Services                  48   \n",
              "Architecture/Design/Planning    Building                                      16   \n",
              "...                                                                          ...   \n",
              "Telecommunications              Business Products & Services                   3   \n",
              "Transportation & Logistics      Transportation & Logistics                     7   \n",
              "Travel & Leisure                Education & Training Services                  1   \n",
              "                                Restaurant, Hospitality & Travel              12   \n",
              "Waste Management                Energy & Environmental Services                6   \n",
              "\n",
              "                                                                  description  \\\n",
              "industry                        industry_category                               \n",
              "Accounting Services             Business Products & Services                7   \n",
              "Agricultural Services           Agriculture                                15   \n",
              "Animal Health                   Health & Human Services                     2   \n",
              "Apparel, Footwear & Accessories Consumer Products & Services               48   \n",
              "Architecture/Design/Planning    Building                                   16   \n",
              "...                                                                       ...   \n",
              "Telecommunications              Business Products & Services                3   \n",
              "Transportation & Logistics      Transportation & Logistics                  7   \n",
              "Travel & Leisure                Education & Training Services               1   \n",
              "                                Restaurant, Hospitality & Travel           12   \n",
              "Waste Management                Energy & Environmental Services             6   \n",
              "\n",
              "                                                                  products_and_services  \\\n",
              "industry                        industry_category                                         \n",
              "Accounting Services             Business Products & Services                          7   \n",
              "Agricultural Services           Agriculture                                          15   \n",
              "Animal Health                   Health & Human Services                               2   \n",
              "Apparel, Footwear & Accessories Consumer Products & Services                         44   \n",
              "Architecture/Design/Planning    Building                                             16   \n",
              "...                                                                                 ...   \n",
              "Telecommunications              Business Products & Services                          3   \n",
              "Transportation & Logistics      Transportation & Logistics                            7   \n",
              "Travel & Leisure                Education & Training Services                         1   \n",
              "                                Restaurant, Hospitality & Travel                     12   \n",
              "Waste Management                Energy & Environmental Services                       6   \n",
              "\n",
              "                                                                  country  \\\n",
              "industry                        industry_category                           \n",
              "Accounting Services             Business Products & Services            7   \n",
              "Agricultural Services           Agriculture                            15   \n",
              "Animal Health                   Health & Human Services                 2   \n",
              "Apparel, Footwear & Accessories Consumer Products & Services           48   \n",
              "Architecture/Design/Planning    Building                               16   \n",
              "...                                                                   ...   \n",
              "Telecommunications              Business Products & Services            3   \n",
              "Transportation & Logistics      Transportation & Logistics              7   \n",
              "Travel & Leisure                Education & Training Services           1   \n",
              "                                Restaurant, Hospitality & Travel       12   \n",
              "Waste Management                Energy & Environmental Services         6   \n",
              "\n",
              "                                                                  state  ...  \\\n",
              "industry                        industry_category                        ...   \n",
              "Accounting Services             Business Products & Services          7  ...   \n",
              "Agricultural Services           Agriculture                          15  ...   \n",
              "Animal Health                   Health & Human Services               2  ...   \n",
              "Apparel, Footwear & Accessories Consumer Products & Services         48  ...   \n",
              "Architecture/Design/Planning    Building                             16  ...   \n",
              "...                                                                 ...  ...   \n",
              "Telecommunications              Business Products & Services          3  ...   \n",
              "Transportation & Logistics      Transportation & Logistics            7  ...   \n",
              "Travel & Leisure                Education & Training Services         1  ...   \n",
              "                                Restaurant, Hospitality & Travel     12  ...   \n",
              "Waste Management                Energy & Environmental Services       6  ...   \n",
              "\n",
              "                                                                  ia_workers_it_management_worker_communication  \\\n",
              "industry                        industry_category                                                                 \n",
              "Accounting Services             Business Products & Services                                                  3   \n",
              "Agricultural Services           Agriculture                                                                  10   \n",
              "Animal Health                   Health & Human Services                                                       1   \n",
              "Apparel, Footwear & Accessories Consumer Products & Services                                                 13   \n",
              "Architecture/Design/Planning    Building                                                                      5   \n",
              "...                                                                                                         ...   \n",
              "Telecommunications              Business Products & Services                                                  2   \n",
              "Transportation & Logistics      Transportation & Logistics                                                    5   \n",
              "Travel & Leisure                Education & Training Services                                                 0   \n",
              "                                Restaurant, Hospitality & Travel                                              6   \n",
              "Waste Management                Energy & Environmental Services                                               1   \n",
              "\n",
              "                                                                  ia_workers_it_occupational_health_safety  \\\n",
              "industry                        industry_category                                                            \n",
              "Accounting Services             Business Products & Services                                             0   \n",
              "Agricultural Services           Agriculture                                                              9   \n",
              "Animal Health                   Health & Human Services                                                  1   \n",
              "Apparel, Footwear & Accessories Consumer Products & Services                                             7   \n",
              "Architecture/Design/Planning    Building                                                                 0   \n",
              "...                                                                                                    ...   \n",
              "Telecommunications              Business Products & Services                                             0   \n",
              "Transportation & Logistics      Transportation & Logistics                                               3   \n",
              "Travel & Leisure                Education & Training Services                                            0   \n",
              "                                Restaurant, Hospitality & Travel                                         1   \n",
              "Waste Management                Energy & Environmental Services                                          0   \n",
              "\n",
              "                                                                  ia_workers_it_training_education  \\\n",
              "industry                        industry_category                                                    \n",
              "Accounting Services             Business Products & Services                                     3   \n",
              "Agricultural Services           Agriculture                                                     10   \n",
              "Animal Health                   Health & Human Services                                          1   \n",
              "Apparel, Footwear & Accessories Consumer Products & Services                                    13   \n",
              "Architecture/Design/Planning    Building                                                         5   \n",
              "...                                                                                            ...   \n",
              "Telecommunications              Business Products & Services                                     2   \n",
              "Transportation & Logistics      Transportation & Logistics                                       5   \n",
              "Travel & Leisure                Education & Training Services                                    0   \n",
              "                                Restaurant, Hospitality & Travel                                 6   \n",
              "Waste Management                Energy & Environmental Services                                  1   \n",
              "\n",
              "                                                                  ia_workers_it_worker_benefits  \\\n",
              "industry                        industry_category                                                 \n",
              "Accounting Services             Business Products & Services                                  0   \n",
              "Agricultural Services           Agriculture                                                   0   \n",
              "Animal Health                   Health & Human Services                                       0   \n",
              "Apparel, Footwear & Accessories Consumer Products & Services                                  0   \n",
              "Architecture/Design/Planning    Building                                                      0   \n",
              "...                                                                                         ...   \n",
              "Telecommunications              Business Products & Services                                  0   \n",
              "Transportation & Logistics      Transportation & Logistics                                    0   \n",
              "Travel & Leisure                Education & Training Services                                 0   \n",
              "                                Restaurant, Hospitality & Travel                              0   \n",
              "Waste Management                Energy & Environmental Services                               0   \n",
              "\n",
              "                                                                  ia_workers_it_worker_owned  \\\n",
              "industry                        industry_category                                              \n",
              "Accounting Services             Business Products & Services                               0   \n",
              "Agricultural Services           Agriculture                                                0   \n",
              "Animal Health                   Health & Human Services                                    0   \n",
              "Apparel, Footwear & Accessories Consumer Products & Services                               0   \n",
              "Architecture/Design/Planning    Building                                                   0   \n",
              "...                                                                                      ...   \n",
              "Telecommunications              Business Products & Services                               0   \n",
              "Transportation & Logistics      Transportation & Logistics                                 0   \n",
              "Travel & Leisure                Education & Training Services                              0   \n",
              "                                Restaurant, Hospitality & Travel                           0   \n",
              "Waste Management                Energy & Environmental Services                            0   \n",
              "\n",
              "                                                                  ia_workers_it_worker_ownership  \\\n",
              "industry                        industry_category                                                  \n",
              "Accounting Services             Business Products & Services                                   3   \n",
              "Agricultural Services           Agriculture                                                   10   \n",
              "Animal Health                   Health & Human Services                                        1   \n",
              "Apparel, Footwear & Accessories Consumer Products & Services                                  13   \n",
              "Architecture/Design/Planning    Building                                                       5   \n",
              "...                                                                                          ...   \n",
              "Telecommunications              Business Products & Services                                   2   \n",
              "Transportation & Logistics      Transportation & Logistics                                     5   \n",
              "Travel & Leisure                Education & Training Services                                  0   \n",
              "                                Restaurant, Hospitality & Travel                               6   \n",
              "Waste Management                Energy & Environmental Services                                1   \n",
              "\n",
              "                                                                  ia_workers_it_workforce_development  \\\n",
              "industry                        industry_category                                                       \n",
              "Accounting Services             Business Products & Services                                        1   \n",
              "Agricultural Services           Agriculture                                                         2   \n",
              "Animal Health                   Health & Human Services                                             0   \n",
              "Apparel, Footwear & Accessories Consumer Products & Services                                        3   \n",
              "Architecture/Design/Planning    Building                                                            0   \n",
              "...                                                                                               ...   \n",
              "Telecommunications              Business Products & Services                                        0   \n",
              "Transportation & Logistics      Transportation & Logistics                                          0   \n",
              "Travel & Leisure                Education & Training Services                                       0   \n",
              "                                Restaurant, Hospitality & Travel                                    0   \n",
              "Waste Management                Energy & Environmental Services                                     1   \n",
              "\n",
              "                                                                  certification_cycle  \\\n",
              "industry                        industry_category                                       \n",
              "Accounting Services             Business Products & Services                        7   \n",
              "Agricultural Services           Agriculture                                        15   \n",
              "Animal Health                   Health & Human Services                             2   \n",
              "Apparel, Footwear & Accessories Consumer Products & Services                       48   \n",
              "Architecture/Design/Planning    Building                                           16   \n",
              "...                                                                               ...   \n",
              "Telecommunications              Business Products & Services                        3   \n",
              "Transportation & Logistics      Transportation & Logistics                          7   \n",
              "Travel & Leisure                Education & Training Services                       1   \n",
              "                                Restaurant, Hospitality & Travel                   12   \n",
              "Waste Management                Energy & Environmental Services                     6   \n",
              "\n",
              "                                                                  ID_certification  \\\n",
              "industry                        industry_category                                    \n",
              "Accounting Services             Business Products & Services                     7   \n",
              "Agricultural Services           Agriculture                                     15   \n",
              "Animal Health                   Health & Human Services                          2   \n",
              "Apparel, Footwear & Accessories Consumer Products & Services                    48   \n",
              "Architecture/Design/Planning    Building                                        16   \n",
              "...                                                                            ...   \n",
              "Telecommunications              Business Products & Services                     3   \n",
              "Transportation & Logistics      Transportation & Logistics                       7   \n",
              "Travel & Leisure                Education & Training Services                    1   \n",
              "                                Restaurant, Hospitality & Travel                12   \n",
              "Waste Management                Energy & Environmental Services                  6   \n",
              "\n",
              "                                                                  text_web_page  \n",
              "industry                        industry_category                                \n",
              "Accounting Services             Business Products & Services                  7  \n",
              "Agricultural Services           Agriculture                                  15  \n",
              "Animal Health                   Health & Human Services                       2  \n",
              "Apparel, Footwear & Accessories Consumer Products & Services                 48  \n",
              "Architecture/Design/Planning    Building                                     16  \n",
              "...                                                                         ...  \n",
              "Telecommunications              Business Products & Services                  3  \n",
              "Transportation & Logistics      Transportation & Logistics                    7  \n",
              "Travel & Leisure                Education & Training Services                 1  \n",
              "                                Restaurant, Hospitality & Travel             12  \n",
              "Waste Management                Energy & Environmental Services               6  \n",
              "\n",
              "[73 rows x 127 columns]"
            ],
            "text/html": [
              "\n",
              "  <div id=\"df-f2f22309-2b87-466c-9575-0c05d1f3cc0e\">\n",
              "    <div class=\"colab-df-container\">\n",
              "      <div>\n",
              "<style scoped>\n",
              "    .dataframe tbody tr th:only-of-type {\n",
              "        vertical-align: middle;\n",
              "    }\n",
              "\n",
              "    .dataframe tbody tr th {\n",
              "        vertical-align: top;\n",
              "    }\n",
              "\n",
              "    .dataframe thead th {\n",
              "        text-align: right;\n",
              "    }\n",
              "</style>\n",
              "<table border=\"1\" class=\"dataframe\">\n",
              "  <thead>\n",
              "    <tr style=\"text-align: right;\">\n",
              "      <th></th>\n",
              "      <th></th>\n",
              "      <th>website</th>\n",
              "      <th>company_id</th>\n",
              "      <th>company_name</th>\n",
              "      <th>date_first_certified</th>\n",
              "      <th>date_certified</th>\n",
              "      <th>current_status</th>\n",
              "      <th>description</th>\n",
              "      <th>products_and_services</th>\n",
              "      <th>country</th>\n",
              "      <th>state</th>\n",
              "      <th>...</th>\n",
              "      <th>ia_workers_it_management_worker_communication</th>\n",
              "      <th>ia_workers_it_occupational_health_safety</th>\n",
              "      <th>ia_workers_it_training_education</th>\n",
              "      <th>ia_workers_it_worker_benefits</th>\n",
              "      <th>ia_workers_it_worker_owned</th>\n",
              "      <th>ia_workers_it_worker_ownership</th>\n",
              "      <th>ia_workers_it_workforce_development</th>\n",
              "      <th>certification_cycle</th>\n",
              "      <th>ID_certification</th>\n",
              "      <th>text_web_page</th>\n",
              "    </tr>\n",
              "    <tr>\n",
              "      <th>industry</th>\n",
              "      <th>industry_category</th>\n",
              "      <th></th>\n",
              "      <th></th>\n",
              "      <th></th>\n",
              "      <th></th>\n",
              "      <th></th>\n",
              "      <th></th>\n",
              "      <th></th>\n",
              "      <th></th>\n",
              "      <th></th>\n",
              "      <th></th>\n",
              "      <th></th>\n",
              "      <th></th>\n",
              "      <th></th>\n",
              "      <th></th>\n",
              "      <th></th>\n",
              "      <th></th>\n",
              "      <th></th>\n",
              "      <th></th>\n",
              "      <th></th>\n",
              "      <th></th>\n",
              "      <th></th>\n",
              "    </tr>\n",
              "  </thead>\n",
              "  <tbody>\n",
              "    <tr>\n",
              "      <th>Accounting Services</th>\n",
              "      <th>Business Products &amp; Services</th>\n",
              "      <td>7</td>\n",
              "      <td>7</td>\n",
              "      <td>7</td>\n",
              "      <td>7</td>\n",
              "      <td>7</td>\n",
              "      <td>7</td>\n",
              "      <td>7</td>\n",
              "      <td>7</td>\n",
              "      <td>7</td>\n",
              "      <td>7</td>\n",
              "      <td>...</td>\n",
              "      <td>3</td>\n",
              "      <td>0</td>\n",
              "      <td>3</td>\n",
              "      <td>0</td>\n",
              "      <td>0</td>\n",
              "      <td>3</td>\n",
              "      <td>1</td>\n",
              "      <td>7</td>\n",
              "      <td>7</td>\n",
              "      <td>7</td>\n",
              "    </tr>\n",
              "    <tr>\n",
              "      <th>Agricultural Services</th>\n",
              "      <th>Agriculture</th>\n",
              "      <td>15</td>\n",
              "      <td>15</td>\n",
              "      <td>15</td>\n",
              "      <td>15</td>\n",
              "      <td>15</td>\n",
              "      <td>15</td>\n",
              "      <td>15</td>\n",
              "      <td>15</td>\n",
              "      <td>15</td>\n",
              "      <td>15</td>\n",
              "      <td>...</td>\n",
              "      <td>10</td>\n",
              "      <td>9</td>\n",
              "      <td>10</td>\n",
              "      <td>0</td>\n",
              "      <td>0</td>\n",
              "      <td>10</td>\n",
              "      <td>2</td>\n",
              "      <td>15</td>\n",
              "      <td>15</td>\n",
              "      <td>15</td>\n",
              "    </tr>\n",
              "    <tr>\n",
              "      <th>Animal Health</th>\n",
              "      <th>Health &amp; Human Services</th>\n",
              "      <td>2</td>\n",
              "      <td>2</td>\n",
              "      <td>2</td>\n",
              "      <td>2</td>\n",
              "      <td>2</td>\n",
              "      <td>2</td>\n",
              "      <td>2</td>\n",
              "      <td>2</td>\n",
              "      <td>2</td>\n",
              "      <td>2</td>\n",
              "      <td>...</td>\n",
              "      <td>1</td>\n",
              "      <td>1</td>\n",
              "      <td>1</td>\n",
              "      <td>0</td>\n",
              "      <td>0</td>\n",
              "      <td>1</td>\n",
              "      <td>0</td>\n",
              "      <td>2</td>\n",
              "      <td>2</td>\n",
              "      <td>2</td>\n",
              "    </tr>\n",
              "    <tr>\n",
              "      <th>Apparel, Footwear &amp; Accessories</th>\n",
              "      <th>Consumer Products &amp; Services</th>\n",
              "      <td>48</td>\n",
              "      <td>48</td>\n",
              "      <td>48</td>\n",
              "      <td>48</td>\n",
              "      <td>48</td>\n",
              "      <td>48</td>\n",
              "      <td>48</td>\n",
              "      <td>44</td>\n",
              "      <td>48</td>\n",
              "      <td>48</td>\n",
              "      <td>...</td>\n",
              "      <td>13</td>\n",
              "      <td>7</td>\n",
              "      <td>13</td>\n",
              "      <td>0</td>\n",
              "      <td>0</td>\n",
              "      <td>13</td>\n",
              "      <td>3</td>\n",
              "      <td>48</td>\n",
              "      <td>48</td>\n",
              "      <td>48</td>\n",
              "    </tr>\n",
              "    <tr>\n",
              "      <th>Architecture/Design/Planning</th>\n",
              "      <th>Building</th>\n",
              "      <td>16</td>\n",
              "      <td>16</td>\n",
              "      <td>16</td>\n",
              "      <td>16</td>\n",
              "      <td>16</td>\n",
              "      <td>16</td>\n",
              "      <td>16</td>\n",
              "      <td>16</td>\n",
              "      <td>16</td>\n",
              "      <td>16</td>\n",
              "      <td>...</td>\n",
              "      <td>5</td>\n",
              "      <td>0</td>\n",
              "      <td>5</td>\n",
              "      <td>0</td>\n",
              "      <td>0</td>\n",
              "      <td>5</td>\n",
              "      <td>0</td>\n",
              "      <td>16</td>\n",
              "      <td>16</td>\n",
              "      <td>16</td>\n",
              "    </tr>\n",
              "    <tr>\n",
              "      <th>...</th>\n",
              "      <th>...</th>\n",
              "      <td>...</td>\n",
              "      <td>...</td>\n",
              "      <td>...</td>\n",
              "      <td>...</td>\n",
              "      <td>...</td>\n",
              "      <td>...</td>\n",
              "      <td>...</td>\n",
              "      <td>...</td>\n",
              "      <td>...</td>\n",
              "      <td>...</td>\n",
              "      <td>...</td>\n",
              "      <td>...</td>\n",
              "      <td>...</td>\n",
              "      <td>...</td>\n",
              "      <td>...</td>\n",
              "      <td>...</td>\n",
              "      <td>...</td>\n",
              "      <td>...</td>\n",
              "      <td>...</td>\n",
              "      <td>...</td>\n",
              "      <td>...</td>\n",
              "    </tr>\n",
              "    <tr>\n",
              "      <th>Telecommunications</th>\n",
              "      <th>Business Products &amp; Services</th>\n",
              "      <td>3</td>\n",
              "      <td>3</td>\n",
              "      <td>3</td>\n",
              "      <td>3</td>\n",
              "      <td>3</td>\n",
              "      <td>3</td>\n",
              "      <td>3</td>\n",
              "      <td>3</td>\n",
              "      <td>3</td>\n",
              "      <td>3</td>\n",
              "      <td>...</td>\n",
              "      <td>2</td>\n",
              "      <td>0</td>\n",
              "      <td>2</td>\n",
              "      <td>0</td>\n",
              "      <td>0</td>\n",
              "      <td>2</td>\n",
              "      <td>0</td>\n",
              "      <td>3</td>\n",
              "      <td>3</td>\n",
              "      <td>3</td>\n",
              "    </tr>\n",
              "    <tr>\n",
              "      <th>Transportation &amp; Logistics</th>\n",
              "      <th>Transportation &amp; Logistics</th>\n",
              "      <td>7</td>\n",
              "      <td>7</td>\n",
              "      <td>7</td>\n",
              "      <td>7</td>\n",
              "      <td>7</td>\n",
              "      <td>7</td>\n",
              "      <td>7</td>\n",
              "      <td>7</td>\n",
              "      <td>7</td>\n",
              "      <td>7</td>\n",
              "      <td>...</td>\n",
              "      <td>5</td>\n",
              "      <td>3</td>\n",
              "      <td>5</td>\n",
              "      <td>0</td>\n",
              "      <td>0</td>\n",
              "      <td>5</td>\n",
              "      <td>0</td>\n",
              "      <td>7</td>\n",
              "      <td>7</td>\n",
              "      <td>7</td>\n",
              "    </tr>\n",
              "    <tr>\n",
              "      <th rowspan=\"2\" valign=\"top\">Travel &amp; Leisure</th>\n",
              "      <th>Education &amp; Training Services</th>\n",
              "      <td>1</td>\n",
              "      <td>1</td>\n",
              "      <td>1</td>\n",
              "      <td>1</td>\n",
              "      <td>1</td>\n",
              "      <td>1</td>\n",
              "      <td>1</td>\n",
              "      <td>1</td>\n",
              "      <td>1</td>\n",
              "      <td>1</td>\n",
              "      <td>...</td>\n",
              "      <td>0</td>\n",
              "      <td>0</td>\n",
              "      <td>0</td>\n",
              "      <td>0</td>\n",
              "      <td>0</td>\n",
              "      <td>0</td>\n",
              "      <td>0</td>\n",
              "      <td>1</td>\n",
              "      <td>1</td>\n",
              "      <td>1</td>\n",
              "    </tr>\n",
              "    <tr>\n",
              "      <th>Restaurant, Hospitality &amp; Travel</th>\n",
              "      <td>12</td>\n",
              "      <td>12</td>\n",
              "      <td>12</td>\n",
              "      <td>12</td>\n",
              "      <td>12</td>\n",
              "      <td>12</td>\n",
              "      <td>12</td>\n",
              "      <td>12</td>\n",
              "      <td>12</td>\n",
              "      <td>12</td>\n",
              "      <td>...</td>\n",
              "      <td>6</td>\n",
              "      <td>1</td>\n",
              "      <td>6</td>\n",
              "      <td>0</td>\n",
              "      <td>0</td>\n",
              "      <td>6</td>\n",
              "      <td>0</td>\n",
              "      <td>12</td>\n",
              "      <td>12</td>\n",
              "      <td>12</td>\n",
              "    </tr>\n",
              "    <tr>\n",
              "      <th>Waste Management</th>\n",
              "      <th>Energy &amp; Environmental Services</th>\n",
              "      <td>6</td>\n",
              "      <td>6</td>\n",
              "      <td>6</td>\n",
              "      <td>6</td>\n",
              "      <td>6</td>\n",
              "      <td>6</td>\n",
              "      <td>6</td>\n",
              "      <td>6</td>\n",
              "      <td>6</td>\n",
              "      <td>6</td>\n",
              "      <td>...</td>\n",
              "      <td>1</td>\n",
              "      <td>0</td>\n",
              "      <td>1</td>\n",
              "      <td>0</td>\n",
              "      <td>0</td>\n",
              "      <td>1</td>\n",
              "      <td>1</td>\n",
              "      <td>6</td>\n",
              "      <td>6</td>\n",
              "      <td>6</td>\n",
              "    </tr>\n",
              "  </tbody>\n",
              "</table>\n",
              "<p>73 rows × 127 columns</p>\n",
              "</div>\n",
              "      <button class=\"colab-df-convert\" onclick=\"convertToInteractive('df-f2f22309-2b87-466c-9575-0c05d1f3cc0e')\"\n",
              "              title=\"Convert this dataframe to an interactive table.\"\n",
              "              style=\"display:none;\">\n",
              "        \n",
              "  <svg xmlns=\"http://www.w3.org/2000/svg\" height=\"24px\"viewBox=\"0 0 24 24\"\n",
              "       width=\"24px\">\n",
              "    <path d=\"M0 0h24v24H0V0z\" fill=\"none\"/>\n",
              "    <path d=\"M18.56 5.44l.94 2.06.94-2.06 2.06-.94-2.06-.94-.94-2.06-.94 2.06-2.06.94zm-11 1L8.5 8.5l.94-2.06 2.06-.94-2.06-.94L8.5 2.5l-.94 2.06-2.06.94zm10 10l.94 2.06.94-2.06 2.06-.94-2.06-.94-.94-2.06-.94 2.06-2.06.94z\"/><path d=\"M17.41 7.96l-1.37-1.37c-.4-.4-.92-.59-1.43-.59-.52 0-1.04.2-1.43.59L10.3 9.45l-7.72 7.72c-.78.78-.78 2.05 0 2.83L4 21.41c.39.39.9.59 1.41.59.51 0 1.02-.2 1.41-.59l7.78-7.78 2.81-2.81c.8-.78.8-2.07 0-2.86zM5.41 20L4 18.59l7.72-7.72 1.47 1.35L5.41 20z\"/>\n",
              "  </svg>\n",
              "      </button>\n",
              "      \n",
              "  <style>\n",
              "    .colab-df-container {\n",
              "      display:flex;\n",
              "      flex-wrap:wrap;\n",
              "      gap: 12px;\n",
              "    }\n",
              "\n",
              "    .colab-df-convert {\n",
              "      background-color: #E8F0FE;\n",
              "      border: none;\n",
              "      border-radius: 50%;\n",
              "      cursor: pointer;\n",
              "      display: none;\n",
              "      fill: #1967D2;\n",
              "      height: 32px;\n",
              "      padding: 0 0 0 0;\n",
              "      width: 32px;\n",
              "    }\n",
              "\n",
              "    .colab-df-convert:hover {\n",
              "      background-color: #E2EBFA;\n",
              "      box-shadow: 0px 1px 2px rgba(60, 64, 67, 0.3), 0px 1px 3px 1px rgba(60, 64, 67, 0.15);\n",
              "      fill: #174EA6;\n",
              "    }\n",
              "\n",
              "    [theme=dark] .colab-df-convert {\n",
              "      background-color: #3B4455;\n",
              "      fill: #D2E3FC;\n",
              "    }\n",
              "\n",
              "    [theme=dark] .colab-df-convert:hover {\n",
              "      background-color: #434B5C;\n",
              "      box-shadow: 0px 1px 3px 1px rgba(0, 0, 0, 0.15);\n",
              "      filter: drop-shadow(0px 1px 2px rgba(0, 0, 0, 0.3));\n",
              "      fill: #FFFFFF;\n",
              "    }\n",
              "  </style>\n",
              "\n",
              "      <script>\n",
              "        const buttonEl =\n",
              "          document.querySelector('#df-f2f22309-2b87-466c-9575-0c05d1f3cc0e button.colab-df-convert');\n",
              "        buttonEl.style.display =\n",
              "          google.colab.kernel.accessAllowed ? 'block' : 'none';\n",
              "\n",
              "        async function convertToInteractive(key) {\n",
              "          const element = document.querySelector('#df-f2f22309-2b87-466c-9575-0c05d1f3cc0e');\n",
              "          const dataTable =\n",
              "            await google.colab.kernel.invokeFunction('convertToInteractive',\n",
              "                                                     [key], {});\n",
              "          if (!dataTable) return;\n",
              "\n",
              "          const docLinkHtml = 'Like what you see? Visit the ' +\n",
              "            '<a target=\"_blank\" href=https://colab.research.google.com/notebooks/data_table.ipynb>data table notebook</a>'\n",
              "            + ' to learn more about interactive tables.';\n",
              "          element.innerHTML = '';\n",
              "          dataTable['output_type'] = 'display_data';\n",
              "          await google.colab.output.renderOutput(dataTable, element);\n",
              "          const docLink = document.createElement('div');\n",
              "          docLink.innerHTML = docLinkHtml;\n",
              "          element.appendChild(docLink);\n",
              "        }\n",
              "      </script>\n",
              "    </div>\n",
              "  </div>\n",
              "  "
            ]
          },
          "metadata": {},
          "execution_count": 11
        }
      ]
    },
    {
      "cell_type": "code",
      "source": [
        "df_data.groupby(['sector','industry']).count()"
      ],
      "metadata": {
        "id": "Nd2qjt3DWaql"
      },
      "execution_count": null,
      "outputs": []
    },
    {
      "cell_type": "code",
      "source": [
        "df_data.groupby(['state','city']).count()"
      ],
      "metadata": {
        "id": "9gD5J7hdUXB9"
      },
      "execution_count": null,
      "outputs": []
    },
    {
      "cell_type": "code",
      "source": [
        "df_data[df_data.country=='Canada'].groupby(['state','city']).count()"
      ],
      "metadata": {
        "id": "6Go1I-uRU1Il",
        "colab": {
          "base_uri": "https://localhost:8080/",
          "height": 537
        },
        "outputId": "2e3004c5-f9d9-4511-ded6-8aa7b0425970"
      },
      "execution_count": null,
      "outputs": [
        {
          "output_type": "execute_result",
          "data": {
            "text/plain": [
              "                              website  company_id  company_name  \\\n",
              "state            city                                             \n",
              "Alberta          Calgary           13          13            13   \n",
              "                 Edmonton           5           5             5   \n",
              "British Columbia Burnaby            2           2             2   \n",
              "                 Coquitlam          1           1             1   \n",
              "                 Duncan             1           1             1   \n",
              "...                               ...         ...           ...   \n",
              "Québec           MontrealQ          1           1             1   \n",
              "                 Montréal           1           1             1   \n",
              "                 Quebec (QC)        1           1             1   \n",
              "Saskatchewan     Saskatoon          1           1             1   \n",
              "Yukon            Whitehorse         1           1             1   \n",
              "\n",
              "                              date_first_certified  date_certified  \\\n",
              "state            city                                                \n",
              "Alberta          Calgary                        13              13   \n",
              "                 Edmonton                        5               5   \n",
              "British Columbia Burnaby                         2               2   \n",
              "                 Coquitlam                       1               1   \n",
              "                 Duncan                          1               1   \n",
              "...                                            ...             ...   \n",
              "Québec           MontrealQ                       1               1   \n",
              "                 Montréal                        1               1   \n",
              "                 Quebec (QC)                     1               1   \n",
              "Saskatchewan     Saskatoon                       1               1   \n",
              "Yukon            Whitehorse                      1               1   \n",
              "\n",
              "                              current_status  description  industry  \\\n",
              "state            city                                                 \n",
              "Alberta          Calgary                  13           13        13   \n",
              "                 Edmonton                  5            5         5   \n",
              "British Columbia Burnaby                   2            2         2   \n",
              "                 Coquitlam                 1            1         1   \n",
              "                 Duncan                    1            1         1   \n",
              "...                                      ...          ...       ...   \n",
              "Québec           MontrealQ                 1            1         1   \n",
              "                 Montréal                  1            1         1   \n",
              "                 Quebec (QC)               1            1         1   \n",
              "Saskatchewan     Saskatoon                 1            1         1   \n",
              "Yukon            Whitehorse                1            1         1   \n",
              "\n",
              "                              industry_category  products_and_services  ...  \\\n",
              "state            city                                                   ...   \n",
              "Alberta          Calgary                     13                     13  ...   \n",
              "                 Edmonton                     5                      5  ...   \n",
              "British Columbia Burnaby                      2                      2  ...   \n",
              "                 Coquitlam                    1                      1  ...   \n",
              "                 Duncan                       1                      1  ...   \n",
              "...                                         ...                    ...  ...   \n",
              "Québec           MontrealQ                    1                      1  ...   \n",
              "                 Montréal                     1                      1  ...   \n",
              "                 Quebec (QC)                  1                      1  ...   \n",
              "Saskatchewan     Saskatoon                    1                      1  ...   \n",
              "Yukon            Whitehorse                   1                      1  ...   \n",
              "\n",
              "                              ia_workers_it_occupational_health_safety  \\\n",
              "state            city                                                    \n",
              "Alberta          Calgary                                             1   \n",
              "                 Edmonton                                            1   \n",
              "British Columbia Burnaby                                             0   \n",
              "                 Coquitlam                                           0   \n",
              "                 Duncan                                              0   \n",
              "...                                                                ...   \n",
              "Québec           MontrealQ                                           0   \n",
              "                 Montréal                                            0   \n",
              "                 Quebec (QC)                                         0   \n",
              "Saskatchewan     Saskatoon                                           0   \n",
              "Yukon            Whitehorse                                          0   \n",
              "\n",
              "                              ia_workers_it_training_education  \\\n",
              "state            city                                            \n",
              "Alberta          Calgary                                     6   \n",
              "                 Edmonton                                    3   \n",
              "British Columbia Burnaby                                     1   \n",
              "                 Coquitlam                                   0   \n",
              "                 Duncan                                      0   \n",
              "...                                                        ...   \n",
              "Québec           MontrealQ                                   0   \n",
              "                 Montréal                                    1   \n",
              "                 Quebec (QC)                                 0   \n",
              "Saskatchewan     Saskatoon                                   1   \n",
              "Yukon            Whitehorse                                  0   \n",
              "\n",
              "                              ia_workers_it_worker_benefits  \\\n",
              "state            city                                         \n",
              "Alberta          Calgary                                  0   \n",
              "                 Edmonton                                 0   \n",
              "British Columbia Burnaby                                  0   \n",
              "                 Coquitlam                                0   \n",
              "                 Duncan                                   0   \n",
              "...                                                     ...   \n",
              "Québec           MontrealQ                                0   \n",
              "                 Montréal                                 0   \n",
              "                 Quebec (QC)                              0   \n",
              "Saskatchewan     Saskatoon                                0   \n",
              "Yukon            Whitehorse                               0   \n",
              "\n",
              "                              ia_workers_it_worker_owned  \\\n",
              "state            city                                      \n",
              "Alberta          Calgary                               0   \n",
              "                 Edmonton                              1   \n",
              "British Columbia Burnaby                               0   \n",
              "                 Coquitlam                             0   \n",
              "                 Duncan                                0   \n",
              "...                                                  ...   \n",
              "Québec           MontrealQ                             0   \n",
              "                 Montréal                              0   \n",
              "                 Quebec (QC)                           0   \n",
              "Saskatchewan     Saskatoon                             1   \n",
              "Yukon            Whitehorse                            0   \n",
              "\n",
              "                              ia_workers_it_worker_ownership  \\\n",
              "state            city                                          \n",
              "Alberta          Calgary                                   6   \n",
              "                 Edmonton                                  3   \n",
              "British Columbia Burnaby                                   1   \n",
              "                 Coquitlam                                 0   \n",
              "                 Duncan                                    0   \n",
              "...                                                      ...   \n",
              "Québec           MontrealQ                                 0   \n",
              "                 Montréal                                  1   \n",
              "                 Quebec (QC)                               0   \n",
              "Saskatchewan     Saskatoon                                 1   \n",
              "Yukon            Whitehorse                                0   \n",
              "\n",
              "                              ia_workers_it_workforce_development  \\\n",
              "state            city                                               \n",
              "Alberta          Calgary                                        0   \n",
              "                 Edmonton                                       0   \n",
              "British Columbia Burnaby                                        0   \n",
              "                 Coquitlam                                      0   \n",
              "                 Duncan                                         0   \n",
              "...                                                           ...   \n",
              "Québec           MontrealQ                                      0   \n",
              "                 Montréal                                       0   \n",
              "                 Quebec (QC)                                    0   \n",
              "Saskatchewan     Saskatoon                                      0   \n",
              "Yukon            Whitehorse                                     0   \n",
              "\n",
              "                              certification_cycle  ID_certification  \\\n",
              "state            city                                                 \n",
              "Alberta          Calgary                       13                13   \n",
              "                 Edmonton                       5                 5   \n",
              "British Columbia Burnaby                        2                 2   \n",
              "                 Coquitlam                      1                 1   \n",
              "                 Duncan                         1                 1   \n",
              "...                                           ...               ...   \n",
              "Québec           MontrealQ                      1                 1   \n",
              "                 Montréal                       1                 1   \n",
              "                 Quebec (QC)                    1                 1   \n",
              "Saskatchewan     Saskatoon                      1                 1   \n",
              "Yukon            Whitehorse                     1                 1   \n",
              "\n",
              "                              text_web_page  text_cleaned  \n",
              "state            city                                      \n",
              "Alberta          Calgary                 13            13  \n",
              "                 Edmonton                 5             5  \n",
              "British Columbia Burnaby                  2             2  \n",
              "                 Coquitlam                1             1  \n",
              "                 Duncan                   1             1  \n",
              "...                                     ...           ...  \n",
              "Québec           MontrealQ                1             1  \n",
              "                 Montréal                 1             1  \n",
              "                 Quebec (QC)              1             1  \n",
              "Saskatchewan     Saskatoon                1             1  \n",
              "Yukon            Whitehorse               1             1  \n",
              "\n",
              "[70 rows x 128 columns]"
            ],
            "text/html": [
              "\n",
              "  <div id=\"df-f6255088-73f5-4527-ba6a-eabc337ab0eb\">\n",
              "    <div class=\"colab-df-container\">\n",
              "      <div>\n",
              "<style scoped>\n",
              "    .dataframe tbody tr th:only-of-type {\n",
              "        vertical-align: middle;\n",
              "    }\n",
              "\n",
              "    .dataframe tbody tr th {\n",
              "        vertical-align: top;\n",
              "    }\n",
              "\n",
              "    .dataframe thead th {\n",
              "        text-align: right;\n",
              "    }\n",
              "</style>\n",
              "<table border=\"1\" class=\"dataframe\">\n",
              "  <thead>\n",
              "    <tr style=\"text-align: right;\">\n",
              "      <th></th>\n",
              "      <th></th>\n",
              "      <th>website</th>\n",
              "      <th>company_id</th>\n",
              "      <th>company_name</th>\n",
              "      <th>date_first_certified</th>\n",
              "      <th>date_certified</th>\n",
              "      <th>current_status</th>\n",
              "      <th>description</th>\n",
              "      <th>industry</th>\n",
              "      <th>industry_category</th>\n",
              "      <th>products_and_services</th>\n",
              "      <th>...</th>\n",
              "      <th>ia_workers_it_occupational_health_safety</th>\n",
              "      <th>ia_workers_it_training_education</th>\n",
              "      <th>ia_workers_it_worker_benefits</th>\n",
              "      <th>ia_workers_it_worker_owned</th>\n",
              "      <th>ia_workers_it_worker_ownership</th>\n",
              "      <th>ia_workers_it_workforce_development</th>\n",
              "      <th>certification_cycle</th>\n",
              "      <th>ID_certification</th>\n",
              "      <th>text_web_page</th>\n",
              "      <th>text_cleaned</th>\n",
              "    </tr>\n",
              "    <tr>\n",
              "      <th>state</th>\n",
              "      <th>city</th>\n",
              "      <th></th>\n",
              "      <th></th>\n",
              "      <th></th>\n",
              "      <th></th>\n",
              "      <th></th>\n",
              "      <th></th>\n",
              "      <th></th>\n",
              "      <th></th>\n",
              "      <th></th>\n",
              "      <th></th>\n",
              "      <th></th>\n",
              "      <th></th>\n",
              "      <th></th>\n",
              "      <th></th>\n",
              "      <th></th>\n",
              "      <th></th>\n",
              "      <th></th>\n",
              "      <th></th>\n",
              "      <th></th>\n",
              "      <th></th>\n",
              "      <th></th>\n",
              "    </tr>\n",
              "  </thead>\n",
              "  <tbody>\n",
              "    <tr>\n",
              "      <th rowspan=\"2\" valign=\"top\">Alberta</th>\n",
              "      <th>Calgary</th>\n",
              "      <td>13</td>\n",
              "      <td>13</td>\n",
              "      <td>13</td>\n",
              "      <td>13</td>\n",
              "      <td>13</td>\n",
              "      <td>13</td>\n",
              "      <td>13</td>\n",
              "      <td>13</td>\n",
              "      <td>13</td>\n",
              "      <td>13</td>\n",
              "      <td>...</td>\n",
              "      <td>1</td>\n",
              "      <td>6</td>\n",
              "      <td>0</td>\n",
              "      <td>0</td>\n",
              "      <td>6</td>\n",
              "      <td>0</td>\n",
              "      <td>13</td>\n",
              "      <td>13</td>\n",
              "      <td>13</td>\n",
              "      <td>13</td>\n",
              "    </tr>\n",
              "    <tr>\n",
              "      <th>Edmonton</th>\n",
              "      <td>5</td>\n",
              "      <td>5</td>\n",
              "      <td>5</td>\n",
              "      <td>5</td>\n",
              "      <td>5</td>\n",
              "      <td>5</td>\n",
              "      <td>5</td>\n",
              "      <td>5</td>\n",
              "      <td>5</td>\n",
              "      <td>5</td>\n",
              "      <td>...</td>\n",
              "      <td>1</td>\n",
              "      <td>3</td>\n",
              "      <td>0</td>\n",
              "      <td>1</td>\n",
              "      <td>3</td>\n",
              "      <td>0</td>\n",
              "      <td>5</td>\n",
              "      <td>5</td>\n",
              "      <td>5</td>\n",
              "      <td>5</td>\n",
              "    </tr>\n",
              "    <tr>\n",
              "      <th rowspan=\"3\" valign=\"top\">British Columbia</th>\n",
              "      <th>Burnaby</th>\n",
              "      <td>2</td>\n",
              "      <td>2</td>\n",
              "      <td>2</td>\n",
              "      <td>2</td>\n",
              "      <td>2</td>\n",
              "      <td>2</td>\n",
              "      <td>2</td>\n",
              "      <td>2</td>\n",
              "      <td>2</td>\n",
              "      <td>2</td>\n",
              "      <td>...</td>\n",
              "      <td>0</td>\n",
              "      <td>1</td>\n",
              "      <td>0</td>\n",
              "      <td>0</td>\n",
              "      <td>1</td>\n",
              "      <td>0</td>\n",
              "      <td>2</td>\n",
              "      <td>2</td>\n",
              "      <td>2</td>\n",
              "      <td>2</td>\n",
              "    </tr>\n",
              "    <tr>\n",
              "      <th>Coquitlam</th>\n",
              "      <td>1</td>\n",
              "      <td>1</td>\n",
              "      <td>1</td>\n",
              "      <td>1</td>\n",
              "      <td>1</td>\n",
              "      <td>1</td>\n",
              "      <td>1</td>\n",
              "      <td>1</td>\n",
              "      <td>1</td>\n",
              "      <td>1</td>\n",
              "      <td>...</td>\n",
              "      <td>0</td>\n",
              "      <td>0</td>\n",
              "      <td>0</td>\n",
              "      <td>0</td>\n",
              "      <td>0</td>\n",
              "      <td>0</td>\n",
              "      <td>1</td>\n",
              "      <td>1</td>\n",
              "      <td>1</td>\n",
              "      <td>1</td>\n",
              "    </tr>\n",
              "    <tr>\n",
              "      <th>Duncan</th>\n",
              "      <td>1</td>\n",
              "      <td>1</td>\n",
              "      <td>1</td>\n",
              "      <td>1</td>\n",
              "      <td>1</td>\n",
              "      <td>1</td>\n",
              "      <td>1</td>\n",
              "      <td>1</td>\n",
              "      <td>1</td>\n",
              "      <td>1</td>\n",
              "      <td>...</td>\n",
              "      <td>0</td>\n",
              "      <td>0</td>\n",
              "      <td>0</td>\n",
              "      <td>0</td>\n",
              "      <td>0</td>\n",
              "      <td>0</td>\n",
              "      <td>1</td>\n",
              "      <td>1</td>\n",
              "      <td>1</td>\n",
              "      <td>1</td>\n",
              "    </tr>\n",
              "    <tr>\n",
              "      <th>...</th>\n",
              "      <th>...</th>\n",
              "      <td>...</td>\n",
              "      <td>...</td>\n",
              "      <td>...</td>\n",
              "      <td>...</td>\n",
              "      <td>...</td>\n",
              "      <td>...</td>\n",
              "      <td>...</td>\n",
              "      <td>...</td>\n",
              "      <td>...</td>\n",
              "      <td>...</td>\n",
              "      <td>...</td>\n",
              "      <td>...</td>\n",
              "      <td>...</td>\n",
              "      <td>...</td>\n",
              "      <td>...</td>\n",
              "      <td>...</td>\n",
              "      <td>...</td>\n",
              "      <td>...</td>\n",
              "      <td>...</td>\n",
              "      <td>...</td>\n",
              "      <td>...</td>\n",
              "    </tr>\n",
              "    <tr>\n",
              "      <th rowspan=\"3\" valign=\"top\">Québec</th>\n",
              "      <th>MontrealQ</th>\n",
              "      <td>1</td>\n",
              "      <td>1</td>\n",
              "      <td>1</td>\n",
              "      <td>1</td>\n",
              "      <td>1</td>\n",
              "      <td>1</td>\n",
              "      <td>1</td>\n",
              "      <td>1</td>\n",
              "      <td>1</td>\n",
              "      <td>1</td>\n",
              "      <td>...</td>\n",
              "      <td>0</td>\n",
              "      <td>0</td>\n",
              "      <td>0</td>\n",
              "      <td>0</td>\n",
              "      <td>0</td>\n",
              "      <td>0</td>\n",
              "      <td>1</td>\n",
              "      <td>1</td>\n",
              "      <td>1</td>\n",
              "      <td>1</td>\n",
              "    </tr>\n",
              "    <tr>\n",
              "      <th>Montréal</th>\n",
              "      <td>1</td>\n",
              "      <td>1</td>\n",
              "      <td>1</td>\n",
              "      <td>1</td>\n",
              "      <td>1</td>\n",
              "      <td>1</td>\n",
              "      <td>1</td>\n",
              "      <td>1</td>\n",
              "      <td>1</td>\n",
              "      <td>1</td>\n",
              "      <td>...</td>\n",
              "      <td>0</td>\n",
              "      <td>1</td>\n",
              "      <td>0</td>\n",
              "      <td>0</td>\n",
              "      <td>1</td>\n",
              "      <td>0</td>\n",
              "      <td>1</td>\n",
              "      <td>1</td>\n",
              "      <td>1</td>\n",
              "      <td>1</td>\n",
              "    </tr>\n",
              "    <tr>\n",
              "      <th>Quebec (QC)</th>\n",
              "      <td>1</td>\n",
              "      <td>1</td>\n",
              "      <td>1</td>\n",
              "      <td>1</td>\n",
              "      <td>1</td>\n",
              "      <td>1</td>\n",
              "      <td>1</td>\n",
              "      <td>1</td>\n",
              "      <td>1</td>\n",
              "      <td>1</td>\n",
              "      <td>...</td>\n",
              "      <td>0</td>\n",
              "      <td>0</td>\n",
              "      <td>0</td>\n",
              "      <td>0</td>\n",
              "      <td>0</td>\n",
              "      <td>0</td>\n",
              "      <td>1</td>\n",
              "      <td>1</td>\n",
              "      <td>1</td>\n",
              "      <td>1</td>\n",
              "    </tr>\n",
              "    <tr>\n",
              "      <th>Saskatchewan</th>\n",
              "      <th>Saskatoon</th>\n",
              "      <td>1</td>\n",
              "      <td>1</td>\n",
              "      <td>1</td>\n",
              "      <td>1</td>\n",
              "      <td>1</td>\n",
              "      <td>1</td>\n",
              "      <td>1</td>\n",
              "      <td>1</td>\n",
              "      <td>1</td>\n",
              "      <td>1</td>\n",
              "      <td>...</td>\n",
              "      <td>0</td>\n",
              "      <td>1</td>\n",
              "      <td>0</td>\n",
              "      <td>1</td>\n",
              "      <td>1</td>\n",
              "      <td>0</td>\n",
              "      <td>1</td>\n",
              "      <td>1</td>\n",
              "      <td>1</td>\n",
              "      <td>1</td>\n",
              "    </tr>\n",
              "    <tr>\n",
              "      <th>Yukon</th>\n",
              "      <th>Whitehorse</th>\n",
              "      <td>1</td>\n",
              "      <td>1</td>\n",
              "      <td>1</td>\n",
              "      <td>1</td>\n",
              "      <td>1</td>\n",
              "      <td>1</td>\n",
              "      <td>1</td>\n",
              "      <td>1</td>\n",
              "      <td>1</td>\n",
              "      <td>1</td>\n",
              "      <td>...</td>\n",
              "      <td>0</td>\n",
              "      <td>0</td>\n",
              "      <td>0</td>\n",
              "      <td>0</td>\n",
              "      <td>0</td>\n",
              "      <td>0</td>\n",
              "      <td>1</td>\n",
              "      <td>1</td>\n",
              "      <td>1</td>\n",
              "      <td>1</td>\n",
              "    </tr>\n",
              "  </tbody>\n",
              "</table>\n",
              "<p>70 rows × 128 columns</p>\n",
              "</div>\n",
              "      <button class=\"colab-df-convert\" onclick=\"convertToInteractive('df-f6255088-73f5-4527-ba6a-eabc337ab0eb')\"\n",
              "              title=\"Convert this dataframe to an interactive table.\"\n",
              "              style=\"display:none;\">\n",
              "        \n",
              "  <svg xmlns=\"http://www.w3.org/2000/svg\" height=\"24px\"viewBox=\"0 0 24 24\"\n",
              "       width=\"24px\">\n",
              "    <path d=\"M0 0h24v24H0V0z\" fill=\"none\"/>\n",
              "    <path d=\"M18.56 5.44l.94 2.06.94-2.06 2.06-.94-2.06-.94-.94-2.06-.94 2.06-2.06.94zm-11 1L8.5 8.5l.94-2.06 2.06-.94-2.06-.94L8.5 2.5l-.94 2.06-2.06.94zm10 10l.94 2.06.94-2.06 2.06-.94-2.06-.94-.94-2.06-.94 2.06-2.06.94z\"/><path d=\"M17.41 7.96l-1.37-1.37c-.4-.4-.92-.59-1.43-.59-.52 0-1.04.2-1.43.59L10.3 9.45l-7.72 7.72c-.78.78-.78 2.05 0 2.83L4 21.41c.39.39.9.59 1.41.59.51 0 1.02-.2 1.41-.59l7.78-7.78 2.81-2.81c.8-.78.8-2.07 0-2.86zM5.41 20L4 18.59l7.72-7.72 1.47 1.35L5.41 20z\"/>\n",
              "  </svg>\n",
              "      </button>\n",
              "      \n",
              "  <style>\n",
              "    .colab-df-container {\n",
              "      display:flex;\n",
              "      flex-wrap:wrap;\n",
              "      gap: 12px;\n",
              "    }\n",
              "\n",
              "    .colab-df-convert {\n",
              "      background-color: #E8F0FE;\n",
              "      border: none;\n",
              "      border-radius: 50%;\n",
              "      cursor: pointer;\n",
              "      display: none;\n",
              "      fill: #1967D2;\n",
              "      height: 32px;\n",
              "      padding: 0 0 0 0;\n",
              "      width: 32px;\n",
              "    }\n",
              "\n",
              "    .colab-df-convert:hover {\n",
              "      background-color: #E2EBFA;\n",
              "      box-shadow: 0px 1px 2px rgba(60, 64, 67, 0.3), 0px 1px 3px 1px rgba(60, 64, 67, 0.15);\n",
              "      fill: #174EA6;\n",
              "    }\n",
              "\n",
              "    [theme=dark] .colab-df-convert {\n",
              "      background-color: #3B4455;\n",
              "      fill: #D2E3FC;\n",
              "    }\n",
              "\n",
              "    [theme=dark] .colab-df-convert:hover {\n",
              "      background-color: #434B5C;\n",
              "      box-shadow: 0px 1px 3px 1px rgba(0, 0, 0, 0.15);\n",
              "      filter: drop-shadow(0px 1px 2px rgba(0, 0, 0, 0.3));\n",
              "      fill: #FFFFFF;\n",
              "    }\n",
              "  </style>\n",
              "\n",
              "      <script>\n",
              "        const buttonEl =\n",
              "          document.querySelector('#df-f6255088-73f5-4527-ba6a-eabc337ab0eb button.colab-df-convert');\n",
              "        buttonEl.style.display =\n",
              "          google.colab.kernel.accessAllowed ? 'block' : 'none';\n",
              "\n",
              "        async function convertToInteractive(key) {\n",
              "          const element = document.querySelector('#df-f6255088-73f5-4527-ba6a-eabc337ab0eb');\n",
              "          const dataTable =\n",
              "            await google.colab.kernel.invokeFunction('convertToInteractive',\n",
              "                                                     [key], {});\n",
              "          if (!dataTable) return;\n",
              "\n",
              "          const docLinkHtml = 'Like what you see? Visit the ' +\n",
              "            '<a target=\"_blank\" href=https://colab.research.google.com/notebooks/data_table.ipynb>data table notebook</a>'\n",
              "            + ' to learn more about interactive tables.';\n",
              "          element.innerHTML = '';\n",
              "          dataTable['output_type'] = 'display_data';\n",
              "          await google.colab.output.renderOutput(dataTable, element);\n",
              "          const docLink = document.createElement('div');\n",
              "          docLink.innerHTML = docLinkHtml;\n",
              "          element.appendChild(docLink);\n",
              "        }\n",
              "      </script>\n",
              "    </div>\n",
              "  </div>\n",
              "  "
            ]
          },
          "metadata": {},
          "execution_count": 118
        }
      ]
    },
    {
      "cell_type": "code",
      "source": [
        "df_data['overall_score'].describe()"
      ],
      "metadata": {
        "id": "zoeGASGXXAiM",
        "outputId": "557338d2-0f02-421d-dc2d-510ffeef6de5",
        "colab": {
          "base_uri": "https://localhost:8080/"
        }
      },
      "execution_count": null,
      "outputs": [
        {
          "output_type": "execute_result",
          "data": {
            "text/plain": [
              "count    1184.000000\n",
              "mean       95.846030\n",
              "std        16.064411\n",
              "min        78.200000\n",
              "25%        83.300000\n",
              "50%        90.600000\n",
              "75%       103.000000\n",
              "max       170.500000\n",
              "Name: overall_score, dtype: float64"
            ]
          },
          "metadata": {},
          "execution_count": 47
        }
      ]
    },
    {
      "cell_type": "code",
      "source": [
        "df_data[df_data['sector'] == 'Service with Significant Environmental Footprint']['overall_score'].describe()"
      ],
      "metadata": {
        "colab": {
          "base_uri": "https://localhost:8080/"
        },
        "id": "TbO4jndsXU_V",
        "outputId": "97234f82-1978-4a15-c6d4-e632501a2139"
      },
      "execution_count": null,
      "outputs": [
        {
          "output_type": "execute_result",
          "data": {
            "text/plain": [
              "count    102.000000\n",
              "mean      95.006863\n",
              "std       16.369818\n",
              "min       80.000000\n",
              "25%       84.025000\n",
              "50%       89.700000\n",
              "75%      100.150000\n",
              "max      158.300000\n",
              "Name: overall_score, dtype: float64"
            ]
          },
          "metadata": {},
          "execution_count": 26
        }
      ]
    },
    {
      "cell_type": "code",
      "source": [
        "df_data[df_data['sector'] == 'Service with Minor Environmental Footprint']['overall_score'].describe()"
      ],
      "metadata": {
        "outputId": "53926ac6-6b77-4c15-fb0b-ffdd8097930d",
        "colab": {
          "base_uri": "https://localhost:8080/"
        },
        "id": "slXh9OuRYEJL"
      },
      "execution_count": null,
      "outputs": [
        {
          "output_type": "execute_result",
          "data": {
            "text/plain": [
              "count    635.000000\n",
              "mean      97.636063\n",
              "std       16.850914\n",
              "min       80.000000\n",
              "25%       84.000000\n",
              "50%       92.500000\n",
              "75%      106.600000\n",
              "max      168.400000\n",
              "Name: overall_score, dtype: float64"
            ]
          },
          "metadata": {},
          "execution_count": 53
        }
      ]
    },
    {
      "cell_type": "code",
      "source": [
        ""
      ],
      "metadata": {
        "id": "vXTJrvfJEzd1"
      },
      "execution_count": null,
      "outputs": []
    },
    {
      "cell_type": "markdown",
      "source": [
        "## 2.1 Explore word frequency"
      ],
      "metadata": {
        "id": "NkMeBy_FmvCJ"
      }
    },
    {
      "cell_type": "markdown",
      "source": [
        "In this section, we extract the word frequency from the webpages cleaned and we illustrate them through the wordcloud\n",
        "\n"
      ],
      "metadata": {
        "id": "f-cbYZiO477h"
      }
    },
    {
      "cell_type": "markdown",
      "source": [
        "---\n",
        "In the next chunck of code we need to excete some intermediate operations to prepare data"
      ],
      "metadata": {
        "id": "nci1xraEa9U-"
      }
    },
    {
      "cell_type": "code",
      "source": [
        " vocab = vectorized.vocabulary_\n",
        " data_WC = prepare_data_for_WC(freq_term_DTM, vocab)\n",
        " "
      ],
      "metadata": {
        "id": "FMmI4sX_711B"
      },
      "execution_count": null,
      "outputs": []
    },
    {
      "cell_type": "markdown",
      "source": [
        "---\n",
        "Then, "
      ],
      "metadata": {
        "id": "6CSnV3ou6Xwz"
      }
    },
    {
      "cell_type": "code",
      "source": [
        "# Create and generate a word cloud image:\n",
        "#wordcloud = WordCloud().generate_from_frequencies(\" \".join(df_data[\"text_cleaned\"][0]))\n",
        "wordcloud = WordCloud().generate_from_frequencies(data_WC)\n",
        "\n",
        "# Display the generated image:\n",
        "plt.imshow(wordcloud, interpolation='bilinear')\n",
        "plt.axis(\"off\")\n",
        "plt.show()"
      ],
      "metadata": {
        "id": "HEJ_7ToIdYwo",
        "outputId": "0af22b6c-2357-4219-bf7e-60c71215ac3c",
        "colab": {
          "base_uri": "https://localhost:8080/",
          "height": 198
        }
      },
      "execution_count": null,
      "outputs": [
        {
          "output_type": "display_data",
          "data": {
            "text/plain": [
              "<Figure size 432x288 with 1 Axes>"
            ],
            "image/png": "[encoded data removed]"
          },
          "metadata": {
            "needs_background": "light"
          }
        }
      ]
    },
    {
      "cell_type": "code",
      "source": [
        "vocab = vectorized.vocabulary_\n",
        "# select some rows according to the index of the rows\n",
        "selected_index = df_data[df_data['sector'] == 'Wholesale/Retail'].index\n",
        "selected_DTM = freq_term_DTM[selected_index]\n",
        "####\n",
        "data_WC = prepare_data_for_WC(selected_DTM, vocab)\n",
        "wordcloud = WordCloud().generate_from_frequencies(data_WC)\n",
        "plt.imshow(wordcloud, interpolation='bilinear')\n",
        "plt.axis(\"off\")\n",
        "plt.show()"
      ],
      "metadata": {
        "id": "s_xIFZdv9bsS"
      },
      "execution_count": null,
      "outputs": []
    },
    {
      "cell_type": "markdown",
      "source": [
        "---\n",
        "Or by state"
      ],
      "metadata": {
        "id": "kIra6C3cALDi"
      }
    },
    {
      "cell_type": "code",
      "source": [
        "vocab = vectorized.vocabulary_\n",
        "# select some rows according to the index of the rows\n",
        "selected_index = df_data[df_data['state'] == 'Alberta'].index\n",
        "selected_DTM = freq_term_DTM[selected_index]\n",
        "####\n",
        "data_WC = prepare_data_for_WC(selected_DTM, vocab)\n",
        "wordcloud = WordCloud().generate_from_frequencies(data_WC)\n",
        "plt.imshow(wordcloud, interpolation='bilinear')\n",
        "plt.axis(\"off\")\n",
        "plt.show()"
      ],
      "metadata": {
        "colab": {
          "base_uri": "https://localhost:8080/",
          "height": 198
        },
        "outputId": "9f59ee92-b04a-48f1-8c74-92ae83890222",
        "id": "uXRH6dacAJTL"
      },
      "execution_count": null,
      "outputs": [
        {
          "output_type": "display_data",
          "data": {
            "text/plain": [
              "<Figure size 432x288 with 1 Axes>"
            ],
            "image/png": "[encoded data removed]"
          },
          "metadata": {
            "needs_background": "light"
          }
        }
      ]
    },
    {
      "cell_type": "code",
      "source": [
        "df_data['number_words_webpages']=df_data[\"text_cleaned\"].apply(len)"
      ],
      "metadata": {
        "id": "0GSa0JoIYgH6"
      },
      "execution_count": null,
      "outputs": []
    },
    {
      "cell_type": "code",
      "source": [
        "for sector in df_data.sector.unique():\n",
        "  # Subset to the authors\n",
        "  subset = df_data[df_data.sector == sector]\n",
        "  sns.distplot(subset['number_words_webpages'], hist=False, kde=True, kde_kws={'linewidth': 3}, label=sector)\n",
        "  # sns.set(xlim=(-10, 1500))\n",
        "plt.legend(prop={'size': 9}, title='Sector')\n",
        "# plt.title('Density Plot for Each Author')\n",
        "plt.xlabel('Number of words per webpage', size=12)\n",
        "plt.ylabel('Density', size=12)\n",
        "plt.xlim(0, 1500)\n",
        "plt.show()"
      ],
      "metadata": {
        "id": "nJ0UUOFfYuN1",
        "outputId": "0708360f-0a6a-4128-a6c1-222b4100a409",
        "colab": {
          "base_uri": "https://localhost:8080/",
          "height": 521
        }
      },
      "execution_count": null,
      "outputs": [
        {
          "output_type": "stream",
          "name": "stderr",
          "text": [
            "/usr/local/lib/python3.7/dist-packages/seaborn/distributions.py:2619: FutureWarning: `distplot` is a deprecated function and will be removed in a future version. Please adapt your code to use either `displot` (a figure-level function with similar flexibility) or `kdeplot` (an axes-level function for kernel density plots).\n",
            "  warnings.warn(msg, FutureWarning)\n",
            "/usr/local/lib/python3.7/dist-packages/seaborn/distributions.py:2619: FutureWarning: `distplot` is a deprecated function and will be removed in a future version. Please adapt your code to use either `displot` (a figure-level function with similar flexibility) or `kdeplot` (an axes-level function for kernel density plots).\n",
            "  warnings.warn(msg, FutureWarning)\n",
            "/usr/local/lib/python3.7/dist-packages/seaborn/distributions.py:2619: FutureWarning: `distplot` is a deprecated function and will be removed in a future version. Please adapt your code to use either `displot` (a figure-level function with similar flexibility) or `kdeplot` (an axes-level function for kernel density plots).\n",
            "  warnings.warn(msg, FutureWarning)\n",
            "/usr/local/lib/python3.7/dist-packages/seaborn/distributions.py:2619: FutureWarning: `distplot` is a deprecated function and will be removed in a future version. Please adapt your code to use either `displot` (a figure-level function with similar flexibility) or `kdeplot` (an axes-level function for kernel density plots).\n",
            "  warnings.warn(msg, FutureWarning)\n",
            "/usr/local/lib/python3.7/dist-packages/seaborn/distributions.py:2619: FutureWarning: `distplot` is a deprecated function and will be removed in a future version. Please adapt your code to use either `displot` (a figure-level function with similar flexibility) or `kdeplot` (an axes-level function for kernel density plots).\n",
            "  warnings.warn(msg, FutureWarning)\n",
            "/usr/local/lib/python3.7/dist-packages/seaborn/distributions.py:2619: FutureWarning: `distplot` is a deprecated function and will be removed in a future version. Please adapt your code to use either `displot` (a figure-level function with similar flexibility) or `kdeplot` (an axes-level function for kernel density plots).\n",
            "  warnings.warn(msg, FutureWarning)\n"
          ]
        },
        {
          "output_type": "display_data",
          "data": {
            "text/plain": [
              "<Figure size 432x288 with 1 Axes>"
            ],
            "image/png": "[encoded data removed]"
          },
          "metadata": {
            "needs_background": "light"
          }
        }
      ]
    },
    {
      "cell_type": "code",
      "source": [
        "lst_env_sector=[\"Service with Minor Environmental Footprint\", \"Service with Significant Environmental Footprint\"]"
      ],
      "metadata": {
        "id": "GeJqh7QxZ9w9"
      },
      "execution_count": null,
      "outputs": []
    },
    {
      "cell_type": "code",
      "source": [
        "for sector in lst_env_sector:\n",
        "  # Subset to the authors\n",
        "  subset = df_data[df_data.sector == sector]\n",
        "  sns.distplot(subset['number_words_webpages'], hist=False, kde=True, kde_kws={'linewidth': 3}, label=sector)\n",
        "  # sns.set(xlim=(-10, 1500))\n",
        "plt.legend(prop={'size': 9}, title='Sector')\n",
        "# plt.title('Density Plot for Each Author')\n",
        "plt.xlabel('Number of words per webpage', size=12)\n",
        "plt.ylabel('Density', size=12)\n",
        "plt.xlim(0, 1500)\n",
        "plt.show()"
      ],
      "metadata": {
        "id": "AyVKD1s5aJEM",
        "outputId": "bde048a5-8419-4390-b8eb-a432409071d0",
        "colab": {
          "base_uri": "https://localhost:8080/",
          "height": 375
        }
      },
      "execution_count": null,
      "outputs": [
        {
          "output_type": "stream",
          "name": "stderr",
          "text": [
            "/usr/local/lib/python3.7/dist-packages/seaborn/distributions.py:2619: FutureWarning: `distplot` is a deprecated function and will be removed in a future version. Please adapt your code to use either `displot` (a figure-level function with similar flexibility) or `kdeplot` (an axes-level function for kernel density plots).\n",
            "  warnings.warn(msg, FutureWarning)\n",
            "/usr/local/lib/python3.7/dist-packages/seaborn/distributions.py:2619: FutureWarning: `distplot` is a deprecated function and will be removed in a future version. Please adapt your code to use either `displot` (a figure-level function with similar flexibility) or `kdeplot` (an axes-level function for kernel density plots).\n",
            "  warnings.warn(msg, FutureWarning)\n"
          ]
        },
        {
          "output_type": "display_data",
          "data": {
            "text/plain": [
              "<Figure size 432x288 with 1 Axes>"
            ],
            "image/png": "[encoded data removed]"
          },
          "metadata": {
            "needs_background": "light"
          }
        }
      ]
    },
    {
      "cell_type": "code",
      "source": [
        "data_MEF=df_data[df_data['sector']==\"Service with Minor Environmental Footprint\"]"
      ],
      "metadata": {
        "id": "ng46j8Y2Pnqa"
      },
      "execution_count": null,
      "outputs": []
    },
    {
      "cell_type": "code",
      "source": [
        "data_MEF[\"number_words_cleaned\"]=data_MEF[\"text_cleaned\"].apply(len)"
      ],
      "metadata": {
        "id": "i4LRYYZJU-mF"
      },
      "execution_count": null,
      "outputs": []
    },
    {
      "cell_type": "code",
      "source": [
        "for country in data_MEF.country.unique():\n",
        "  # Subset to the authors\n",
        "  subset = data_MEF[data_MEF.country == country]\n",
        "  sns.distplot(subset[\"number_words_cleaned\"], hist=False, kde=True, kde_kws={'linewidth': 3}, label=country)\n",
        "  # sns.set(xlim=(-10, 1500))\n",
        "plt.legend(prop={'size': 14}, title='Country')\n",
        "# plt.title('Density Plot for Each Author')\n",
        "plt.xlabel('Number of words per webpage', size=12)\n",
        "plt.ylabel('Density', size=12)\n",
        "plt.xlim(0, 1500)\n",
        "plt.show()"
      ],
      "metadata": {
        "id": "8hadxGPGXu99",
        "outputId": "6051953b-4dc7-4bef-86e0-92a908c318d7",
        "colab": {
          "base_uri": "https://localhost:8080/",
          "height": 375
        }
      },
      "execution_count": null,
      "outputs": [
        {
          "output_type": "stream",
          "name": "stderr",
          "text": [
            "/usr/local/lib/python3.7/dist-packages/seaborn/distributions.py:2619: FutureWarning: `distplot` is a deprecated function and will be removed in a future version. Please adapt your code to use either `displot` (a figure-level function with similar flexibility) or `kdeplot` (an axes-level function for kernel density plots).\n",
            "  warnings.warn(msg, FutureWarning)\n",
            "/usr/local/lib/python3.7/dist-packages/seaborn/distributions.py:2619: FutureWarning: `distplot` is a deprecated function and will be removed in a future version. Please adapt your code to use either `displot` (a figure-level function with similar flexibility) or `kdeplot` (an axes-level function for kernel density plots).\n",
            "  warnings.warn(msg, FutureWarning)\n"
          ]
        },
        {
          "output_type": "display_data",
          "data": {
            "text/plain": [
              "<Figure size 432x288 with 1 Axes>"
            ],
            "image/png": "[encoded data removed]"
          },
          "metadata": {
            "needs_background": "light"
          }
        }
      ]
    },
    {
      "cell_type": "code",
      "source": [
        "\n",
        "lst_VERB=[]\n",
        "for i in df_data[\"text_token\"]:\n",
        "  cont=sum(1 for x in i if x.pos_==\"VERB\")\n",
        "  lst_VERB.append(cont)\n",
        "df_data[\"number_VERB\"]=lst_VERB"
      ],
      "metadata": {
        "id": "1A53IZ3LX-Th"
      },
      "execution_count": null,
      "outputs": []
    },
    {
      "cell_type": "code",
      "source": [
        "for sector in df_data.sector.unique():\n",
        "  # Subset to the authors\n",
        "  subset = df_data[df_data.sector == sector]\n",
        "  sns.distplot(subset[\"number_VERB\"], hist=False, kde=True, kde_kws={'linewidth': 3}, label=sector)\n",
        "  # sns.set(xlim=(-10, 1500))\n",
        "plt.legend(prop={'size': 10}, title='Country')\n",
        "# plt.title('Density Plot for Each Author')\n",
        "plt.xlabel('Number of VERB per webpage', size=12)\n",
        "plt.ylabel('Density', size=12)\n",
        "plt.xlim(0, 1500)\n",
        "plt.show()"
      ],
      "metadata": {
        "id": "Tw13Ri9OhipT",
        "outputId": "d69f74d0-272f-4c3a-a18c-f9ecfbd0216a",
        "colab": {
          "base_uri": "https://localhost:8080/",
          "height": 521
        }
      },
      "execution_count": null,
      "outputs": [
        {
          "output_type": "stream",
          "name": "stderr",
          "text": [
            "/usr/local/lib/python3.7/dist-packages/seaborn/distributions.py:2619: FutureWarning: `distplot` is a deprecated function and will be removed in a future version. Please adapt your code to use either `displot` (a figure-level function with similar flexibility) or `kdeplot` (an axes-level function for kernel density plots).\n",
            "  warnings.warn(msg, FutureWarning)\n",
            "/usr/local/lib/python3.7/dist-packages/seaborn/distributions.py:2619: FutureWarning: `distplot` is a deprecated function and will be removed in a future version. Please adapt your code to use either `displot` (a figure-level function with similar flexibility) or `kdeplot` (an axes-level function for kernel density plots).\n",
            "  warnings.warn(msg, FutureWarning)\n",
            "/usr/local/lib/python3.7/dist-packages/seaborn/distributions.py:2619: FutureWarning: `distplot` is a deprecated function and will be removed in a future version. Please adapt your code to use either `displot` (a figure-level function with similar flexibility) or `kdeplot` (an axes-level function for kernel density plots).\n",
            "  warnings.warn(msg, FutureWarning)\n",
            "/usr/local/lib/python3.7/dist-packages/seaborn/distributions.py:2619: FutureWarning: `distplot` is a deprecated function and will be removed in a future version. Please adapt your code to use either `displot` (a figure-level function with similar flexibility) or `kdeplot` (an axes-level function for kernel density plots).\n",
            "  warnings.warn(msg, FutureWarning)\n",
            "/usr/local/lib/python3.7/dist-packages/seaborn/distributions.py:2619: FutureWarning: `distplot` is a deprecated function and will be removed in a future version. Please adapt your code to use either `displot` (a figure-level function with similar flexibility) or `kdeplot` (an axes-level function for kernel density plots).\n",
            "  warnings.warn(msg, FutureWarning)\n",
            "/usr/local/lib/python3.7/dist-packages/seaborn/distributions.py:2619: FutureWarning: `distplot` is a deprecated function and will be removed in a future version. Please adapt your code to use either `displot` (a figure-level function with similar flexibility) or `kdeplot` (an axes-level function for kernel density plots).\n",
            "  warnings.warn(msg, FutureWarning)\n"
          ]
        },
        {
          "output_type": "display_data",
          "data": {
            "text/plain": [
              "<Figure size 432x288 with 1 Axes>"
            ],
            "image/png": "[encoded data removed]"
          },
          "metadata": {
            "needs_background": "light"
          }
        }
      ]
    },
    {
      "cell_type": "code",
      "source": [
        "vocab = vectorized.vocabulary_\n",
        "# select some rows according to the index of the rows\n",
        "selected_index = df_data[df_data['state'] == 'Alberta'].index\n",
        "selected_DTM = freq_term_DTM[selected_index]\n",
        "####\n",
        "data_WC = prepare_data_for_WC(selected_DTM, vocab)\n",
        "wordcloud = WordCloud().generate_from_frequencies(data_WC)\n",
        "plt.imshow(wordcloud, interpolation='bilinear')\n",
        "plt.axis(\"off\")\n",
        "plt.show()"
      ],
      "metadata": {
        "id": "HqDIABtuiypL"
      },
      "execution_count": null,
      "outputs": []
    },
    {
      "cell_type": "markdown",
      "metadata": {
        "id": "coHj_8ZazkCY"
      },
      "source": [
        "<a id=\"analysis\"></a>\n",
        "# Section 3: Analysis \n",
        "\n",
        "In this section, you will analyze "
      ]
    },
    {
      "cell_type": "code",
      "source": [
        "df_data['sector'].value_counts()"
      ],
      "metadata": {
        "id": "xCP_VH9sPa5T",
        "outputId": "05c32d7f-7dfd-4af2-828f-955609003831",
        "colab": {
          "base_uri": "https://localhost:8080/"
        }
      },
      "execution_count": null,
      "outputs": [
        {
          "output_type": "execute_result",
          "data": {
            "text/plain": [
              "Service with Minor Environmental Footprint          635\n",
              "Wholesale/Retail                                    243\n",
              "Manufacturing                                       167\n",
              "Service with Significant Environmental Footprint    102\n",
              "Agriculture/Growers                                  32\n",
              "Service                                               5\n",
              "Name: sector, dtype: int64"
            ]
          },
          "metadata": {},
          "execution_count": 18
        }
      ]
    },
    {
      "cell_type": "markdown",
      "source": [
        ""
      ],
      "metadata": {
        "id": "6Thb9kfIO6mH"
      }
    },
    {
      "cell_type": "markdown",
      "metadata": {
        "id": "gfd9hJIuQpaM"
      },
      "source": [
        "<a id=\"modelling\"></a>\n",
        "# Section 2: Modélisation \n",
        "\n",
        "Les notes ou *ratings* ([échelle de Likert](https://fr.wikipedia.org/wiki/%C3%89chelle_de_Likert)) sont des quantités ordinales. Par contre, pour faciliter la modélisation, nous les traiterons comme des valeurs réelles (nous discuterons de ces questions à la semaine 11). Nous mesurerons donc l'erreur (la fonction de perte) carrée moyenne:\n",
        "\n",
        "$$ \\text{MSE}(f(x),y) := \\frac{1}{n} \\sum_{i=0}^n (f(x_i) - y_i)^2$$ \n",
        "\n",
        "La MSE est la distance moyenne entre la prédiction ($f(x_i)$) et l'étiquette ($y_i$). La fonction MSE retourne une quantité non négative et le modèle parfait a une MSE de $0$. Si le Modèle #1 a une plus petite MSE que le Modèle #2, alors le Modèle 1 est meilleur selon cette mesure.\n",
        "\n",
        "*Entraînement/Test:* rappelez vous que bien que nous estimions les paramètres du modèle à partir de l'ensemble **d'entraînement**, nous évaluons la qualité du modèle à partir des données de **test**."
      ]
    },
    {
      "cell_type": "markdown",
      "metadata": {
        "id": "B1bU2my_zkCZ"
      },
      "source": [
        "### 2.1 Un premier modèle: prédire la moyenne"
      ]
    },
    {
      "cell_type": "markdown",
      "metadata": {
        "id": "lJT0JoJAzkCZ"
      },
      "source": [
        "Il est souvent pratique d'obtenir un point de comparaison en utilisant une méthode très simple. \n",
        "\n",
        "Notre méthode étalon sera un modèle qui prédit la moyenne des notes d'entraînements. C'est donc un modèle constant qui ne prend pas en compte les attributs (des utilisateurs ou des films): \n",
        "\n",
        "$$ \n",
        "y_{ui} = \\text{moyenne globale}\n",
        "$$\n",
        "\n",
        "*Particularité des systèmes de recommandations:* nous pourrions sand doute obtenir un modèle un peu plus performant en prédisant, pour chaque utilisateur la moyenne de ses notes (ou de manière équivalente pour les items) plutôt que la moyenne globale des notes."
      ]
    },
    {
      "cell_type": "code",
      "execution_count": null,
      "metadata": {
        "id": "HE9ItswqzkCZ",
        "outputId": "99d9d486-442a-4fb8-a0eb-264ea28dc17f"
      },
      "outputs": [
        {
          "name": "stdout",
          "output_type": "stream",
          "text": [
            "Modèle constant\n",
            "\tErreur carrée moyenne d'entraînement: 1.577\n",
            "\tErreur carrée moyenne de test: 1.572\n"
          ]
        }
      ],
      "source": [
        "# Quantifier l'erreur de prédiction du modèle étalon\n",
        "\n",
        "print(\"Modèle constant\")\n",
        "\n",
        "print(\"\\tErreur carrée moyenne d'entraînement: %.3f\"\n",
        "      % mean_squared_error(y_train, \n",
        "                           np.full_like(y_train, y_train.mean())))\n",
        "print(\"\\tErreur carrée moyenne de test: %.3f\"\n",
        "      % mean_squared_error(y_test, \n",
        "                           np.full_like(y_test, y_train.mean())))"
      ]
    },
    {
      "cell_type": "markdown",
      "metadata": {
        "id": "3wX1drdgzkCa"
      },
      "source": [
        "Les erreurs d'entraînement et de test sont, dans ce cas, très proches (la différence n'est peut-être pas significative statistiquement). Notre modèle est très simple (en apprentissage automatique on dirait qu'il a sans doute un biais élevé) et on n'imaginerait donc pas que sa performance fluctue énormément d'un ensemble de test à un autre (petite variance).\n",
        "\n",
        "Cette erreur de test indique qu'en moyenne nos prédictions sont à 1.3 unité ($sqrt{1.6}$) de la véritable note. Ça indique donc que nous ne devrions pas être trop surpris que le modèle prédise une note sous 4 pour un film que nous aurions noté comme un 5. Cela dit, cette valeur reste quelque peu abstraite (est-ce un bon modèle ou non?) au moins jusqu'à ce qu'on la compare à la performance d'autres modèles."
      ]
    },
    {
      "cell_type": "markdown",
      "metadata": {
        "id": "kl36A6rJzkCa"
      },
      "source": [
        "### 2.2 Régression Linéaire\n",
        "\n",
        "Pour ce second modèle, nous utiliserons un modèle de régression linéaire des notes à partir des attributs des utilisateurs. Nous utiliserons le sexe des utilisateurs, leur âge, leur code postal et leur emploi. Nous estimons ce modèle\n",
        "$$\n",
        "f(x_{ui}) = \\theta_\\text{gender} x_{\\text{gender}_u} + \\theta_{\\text{age}} x_{\\text{age}_u} + \\theta_\\text{zip} x_{\\text{zip}_u} + \\theta_\\text{occupation} x_{\\text{occupation}_u} + \\theta_\\text{uid} x_{\\text{uid}_u} + \\theta_{\\text{mid}} x_{\\text{mid}_i}\n",
        "$$ \n",
        "\n",
        "$\\theta_{1:6}$ sont les paramètres, $\\text{gender}_u$ est le sexe de l'utilisateur $u$, nous utilisons une notation similaire pour les autres attributs. Aussi, $x_{\\text{uid}_u}$ est l'identité de l'utilisateur, c'est similaire pour $x_{\\text{mid}_i}$ et les films.\n",
        "\n",
        "Veuillez noter que quelques-unes de ces variables sont catégorielles alors elles sont en fait encodées par un vecteur de paramètres. Par exemple, zip est une variable catégorielle avec 100 valeurs possibles, donc $\\theta_{\\text{zip}}$ a 100 dimensions. \n",
        "\n",
        "Pour entrainer le modèle, il faut minimiser l'erreur d'entrainement (train MSE), c'est exactement ce que propose la classe `LinearRegression`. (C'est un problème de [moindre carrés](https://docs.scipy.org/doc/scipy/reference/generated/scipy.linalg.lstsq.html) et il existe donc une solution en forme fermée.)"
      ]
    },
    {
      "cell_type": "code",
      "execution_count": null,
      "metadata": {
        "id": "VGph2WiIzkCb",
        "outputId": "da8b0c97-7ca5-4ad8-b1f2-1ddb08b1fa14"
      },
      "outputs": [
        {
          "name": "stdout",
          "output_type": "stream",
          "text": [
            "Number of parameters:  7184\n"
          ]
        }
      ],
      "source": [
        "# Créer l'objet de régression linéaire\n",
        "reg = linear_model.LinearRegression()\n",
        "\n",
        "# Entraîner le modèle à partir des données d'entraiînement\n",
        "reg.fit(X_train, y_train)\n",
        "\n",
        "print(\"Number of parameters: \", reg.coef_.shape[0]+1)"
      ]
    },
    {
      "cell_type": "markdown",
      "metadata": {
        "id": "YVcueyexzkCb"
      },
      "source": [
        "Avant de regarder les résultats. Pensez-vous que le modèle que nous venons d'entraîner généralisera bien ou non? "
      ]
    },
    {
      "cell_type": "code",
      "execution_count": null,
      "metadata": {
        "id": "Le_SNxaXzkCc",
        "outputId": "40f25796-c83b-4d56-b460-84e8bf6f16c5"
      },
      "outputs": [
        {
          "name": "stdout",
          "output_type": "stream",
          "text": [
            "Erreur carrée moyenne d'entraînement: 0.450\n",
            "Erreur carrée moyenne de test: 897845119385028736.000\n"
          ]
        }
      ],
      "source": [
        "# Obtenir les prédictions d'entraînement\n",
        "y_train_pred = reg.predict(X_train)\n",
        "\n",
        "print(\"Erreur carrée moyenne d'entraînement: %.3f\"\n",
        "      % mean_squared_error(y_train, y_train_pred))\n",
        "\n",
        "# Obtenir les prédictions de test\n",
        "y_test_pred = reg.predict(X_test)\n",
        "\n",
        "print(\"Erreur carrée moyenne de test: %.3f\"\n",
        "      % mean_squared_error(y_test, y_test_pred))"
      ]
    },
    {
      "cell_type": "markdown",
      "metadata": {
        "id": "YFAIBlt6zkCc"
      },
      "source": [
        "Notez que l'erreur d'entraînement est $<<$ que l'erreur de test ($<<$ veut dire « bien plus petit »). C'est évidemment un problème de surentraînement (*overfitting*). C'est-à-dire que le modèle a appris l'ensemble d'entraînement et ne peut donc pas généraliser à de nouvelles données (c'est un modèle à faible biais et variance élevée). \n",
        "\n",
        "Comme nous en avons discuté en classe, il existe plusieurs méthodes pour limiter voir empêcher le surentraînement. Pour l'instant, nous régulariserons le modèle pour limiter le surentraînement. L'idée est que nous ajouterons à la fonction de perte un terme pour empêcher les paramètres de prendre des valeurs trop élevées, ce qui à priori, devrait aider le modèle à mieux généraliser (notamment parce que la fonction sera plus lisse). Cette pénalité ou régularisateur est ajouter à la fonction de perte qui devient:s\n",
        "$$  \\text{loss} := \\text{MSE} + \\alpha \\sum_i ||\\theta_i||_2^2 $$\n",
        "\n",
        "Au lieu de $ \\text{loss} := \\text{MSE} $. Notez: \n",
        "- $||\\cdot||_2$ est la norme 2. C'est-à-dire la racine carrée de la somme des éléments au carré.\n",
        "- $\\alpha$ est un hyperparamètre qui fixe l'importance du régularisateur (si $\\alpha=0$ la régularisateur est nul et si $\\alpha=\\infty$ tous les paramètres régularisés doivent être exactement égales à 0). Un hyperparamètre n'est pas appris pendant l'entraînement, mais fixé à priori (ici, apprendre $\\alpha$ en même temps que $\\theta$ mènerait à estimer $\\alpha=0$). \\[Dans les notes de cours, j'ai utilisé le symbole $\\lambda$ pour cet hyperparamètre.\\]\n",
        "\n",
        "Pendant l'entraînement, le modèle doit trouver un compromis entre la performance (MSE) et la complexité du modèle ($\\theta$ élevés). \n",
        "\n",
        "Notez, qu'il y a différents noms pour ce régularisateur par exemple *weight decay*, *L2-regularization* et régression *ridge*. Scikit-learn utilise la classe `Ridge` dans la libraire `linear_model` pour estimer un modèle de régression linéaire régularisé."
      ]
    },
    {
      "cell_type": "code",
      "execution_count": null,
      "metadata": {
        "id": "Er6MBpJIzkCd",
        "outputId": "80224c05-7b35-43c4-e25e-d6ad3b666078"
      },
      "outputs": [
        {
          "name": "stdout",
          "output_type": "stream",
          "text": [
            "Temps d'apprentissage: 9.96 seconds\n",
            "Nombre de paramètres: 7184\n"
          ]
        }
      ],
      "source": [
        "# Créer le modèle de régression linéaire régularisé\n",
        "regr = linear_model.Ridge(alpha=10)\n",
        "\n",
        "# Entraîner le modèle avec l'ensemble d'entraînement\n",
        "start = time.time()\n",
        "regr.fit(X_train, y_train)\n",
        "fit_time = time.time() - start\n",
        "\n",
        "print(\"Temps d'apprentissage: %.2f seconds\" % fit_time)\n",
        "\n",
        "print(\"Nombre de paramètres:\", regr.coef_.shape[0]+1)"
      ]
    },
    {
      "cell_type": "markdown",
      "metadata": {
        "id": "tgCqN42MzkCd"
      },
      "source": [
        "**Question 3:** Pourquoi le modèle a 7,184 paramètres? En d'autres mots, à quoi correspondent ces paramètres?\n",
        "\n",
        "**Indice:** N'oubliez pas le terme de biais (intercepte)"
      ]
    },
    {
      "cell_type": "code",
      "execution_count": null,
      "metadata": {
        "id": "e_nZnPJdzkCd",
        "outputId": "420b32af-6b90-437f-e4cd-0db5566ff480"
      },
      "outputs": [
        {
          "name": "stdout",
          "output_type": "stream",
          "text": [
            "Erreur au carré moyenne d'entraînement: 0.795\n",
            "Erreur au carré moyenne de test: 1.031\n"
          ]
        }
      ],
      "source": [
        "# Obtenir les prédictions sur l'ensemble d'entraînement\n",
        "y_train_pred = regr.predict(X_train)\n",
        "\n",
        "print(\"Erreur au carré moyenne d'entraînement: %.3f\"\n",
        "      % mean_squared_error(y_train, y_train_pred))\n",
        "\n",
        "# Obtenir les prédictions sur l'ensemble de test\n",
        "y_test_pred = regr.predict(X_test)\n",
        "\n",
        "print(\"Erreur au carré moyenne de test: %.3f\"\n",
        "      % mean_squared_error(y_test, y_test_pred))"
      ]
    },
    {
      "cell_type": "markdown",
      "metadata": {
        "id": "huSoZWHxzkCe"
      },
      "source": [
        "Par rapport au modèle sans régularisation, nous observons que le modèle avec $\\alpha=10$ obtient des erreurs  beaucoup plus proches l'une de l'autre (il y a donc moins de surentraînement). D'autres valeurs de $\\alpha$ devrait aussi affecter la capacité à généraliser du modèle.\n",
        "\n",
        "\n",
        "**Question 4:** Comment trouver la meilleure valeur pour $\\alpha$ étant donné un modèle et un jeu de données?\n",
        "\n",
        "**Indice:** Regardez [RidgeCV](https://scikit-learn.org/stable/modules/generated/sklearn.linear_model.RidgeCV.html#sklearn.linear_model.RidgeCV), une version du modèle ridge avec de la validation croisée."
      ]
    },
    {
      "cell_type": "code",
      "execution_count": null,
      "metadata": {
        "id": "UhoZEnBazkCe",
        "outputId": "5eca8abe-68b2-497e-a8cb-34ea6d0ce761"
      },
      "outputs": [
        {
          "name": "stdout",
          "output_type": "stream",
          "text": [
            "Nombre de paramètres: 7183, estimated alpha: 10\n"
          ]
        }
      ],
      "source": [
        "# Créer l'objet de régression linéaire\n",
        "regRCV = ...\n",
        "\n",
        "# Entraîner le modèle à partir de l'ensemble d'entraînement\n",
        "\n",
        "\n",
        "print(\"Nombre de paramètres: %d, estimated alpha: %d\" % (regRCV.coef_.shape[0], regRCV.alpha_))"
      ]
    },
    {
      "cell_type": "markdown",
      "metadata": {
        "id": "z86XC2erzkCf"
      },
      "source": [
        "Dans ce cas $\\alpha=10$ offre la meilleure performance sur un ensemble (interne) de validation comparativement aux autres valeurs de $\\alpha$ proposées.\n",
        "\n",
        "Remarque technique: puisque l'estimation des paramètres est souvent effectuée en prenant une transformation logarithmique de l'objectif, il est normal d'essayer des valeurs de $\\alpha$ qui correspondent à des puissances de 10."
      ]
    },
    {
      "cell_type": "code",
      "execution_count": null,
      "metadata": {
        "id": "we-DpPfnzkCf",
        "outputId": "0ce9dc91-5b2d-43bf-9b73-9aff5b3ee927"
      },
      "outputs": [
        {
          "name": "stdout",
          "output_type": "stream",
          "text": [
            "Erreur carrée moyenne d'entraînement: 0.795\n",
            "Erreur carrée moyenne de test: 1.031\n"
          ]
        }
      ],
      "source": [
        "# Obtenir les prédictions d'entraînement\n",
        "y_train_pred = regRCV.predict(X_train)\n",
        "\n",
        "print(\"Erreur carrée moyenne d'entraînement: %.3f\"\n",
        "      % mean_squared_error(y_train, y_train_pred))\n",
        "\n",
        "# Obtenir les prédictions de test\n",
        "y_test_pred = regRCV.predict(X_test)\n",
        "\n",
        "print(\"Erreur carrée moyenne de test: %.3f\"\n",
        "      % mean_squared_error(y_test, y_test_pred))"
      ]
    },
    {
      "cell_type": "markdown",
      "metadata": {
        "id": "Ra-BdOiYzkCf"
      },
      "source": [
        "L'avantage de la validation croisée (par exemple `RidgeCV`) est clair. Cette méthode cherche automatiquement la meilleure valeur d'un hyper paramètre (ici $\\alpha$) à partir d'un ensemble possible (ici:  $\\{ 1, 10, 100 \\}$). \n",
        "\n",
        "La validation croisée devrait toujours être utilisée pour trouver de bons hyper paramètres (surtout pour les modèles non linéaires, différents hyper paramètres peuvent donner des résultats bien différents). Il est aussi possible que vous deviez implémenter cette procédure vous-même. Dans ce cas, il est alors nécessaire d'utiliser (explicitement) un ensemble de validation (que vous diviser à partir de votre ensemble d'entraînement). Dans `sklearn` vous pouvez utiliser la fonction `train_test_split`. La taille de l'ensemble de validation est souvent la même que la taille de l'ensemble de test.\n",
        "\n",
        "Très important, **ne sélectionnez jamais vos hyperparamèetres en fonction de votre performance sur l'ensemble de test**, ceci vous donnera des résultats trop optimistes (donc une erreur plus basse) puisque vous utilisez en fait votre ensemble de test pour entraîner votre modèle. L'ensemble de test sert à obtenir une estimation non biaisée de l'erreur qui peut donc être utilisée pour comparer différents modèles. \n",
        "\n",
        "***\n",
        "\n",
        "Maintenant que nous avons un modèle entraîné, nous pouvons explorer ses prédictions"
      ]
    },
    {
      "cell_type": "code",
      "execution_count": null,
      "metadata": {
        "id": "RjsUth3nzkCg"
      },
      "outputs": [],
      "source": [
        "# helpfer function to return non-zero columns\n",
        "def non_zero(row, columns):\n",
        "    col_name = list(columns[~(row == 0)])[0]\n",
        "    #r = re.sub('mid_','',l)\n",
        "    return col_name"
      ]
    },
    {
      "cell_type": "code",
      "execution_count": null,
      "metadata": {
        "id": "5-R-DYt1zkCg"
      },
      "outputs": [],
      "source": [
        "# obtenir le nombre de notes par film (popularité)\n",
        "mids = X_test.filter(regex=('mid_*'))\n",
        "y_mid_cols = mids.apply(lambda x: non_zero(x, mids.columns), axis=1)\n",
        "movie_popularity = X_train.filter(regex=('mid_*')).sum(axis=0)[ y_mid_cols ]\n",
        "\n",
        "# obtenir le nombre de notes par utilisateur (niveau d'activité d'un utilisateur)\n",
        "uids = X_test.filter(regex=('uid_*'))\n",
        "y_uid_cols = uids.apply(lambda x: non_zero(x, uids.columns), axis=1)\n",
        "user_activity = X_train.filter(regex=('uid_*')).sum(axis=0)[ y_uid_cols ]\n",
        "\n",
        "err = (y_test_pred-y_test)"
      ]
    },
    {
      "cell_type": "code",
      "execution_count": null,
      "metadata": {
        "id": "YEyQcIzMzkCg",
        "outputId": "1cc6112c-a52e-4663-82b0-4185ae30cffb"
      },
      "outputs": [
        {
          "data": {
            "image/png": "[encoded data removed]",
            "text/plain": [
              "<Figure size 1080x288 with 2 Axes>"
            ]
          },
          "metadata": {
            "needs_background": "light"
          },
          "output_type": "display_data"
        }
      ],
      "source": [
        "# simplement tracer un sous-ensemble pour l'interprétabilité\n",
        "subn = 500 \n",
        "fig, (ax0, ax1) = plt.subplots(ncols=2)\n",
        "fig.set_figwidth(15)\n",
        "ax0.scatter(movie_popularity[:subn], err[:subn])\n",
        "ax0.set_ylabel('Prediction error')\n",
        "ax0.set_xlabel('Movie Popularity')\n",
        "\n",
        "ax1.scatter(user_activity[:subn], err[:subn])\n",
        "ax1.set_ylabel('Prediction error')\n",
        "ax1.set_xlabel('User Activity');"
      ]
    },
    {
      "cell_type": "markdown",
      "metadata": {
        "id": "BYOVgUbpzkCh"
      },
      "source": [
        "Ces deux figures montrent l'erreur des prédictions (sur un sous-ensemble) de test versus la popularité des films (axe des x à gauche) et le niveau d'activité d'un utilisateur (axe des x à droite). Notez que:\n",
        "\n",
        "- Cette distribution empirique semble symétrique, donc il y n'y a pas de biais particulier à des prédictions plus élevées ou plus basses.\n",
        "- L'erreur de prédiction semble montrer que les films et les utilisateurs ayant plus de données ont aussi une plus petite erreur de prédiction (c.-à-d., les données forment un \"triangle\" pointant vers la droite, ceci devient beaucoup plus évident quand nous entraînons le modèle avec plus de données). Ce résultat tombe sous le sens, le plus de données le modèle observe sur un film, le plus précis le modèle devrait être pour ce film (son estimation de $\\theta_{\\text{mid}}$ sera plus précise). Cet effet est peut-être aussi renforcé par le fait que nous ayons divisé les données aléatoirement en entraînement et test. Il devient plus avantageux pour le modèle de correctement modéliser les films et les utilisateurs ayant le plus de données."
      ]
    },
    {
      "cell_type": "markdown",
      "metadata": {
        "id": "r1X1BJ1szkCh"
      },
      "source": [
        "### 2.3 Régression linéaire avec les tags comme attribut.\n",
        "\n",
        "Nous utilisons encore une fois un modèle de régression linéaire, mais nous y ajoutons les tags des films:\n",
        "\n",
        "$$\n",
        "f(x_{ui}) = \\theta_\\text{gender} x_{\\text{gender}_u} + \\theta_{\\text{age}} x_{\\text{age}_u} + \\theta_\\text{zip} x_{\\text{zip}_u} + \\theta_\\text{occupation} x_{\\text{occupation}_u} + \\theta_\\text{uid} x_{\\text{uid}_u} + \\theta_{\\text{mid}} x_{\\text{mid}_i} \\mathbf{+ x_{\\text{tags}_i}\\boldsymbol\\theta_\\text{tags}}\n",
        "$$ \n",
        "\n",
        "Le dernier terme à droite (en gras) est ajouté par rapport au modèle précédent."
      ]
    },
    {
      "cell_type": "markdown",
      "metadata": {
        "id": "HKRgjOaMzkCh"
      },
      "source": [
        "**Question 5:** Comment pensez-vous que ce modèle performera par rapport au modèle précédent (Section 2.2.)? Pouvez-vous dire quelque chose de formel par rapport à sa performance?\n",
        "\n",
        "**Indice:** Un des modèles est une généralisation de l'autre. "
      ]
    },
    {
      "cell_type": "code",
      "execution_count": null,
      "metadata": {
        "id": "7zAYQw6SzkCh",
        "outputId": "1f38f3f3-2515-4823-88c1-233f8c7f3e62"
      },
      "outputs": [
        {
          "name": "stdout",
          "output_type": "stream",
          "text": [
            "(19255, 8151)\n",
            "(15404, 8151)\n"
          ]
        }
      ],
      "source": [
        "# Nous construisons maintenant un jeu de données en y ajoutant les tags (tid_*)\n",
        "X_tags = data_pd_dum.filter(regex=('('+attributes+\"|tid_*\"+')'))\n",
        "print(X_tags.shape)\n",
        "\n",
        "# Divisons l'échantillon en Entraînement/Test.\n",
        "# Nous utilisons la machine racine (seed) qu'avant pour s'assurer que la division sera la même\n",
        "X_train_tags, X_test_tags, y_train_tags, y_test_tags = train_test_split(\n",
        "    X_tags, rating, test_size=0.2, random_state=1234, shuffle=False)\n",
        "print(X_train_tags.shape)"
      ]
    },
    {
      "cell_type": "code",
      "execution_count": null,
      "metadata": {
        "id": "3jWDjoCTzkCj",
        "outputId": "22d8eaeb-47ea-4468-b7c5-a3f3b5a71b56"
      },
      "outputs": [
        {
          "name": "stdout",
          "output_type": "stream",
          "text": [
            "Temps de l'apprentissage du modèle: 12.92 seconds\n",
            "Nombre de paramètres: 8152\n"
          ]
        }
      ],
      "source": [
        "# Créer l'oject de régression linéaire\n",
        "regr_tags = linear_model.Ridge(alpha=10)\n",
        "\n",
        "# Entraîner le modèle sur l'ensemble d'entraînement\n",
        "start = time.time()\n",
        "regr_tags.fit(X_train_tags, y_train_tags)\n",
        "fit_time = time.time() - start\n",
        "\n",
        "print(\"Temps de l'apprentissage du modèle: %.2f seconds\" % fit_time)\n",
        "print(\"Nombre de paramètres:\", regr_tags.coef_.shape[0]+1)"
      ]
    },
    {
      "cell_type": "code",
      "execution_count": null,
      "metadata": {
        "id": "eLERWiI_zkCj",
        "outputId": "de19c46c-b675-45c8-e8a2-2e7cbf2a9e38"
      },
      "outputs": [
        {
          "name": "stdout",
          "output_type": "stream",
          "text": [
            "Erreur au carré moyenne d'entraînement: 0.7264\n",
            "Erreur au carré moyenne de test: 0.9914\n"
          ]
        }
      ],
      "source": [
        "# Obtenir les prédictions d'entraînement\n",
        "y_train_pred = regr_tags.predict(X_train_tags)\n",
        "\n",
        "print(\"Erreur au carré moyenne d'entraînement: %.4f\"\n",
        "      % mean_squared_error(y_train_tags, y_train_pred))\n",
        "\n",
        "# Obtenir les prédictions de test\n",
        "y_test_pred = regr_tags.predict(X_test_tags)\n",
        "\n",
        "print(\"Erreur au carré moyenne de test: %.4f\"\n",
        "      % mean_squared_error(y_test_tags, y_test_pred))"
      ]
    },
    {
      "cell_type": "markdown",
      "metadata": {
        "id": "N1z6xrDhzkCj"
      },
      "source": [
        "À noter: l'erreur de test est de 0.99 pour ce modèle (2.3) comparé à une erreur MSE de test de 1.03 pour le modèle 2.2. Les tags semblent offrir une performance légèrement supérieure, mais elles ont aussi besoin d'un modèle d'une plus grande taille (968 paramètres en plus à estimer) ce qui prend environ 30% en plus à optimiser. Évidemment, ce n'est pas une comparaison exacte et elle dépend de votre ordinateur. Ceci étant dit, il semble quand même que l'algorithme d'estimation n'est pas linéaire (c.-à-d., augmenter le nombre de paramètres par 10%, augmente la durée de l'estimation par 30%).\n",
        "\n",
        "***"
      ]
    },
    {
      "cell_type": "markdown",
      "metadata": {
        "id": "GFshRUwHzkCj"
      },
      "source": [
        "### 2.4 Apprendre un modèle non linéaire\n",
        "\n",
        "Pour l'instant nous avons étudié l'effet d'utiliser différents attributs sur un modèle linéaire. Il semble qu'ajouter des attributs aide à obtenir une meilleure performance de généralisation.\n",
        "\n",
        "Maintenant nous explorerons un modèle non linéaire, un réseau de neurones à une couche cachée (les réseaux de neurones seront le thème des deux prochaines semaines). La tâche est les données ne changent pas, seulement le modèle.\n",
        "\n",
        "**Le b.a.-ba des réseaux de neurones:** \n",
        "- Un réseau de neurones est constitué de neurones interconnectés. Chaque neurone n'effectue que quelques calculs simples. \n",
        "- Dans un réseau *feed-forward*, les neurones sont organisés dans des ensembles appelés couches (*layers*). \n",
        " - Les neurones de chaque couche obtiennent leurs entrées des neurones de la couche précédente. Les neurones d'une couche envoient donc le résultat de leur calcul à la couche d'après. \n",
        " - La première couche est appelée couche entrante (*input layer*) elle utilise directement les données et les passent à la seconde couche. La dernière couche est celle de sortie (*output layer*) elle calcule les prédictions finales $\\hat{y}$. \n",
        " - Les couches entre la couche d'entrée et de sortie sont appelées les couches cachées (*hidden layers*). Chaque neurone des couches cachées est un modèle linéaire suivit d'une fonction d'activation non linéaire (*activation function*): $f(x) = \\sum_i x_i \\theta_i$. \n",
        "  - Le nombre de neurones des couches d'entrée et de sortie est fixé par les données (le nombre des attributs et le nombre de prédictions par exemple). \n",
        "  - Le nombre de neurones de chaque couche cachée est un hyper paramètre. Un autre hyper paramètre est le nombre de couches cachées.\n",
        "\n",
        "Mathématiquement, pour une tâche de régression (avec une seule prédiction par exemple), un réseau de neurones à une couche cachée est: \n",
        "$$ \n",
        "f(x) = f_\\text{o} ( \\sum_{j=0}^{|\\text{hidden n.}|} \\theta'_{j} f_\\text{h}( \\sum_{i=0}^{|p|}\\theta_{ij} x_i ) ) \n",
        "$$ \n",
        "avec\n",
        "- $\\theta_{ij}$ les paramètres des entrées $i$ et neurone $j$ d'une couche cachée.\n",
        "- $f_h$ est la fonction d'activation d'une couche cachée\n",
        "- $\\theta'_{j}$ sont les paramètres qui connectent le neurone $j$ de la couche cachée à la couche de sortie.\n",
        "- $f_o$ est la fonction d'activation de la couche de sortie\n",
        "\n",
        "\n",
        "Il peut être plus intuitif de visualiser l'architecture d'une réseau de neurones en dessinant les neurones comme étant de noeuds et les connections comme des arrêtes dans un graphe:"
      ]
    },
    {
      "cell_type": "code",
      "execution_count": null,
      "metadata": {
        "id": "2lN9SOStzkCk",
        "outputId": "09eff7d3-d6c1-4166-da14-2b0c39900563"
      },
      "outputs": [
        {
          "data": {
            "image/png": "[encoded data removed]",
            "text/plain": [
              "<Figure size 432x288 with 1 Axes>"
            ]
          },
          "metadata": {
            "needs_background": "light"
          },
          "output_type": "display_data"
        }
      ],
      "source": [
        "# un réseau de neurones à une couche cachée où l'entrée à 10 dimensions (p=10) et la sortie une seule dimension\n",
        "input_dims = 10 # p \n",
        "# nombre de neurones cachées pour chaque couche cachée (pour ajouter une couche il faut ajouter une dimension)\n",
        "hidden_layers_size = [4] \n",
        "output_dims = 1 # nombre de sorties\n",
        "\n",
        "network = DrawNN( [input_dims] + hidden_layers_size + [output_dims] )\n",
        "network.draw()"
      ]
    },
    {
      "cell_type": "code",
      "execution_count": null,
      "metadata": {
        "scrolled": true,
        "id": "FuY7Q7RvzkCk",
        "outputId": "26909332-c041-4a5a-a163-1f4bc0a7cadd"
      },
      "outputs": [
        {
          "name": "stdout",
          "output_type": "stream",
          "text": [
            "Iteration 1, loss = 6.56955926\n",
            "Validation score: -4.536097\n",
            "Iteration 2, loss = 2.12167821\n",
            "Validation score: -1.250044\n",
            "Iteration 3, loss = 1.24974278\n",
            "Validation score: -0.973809\n",
            "Iteration 4, loss = 1.15528883\n",
            "Validation score: -0.885417\n",
            "Iteration 5, loss = 1.09444618\n",
            "Validation score: -0.797478\n",
            "Iteration 6, loss = 1.03693099\n",
            "Validation score: -0.715147\n",
            "Iteration 7, loss = 0.98282816\n",
            "Validation score: -0.634489\n",
            "Iteration 8, loss = 0.93160967\n",
            "Validation score: -0.558859\n",
            "Iteration 9, loss = 0.88383214\n",
            "Validation score: -0.488287\n",
            "Iteration 10, loss = 0.83924576\n",
            "Validation score: -0.420767\n",
            "Iteration 11, loss = 0.79792269\n",
            "Validation score: -0.357542\n",
            "Iteration 12, loss = 0.75975209\n",
            "Validation score: -0.302905\n",
            "Iteration 13, loss = 0.72452769\n",
            "Validation score: -0.248625\n",
            "Iteration 14, loss = 0.69238867\n",
            "Validation score: -0.198602\n",
            "Iteration 15, loss = 0.66326857\n",
            "Validation score: -0.155054\n",
            "Iteration 16, loss = 0.63671488\n",
            "Validation score: -0.119251\n",
            "Iteration 17, loss = 0.61312702\n",
            "Validation score: -0.080486\n",
            "Iteration 18, loss = 0.59194446\n",
            "Validation score: -0.049278\n",
            "Iteration 19, loss = 0.57274156\n",
            "Validation score: -0.022999\n",
            "Iteration 20, loss = 0.55532517\n",
            "Validation score: 0.002410\n",
            "Iteration 21, loss = 0.53999818\n",
            "Validation score: 0.025167\n",
            "Iteration 22, loss = 0.52639797\n",
            "Validation score: 0.043515\n",
            "Iteration 23, loss = 0.51423982\n",
            "Validation score: 0.059633\n",
            "Iteration 24, loss = 0.50286932\n",
            "Validation score: 0.072648\n",
            "Iteration 25, loss = 0.49281153\n",
            "Validation score: 0.086717\n",
            "Iteration 26, loss = 0.48381674\n",
            "Validation score: 0.101367\n",
            "Iteration 27, loss = 0.47536800\n",
            "Validation score: 0.112274\n",
            "Iteration 28, loss = 0.46782695\n",
            "Validation score: 0.121851\n",
            "Iteration 29, loss = 0.46103321\n",
            "Validation score: 0.130795\n",
            "Iteration 30, loss = 0.45473400\n",
            "Validation score: 0.136465\n",
            "Iteration 31, loss = 0.44866214\n",
            "Validation score: 0.142043\n",
            "Iteration 32, loss = 0.44353288\n",
            "Validation score: 0.146468\n",
            "Iteration 33, loss = 0.43856003\n",
            "Validation score: 0.155729\n",
            "Iteration 34, loss = 0.43392629\n",
            "Validation score: 0.160179\n",
            "Iteration 35, loss = 0.43006055\n",
            "Validation score: 0.165758\n",
            "Iteration 36, loss = 0.42584607\n",
            "Validation score: 0.169073\n",
            "Iteration 37, loss = 0.42228365\n",
            "Validation score: 0.174010\n",
            "Iteration 38, loss = 0.41908271\n",
            "Validation score: 0.176813\n",
            "Iteration 39, loss = 0.41545429\n",
            "Validation score: 0.178841\n",
            "Iteration 40, loss = 0.41238192\n",
            "Validation score: 0.176571\n",
            "Iteration 41, loss = 0.40979598\n",
            "Validation score: 0.183233\n",
            "Iteration 42, loss = 0.40709323\n",
            "Validation score: 0.183977\n",
            "Iteration 43, loss = 0.40397130\n",
            "Validation score: 0.179800\n",
            "Iteration 44, loss = 0.40206260\n",
            "Validation score: 0.187936\n",
            "Iteration 45, loss = 0.39942581\n",
            "Validation score: 0.190349\n",
            "Iteration 46, loss = 0.39710784\n",
            "Validation score: 0.191103\n",
            "Iteration 47, loss = 0.39537160\n",
            "Validation score: 0.192631\n",
            "Iteration 48, loss = 0.39268565\n",
            "Validation score: 0.194116\n",
            "Iteration 49, loss = 0.39125345\n",
            "Validation score: 0.194635\n",
            "Iteration 50, loss = 0.38863125\n",
            "Validation score: 0.193640\n",
            "Iteration 51, loss = 0.38695237\n",
            "Validation score: 0.195163\n",
            "Iteration 52, loss = 0.38495420\n",
            "Validation score: 0.196752\n",
            "Iteration 53, loss = 0.38303410\n",
            "Validation score: 0.197206\n",
            "Iteration 54, loss = 0.38177100\n",
            "Validation score: 0.198190\n",
            "Iteration 55, loss = 0.37999612\n",
            "Validation score: 0.198320\n",
            "Iteration 56, loss = 0.37848696\n",
            "Validation score: 0.195625\n",
            "Iteration 57, loss = 0.37652131\n",
            "Validation score: 0.198521\n",
            "Iteration 58, loss = 0.37515503\n",
            "Validation score: 0.193363\n",
            "Iteration 59, loss = 0.37332858\n",
            "Validation score: 0.198813\n",
            "Iteration 60, loss = 0.37144545\n",
            "Validation score: 0.198441\n",
            "Iteration 61, loss = 0.37102877\n",
            "Validation score: 0.197653\n",
            "Iteration 62, loss = 0.36868002\n",
            "Validation score: 0.199397\n",
            "Iteration 63, loss = 0.36740827\n",
            "Validation score: 0.199067\n",
            "Iteration 64, loss = 0.36625290\n",
            "Validation score: 0.198755\n",
            "Iteration 65, loss = 0.36520086\n",
            "Validation score: 0.199639\n",
            "Iteration 66, loss = 0.36329862\n",
            "Validation score: 0.199447\n",
            "Iteration 67, loss = 0.36226388\n",
            "Validation score: 0.198142\n",
            "Iteration 68, loss = 0.36139548\n",
            "Validation score: 0.197718\n",
            "Iteration 69, loss = 0.35969095\n",
            "Validation score: 0.199232\n",
            "Iteration 70, loss = 0.35856112\n",
            "Validation score: 0.193881\n",
            "Iteration 71, loss = 0.35719898\n",
            "Validation score: 0.196554\n",
            "Iteration 72, loss = 0.35589177\n",
            "Validation score: 0.185066\n",
            "Iteration 73, loss = 0.35602646\n",
            "Validation score: 0.197560\n",
            "Iteration 74, loss = 0.35347714\n",
            "Validation score: 0.196614\n",
            "Iteration 75, loss = 0.35313695\n",
            "Validation score: 0.191900\n",
            "Iteration 76, loss = 0.35097403\n",
            "Validation score: 0.194248\n",
            "Validation score did not improve more than tol=0.000100 for 10 consecutive epochs. Stopping.\n",
            "Temps d'apprentissage du modèle: 69.77 seconds\n",
            "Nombre de paramètres: 32613\n"
          ]
        }
      ],
      "source": [
        "# Créer un réseau de neuronnes\n",
        "regr_nn = neural_network.MLPRegressor(alpha=0.1, # l2-regularization (weight decay)\n",
        "                                      hidden_layer_sizes=tuple(hidden_layers_size),\n",
        "                                      early_stopping=True, # stop if validation performance decreases\n",
        "                                      verbose=True,\n",
        "                                      random_state=1234)\n",
        "\n",
        "# Estimer les paramètres du réseau sur nos données\n",
        "\n",
        "#normalize data\n",
        "start = time.time()\n",
        "regr_nn.fit(X_train_tags, y_train_tags)\n",
        "fit_time = time.time() - start\n",
        "\n",
        "print(\"Temps d'apprentissage du modèle: %.2f seconds\" % fit_time)\n",
        "print(\"Nombre de paramètres:\", reduce(lambda x,y: x+y, \n",
        "                                       list(map(lambda x: x.size, regr_nn.coefs_+regr_nn.intercepts_)) ))"
      ]
    },
    {
      "cell_type": "markdown",
      "metadata": {
        "id": "uM191Io8zkCl"
      },
      "source": [
        "Comme pour les autres modèles, nous pouvons régulariser les paramètres du réseau pour éviter le surentrainement:\n",
        "- Nous utilisons la même taille du régularisateur L2 pour tous les paramètres. La taille du régularisateur est donnée par $\\alpha$. \n",
        "- En plus, nous utilisons un second régularisateur qui se nomme `early-stopping`. L'apprentissage des paramètres dans un réseau de neurones est une procédure littérature en utilisant une méthode appelée descente de gradient (par rapport à la régression linéaire, il n'existe pas de solution analytique permettant de trouver les paramètres optimaux en fonction de la fonction d'objectif). Le *Early stopping* évalue simplement une erreur de validation après chaque itération d'entraînement. La procédure stoppe l'apprentissage une fois que l'erreur de validation arrête de progresser. Ceci peut évidemment arriver avant que l'erreur d'entraînement converge. Si ce n'est pas le cas, ce régularisateur n'a aucun effet sur l'apprentissage. Dans `scikit-learn`, la classe `MLPRegressor` avec `early_stopping=True` divise automatiquement l'ensemble d'entraînement en deux (validation et entraînement). Le désavantage évidemment est qu'il reste un tout petit moins de données pour s'entraîner.\n",
        "\n",
        "\n"
      ]
    },
    {
      "cell_type": "markdown",
      "metadata": {
        "id": "LVPVODp0zkCl"
      },
      "source": [
        "**Question 6:** Pourquoi dans `sklearn` ce modèle permet-il de fixer une racine (c.-à-d., `random_state`) alors que le modèle de régression linéaire ne le permet pas? \n"
      ]
    },
    {
      "cell_type": "code",
      "execution_count": null,
      "metadata": {
        "id": "wR8becfIzkCl",
        "outputId": "af1ae411-b4ef-4685-8918-d36fcbf9be67"
      },
      "outputs": [
        {
          "name": "stdout",
          "output_type": "stream",
          "text": [
            "Erreur au carré moyenne d'entraînement: 0.6416\n",
            "Erreur au carré moyenne de test: 1.0292\n"
          ]
        }
      ],
      "source": [
        "# Obtenir les prédictions d'entraînement\n",
        "y_train_pred = regr_nn.predict(X_train_tags)\n",
        "#y_train_pred = regr_nn.predict(scaler.transform(X_train_tags))\n",
        "\n",
        "\n",
        "print(\"Erreur au carré moyenne d'entraînement: %.4f\"\n",
        "      % mean_squared_error(y_train_tags, y_train_pred))\n",
        "\n",
        "# Obtenir les prédictions de test\n",
        "y_test_pred = regr_nn.predict(X_test_tags)\n",
        "#y_test_pred = regr_nn.predict(scaler.transform(X_test_tags))\n",
        "\n",
        "print(\"Erreur au carré moyenne de test: %.4f\"\n",
        "      % mean_squared_error(y_test_tags, y_test_pred))\n",
        "#Train Mean squared error: 0.6623\n",
        "#Test Mean squared error: 1.0465"
      ]
    },
    {
      "cell_type": "markdown",
      "metadata": {
        "id": "VvdFQ05HzkCm"
      },
      "source": [
        "Voici notre tableau des résultats\n",
        "\n",
        "| Modèle        | MSE de test           |\n",
        "| ------------- |:-------------:| \n",
        "| 2.2 (Reg. linéaire avec attributs)     | 1.031 | 0.8650  |\n",
        "| 2.3 (2.2 + *tags* des films)     | 0.991 | 0.8571 |\n",
        "| 2.4 (Réseau de neurones avec les attributs de 2.3) | 1.029 | 0.8650 | \n",
        "\n",
        "Même si les réseaux de neurones sont très puissants (leur capacité est haute), sur cette tâche le réseau de neurones entraîné n'améliore pas la performance d'un modèle de régression plus simple. Ce n'est évidemment pas indicatif de la performance de tous les réseaux de neurones (il est possible qu'une réseau de neurones un peu différents obtiennent de meilleurs résultats). "
      ]
    },
    {
      "cell_type": "markdown",
      "metadata": {
        "id": "LZ6OaYS9zkCm"
      },
      "source": [
        "<a id=\"concluding-remarks\"></a>\n",
        "### Section 3. Conclusions\n",
        "\n",
        "Le but de ce tutoriel était de vous introduire à l'apprentissage automatique de manière très pratique et de complémenter le cours. Nous nous pencherons évidemment en détail sur les réseaux de neurones dans les semaines à venir.\n",
        "\n",
        "Avant de terminer: \n",
        "\n",
        "#### Apprentissage automatique\n",
        "\n",
        "Comme vous avez pu le constater, l'apprentissage machine pratique est très empirique. Une fois que vous avez des données dans un format correct, il est typique de les utiliser pour estimer et comparer différents modèles. Vous pouvez tenter de comprendre les avantages/désavantages de ces modèles dans votre contexte. C'est aussi une bonne manière de mieux comprendre vos données. En pratique, c'est souvent un aspect essentiel que nous n'avons pas énormément abordé dans ce tutoriel (au profit d'une meilleure exploration des modèles).\n",
        "\n",
        "\n",
        "#### Scikit-learn\n",
        "`scikit-learn` est une libraire de ML très pratique et puissant. C'est une boîte à outils de modèles ainsi que de routines pour prétraiter vos données. Elle offre une interface à une grande variété de modèles, elle reste activement développée et en général c'est une excellente plateforme. C'est aussi une libraire ouverte (*open source*) et gratuite à utiliser. \n",
        "\n",
        "Sélection de modèles: choisir le meilleur (ou même un bon) modèle pour une tâche particulière n'est pas une mince affaire. [Cette page](https://scikit-learn.org/stable/tutorial/machine_learning_map/index.html) offre des conseils pour la sélection de modèles disponibles sur `scikit-learn`. N'oubliez pas qu'en pratique, la performance de test n'est souvent qu'une seule mesure parmi d'autres (qui peuvent inclure, par exemple, le temps d'estimation du modèle, le taux de faux positif ou faux négatifs, etc.)\n",
        "\n",
        "Bien que très versatile, `scikit-learn` n'est pas utilisable pour tout. Par exemple, cette libraire n'offre que très peu de réseaux de neurones modernes. Ce n'est pas non plus, la plateforme idéale pour développer de nouveaux modèles.\n",
        "\n",
        "#### D'autres libraires\n",
        "\n",
        "La qualité des logiciels disponibles a largement contribué à la popularité de l'apprentissage automatique dans les dernières années. Les logiciels modernes automatisent une série de tâches qui permettent aux programmeurs d'être plus efficaces. `scikit-learn` est un outil très populaire, mais il existe évidemment d'autres librairies de bonne qualité (tant pour utiliser des modèles existants que pour développer de nouveaux modèles). Il peut évidemment être pratique et tentant d'apprendre plusieurs de ces librairies. À mon avis, c'est encore plus important d'avoir une compréhension des fondamentaux de l'apprentissage automatique d'autant plus que les librairies changent souvent très rapidement. \n",
        "\n",
        "#### Matière à réflexion\n",
        " - Dans nos modèles nous avons pris comme hypothèse que les notes sont les variables dépendantes (y) et que nous avions accès à des attributs des utilisateurs et des items. Imaginone une tâche où nous n'aurions pas accès à des attributs, ou bien à un cas où les attributs ne seraient pas informatifs des notes. Dans ce cas, le modèle de régression linéaire deviendrait: \n",
        " \n",
        "$$\n",
        "f(x_{ui}) = \\theta_\\text{uid} x_{\\text{uid}_u} + \\theta_{\\text{mid}} x_{\\text{mid}_i}\n",
        "$$ \n",
        " \n",
        "\n",
        "- **Question 7:** Quel est le problème avec ce dernier modèle? Je vous suggère d'y réfléchir un peu avant de lire la réponse. \n",
        "\n",
        "- Comme nous le verrons à la semaine 11 (sur les systèmes de recommandation), il existe plusieurs modèles qui utilisent les notes en entrée **et** en sortie. Par exemple, on pourrait directement utiliser les notes historiques d'un utilisateur pour prédire ses notes futures  (pour ce faire on pourrait utiliser un auto-encodeur)."
      ]
    },
    {
      "cell_type": "markdown",
      "metadata": {
        "id": "fSSuRAQjzkCo"
      },
      "source": [
        "## Références\n",
        "\n",
        "\n",
        "Scikit-learn (en anglais)\n",
        "- [Documentation](https://scikit-learn.org/stable/documentation.html)\n",
        "- [Tutoriels](https://scikit-learn.org/stable/tutorial/index.html)\n",
        "- [Aide à la sélection de modèles](https://scikit-learn.org/stable/tutorial/machine_learning_map/index.html)"
      ]
    },
    {
      "cell_type": "markdown",
      "source": [
        "# Bibliographie\n"
      ],
      "metadata": {
        "id": "rBytKxLCi2Fj"
      }
    }
  ],
  "metadata": {
    "kernelspec": {
      "display_name": "Python 3",
      "language": "python",
      "name": "python3"
    },
    "language_info": {
      "codemirror_mode": {
        "name": "ipython",
        "version": 3
      },
      "file_extension": ".py",
      "mimetype": "text/x-python",
      "name": "python",
      "nbconvert_exporter": "python",
      "pygments_lexer": "ipython3",
      "version": "3.7.3"
    },
    "colab": {
      "name": "Workshop_4POINT0_Test.ipynb",
      "provenance": [],
      "toc_visible": true
    }
  },
  "nbformat": 4,
  "nbformat_minor": 0
}