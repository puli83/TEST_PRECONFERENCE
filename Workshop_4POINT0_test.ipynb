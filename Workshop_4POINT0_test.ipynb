{
  "cells": [
    {
      "cell_type": "markdown",
      "metadata": {
        "id": "3uuATYYtzkB2"
      },
      "source": [
        "<font size='10' color = 'E3A440'>**Pre-confèrence Workshop on Python**</font>\n",
        "=======\n",
        "\n",
        "<font color = 'E3A440'>*Pratical introduction to the analysis of unstructured data*</font>\n",
        "=============\n",
        "\n",
        "This tutorial is a short hands-on workshoop to introduce you to the analysis of unstructured data for innovation studies. \n",
        "\n",
        "This document is divided in serveral paragraph each of one constitue a step of anakysis: \n",
        "1. Loading of data and thei preparation, \n",
        "2. \n",
        "3. \n",
        "\n",
        "This tutorial cannot be considered as ehaustif of the domain. \n",
        "\n",
        "### Auteurs: \n",
        "- Mikael Heroux-Vaillancourt <mikael.heroux-vaillancourt@polymtl.ca>\n",
        "- Davide Pulizzotto <davide.pulizzotto@polymtl.ca>\n",
        "- Pietro Cruciata <pietro.cruciata@polymtl.ca>\n",
        "- Alvar Herrera <alvar.herrera@polymtl.ca> \n",
        "\n",
        "### Table des matières\n",
        "\n",
        "- [Section 0. Introduction](#introduction)\n",
        "- [Section 1. Preparation of data](#pre-processing)\n",
        "- [Section 2. ](#modelling)\n",
        "- [Section 3. Conclusions](#concluding-remarks)"
      ]
    },
    {
      "cell_type": "markdown",
      "metadata": {
        "id": "232GZfpEzkB5"
      },
      "source": [
        "<a id='introduction'></a>\n",
        "# <font size = '6' color='E3A440'>Section 0. Introduction</font>\n",
        "\n",
        "This workshop is organized around the research work made by **Mikael Heroux-Vaillancourt** presented at the [P4IE Conference - Measuring Metrics that Matter](https://event.fourwaves.com/p4ie/pages), which took place  on -10-11 May 2022 at the *Hilton Garden Inn*, in Ottawa.\n",
        "\n",
        "To get more informaiton about the presentation, we address you to this linkl wich contains the presentaiotn.\n",
        "\n",
        "In order to realize this workshop, the main concept to keep in mind are the following:\n",
        "\n",
        "1. This study is an exploratory analsyis fo several compabines which obtained a [BCorp certification](https://www.bcorporation.net/en-us/)\n",
        "2. The data analysed come from a webscraping step of the snapshots found on [Wayback Machine](https://archive.org/web/) of all those companis of point 1.\n",
        "3. Objectives are ...\n",
        "To\n",
        "\n",
        "\n",
        "### Glossary of the workshop\n",
        "\n",
        "XXXX\n",
        "\n",
        "1. Dataframe\n",
        "2. XXX\n",
        "3. XXX\n",
        "\n",
        "\n",
        "### Prétraitement des données\n",
        "\n",
        "Pour l'apprentissage supervisé, comme c'est souvent le cas, nous représenterons les données en utilisant deux matrices $X$ et $Y$. La première, $X$, contient les attributs (*features*). C'est une matrice de taille $n \\times p$, avec $n$ le nombre d'exemples et $p$ la dimensionnalité de chaque exemple (en d'autres mots, le nombre d'attributs de chaque exemple). \n",
        "\n",
        "$$X = \\begin{bmatrix} \n",
        "x_{11} & x_{12} & \\ldots & x_{1p} \\\\\n",
        "\\vdots & \\vdots       &  \\ddots      & \\vdots \\\\ \n",
        "x_{n1} & x_{12} & \\ldots & x_{np} \\\\\n",
        "\\end{bmatrix}\n",
        "$$ \n",
        "\n",
        "$Y$, est un vecteur (colonne) de taille $n$ qui content les étiquettes (ici ce sont les notes des films). $Y_1$ correspond aux notes de $X_1$.\n",
        "\n",
        "$$\n",
        "Y = \\begin{bmatrix} \n",
        "r_1 \\\\\n",
        "r_2 \\\\\n",
        "\\vdots \\\\ \n",
        "r_n\n",
        "\\end{bmatrix}$$\n",
        "\n",
        "Nous différencierons les ensembles d'entraînement (`train`) des ensembles de test (`test`), p.ex.,, en utilisant cette notation $X_\\text{train}$ et $X_\\text{test}$. Idem pour les étiquettes $Y_\\text{train}$ et $Y_\\text{test}$."
      ]
    },
    {
      "cell_type": "markdown",
      "metadata": {
        "id": "QRKQ8i7BzkB7"
      },
      "source": [
        "## 0.1 Preparation of Colab Virtual Machine\n",
        "\n",
        "In order to work correctly on Colab, we need to prepare the environment by executing two main steps:\n",
        "1. Download data from the GitHub project \n",
        "2. Install package to run code of this workshop"
      ]
    },
    {
      "cell_type": "code",
      "execution_count": null,
      "metadata": {
        "id": "P9mMQQWJzkB7",
        "outputId": "f0f0625e-946b-4533-f673-61767c2b73a1",
        "colab": {
          "base_uri": "https://localhost:8080/"
        }
      },
      "outputs": [
        {
          "output_type": "stream",
          "name": "stdout",
          "text": [
            "Cloning into 'TEST_PRECONFERENCE'...\n",
            "remote: Enumerating objects: 177, done.\u001b[K\n",
            "remote: Counting objects: 100% (177/177), done.\u001b[K\n",
            "remote: Compressing objects: 100% (132/132), done.\u001b[K\n",
            "remote: Total 177 (delta 94), reused 88 (delta 43), pack-reused 0\u001b[K\n",
            "Receiving objects: 100% (177/177), 72.75 MiB | 23.07 MiB/s, done.\n",
            "Resolving deltas: 100% (94/94), done.\n"
          ]
        }
      ],
      "source": [
        "# Downloading of datat from the GitHub project\n",
        "!rm -rf TEST_PRECONFERENCE/\n",
        "!git clone https://github.com/puli83/TEST_PRECONFERENCE"
      ]
    },
    {
      "cell_type": "code",
      "source": [
        "# Installation of packages\n",
        "!pip install pickle5\n",
        "!pip install nltk\n",
        "!python -m spacy download en_core_web_sm"
      ],
      "metadata": {
        "id": "GHzhKocKltaY"
      },
      "execution_count": null,
      "outputs": []
    },
    {
      "cell_type": "markdown",
      "metadata": {
        "id": "jmzFMxo-zkB8"
      },
      "source": [
        "## 0.2 Import packages\n",
        "\n",
        "We import all those packages we need to work. Each package contains a set of function we will use: \n",
        "- `os` une librairie standard pour, notamment, interagir avec le système de fichiers (p.ex., pour ouvrir un fichier)\n",
        "- `re` une librairie pour les expressions régulières\n",
        "- `sys` une librairie pour obtenir des informations du système \n",
        "- `time` une librairie pour évaluer le temps de calcul de certaines opérations (p.ex., estimer les paramètres d'un modèle)\n",
        "- `matplotlib` pour tracer des graphiques\n",
        "- `numpy` pour des fonctions d'algèbre linéaire\n",
        "- `pandas` pour manipuler les données\n",
        "- `sklearn` (scikit-learn) pour des modèles d'apprentissage automatique ainsi que des fonctions reliées à la pratique de l'apprentissage automatique"
      ]
    },
    {
      "cell_type": "code",
      "execution_count": null,
      "metadata": {
        "id": "b0VRIF7yzkB9"
      },
      "outputs": [],
      "source": [
        "# PACKAGES DA VALUTARE\n",
        "import os\n",
        "import re \n",
        "import time\n",
        "import numpy as np\n",
        "import pandas as pd\n",
        "import scipy\n",
        "import matplotlib.pyplot as plt\n",
        "from sklearn import preprocessing\n",
        "from sklearn import datasets, linear_model\n",
        "from sklearn.metrics import mean_squared_error, r2_score\n",
        "from sklearn.model_selection import train_test_split\n",
        "from sklearn import neural_network\n",
        "from sklearn.feature_extraction.text import CountVectorizer, TfidfVectorizer, TfidfTransformer\n",
        "\n",
        "import sys\n",
        "sys.path += ['TEST_PRECONFERENCE/']\n"
      ]
    },
    {
      "cell_type": "code",
      "source": [
        "# NOSTRO CODICE\n",
        "import pandas as pd\n",
        "import numpy as np\n",
        "import scipy\n",
        "import datetime\n",
        "import os\n",
        "import pickle5 as pickle\n",
        "import sys\n",
        "import spacy\n",
        "import nltk\n",
        "from nltk.corpus import stopwords\n",
        "from sklearn.feature_extraction.text import CountVectorizer, TfidfTransformer #, TfidfVectorizer\n"
      ],
      "metadata": {
        "id": "tlI8PkH18Ofi"
      },
      "execution_count": null,
      "outputs": []
    },
    {
      "cell_type": "markdown",
      "source": [
        "---\n",
        "Here we prepare paths from which import data."
      ],
      "metadata": {
        "id": "CGayi-cExJSl"
      }
    },
    {
      "cell_type": "code",
      "source": [
        "ROOT_DIR='TEST_PRECONFERENCE/'\n",
        "DATA_DIR=os.path.join(ROOT_DIR, 'dat')"
      ],
      "metadata": {
        "id": "E6Th_5mB8rAh"
      },
      "execution_count": null,
      "outputs": []
    },
    {
      "cell_type": "markdown",
      "source": [
        "## 0.3 Import data\n",
        "We import a `.pkl` file, which is a specific format to save data and object with Python. The data imported are in a tabular format (such as MS Excel) called **dataframe** and managed by `pandas`.\n"
      ],
      "metadata": {
        "id": "ebi993i_8XPA"
      }
    },
    {
      "cell_type": "code",
      "source": [
        "with open(os.path.join(DATA_DIR, 'BCorp_companies_web_data.pkl'), \"rb\") as f:\n",
        "    df_data = pickle.load(f)\n",
        "# Notes: for different python version reasons, we cannot use in this Colab the pandas.read_pickle() function to import dataframe"
      ],
      "metadata": {
        "id": "fJO9i9mE8cUY"
      },
      "execution_count": null,
      "outputs": []
    },
    {
      "cell_type": "markdown",
      "source": [
        "We observe *1207* rows and *2* columns."
      ],
      "metadata": {
        "id": "SmzMy4Lf68rA"
      }
    },
    {
      "cell_type": "code",
      "source": [
        "df_data.shape"
      ],
      "metadata": {
        "colab": {
          "base_uri": "https://localhost:8080/"
        },
        "id": "fxp4AwWh7Ffv",
        "outputId": "1e632d7c-af4d-481c-9e04-51bc2000c706"
      },
      "execution_count": 18,
      "outputs": [
        {
          "output_type": "execute_result",
          "data": {
            "text/plain": [
              "(1207, 2)"
            ]
          },
          "metadata": {},
          "execution_count": 18
        }
      ]
    },
    {
      "cell_type": "markdown",
      "source": [
        "Exploring deeper some rows, we see the table contains a column with some webpages domain and another with textual data.\n",
        "\n",
        "+ **Company_ID** contains the domain of each BCorp companies under study\n",
        "+ **text_combined** contains a combination of all those pages founded in Wayback Machine for each company.\n"
      ],
      "metadata": {
        "id": "zj32jGwz7Min"
      }
    },
    {
      "cell_type": "code",
      "source": [
        "df_data.head()"
      ],
      "metadata": {
        "colab": {
          "base_uri": "https://localhost:8080/",
          "height": 206
        },
        "id": "_n2JxRkq7Ypn",
        "outputId": "4efef8f5-bfb3-4eaa-e68d-6781e0f45a5d"
      },
      "execution_count": 19,
      "outputs": [
        {
          "output_type": "execute_result",
          "data": {
            "text/plain": [
              "        Company_ID                                      text_combined\n",
              "0   100kmfoods.com  Know where your food comes from. Our mission i...\n",
              "1        17ways.co  Explore how you can make every B2B purchase co...\n",
              "2   1908brands.com  We're a parent company founded on a promise to...\n",
              "3      3877.design  Opening Date: August 2019 Address: 1921 8th St...\n",
              "4  3degreesinc.com  Making urgent corporate utility global bold cl..."
            ],
            "text/html": [
              "\n",
              "  <div id=\"df-57a03b3a-cbaf-419c-ab23-96997c3e673a\">\n",
              "    <div class=\"colab-df-container\">\n",
              "      <div>\n",
              "<style scoped>\n",
              "    .dataframe tbody tr th:only-of-type {\n",
              "        vertical-align: middle;\n",
              "    }\n",
              "\n",
              "    .dataframe tbody tr th {\n",
              "        vertical-align: top;\n",
              "    }\n",
              "\n",
              "    .dataframe thead th {\n",
              "        text-align: right;\n",
              "    }\n",
              "</style>\n",
              "<table border=\"1\" class=\"dataframe\">\n",
              "  <thead>\n",
              "    <tr style=\"text-align: right;\">\n",
              "      <th></th>\n",
              "      <th>Company_ID</th>\n",
              "      <th>text_combined</th>\n",
              "    </tr>\n",
              "  </thead>\n",
              "  <tbody>\n",
              "    <tr>\n",
              "      <th>0</th>\n",
              "      <td>100kmfoods.com</td>\n",
              "      <td>Know where your food comes from. Our mission i...</td>\n",
              "    </tr>\n",
              "    <tr>\n",
              "      <th>1</th>\n",
              "      <td>17ways.co</td>\n",
              "      <td>Explore how you can make every B2B purchase co...</td>\n",
              "    </tr>\n",
              "    <tr>\n",
              "      <th>2</th>\n",
              "      <td>1908brands.com</td>\n",
              "      <td>We're a parent company founded on a promise to...</td>\n",
              "    </tr>\n",
              "    <tr>\n",
              "      <th>3</th>\n",
              "      <td>3877.design</td>\n",
              "      <td>Opening Date: August 2019 Address: 1921 8th St...</td>\n",
              "    </tr>\n",
              "    <tr>\n",
              "      <th>4</th>\n",
              "      <td>3degreesinc.com</td>\n",
              "      <td>Making urgent corporate utility global bold cl...</td>\n",
              "    </tr>\n",
              "  </tbody>\n",
              "</table>\n",
              "</div>\n",
              "      <button class=\"colab-df-convert\" onclick=\"convertToInteractive('df-57a03b3a-cbaf-419c-ab23-96997c3e673a')\"\n",
              "              title=\"Convert this dataframe to an interactive table.\"\n",
              "              style=\"display:none;\">\n",
              "        \n",
              "  <svg xmlns=\"http://www.w3.org/2000/svg\" height=\"24px\"viewBox=\"0 0 24 24\"\n",
              "       width=\"24px\">\n",
              "    <path d=\"M0 0h24v24H0V0z\" fill=\"none\"/>\n",
              "    <path d=\"M18.56 5.44l.94 2.06.94-2.06 2.06-.94-2.06-.94-.94-2.06-.94 2.06-2.06.94zm-11 1L8.5 8.5l.94-2.06 2.06-.94-2.06-.94L8.5 2.5l-.94 2.06-2.06.94zm10 10l.94 2.06.94-2.06 2.06-.94-2.06-.94-.94-2.06-.94 2.06-2.06.94z\"/><path d=\"M17.41 7.96l-1.37-1.37c-.4-.4-.92-.59-1.43-.59-.52 0-1.04.2-1.43.59L10.3 9.45l-7.72 7.72c-.78.78-.78 2.05 0 2.83L4 21.41c.39.39.9.59 1.41.59.51 0 1.02-.2 1.41-.59l7.78-7.78 2.81-2.81c.8-.78.8-2.07 0-2.86zM5.41 20L4 18.59l7.72-7.72 1.47 1.35L5.41 20z\"/>\n",
              "  </svg>\n",
              "      </button>\n",
              "      \n",
              "  <style>\n",
              "    .colab-df-container {\n",
              "      display:flex;\n",
              "      flex-wrap:wrap;\n",
              "      gap: 12px;\n",
              "    }\n",
              "\n",
              "    .colab-df-convert {\n",
              "      background-color: #E8F0FE;\n",
              "      border: none;\n",
              "      border-radius: 50%;\n",
              "      cursor: pointer;\n",
              "      display: none;\n",
              "      fill: #1967D2;\n",
              "      height: 32px;\n",
              "      padding: 0 0 0 0;\n",
              "      width: 32px;\n",
              "    }\n",
              "\n",
              "    .colab-df-convert:hover {\n",
              "      background-color: #E2EBFA;\n",
              "      box-shadow: 0px 1px 2px rgba(60, 64, 67, 0.3), 0px 1px 3px 1px rgba(60, 64, 67, 0.15);\n",
              "      fill: #174EA6;\n",
              "    }\n",
              "\n",
              "    [theme=dark] .colab-df-convert {\n",
              "      background-color: #3B4455;\n",
              "      fill: #D2E3FC;\n",
              "    }\n",
              "\n",
              "    [theme=dark] .colab-df-convert:hover {\n",
              "      background-color: #434B5C;\n",
              "      box-shadow: 0px 1px 3px 1px rgba(0, 0, 0, 0.15);\n",
              "      filter: drop-shadow(0px 1px 2px rgba(0, 0, 0, 0.3));\n",
              "      fill: #FFFFFF;\n",
              "    }\n",
              "  </style>\n",
              "\n",
              "      <script>\n",
              "        const buttonEl =\n",
              "          document.querySelector('#df-57a03b3a-cbaf-419c-ab23-96997c3e673a button.colab-df-convert');\n",
              "        buttonEl.style.display =\n",
              "          google.colab.kernel.accessAllowed ? 'block' : 'none';\n",
              "\n",
              "        async function convertToInteractive(key) {\n",
              "          const element = document.querySelector('#df-57a03b3a-cbaf-419c-ab23-96997c3e673a');\n",
              "          const dataTable =\n",
              "            await google.colab.kernel.invokeFunction('convertToInteractive',\n",
              "                                                     [key], {});\n",
              "          if (!dataTable) return;\n",
              "\n",
              "          const docLinkHtml = 'Like what you see? Visit the ' +\n",
              "            '<a target=\"_blank\" href=https://colab.research.google.com/notebooks/data_table.ipynb>data table notebook</a>'\n",
              "            + ' to learn more about interactive tables.';\n",
              "          element.innerHTML = '';\n",
              "          dataTable['output_type'] = 'display_data';\n",
              "          await google.colab.output.renderOutput(dataTable, element);\n",
              "          const docLink = document.createElement('div');\n",
              "          docLink.innerHTML = docLinkHtml;\n",
              "          element.appendChild(docLink);\n",
              "        }\n",
              "      </script>\n",
              "    </div>\n",
              "  </div>\n",
              "  "
            ]
          },
          "metadata": {},
          "execution_count": 19
        }
      ]
    },
    {
      "cell_type": "markdown",
      "source": [
        "# <font size = '6' color='E3A440'>Section 1: Prétraitement des données</font>\n",
        " Dans le prochech chinck on fait\n",
        " 1. x\n",
        " 2. y\n",
        "\n",
        " exric"
      ],
      "metadata": {
        "id": "4CJuakgp8BhK"
      }
    },
    {
      "cell_type": "markdown",
      "source": [
        "## 1.1 Morphosyntactic Analysis\n",
        "An important step of the preprocessing of unstructured data such as text is to detect morphosyntactic features of words, which can be useful for feature selection. \n",
        "\n",
        "\n",
        "The two most important step of this analysis are:\n",
        "1. Part-of-Speech tagging, generally known as POS tagging\n",
        "2. Lemmatisation, which consists in the reduction of a word to his lemma\n",
        "\n",
        "These two steps are here executed by a module of the package `spacy`. In particular, we use the function `nlp.pipe()` to generate a list of preprocessed documents. This function has several arguments and it takes a list of string character to be executed. Each element of this list is a textual segment or a document. \n"
      ],
      "metadata": {
        "id": "mi-kc4pi8wBp"
      }
    },
    {
      "cell_type": "markdown",
      "source": [
        "In this first chunck of code we prepare the module to use from `spacy`. In particular, we load a pretrained model for classical NLP task, which is named <font color=\"#CE9178\">en_core_web_sm</font> ([More info](https://spacy.io/models/en)). "
      ],
      "metadata": {
        "id": "GNOg27M0jUiX"
      }
    },
    {
      "cell_type": "code",
      "source": [
        "nlp = spacy.load('en_core_web_sm')"
      ],
      "metadata": {
        "id": "hcxxLkyh-4Cb"
      },
      "execution_count": null,
      "outputs": []
    },
    {
      "cell_type": "markdown",
      "source": [
        "In this second chunk, we apply the NLP pipeline to our textual data contained in the **text_combined** column, using the `nlp.pipe()` function. "
      ],
      "metadata": {
        "id": "B9SKcfPxPvpb"
      }
    },
    {
      "cell_type": "code",
      "source": [
        "t0 = datetime.datetime.now() # line of code to register a timestamp \n",
        "doc = list(nlp.pipe(df_data[\"text_combined\"], disable = [\"tok2vec\",'parser','ner']))\n",
        "print(str(datetime.datetime.now() - t0)) # line of code to print the elapsed time from t0"
      ],
      "metadata": {
        "colab": {
          "base_uri": "https://localhost:8080/"
        },
        "outputId": "e626a2d5-6547-4f27-9d76-59a055855822",
        "id": "rVAjPpkiUgAG"
      },
      "execution_count": 20,
      "outputs": [
        {
          "output_type": "stream",
          "name": "stdout",
          "text": [
            "0:00:25.983994\n"
          ]
        }
      ]
    },
    {
      "cell_type": "code",
      "source": [
        "# Print first segment of the corpus\n",
        "print(df_data.loc[0][\"text_combined\"])"
      ],
      "metadata": {
        "colab": {
          "base_uri": "https://localhost:8080/"
        },
        "id": "yeiIr4ECXX82",
        "outputId": "88f7b709-b501-4cee-bc07-0d483dbae73a"
      },
      "execution_count": null,
      "outputs": [
        {
          "output_type": "stream",
          "name": "stdout",
          "text": [
            "Know where your food comes from. Our mission is to establish a viable, dynamic and sustainable local food economy whereby chefs have access to the freshest and best products that Ontario has to offer, and Ontario producers have a dedicated channel for the sales, marketing and distribution of their products at a fair price. Order By category © 2016 100km Foods All Rights Reserved. We want you to know where your food comes from. Order By category © 2015 100km Foods All Rights Reserved. The Ordering Site is now Closed. Please look for our email announcing the site has reopened. Our mission is to establish a viable, dynamic and sustainable local food economy whereby chefs have access to the freshest and best products that Ontario has to offer, and Ontario producers have a dedicated channel for the sales, marketing and distribution of their products at a fair price. 100km Foods Inc. specializes in the sale and distribution of local, sustainable foods, with a comprehensive offering, including: fresh, harvested-to-order, in-season fruits and vegetables, farm-fresh dairy, free-run eggs, artisanally milled grains and flours, and pantry staples like Ontario maple syrup, honey and dried beans. We aim to foster and grow authentic and genuine relationships between our customers and our producers. At 100km Foods Inc. we want you to know where your food comes from.\n"
          ]
        }
      ]
    },
    {
      "cell_type": "code",
      "source": [
        "# Print morphosyntactial analysis of the first sentence of the corpus. Each element is separeted by a vertitcal line |\n",
        "for idx, x in enumerate(doc[0]):\n",
        "    # stop after first 10 words\n",
        "    if idx == 10:\n",
        "        break\n",
        "    print(\"Token: \", x.text, \" | \", \"POS tag: \", x.pos_,\" | \", \"Lemma of the token: \", x.lemma_)\n"
      ],
      "metadata": {
        "colab": {
          "base_uri": "https://localhost:8080/"
        },
        "id": "pXZrHo9ETUiv",
        "outputId": "e6907f37-eb51-4532-8792-c7bf3f6a8f76"
      },
      "execution_count": null,
      "outputs": [
        {
          "output_type": "stream",
          "name": "stdout",
          "text": [
            "Token:  Know  |  POS tag:  VERB  |  Lemma of the token:  know\n",
            "Token:  where  |  POS tag:  ADV  |  Lemma of the token:  where\n",
            "Token:  your  |  POS tag:  DET  |  Lemma of the token:  -PRON-\n",
            "Token:  food  |  POS tag:  NOUN  |  Lemma of the token:  food\n",
            "Token:  comes  |  POS tag:  VERB  |  Lemma of the token:  come\n",
            "Token:  from  |  POS tag:  ADP  |  Lemma of the token:  from\n",
            "Token:  .  |  POS tag:  PUNCT  |  Lemma of the token:  .\n",
            "Token:  Our  |  POS tag:  DET  |  Lemma of the token:  -PRON-\n",
            "Token:  mission  |  POS tag:  NOUN  |  Lemma of the token:  mission\n",
            "Token:  is  |  POS tag:  AUX  |  Lemma of the token:  be\n"
          ]
        }
      ]
    },
    {
      "cell_type": "markdown",
      "source": [
        "Pre-Processing steps:\n",
        "\n",
        "\n",
        "1.   Lemmatizing\n",
        "2.   Eliminating stopwords\n",
        "3.   Keeping only adverb, adjective, noun and verb\n"
      ],
      "metadata": {
        "id": "DW_cSk1TAayz"
      }
    },
    {
      "cell_type": "code",
      "source": [
        "nltk.download('stopwords')\n",
        "new_stopwords = set(stopwords.words('english') + ['would'])"
      ],
      "metadata": {
        "id": "W7TCJHpej-RP"
      },
      "execution_count": null,
      "outputs": []
    },
    {
      "cell_type": "code",
      "source": [
        "for idx, i in enumerate(doc):\n",
        "    if idx == 5:\n",
        "        break\n",
        "    print(f\"Sentence n. {idx}\")\n",
        "    print(\"Original :\\t \", df_data.loc[idx]['text_combined'])\n",
        "    print(\"Preprocessed:\\t \", [w.lemma_.lower() for w in i if w.pos_ in [\"ADV\", \"ADJ\", \"NOUN\", \"VERB\"]  and w.text.lower() not in new_stopwords])"
      ],
      "metadata": {
        "id": "qgVCsYwTAX8C",
        "colab": {
          "base_uri": "https://localhost:8080/"
        },
        "outputId": "a4984b55-bbc4-4861-9c94-c083e9ec833a"
      },
      "execution_count": null,
      "outputs": [
        {
          "output_type": "stream",
          "name": "stdout",
          "text": [
            "Sentence n. 0\n",
            "Original :\t  Know where your food comes from. Our mission is to establish a viable, dynamic and sustainable local food economy whereby chefs have access to the freshest and best products that Ontario has to offer, and Ontario producers have a dedicated channel for the sales, marketing and distribution of their products at a fair price. Order By category © 2016 100km Foods All Rights Reserved. We want you to know where your food comes from. Order By category © 2015 100km Foods All Rights Reserved. The Ordering Site is now Closed. Please look for our email announcing the site has reopened. Our mission is to establish a viable, dynamic and sustainable local food economy whereby chefs have access to the freshest and best products that Ontario has to offer, and Ontario producers have a dedicated channel for the sales, marketing and distribution of their products at a fair price. 100km Foods Inc. specializes in the sale and distribution of local, sustainable foods, with a comprehensive offering, including: fresh, harvested-to-order, in-season fruits and vegetables, farm-fresh dairy, free-run eggs, artisanally milled grains and flours, and pantry staples like Ontario maple syrup, honey and dried beans. We aim to foster and grow authentic and genuine relationships between our customers and our producers. At 100km Foods Inc. we want you to know where your food comes from.\n",
            "Preprocessed:\t  ['know', 'food', 'come', 'mission', 'establish', 'viable', 'dynamic', 'sustainable', 'local', 'food', 'economy', 'whereby', 'chef', 'access', 'fresh', 'good', 'product', 'offer', 'producer', 'dedicated', 'channel', 'sale', 'marketing', 'distribution', 'product', 'fair', 'price', 'order', 'category', 'km', 'reserve', 'want', 'know', 'food', 'come', 'order', 'category', 'km', 'reserve', 'closed', 'look', 'email', 'announce', 'site', 'reopen', 'mission', 'establish', 'viable', 'dynamic', 'sustainable', 'local', 'food', 'economy', 'whereby', 'chef', 'access', 'fresh', 'good', 'product', 'offer', 'producer', 'dedicated', 'channel', 'sale', 'marketing', 'distribution', 'product', 'fair', 'price', 'specialize', 'sale', 'distribution', 'local', 'sustainable', 'food', 'comprehensive', 'offering', 'include', 'fresh', 'harvest', 'order', 'season', 'fruit', 'vegetable', 'farm', 'fresh', 'dairy', 'free', 'run', 'egg', 'artisanally', 'mill', 'grain', 'flour', 'pantry', 'staple', 'maple', 'syrup', 'honey', 'dry', 'bean', 'aim', 'foster', 'grow', 'authentic', 'genuine', 'relationship', 'customer', 'producer', 'want', 'know', 'food', 'come']\n",
            "Sentence n. 1\n",
            "Original :\t  Explore how you can make every B2B purchase count towards UN's Sustainable Development Goals (SDGs). 17 Ways connects SDG impact companies and multinationals for purpose-driven purchasing. Post a need and choose suppliers based on the products or services they offer and on the SDG areas you want to impact. You can also choose to search/sort by certifications. Appropriate companies will be alerted about your opportunity, but your information will be kept secure so you can decide how to engage and you won't be overwhelmed by potential suppliers. Now it's easy to be found by companies looking to purchase from businesses that are aligned with the SDG areas your company is working to impact. And 17 Ways helps you connect with other like-minded companies to create partnerships and do business together. The UN's Sustainable Development Goals (SDGs) outline 17 Ways companies can contribute to a sustainable planet and society. All the companies on 17 Ways choose which of the SDGs align with their mission. Many companies are additionally identified by third party certifications; we are actively working with these certifiers to develop measurement and reporting tools. Explore our marketplace filled with 17 Ways to make an impact with every purchase. Fill out this simple form Get ready to receive applications from users matching your request. Product or Service Categories 17 Ways connects SDG impact companies and multinationals for purpose-driven purchasing.\n",
            "Preprocessed:\t  ['explore', 'make', 'b2b', 'purchase', 'count', 'connect', 'impact', 'company', 'multinational', 'purpose', 'drive', 'purchasing', 'post', 'need', 'choose', 'supplier', 'base', 'product', 'service', 'offer', 'area', 'want', 'impact', 'also', 'choose', 'search', 'sort', 'certification', 'appropriate', 'company', 'alert', 'opportunity', 'information', 'keep', 'secure', 'decide', 'engage', 'will', 'overwhelm', 'potential', 'supplier', 'easy', 'find', 'company', 'look', 'purchase', 'business', 'align', 'area', 'company', 'work', 'impact', 'help', 'connect', 'like', 'minded', 'company', 'create', 'partnership', 'business', 'together', 'outline', 'company', 'contribute', 'sustainable', 'planet', 'society', 'company', 'way', 'choose', 'sdg', 'align', 'mission', 'many', 'company', 'additionally', 'identify', 'third', 'party', 'certification', 'actively', 'work', 'certifier', 'develop', 'measurement', 'reporting', 'tool', 'explore', 'marketplace', 'fill', 'way', 'make', 'impact', 'purchase', 'fill', 'simple', 'form', 'ready', 'receive', 'application', 'user', 'match', 'request', 'product', 'connect', 'impact', 'company', 'multinational', 'purpose', 'drive', 'purchasing']\n",
            "Sentence n. 2\n",
            "Original :\t  We're a parent company founded on a promise to make home better. Not just your home, but our home — the world we all share. So show us your dirtiest, hungriest jobs — we're up to the task. Together, we can make our home better. One room, one brand at a time. We remember when you had to choose between cleaning performance and a non-toxic home. Those days are long gone. Get your hands (and clothes and pans and floors) dirty. These impressively powerful, naturally clean products will tackle any mess. We know the kitchen is the heart of your home. Let us help you stock it with the freshest, healthiest, and most delicious ingredients. These tasty sauces are fresh ingredients meets old world flavor in one convenient jar. We believe snacks should do more than check the boxes, they should pass the \"can I have another one?\" test, too. From fertility and pregnancy to nursing and beyond, our products are crafted by food lovers and backed by experts to keep you safe and satisfied through every stage of motherhood. A champion of better for all, we were frustrated by the lack of yummy snacks for special diets. Then we found these rockstar goodies. Snacks are always too something. Too much sugar. Too little flavor. Too expensive. You get the idea. Finally, a snack that's just right. We are a brand management company focused exclusively on promoting natural and sustainable products. We envision a world where consumers no longer have to sacrifice what is good for their home with what is good for the environment. • Why 1908? • 1908 refers to the year in which our Founder and CEO Steve Savage's Great Great Uncle – William Kent – saved one of the last great Redwood Groves from being sold to lumber interests. He bought all 300 acres and presented the property to Teddy Roosevelt and the US Government as a gift. The land is now known as Muir Woods National Park. Just as William Kent sought to conserve the Redwood Grove, Stephen Kent Savage continues the tradition and leads 1908 Brands to help consumers make environmentally conscious choices in their daily lives. We currently manufacture and produce three natural product brands. Our products are healthy solutions for home and planet. An extensive line of natural cleaning and laundry products. Dating back to 1993, Boulder Clean is a pioneer in the green cleaning product market as they focus on making cleaning products that work just as well as (if not better than) all those products that are packed with toxic chemicals. CompoKeeper was founded on the premise of making in-home composting simpler and cleaner, thereby increasing the number of people adopting eco-friendly behavior in their everyday lives. Wholly Bites provides guilt-free snack options that are perfect for cereal, snacking, and energy boosts using only the purest natural ingredients. We envision an eco-oriented consumer audience becoming the mainstream, demanding performance in the same way their less-than-eco-friendly predecessors did. WEB DEVELOPMENT INTERN \"It's through mistakes that you actually can grow. FOOD BRAND MANAGER ASSISTANT \"Be bold, be fiercely bold. VP OF FINANCE \"The most wasted of all days is one without laughter.\" – E.E. INSIDE SALES AND CUSTOMER SERVICE COORDINATOR \"Life is like riding a bicycle. We currently manage two eco-friendly brands. Our products are healthy solutions for the air, water, pets, and people within your home, and for the community and environment outside of it as well. CHEMIST/PRODUCT DEVELOPMENT \"Everything is possible.\n",
            "Preprocessed:\t  ['parent', 'company', 'found', 'promise', 'make', 'home', 'better', 'home', 'home', 'world', 'share', 'show', 'dirty', 'hungry', 'job', 'task', 'together', 'make', 'home', 'better', 'room', 'brand', 'time', 'remember', 'choose', 'clean', 'performance', 'non', '-', 'toxic', 'home', 'day', 'long', 'go', 'hand', 'clothe', 'pan', 'floor', 'dirty', 'impressively', 'powerful', 'naturally', 'clean', 'product', 'tackle', 'mess', 'know', 'kitchen', 'heart', 'home', 'let', 'help', 'stock', 'fresh', 'healthy', 'delicious', 'ingredient', 'tasty', 'sauce', 'fresh', 'ingredient', 'meet', 'old', 'world', 'flavor', 'convenient', 'jar', 'believe', 'snack', 'check', 'box', 'pass', 'one', 'test', 'fertility', 'pregnancy', 'nursing', 'beyond', 'product', 'craft', 'food', 'lover', 'back', 'expert', 'keep', 'safe', 'satisfied', 'stage', 'motherhood', 'champion', 'well', 'frustrate', 'lack', 'yummy', 'snack', 'special', 'diet', 'find', 'rockstar', 'goody', 'snack', 'always', 'much', 'sugar', 'little', 'flavor', 'expensive', 'get', 'idea', 'finally', 'snack', 'right', 'brand', 'management', 'company', 'focus', 'exclusively', 'promote', 'natural', 'sustainable', 'product', 'envision', 'world', 'consumer', 'longer', 'sacrifice', 'good', 'home', 'good', 'environment', 'refer', 'year', 'great', 'great', 'save', 'last', 'great', 'sell', 'lumber', 'interest', 'buy', 'acre', 'present', 'property', 'gift', 'land', 'know', 'seek', 'conserve', 'continue', 'tradition', 'lead', 'help', 'consumer', 'make', 'environmentally', 'conscious', 'choice', 'daily', 'life', 'currently', 'manufacture', 'produce', 'natural', 'product', 'brand', 'product', 'healthy', 'solution', 'home', 'planet', 'extensive', 'line', 'natural', 'cleaning', 'laundry', 'product', 'date', 'back', 'pioneer', 'green', 'cleaning', 'product', 'market', 'focus', 'make', 'cleaning', 'product', 'work', 'well', 'well', 'product', 'pack', 'toxic', 'chemical', 'found', 'premise', 'make', 'home', 'compost', 'simple', 'clean', 'thereby', 'increase', 'number', 'people', 'adopt', 'friendly', 'behavior', 'everyday', 'life', 'wholly', 'provide', 'guilt', 'free', 'snack', 'option', 'perfect', 'cereal', 'snack', 'energy', 'boost', 'use', 'pure', 'natural', 'ingredient', 'envision', 'eco', 'orient', 'consumer', 'audience', 'become', 'mainstream', 'demand', 'performance', 'way', 'less', 'eco', 'friendly', 'predecessor', 'mistake', 'actually', 'grow', 'food', 'brand', 'manager', 'assistant', 'bold', 'fiercely', 'bold', 'waste', 'day', 'laughter', 'sale', 'service', 'life', 'ride', 'bicycle', 'currently', 'manage', 'eco', 'friendly', 'brand', 'product', 'healthy', 'solution', 'air', 'water', 'pet', 'people', 'home', 'community', 'environment', 'well', 'possible']\n",
            "Sentence n. 3\n",
            "Original :\t  Opening Date: August 2019 Address: 1921 8th St NW #115, Washington,... Location: 98 District Square SW, Washington, DC 20024 Open Date:February 2018... Location: 1221 Van Street SE Setting: Within feet of the D.C.'s... Location: 4121 Wilson BLVD Suite 102B, Arlington, VA 22203 Project Type:... Address: 901 North Saint Asaph Street, Alexandria, VA, 22314 Seat Count,... Location: 1837 M Street NW, Washington D.C. Location: 1401 New York Avenue NW, Washington DC 20005 Setting: The... Location: Columbia, South Carolina Date project completed: Summer 2018 Photography: The Rohm Group Project... Location: 82 I Street SE, Washington, DC 20003 Completed: Spring, 2017 Project... Location: Annapolis, Maryland Completed: Summer 2018 Project Description: An ambitious renovation project by... The result of a collaboration between D.C.-based architecture and interior design... Tasked with repurposing Washington DC's historic Equitable Bank Building and transforming... Location: White Marsh, MD Date project completed: Fall 2017 Total size: 3,650 sq. ft. and... Location: Potomac, Maryland Date project completed: Fall 2017 Project Description: Residence7801 is a... Location: Fort Worth, Texas Date project completed: Fall 2016 Project Description: Interior design for... Location: Virginia Beach, Virginia Date project completed: Winter 2016 Project Description: Full Renovation... Location: Charleston, South Carolina Date project completed: Fall 2016 Interior Design: P3 Design Collective... Location: Washington, DC Date project completed: Winter 2017 Total square footage: 7,930 sq. ft. PACERS RUNNING CLARENDON //3877 worked hand in hand with Pacers to bring in elements... Location: 1090 I St NW, Washington, DC 20001 Owner: Momofuku CCDC... Location: Washington, DC Owner: Danielle Vogel Date project completed: December 2015 Total square footage: Photographer: Ronald... Location: Washington, DC Date project completed: Spring 2016 Project Description: Phoenix Park Hotel, Washington,... Project Location: Washington, DC Date project completed: Spring 2015 Project Description: The Randolph... Location: Denver, CO Owner: AppleREIT Total Square Footage: 3,850 sq. ft. Location: Fairfax, VA Owner: AppleREIT Date project completed: Fall 2014 Total square footage: 40,000 sq.... Location: Washington, DC Owner: Anne Mahlum Date project completed: Spring 2014 Total square... Project Location: Reston, VA Date project completed: Spring 2010 Project Description:... Location: 1901 14th Street NW Owner: Matchbox Food Group Date project completed: November... Location: Various European Locations Owner: Marriott Project Description: Moxy is a new economy-focused... Location: Washington, DC Owner: 3 Stars Brewing Date project completed: Fall 2015... Project Location: Washington, DC Date project completed: Spring 2010 Project Description: Residence156... Location: New York, NY Owner: The Atwood Kitchen + Bar Room... Project Location: Gaithersburg, MD Owner: Baywood Hotels Date project completed: Spring... Project Location: Washington, DC Date project completed: Spring 2015 Project Description: 2917... Project Location: Washington, DC Date project completed: Fall 2010 Project Description: In... Location: Various United States Locations Owner: Marriott Project Description: //3877 was tasked with... Project Location: Washington, DC Project Description: Mansion History The Patterson Mansion... Restaurant Location: Washington, DC Date project completed: Fall 2012 Photographer: Daniel... Project Location: College Park, MD Owner: Baywood Hotels Services Provided: Architecture... Location: Arlington, VA Owner: Anne Mahlum Date project completed: Summer 2014 Total... Project Location: Washington, DC Developer: Property Alchemist Date project completed: Fall 2014 Millwork: Cabinet... Location: Alexandria, VA Owner: Carluccio's Date project completed: Fall 2014 Total... Project Location: Washington, DC Owner: Sundaram Development Date project completed: Fall 2013... Location: Washington, DC Owner: Anne Mahlum Date project completed: Fall 2013 Total square... Location: Washington, DC Owner: Danielle Vogel Date project completed: April 2013 Total square... Restaurant Location: Washington, DC Restaurant Type: Sit Down Dining and Retail... Location: Washington, DC Owner: Capital City Care Date project completed: Spring 2013... Good architecture is landscape in drag. Antoine Predock | Good people drink good beer. Creativity is intelligence having fun. First, think. Second, believe. Third, dream. Easy is not to be underestimated. Easy taps the pool of talent and ideas out there that were turned off by hard. Design is not just a visual thing, it's a thought process, a skill. Ultimately design is a tool to enhance our humanity. It's a frame for life. The way Calvin's brain is wired you can almost hear the fuses blowing. A successful man is one who can lay a firm foundation with the bricks that others throw at him. Simplicity is about subtracting the obvious and adding the meaningful. Instead of trying to change people, we could change the world. Anyone who isn't embarrassed of who they were last year probably isn't learning enough. Happiness happens out of order. Time flies like an arrow, fruit flies like a banana. You were once wild here. Don't let them tame you. Never half-ass two things. Whole-ass one thing. When you have a choice between being right and being kind, choose kind. Work hard & be nice to people. The role of the designer is that of a good, thoughtful host anticipating the needs of their guests. The most common way people give up their power is by thinking they don't have any. A true artist is not one who is inspired, but one who inspires others. Be Here Now. Eventually everything connects-people, ideas, objects...the quality of the connections is the key to quality per se. The Results \"//3877 has the creativity to make every space a show place and the architectural depth to make every set a plans a well thought out, buildable design\" \"//3877 has the creativity to make every space a show place and the architectural depth to make every set a plans a well thought out, buildable design\" \"To say that working with //3877 was an outstanding experience is almost an understatement. The cooperation and sensitivity that David Shove-Brown and Ryan Petyak exhibited on our project and towards our concerns was exemplary. As skilled listeners, they invested the time to learn our project goals and then execute that vision in their design and project management. I sincerely believe that the phenomenal success of our project is largely attributed to their attention and efforts. Additionally, they made the work fun. They are a dynamite team that I thoroughly enjoyed working with and I only wish that I could clone them for future projects in other cities!\" \"//3877's vision and execution provides for the perfect balance of cutting edge contemporary while maintaining the character of historic details. They have become the cornerstone partner for my commercial and residential development firm because of that unique and talented approach.\" \"//3877's vision and execution provides for the perfect balance of cutting edge contemporary while maintaining the character of historic details. They have become the cornerstone partner for my commercial and residential development firm because of that unique and talented approach.\" \"We've been working with //3877 for a number of years now on numerous projects and have found David and his team to be a pleasure to work with. I recommend them often and without reservation.\" \"We've been working with //3877 for a number of years now on numerous projects and have found David and his team to be a pleasure to work with. I recommend them often and without reservation.\" \"//3877 is so more than an architecture firm. Their designs are brilliant, cost effective, and beautiful. Their team is incredibly attentive and responsive and they make every effort to ensure that the daunting task of completing a build out is as simple and easy as possible.\" \"//3877 is so more than an architecture firm. Their team is incredibly attentive and responsive and they make every effort to ensure that the daunting task of completing a build out is as simple and easy as possible.\" \"It has been my pleasure to have //3877 as our Architect for the past 2 years. I could not be happier. In my forty years of design and construction I have never seen a more talented and caring design team. The skills they bring ensure the highest level of design and quality. I am particularly impressed with the thought that went into the build and co-ordination with the client, design team and contractor. What began as another Architect – Owner relationship soon developed into partnership and friendship. I look forward to our partnership as we move down the Eastern Seaboard, South and South West with new Veterinary Hospitals.\n",
            "Preprocessed:\t  ['opening', 'date', 'address', '8th', 'location', 'open', 'location', 'setting', 'foot', 'location', 'address', 'location', 'set', 'location', 'project', 'complete', 'summer', 'location', 'spring', 'location', 'complete', 'ambitious', 'renovation', 'project', 'result', 'collaboration', 'd.c.-based', 'architecture', 'interior', 'design', 'task', 'repurpose', 'historic', 'transforming', 'location', 'project', 'complete', 'fall', 'total', 'size', 'location', 'project', 'complete', 'fall', 'description', 'location', 'project', 'complete', 'fall', 'interior', 'design', 'location', 'project', 'complete', 'winter', 'full', 'renovation', 'location', 'project', 'complete', 'fall', 'location', 'project', 'complete', 'winter', 'total', 'square', 'footage', 'pacer', 'work', 'hand', 'hand', 'pacer', 'bring', 'element', 'location', 'owner', 'momofuku', 'location', 'project', 'complete', 'total', 'square', 'footage', 'photographer', 'location', 'project', 'complete', 'spring', 'project', 'complete', 'spring', 'location', 'location', 'project', 'complete', 'fall', 'total', 'square', 'footage', 'location', 'project', 'complete', 'spring', 'total', 'square', 'project', 'complete', 'spring', 'location', 'project', 'complete', 'location', 'various', 'new', 'economy', 'focus', 'location', 'project', 'complete', 'fall', 'project', 'complete', 'spring', 'location', 'project', 'complete', 'spring', 'project', 'complete', 'spring', 'project', 'complete', 'fall', 'location', 'task', 'mansion', 'history', 'project', 'complete', 'fall', 'photographer', 'provide', 'architecture', 'location', 'project', 'complete', 'summer', 'total', 'developer', 'project', 'complete', 'fall', 'location', 'project', 'complete', 'fall', 'total', 'project', 'complete', 'fall', 'location', 'project', 'complete', 'fall', 'total', 'square', 'location', 'project', 'complete', 'total', 'square', 'sit', 'dining', 'location', 'project', 'complete', 'spring', 'good', 'architecture', 'landscape', 'drag', 'good', 'people', 'drink', 'good', 'beer', 'creativity', 'intelligence', 'fun', 'first', 'think', 'second', 'believe', 'third', 'dream', 'easy', 'underestimate', 'easy', 'tap', 'pool', 'talent', 'idea', 'turn', 'hard', 'design', 'visual', 'thing', 'thought', 'process', 'skill', 'ultimately', 'design', 'tool', 'enhance', 'humanity', 'frame', 'life', 'way', 'brain', 'wire', 'almost', 'hear', 'fuse', 'blow', 'successful', 'man', 'lay', 'firm', 'foundation', 'brick', 'other', 'throw', 'simplicity', 'subtract', 'obvious', 'add', 'meaningful', 'instead', 'try', 'change', 'people', 'could', 'change', 'world', 'embarrassed', 'last', 'year', 'probably', 'learn', 'enough', 'happiness', 'happen', 'order', 'time', 'fly', 'arrow', 'fruit', 'fly', 'banana', 'wild', 'let', 'tame', 'never', 'half', 'ass', 'thing', 'whole', 'ass', 'thing', 'choice', 'right', 'kind', 'choose', 'kind', 'work', 'hard', 'nice', 'people', 'role', 'designer', 'good', 'thoughtful', 'host', 'anticipate', 'need', 'guest', 'common', 'way', 'people', 'give', 'power', 'think', 'true', 'artist', 'inspire', 'inspire', 'other', 'eventually', 'connect', 'people', 'idea', 'object', 'quality', 'connection', 'key', 'quality', 'result', 'creativity', 'make', 'space', 'show', 'place', 'architectural', 'depth', 'make', 'set', 'plan', 'well', 'think', 'buildable', 'design', 'creativity', 'make', 'space', 'show', 'place', 'architectural', 'depth', 'make', 'set', 'plan', 'well', 'think', 'buildable', 'design', 'say', 'work', 'outstanding', 'experience', 'almost', 'understatement', 'cooperation', 'sensitivity', 'exhibit', 'project', 'concern', 'exemplary', 'skilled', 'listener', 'invest', 'time', 'learn', 'project', 'goal', 'execute', 'vision', 'design', 'project', 'management', 'sincerely', 'believe', 'phenomenal', 'success', 'project', 'largely', 'attribute', 'attention', 'effort', 'additionally', 'make', 'work', 'fun', 'dynamite', 'team', 'thoroughly', 'enjoy', 'work', 'wish', 'could', 'clone', 'future', 'project', 'city', 'vision', 'execution', 'provide', 'perfect', 'balance', 'cut', 'edge', 'contemporary', 'maintain', 'character', 'historic', 'detail', 'become', 'cornerstone', 'partner', 'commercial', 'residential', 'development', 'firm', 'unique', 'talented', 'approach', 'vision', 'execution', 'provide', 'perfect', 'balance', 'cut', 'edge', 'contemporary', 'maintain', 'character', 'historic', 'detail', 'become', 'cornerstone', 'partner', 'commercial', 'residential', 'development', 'firm', 'unique', 'talented', 'approach', 'work', 'number', 'year', 'numerous', 'project', 'find', 'team', 'pleasure', 'work', 'recommend', 'often', 'reservation', 'work', 'number', 'year', 'numerous', 'project', 'find', 'team', 'pleasure', 'work', 'recommend', 'often', 'reservation', 'architecture', 'firm', 'design', 'brilliant', 'cost', 'effective', 'beautiful', 'team', 'incredibly', 'attentive', 'responsive', 'make', 'effort', 'ensure', 'daunting', 'task', 'complete', 'build', 'simple', 'easy', 'possible', 'architecture', 'firm', 'team', 'incredibly', 'attentive', 'responsive', 'make', 'effort', 'ensure', 'daunting', 'task', 'complete', 'build', 'simple', 'easy', 'possible', 'pleasure', 'architect', 'past', 'year', 'could', 'happy', 'year', 'design', 'construction', 'never', 'see', 'talented', 'care', 'design', 'team', 'skill', 'bring', 'ensure', 'high', 'level', 'design', 'quality', 'particularly', 'impressed', 'thought', 'go', 'build', 'co', '-', 'ordination', 'client', 'design', 'team', 'contractor', 'begin', 'architect', 'owner', 'relationship', 'soon', 'develop', 'partnership', 'friendship', 'look', 'forward', 'partnership', 'move', 'new']\n",
            "Sentence n. 4\n",
            "Original :\t  Making urgent corporate utility global bold climate action possible 3Degrees helps organizations around the world implement renewable energy, transportation decarbonization, and other climate solutions. How Verisk is Successfully Addressing Emissions from its International Energy Load 3Degrees crafted a cost-competitive plan for Verisk to address its global greenhouse gas emissions through a diverse portfolio of high-quality energy attribute certificates (EACs) and carbon offsets. Tackling the Decarbonization of Transportation As the largest emitter of greenhouse gases in the U.S., the transportation sector is exactly where we need to focus our collective efforts to reduce emissions. The solution that will have the biggest impact: transitioning to low-carbon transportation fuels. How Mondelez International is Reducing its Global GHG Emissions Mondelēz International enlisted 3Degrees to develop a global strategy roadmap and implement a new VPPA to help the company meet its ambitious emissions reduction goal. Companies Partner on Largest Renewable Energy Aggregation to Date 3Degrees helped four leading companies leverage their collective buying power in an innovative renewable energy aggregation, demonstrating how corporate energy buyers of all sizes can successfully purchase renewable energy directly from new renewable projects. Maximizing the Value of Your Green Power Programs Fully optimized green power programs provide a huge opportunity for utilities. When designed and implemented well, these programs offer numerous benefits. Invest in verified carbon offset projects Take immediate action on your Scope 1 (direct) and Scope 3 (indirect) GHG emissions, including transportation emissions, by investing in carbon offset projects. Support renewable energy on a local and global scale Reduce the environmental impact of your global energy use through high-quality, country-specific instruments like RECs, GOs, I-RECs, and TIGRs. Meet your emissions reduction and climate goals Whether you are just getting started on your sustainability journey or are a sophisticated energy buyer, meet your climate and renewable energy goals with customized, best-fit solutions. Offer utility voluntary renewable energy programs Create value for your utility and your customers with a suite of well-designed voluntary programs, including green power, community solar, green tariff, and renewable natural gas programs. Reduce the impact of transportation emissions Address the impact of your transportation-related emissions with a customized program of decarbonization solutions that incorporates Low Carbon Fuel Standard (LCFS) support, fleet decarbonization consulting, and carbon offset project investment within the transportation sector. Etsy has a long-standing track record of working to reduce our environmental footprint. Our carbon neutral shipping initiative is a major milestone within our larger commitment to act urgently and aggressively in the fight against climate change. The signing of this VPPA is a major advancement towards achieving our aggressive global emissions reduction goals. We have worked hand-in-hand with the 3Degrees team for more than a decade; in that time they have helped us make our Blue Sky renewable energy program one of the top renewable energy programs in the country. 3Degrees' expertise in program design and implementation has allowed us to continually evolve the Blue Sky program to keep it relevant to customers, the renewable energy market, and to the utility. We are updating our events calendar. Please check back soon. Delivering leading-edge renewable energy options to homes, businesses and organizations. Simplifying renewable energy complexities with streamlined, custom clean power solutions. Adding value to your business, your brand and your bottom line. Connecting with people at their doorstep through passionate community education efforts. Inspiring environmental responsibility at a personal, organizational and global level. Manage energy costs and meet environmental goals by directly purchasing renewable energy Community Solar Develop and launch successful shared renewables programs with 3Degrees' leading experts Renewable Energy Certificates Reduce environmental impact and support renewable energy with a simple REC purchase 3Degrees Joins RECS International 3Degrees Joins RECS International Deepening our commitment to European renewable energy markets. 3Degrees is pleased to announce that we have joined RECS... Let's be honest, designing a community solar product that resonates with customers, utilities, and regulators can be challenging.... Renewable Energy Certificates (RECs) enable individuals and organizations to channel funds to green power projects, mitigating the environmental impact of their energy use. Carbon offsets enable organizations to mitigate the environmental impact of their unavoidable greenhouse gas emissions by balancing out these emissions with greenhouse gas emission reductions occurring elsewhere, helping them realize sustainability goals. Environmental Market Services 3Degrees' Environmental Market Services help green power and greenhouse gas emission reduction project owners bring their RECs and carbon offsets to market. Utility Partnership Services 3Degrees' Utility Partnership Services help utilities launch, expand, and manage voluntary green power and carbon balancing programs. RECs and/or Carbon Offsets 3Degrees' Green Power & Carbon Balancing Services help organizations secure renewable energy and carbon offsets to mitigate the environmental impact of their energy use. Renewable Energy Certificates enable organizations to comply with state Renewable Portfolio Standards, channel funds to renewable energy projects and green their electricity. Carbon offsets enable organizations to mitigate the environmental impact of their unavoidable greenhouse gas emissions by balancing out these emissions with greenhouse gas emission reductions occurring elsewhere, helping them realize sustainability goals or comply with government climate regulations. Environmental Market Services 3Degrees' Environmental Market Services help its partners lower risk and increase return on investment through intelligent participation in environmental markets. Utility Partnership Services 3Degrees' Utility Partnership Services help utilities launch, expand and manage voluntary green power and carbon balancing programs. Green Power & Carbon Balancing Services 3Degrees' Green Power & Carbon Balancing Services help organizations green their electricity and balance out their unavoidable greenhouse gas emissions. Regional Green Power, Catalyst Wind and Brighter Schools Solar RECs Enable Organizations to Demonstrate Their Support for Specific Types of... Renewable energy developers, financiers and utilities breathed a collective sigh of relief last week when the Commodity Futures Trading... Climate Change Business Journal Recognizes Firms for Growth and Innovation SAN FRANCISCO, February 6, 2012—Climate Change Business... Only wireless carrier named to National Top 50 OVERLAND PARK, Kan. January 31, 2012 Sprint Nextel (NYSE: S) announced today that the... Earns Top REC Market Rankings from Environmental Finance and Energy Risk, and Receives Fifth-straight U.S. DOE Non-Utility Green Power...\n",
            "Preprocessed:\t  ['make', 'urgent', 'corporate', 'utility', 'global', 'bold', 'climate', 'action', 'possible', 'help', 'organization', 'world', 'implement', 'renewable', 'energy', 'transportation', 'decarbonization', 'climate', 'solution', 'successfully', 'address', 'emission', 'craft', 'cost', 'competitive', 'plan', 'address', 'global', 'greenhouse', 'gas', 'emission', 'diverse', 'portfolio', 'high', 'quality', 'energy', 'attribute', 'certificate', 'carbon', 'offset', 'tackle', 'decarbonization', 'large', 'emitter', 'greenhouse', 'gas', 'transportation', 'sector', 'exactly', 'need', 'focus', 'collective', 'effort', 'reduce', 'emission', 'solution', 'big', 'impact', 'transition', 'low', 'carbon', 'transportation', 'fuel', 'reduce', 'global', 'enlist', 'develop', 'global', 'strategy', 'roadmap', 'implement', 'new', 'help', 'company', 'meet', 'ambitious', 'emission', 'reduction', 'goal', 'company', 'large', 'renewable', 'energy', 'help', 'lead', 'company', 'leverage', 'collective', 'buying', 'power', 'innovative', 'renewable', 'energy', 'aggregation', 'demonstrate', 'corporate', 'energy', 'buyer', 'size', 'successfully', 'purchase', 'renewable', 'energy', 'directly', 'new', 'renewable', 'project', 'maximize', 'value', 'fully', 'optimize', 'green', 'power', 'program', 'provide', 'huge', 'opportunity', 'utility', 'design', 'implement', 'well', 'program', 'offer', 'numerous', 'benefit', 'invest', 'verified', 'carbon', 'offset', 'project', 'take', 'immediate', 'action', 'scope', 'direct', 'indirect', 'emission', 'include', 'transportation', 'emission', 'invest', 'carbon', 'offset', 'project', 'support', 'renewable', 'energy', 'local', 'global', 'scale', 'reduce', 'environmental', 'impact', 'global', 'energy', 'use', 'high', 'quality', 'country', 'specific', 'instrument', 'rec', 'go', 'meet', 'emission', 'reduction', 'climate', 'goal', 'get', 'start', 'sustainability', 'journey', 'sophisticated', 'energy', 'buyer', 'meet', 'climate', 'renewable', 'energy', 'goal', 'customized', 'best', 'fit', 'solution', 'offer', 'utility', 'voluntary', 'renewable', 'energy', 'program', 'create', 'value', 'utility', 'customer', 'suite', 'well', 'design', 'voluntary', 'program', 'include', 'green', 'power', 'community', 'solar', 'green', 'tariff', 'renewable', 'natural', 'gas', 'program', 'reduce', 'impact', 'transportation', 'emission', 'address', 'impact', 'transportation', 'relate', 'emission', 'customized', 'program', 'decarbonization', 'solution', 'incorporate', 'support', 'fleet', 'decarbonization', 'consulting', 'carbon', 'offset', 'project', 'investment', 'transportation', 'sector', 'long', 'stand', 'track', 'record', 'work', 'reduce', 'environmental', 'footprint', 'carbon', 'neutral', 'shipping', 'initiative', 'major', 'milestone', 'large', 'commitment', 'act', 'urgently', 'aggressively', 'fight', 'climate', 'change', 'signing', 'major', 'advancement', 'achieve', 'aggressive', 'global', 'emission', 'reduction', 'goal', 'work', 'hand', 'hand', 'team', 'decade', 'time', 'help', 'make', 'renewable', 'energy', 'program', 'top', 'renewable', 'energy', 'program', 'country', 'expertise', 'program', 'design', 'implementation', 'allow', 'continually', 'evolve', 'program', 'keep', 'relevant', 'customer', 'renewable', 'energy', 'market', 'utility', 'update', 'event', 'calendar', 'check', 'back', 'soon', 'deliver', 'leading', 'edge', 'renewable', 'energy', 'option', 'home', 'business', 'organization', 'simplify', 'renewable', 'energy', 'complexity', 'streamlined', 'custom', 'clean', 'power', 'solution', 'add', 'value', 'business', 'brand', 'bottom', 'line', 'connect', 'people', 'doorstep', 'passionate', 'community', 'education', 'effort', 'inspire', 'environmental', 'responsibility', 'personal', 'organizational', 'global', 'level', 'manage', 'energy', 'cost', 'meet', 'environmental', 'goal', 'directly', 'purchase', 'renewable', 'energy', 'launch', 'successful', 'shared', 'renewable', 'program', 'lead', 'expert', 'certificate', 'reduce', 'environmental', 'impact', 'support', 'renewable', 'energy', 'simple', 'purchase', 'deepen', 'commitment', 'european', 'renewable', 'energy', 'market', 'pleased', 'announce', 'join', 'let', 'honest', 'design', 'community', 'solar', 'product', 'resonate', 'customer', 'utility', 'regulator', 'challenge', 'renewable', 'energy', 'enable', 'individual', 'organization', 'channel', 'fund', 'green', 'power', 'project', 'mitigate', 'environmental', 'impact', 'energy', 'use', 'carbon', 'offset', 'enable', 'organization', 'mitigate', 'environmental', 'impact', 'unavoidable', 'greenhouse', 'gas', 'emission', 'balance', 'emission', 'greenhouse', 'gas', 'emission', 'reduction', 'occur', 'elsewhere', 'help', 'realize', 'sustainability', 'goal', 'help', 'green', 'power', 'greenhouse', 'gas', 'emission', 'reduction', 'project', 'owner', 'bring', 'rec', 'carbon', 'offset', 'market', 'help', 'utility', 'launch', 'expand', 'manage', 'voluntary', 'green', 'power', 'carbon', 'balancing', 'program', 'offset', 'help', 'organization', 'secure', 'renewable', 'energy', 'carbon', 'offset', 'mitigate', 'environmental', 'impact', 'energy', 'use', 'renewable', 'energy', 'certificate', 'enable', 'organization', 'comply', 'state', 'channel', 'fund', 'renewable', 'energy', 'project', 'green', 'electricity', 'carbon', 'offset', 'enable', 'organization', 'mitigate', 'environmental', 'impact', 'unavoidable', 'greenhouse', 'gas', 'emission', 'balance', 'emission', 'greenhouse', 'gas', 'emission', 'reduction', 'occur', 'elsewhere', 'help', 'realize', 'sustainability', 'goal', 'comply', 'government', 'climate', 'regulation', 'help', 'partner', 'low', 'risk', 'increase', 'return', 'investment', 'intelligent', 'participation', 'environmental', 'market', 'help', 'utility', 'launch', 'expand', 'manage', 'voluntary', 'green', 'power', 'carbon', 'balancing', 'program', 'help', 'organization', 'green', 'electricity', 'balance', 'unavoidable', 'greenhouse', 'gas', 'emission', 'rec', 'enable', 'organization', 'demonstrate', 'support', 'specific', 'type', 'renewable', 'energy', 'developer', 'financier', 'utility', 'breathe', 'collective', 'sigh', 'relief', 'last', 'week', 'trading', 'climate', 'change', 'recognize', 'change', 'business', 'wireless', 'carrier', 'name', 'park', 'announce', 'today', 'receive', 'fifth', 'straight']\n"
          ]
        }
      ]
    },
    {
      "cell_type": "code",
      "source": [
        "text_cleaned = []\n",
        "text_cleaned_list_features = []\n",
        "for idx, i in enumerate(doc): \n",
        "    text = \" \".join([w.lemma_.lower() for w in i if w.pos_ in [\"ADV\", \"ADJ\", \"NOUN\", \"VERB\"] and w.lemma_.lower() not in new_stopwords])\n",
        "    text_list_fea = [w.lemma_.lower() for w in i if w.pos_ in [\"ADV\", \"ADJ\", \"NOUN\", \"VERB\"] and w.lemma_.lower() not in new_stopwords and len(w.lemma_.lower())> 1]\n",
        "    text_cleaned.append(text)\n",
        "    text_cleaned_list_features.append(text_list_fea)\n",
        "df_data[\"text_cleaned\"] = text_cleaned\n",
        "df_data[\"text_cleaned_list_fea\"] = text_cleaned_list_features"
      ],
      "metadata": {
        "id": "4DSCDScJee8_"
      },
      "execution_count": null,
      "outputs": []
    },
    {
      "cell_type": "code",
      "source": [
        "def identity_tokenizer(text):\n",
        "    return text\n",
        "\n",
        "# Transforming the word in frequencies\n",
        "vectorized = CountVectorizer(lowercase = False,\n",
        "                             min_df = 10,\n",
        "                             max_df = 1000,\n",
        "                             stop_words = new_stopwords,\n",
        "                             ngram_range = (1, 1),\n",
        "                             #analyzer=\"word\",\n",
        "                             tokenizer=identity_tokenizer)"
      ],
      "metadata": {
        "id": "rh0pO9WIgApa"
      },
      "execution_count": null,
      "outputs": []
    },
    {
      "cell_type": "code",
      "source": [
        "vectorized_normal = CountVectorizer(lowercase = False, min_df = 10, max_df = 1000, stop_words = new_stopwords, ngram_range = (1, 1))"
      ],
      "metadata": {
        "id": "rHd83doEjf0b"
      },
      "execution_count": null,
      "outputs": []
    },
    {
      "cell_type": "code",
      "source": [
        "print(type(df_data[\"text_cleaned\"][0]))\n",
        "print(type(df_data[\"text_cleaned_list_fea\"][0]))"
      ],
      "metadata": {
        "id": "egsur6ntg-s6",
        "outputId": "a4512e77-ac40-4287-e502-292c1b92cdb2",
        "colab": {
          "base_uri": "https://localhost:8080/"
        }
      },
      "execution_count": null,
      "outputs": [
        {
          "output_type": "stream",
          "name": "stdout",
          "text": [
            "<class 'str'>\n",
            "<class 'list'>\n"
          ]
        }
      ]
    },
    {
      "cell_type": "code",
      "source": [
        "freq_term_matrix = vectorized.fit_transform(df_data[\"text_cleaned_list_fea\"])"
      ],
      "metadata": {
        "id": "fZru5J1zglsC",
        "outputId": "6224c2f1-77ed-42b8-9a7a-21b43a779859",
        "colab": {
          "base_uri": "https://localhost:8080/"
        }
      },
      "execution_count": null,
      "outputs": [
        {
          "output_type": "stream",
          "name": "stderr",
          "text": [
            "/usr/local/lib/python3.7/dist-packages/sklearn/feature_extraction/text.py:401: UserWarning: Your stop_words may be inconsistent with your preprocessing. Tokenizing the stop words generated tokens [\"'\", 'b', 'c', 'e', 'f', 'g', 'h', 'j', 'l', 'n', 'p', 'r', 'u', 'v', 'w'] not in stop_words.\n",
            "  % sorted(inconsistent)\n"
          ]
        }
      ]
    },
    {
      "cell_type": "code",
      "source": [
        "freq_term_matrix_v_n = vectorized_normal.fit_transform(df_data[\"text_cleaned\"])"
      ],
      "metadata": {
        "id": "NsiZw1Q3jjLK"
      },
      "execution_count": null,
      "outputs": []
    },
    {
      "cell_type": "code",
      "source": [
        "freq_term_matrix"
      ],
      "metadata": {
        "id": "UzS-0TEEjveo",
        "outputId": "fd6bd579-3c5b-41ec-8f8f-65048bd6352c",
        "colab": {
          "base_uri": "https://localhost:8080/"
        }
      },
      "execution_count": null,
      "outputs": [
        {
          "output_type": "execute_result",
          "data": {
            "text/plain": [
              "<1207x2435 sparse matrix of type '<class 'numpy.int64'>'\n",
              "\twith 122781 stored elements in Compressed Sparse Row format>"
            ]
          },
          "metadata": {},
          "execution_count": 201
        }
      ]
    },
    {
      "cell_type": "code",
      "source": [
        "freq_term_matrix_v_n"
      ],
      "metadata": {
        "id": "reVcQV7DjTrL",
        "outputId": "6baf42c9-8986-42f2-92a6-dfc9e880c0f9",
        "colab": {
          "base_uri": "https://localhost:8080/"
        }
      },
      "execution_count": null,
      "outputs": [
        {
          "output_type": "execute_result",
          "data": {
            "text/plain": [
              "<1207x2438 sparse matrix of type '<class 'numpy.int64'>'\n",
              "\twith 122881 stored elements in Compressed Sparse Row format>"
            ]
          },
          "metadata": {},
          "execution_count": 151
        }
      ]
    },
    {
      "cell_type": "code",
      "source": [
        "vocab = vectorized_normal.vocabulary_\n",
        "tfidf = TfidfTransformer(norm='l2')\n",
        "tfidf_matrix_v_n = tfidf.fit_transform(freq_term_matrix_v_n)"
      ],
      "metadata": {
        "id": "1W4puzyXkA7K"
      },
      "execution_count": null,
      "outputs": []
    },
    {
      "cell_type": "code",
      "source": [
        "vocab_l_f = vectorized.vocabulary_\n",
        "tfidf = TfidfTransformer(norm='l2')\n",
        "tfidf_matrix_lf = tfidf.fit_transform(freq_term_matrix)"
      ],
      "metadata": {
        "id": "YUthzGGkpHkg"
      },
      "execution_count": null,
      "outputs": []
    },
    {
      "cell_type": "code",
      "source": [
        "values_words_vn = sum(tfidf_matrix_v_n)"
      ],
      "metadata": {
        "id": "4Thdrhjdkrfi"
      },
      "execution_count": null,
      "outputs": []
    },
    {
      "cell_type": "code",
      "source": [
        "values_words_lf = sum(tfidf_matrix_lf)"
      ],
      "metadata": {
        "id": "mJBarreNqTcJ"
      },
      "execution_count": null,
      "outputs": []
    },
    {
      "cell_type": "code",
      "source": [
        "# verify type result\n",
        "if type(values_words_vn) is np.ndarray:\n",
        "  values_words_vn = [float(value) for value in np.nditer(values_words_vn)]\n",
        "elif type(values_words_vn) is scipy.sparse.csr.csr_matrix:\n",
        "  values_words_vn = [float(value) for value in np.nditer(values_words_vn.todense())]\n",
        "else:\n",
        "  print(\"Matrice in argument list_matrix is neither 'scipy.sparse.csr.csr_matrix', neither 'numpy.ndarray'\")"
      ],
      "metadata": {
        "id": "ORZsrIP9lm7U"
      },
      "execution_count": null,
      "outputs": []
    },
    {
      "cell_type": "code",
      "source": [
        "# verify type result\n",
        "if type(values_words_lf) is np.ndarray:\n",
        "  values_words_lf = [float(value) for value in np.nditer(values_words_lf)]\n",
        "elif type(values_words_lf) is scipy.sparse.csr.csr_matrix:\n",
        "  values_words_lf = [float(value) for value in np.nditer(values_words_lf.todense())]\n",
        "else:\n",
        "  print(\"Matrice in argument list_matrix is neither 'scipy.sparse.csr.csr_matrix', neither 'numpy.ndarray'\")"
      ],
      "metadata": {
        "id": "gyivasP2qduI"
      },
      "execution_count": null,
      "outputs": []
    },
    {
      "cell_type": "code",
      "source": [
        "list_mots = sorted(vocab.items(), key= lambda x:x[1])\n",
        "list_mots = [word for (word,idx) in  list_mots]\n",
        "words = zip(list_mots, values_words_vn)\n",
        "words = sorted(words, key= lambda x:x[1], reverse=True)\n",
        "\n",
        "result_for_WC = {}\n",
        "#iterating over the tuples lists\n",
        "for (key, value) in words:\n",
        "  if value > 32:\n",
        "    print(key)\n",
        "  if value <= 32:\n",
        "    result_for_WC[key] = value"
      ],
      "metadata": {
        "id": "zYhDIoU6k_Jl",
        "outputId": "611b1650-4967-479b-8ec6-1ac6e79a0057",
        "colab": {
          "base_uri": "https://localhost:8080/"
        }
      },
      "execution_count": null,
      "outputs": [
        {
          "output_type": "stream",
          "name": "stdout",
          "text": [
            "make\n",
            "help\n",
            "work\n",
            "business\n",
            "product\n",
            "good\n"
          ]
        }
      ]
    },
    {
      "cell_type": "code",
      "source": [
        "len(values_words_vn)"
      ],
      "metadata": {
        "colab": {
          "base_uri": "https://localhost:8080/"
        },
        "id": "4nnHdQZwrKe4",
        "outputId": "ad29824a-ff03-4d3d-8b2e-5cc4fcf29eca"
      },
      "execution_count": null,
      "outputs": [
        {
          "output_type": "execute_result",
          "data": {
            "text/plain": [
              "2438"
            ]
          },
          "metadata": {},
          "execution_count": 160
        }
      ]
    },
    {
      "cell_type": "code",
      "source": [
        "list_mots_lf = sorted(vocab_l_f.items(), key= lambda x:x[1])\n",
        "list_mots_lf = [word for (word,idx) in  list_mots_lf]\n",
        "words_lf = zip(list_mots_lf, values_words_lf)\n",
        "words_lf = sorted(words_lf, key= lambda x:x[1], reverse=True)\n",
        "\n",
        "result_for_WC = {}\n",
        "#iterating over the tuples lists\n",
        "for (key, value) in words_lf:\n",
        "  if value > 32:\n",
        "    print(key)\n",
        "  if value <= 32:\n",
        "    result_for_WC[key] = value"
      ],
      "metadata": {
        "outputId": "a03c295a-9642-443f-f923-7fcb276c89bb",
        "colab": {
          "base_uri": "https://localhost:8080/"
        },
        "id": "ggnmAGA_pQbJ"
      },
      "execution_count": null,
      "outputs": [
        {
          "output_type": "stream",
          "name": "stdout",
          "text": [
            "make\n",
            "help\n",
            "work\n",
            "business\n",
            "product\n",
            "good\n"
          ]
        }
      ]
    },
    {
      "cell_type": "code",
      "source": [
        "#len(set(list_mots_lf).intersection(list_mots))\n",
        "#len(set(list_mots_lf).difference(list_mots))\n",
        "#set(list_mots_lf).difference(list_mots)\n",
        "set(list_mots).difference(list_mots_lf)\n"
      ],
      "metadata": {
        "colab": {
          "base_uri": "https://localhost:8080/"
        },
        "id": "dprYUMc-rRKJ",
        "outputId": "a03556ab-21f7-4496-959d-cc5c7ca99656"
      },
      "execution_count": null,
      "outputs": [
        {
          "output_type": "execute_result",
          "data": {
            "text/plain": [
              "{'19', 'com', 'covid', 'org', 'www'}"
            ]
          },
          "metadata": {},
          "execution_count": 206
        }
      ]
    },
    {
      "cell_type": "code",
      "source": [
        "set(list_mots_lf).difference(list_mots)\n"
      ],
      "metadata": {
        "colab": {
          "base_uri": "https://localhost:8080/"
        },
        "id": "Yp4OegwosVCZ",
        "outputId": "81f5250c-f5b5-408f-c172-b85f3411ffcf"
      },
      "execution_count": null,
      "outputs": [
        {
          "output_type": "execute_result",
          "data": {
            "text/plain": [
              "{'covid-19', 'p.m.'}"
            ]
          },
          "metadata": {},
          "execution_count": 207
        }
      ]
    },
    {
      "cell_type": "code",
      "source": [
        "result_for_WC[]"
      ],
      "metadata": {
        "id": "oparHmoclltP"
      },
      "execution_count": null,
      "outputs": []
    },
    {
      "cell_type": "code",
      "source": [
        "tfidf_matrix"
      ],
      "metadata": {
        "id": "uhjYH7W8kPWY"
      },
      "execution_count": null,
      "outputs": []
    },
    {
      "cell_type": "code",
      "source": [
        "from wordcloud import WordCloud\n",
        "import matplotlib.pyplot as plt\n",
        "% matplotlib inline"
      ],
      "metadata": {
        "id": "YY-mM21edgpS"
      },
      "execution_count": null,
      "outputs": []
    },
    {
      "cell_type": "code",
      "source": [
        "diz={\"cazzo\":50, \"minchia\":30, \"intel\":10}"
      ],
      "metadata": {
        "id": "VMUGhpNletV9"
      },
      "execution_count": null,
      "outputs": []
    },
    {
      "cell_type": "code",
      "source": [
        "# Create and generate a word cloud image:\n",
        "#wordcloud = WordCloud().generate_from_frequencies(\" \".join(df_data[\"text_cleaned\"][0]))\n",
        "wordcloud = WordCloud().generate_from_frequencies(result_for_WC)\n",
        "\n",
        "# Display the generated image:\n",
        "plt.imshow(wordcloud, interpolation='bilinear')\n",
        "plt.axis(\"off\")\n",
        "plt.show()"
      ],
      "metadata": {
        "id": "HEJ_7ToIdYwo",
        "outputId": "c22c2cc9-c3bb-4a9f-a306-e1c1296b494c",
        "colab": {
          "base_uri": "https://localhost:8080/",
          "height": 198
        }
      },
      "execution_count": null,
      "outputs": [
        {
          "output_type": "display_data",
          "data": {
            "text/plain": [
              "<Figure size 432x288 with 1 Axes>"
            ],
            "image/png": "[encoded data removed]"
          },
          "metadata": {
            "needs_background": "light"
          }
        }
      ]
    },
    {
      "cell_type": "code",
      "source": [
        "# Create and generate a word cloud image:\n",
        "#wordcloud = WordCloud().generate_from_frequencies(\" \".join(df_data[\"text_cleaned\"][0]))\n",
        "wordcloud = WordCloud().generate_from_frequencies(result_for_WC)\n",
        "\n",
        "# Display the generated image:\n",
        "plt.imshow(wordcloud, interpolation='bilinear')\n",
        "plt.axis(\"off\")\n",
        "plt.show()"
      ],
      "metadata": {
        "id": "TEqkJK_gm3ir",
        "outputId": "312ebd8a-deab-4cf4-ee3b-b3b3532f6893",
        "colab": {
          "base_uri": "https://localhost:8080/",
          "height": 198
        }
      },
      "execution_count": null,
      "outputs": [
        {
          "output_type": "display_data",
          "data": {
            "text/plain": [
              "<Figure size 432x288 with 1 Axes>"
            ],
            "image/png": "[encoded data removed]"
          },
          "metadata": {
            "needs_background": "light"
          }
        }
      ]
    },
    {
      "cell_type": "markdown",
      "metadata": {
        "id": "z30IyKk5zkB-"
      },
      "source": [
        "<a id='pre-processing'></a>\n",
        "# Section 1: Prétraitement des données\n",
        "\n",
        "Dans les prochaines cellules, nous chargerons des données à partir d'un fichier csv et les prétraiterons. \n",
        "\n",
        "Bien que ce ne soit pas de l'apprentissage automatique, nos modèles auront toujours besoin de données. Il est donc utile de connaître quelques manières de traiter les données. (Notez qu'en pratique, il est souvent plus long de prétraiter les données que d'estimer les modèles.) \n",
        "\n",
        "**Je vous suggère de lire cette section, mais de plutôt vous attarder sur les sections subséquentes. Si vous finissez le tutoriel avant la fin de la séance, vous pourrez vous attarder sur cette section.** \n",
        "\n",
        "#### Quelques précisions\n",
        "\n",
        "Nous utiliserons le jeu de [données movielens](https://grouplens.org/datasets/movielens/) qui est disponible publiquement. Le groupe de recherche qui a récolté movielens, a récolté plusieurs jeux de données depuis 20 ans. Nous utiliserons surtout le jeu [ML-1M](https://grouplens.org/datasets/movielens/1m/) qui contient un million de notes. Nous utiliserons en plus les *tags* venant du [jeu ML-20M](https://grouplens.org/datasets/movielens/20m/) (celui-là contient 20M de notes). \n",
        "\n",
        "A part avoir téléchargé le jeu de données, je ne l'ai pas prétraité ou modifié."
      ]
    },
    {
      "cell_type": "code",
      "execution_count": null,
      "metadata": {
        "id": "jjEbpviFzkCA"
      },
      "outputs": [],
      "source": [
        "ROOT_DIR='TEST_PRECONFERENCE/'\n",
        "DATA_DIR=os.path.join(ROOT_DIR, 'dat/ml-1m/') # C'est ici que se trouve les notes "
      ]
    },
    {
      "cell_type": "markdown",
      "metadata": {
        "id": "xqkm9s_pzkCA"
      },
      "source": [
        "#### Charger les noms et types des films\n",
        "\n",
        "Nous commençons par charger en mémoire les données qui décrivent les films du jeu ML-1M à partir du fichier `movies.data`. Chaque ligne dans ce fichier contient les informations suivantes `MovieID::Name::Genres`. \n",
        "\n",
        "Après avoir chargé les données dans une structure `dataFrame` de pandas, cette structure (movies_pd) contiendra les noms des films (`mName`), un identificateur unique (`mid`) et que la catégorie du film (`mGenres`). "
      ]
    },
    {
      "cell_type": "code",
      "execution_count": null,
      "metadata": {
        "id": "aGyHXWRzzkCB"
      },
      "outputs": [],
      "source": [
        "movies_pd = pd.read_csv(os.path.join(DATA_DIR, 'movies.dat'), \n",
        "                        sep='::', \n",
        "                        names=['mid', 'mName', 'mGenres'], engine='python', encoding = 'latin1')"
      ]
    },
    {
      "cell_type": "code",
      "execution_count": null,
      "metadata": {
        "id": "sdDJ5JbZzkCC",
        "outputId": "99b6e12b-c762-44fc-f144-747fa250f36d",
        "colab": {
          "base_uri": "https://localhost:8080/"
        }
      },
      "outputs": [
        {
          "output_type": "stream",
          "name": "stdout",
          "text": [
            "Ce jeu de données contient 3883 films.\n"
          ]
        }
      ],
      "source": [
        "print(f'Ce jeu de données contient {movies_pd.shape[0]} films.')"
      ]
    },
    {
      "cell_type": "code",
      "execution_count": null,
      "metadata": {
        "id": "VDvh7CkszkCC",
        "outputId": "9ceb79bf-1a8d-42a5-c4ce-a62c5f446881"
      },
      "outputs": [
        {
          "data": {
            "text/html": [
              "<div>\n",
              "<style scoped>\n",
              "    .dataframe tbody tr th:only-of-type {\n",
              "        vertical-align: middle;\n",
              "    }\n",
              "\n",
              "    .dataframe tbody tr th {\n",
              "        vertical-align: top;\n",
              "    }\n",
              "\n",
              "    .dataframe thead th {\n",
              "        text-align: right;\n",
              "    }\n",
              "</style>\n",
              "<table border=\"1\" class=\"dataframe\">\n",
              "  <thead>\n",
              "    <tr style=\"text-align: right;\">\n",
              "      <th></th>\n",
              "      <th>mid</th>\n",
              "      <th>mName</th>\n",
              "      <th>mGenres</th>\n",
              "    </tr>\n",
              "  </thead>\n",
              "  <tbody>\n",
              "    <tr>\n",
              "      <th>0</th>\n",
              "      <td>1</td>\n",
              "      <td>Toy Story (1995)</td>\n",
              "      <td>Animation|Children's|Comedy</td>\n",
              "    </tr>\n",
              "    <tr>\n",
              "      <th>1</th>\n",
              "      <td>2</td>\n",
              "      <td>Jumanji (1995)</td>\n",
              "      <td>Adventure|Children's|Fantasy</td>\n",
              "    </tr>\n",
              "    <tr>\n",
              "      <th>2</th>\n",
              "      <td>3</td>\n",
              "      <td>Grumpier Old Men (1995)</td>\n",
              "      <td>Comedy|Romance</td>\n",
              "    </tr>\n",
              "    <tr>\n",
              "      <th>3</th>\n",
              "      <td>4</td>\n",
              "      <td>Waiting to Exhale (1995)</td>\n",
              "      <td>Comedy|Drama</td>\n",
              "    </tr>\n",
              "    <tr>\n",
              "      <th>4</th>\n",
              "      <td>5</td>\n",
              "      <td>Father of the Bride Part II (1995)</td>\n",
              "      <td>Comedy</td>\n",
              "    </tr>\n",
              "  </tbody>\n",
              "</table>\n",
              "</div>"
            ],
            "text/plain": [
              "   mid                               mName                       mGenres\n",
              "0    1                    Toy Story (1995)   Animation|Children's|Comedy\n",
              "1    2                      Jumanji (1995)  Adventure|Children's|Fantasy\n",
              "2    3             Grumpier Old Men (1995)                Comedy|Romance\n",
              "3    4            Waiting to Exhale (1995)                  Comedy|Drama\n",
              "4    5  Father of the Bride Part II (1995)                        Comedy"
            ]
          },
          "metadata": {},
          "output_type": "display_data"
        }
      ],
      "source": [
        "display(movies_pd.head())"
      ]
    },
    {
      "cell_type": "markdown",
      "metadata": {
        "id": "V415EwNAzkCD"
      },
      "source": [
        "Grace à pandas nous pouvons aussi chercher un film par son identificateur unique `mid` ainsi que par son nom:"
      ]
    },
    {
      "cell_type": "code",
      "execution_count": null,
      "metadata": {
        "id": "MSAABhNmzkCE",
        "outputId": "4227de7e-782a-4f30-8917-df6001239c3a"
      },
      "outputs": [
        {
          "data": {
            "text/html": [
              "<div>\n",
              "<style scoped>\n",
              "    .dataframe tbody tr th:only-of-type {\n",
              "        vertical-align: middle;\n",
              "    }\n",
              "\n",
              "    .dataframe tbody tr th {\n",
              "        vertical-align: top;\n",
              "    }\n",
              "\n",
              "    .dataframe thead th {\n",
              "        text-align: right;\n",
              "    }\n",
              "</style>\n",
              "<table border=\"1\" class=\"dataframe\">\n",
              "  <thead>\n",
              "    <tr style=\"text-align: right;\">\n",
              "      <th></th>\n",
              "      <th>mid</th>\n",
              "      <th>mName</th>\n",
              "      <th>mGenres</th>\n",
              "    </tr>\n",
              "  </thead>\n",
              "  <tbody>\n",
              "    <tr>\n",
              "      <th>9</th>\n",
              "      <td>10</td>\n",
              "      <td>GoldenEye (1995)</td>\n",
              "      <td>Action|Adventure|Thriller</td>\n",
              "    </tr>\n",
              "  </tbody>\n",
              "</table>\n",
              "</div>"
            ],
            "text/plain": [
              "   mid             mName                    mGenres\n",
              "9   10  GoldenEye (1995)  Action|Adventure|Thriller"
            ]
          },
          "metadata": {},
          "output_type": "display_data"
        },
        {
          "data": {
            "text/html": [
              "<div>\n",
              "<style scoped>\n",
              "    .dataframe tbody tr th:only-of-type {\n",
              "        vertical-align: middle;\n",
              "    }\n",
              "\n",
              "    .dataframe tbody tr th {\n",
              "        vertical-align: top;\n",
              "    }\n",
              "\n",
              "    .dataframe thead th {\n",
              "        text-align: right;\n",
              "    }\n",
              "</style>\n",
              "<table border=\"1\" class=\"dataframe\">\n",
              "  <thead>\n",
              "    <tr style=\"text-align: right;\">\n",
              "      <th></th>\n",
              "      <th>mid</th>\n",
              "      <th>mName</th>\n",
              "      <th>mGenres</th>\n",
              "    </tr>\n",
              "  </thead>\n",
              "  <tbody>\n",
              "    <tr>\n",
              "      <th>1409</th>\n",
              "      <td>1433</td>\n",
              "      <td>Machine, The (1994)</td>\n",
              "      <td>Comedy|Horror</td>\n",
              "    </tr>\n",
              "  </tbody>\n",
              "</table>\n",
              "</div>"
            ],
            "text/plain": [
              "       mid                mName        mGenres\n",
              "1409  1433  Machine, The (1994)  Comedy|Horror"
            ]
          },
          "metadata": {},
          "output_type": "display_data"
        }
      ],
      "source": [
        "mid = 10  # cherchons le film avec l'identificateur 10\n",
        "display(movies_pd[movies_pd.mid==mid])\n",
        "\n",
        "name = 'Machine' # cherchons un film contenant ce mot dans son titre\n",
        "display(movies_pd[movies_pd.mName.str.contains(name, \n",
        "                                               regex=False, case=False)])"
      ]
    },
    {
      "cell_type": "markdown",
      "metadata": {
        "id": "H2VI0N8RzkCE"
      },
      "source": [
        "#### Charger les notes\n",
        "\n",
        "En utilisant la même fonction que plus haut, nous pouvons aussi charger les notes des utilisateurs pour les films. Elles sont dans ce format `UserID::MovieID::Rating::Timestamp` et nous nommerons la colonne avec l'identifiant de l'utilisateur `uid`, la colonne avec l'identifiant du film `mid`, la note avec `rating`, et le moment où la note a été ajoutée au système avec `timestamp`."
      ]
    },
    {
      "cell_type": "code",
      "execution_count": null,
      "metadata": {
        "id": "Gba3i8I-zkCF",
        "outputId": "2c109125-4dd3-43b4-e307-7fb539063422"
      },
      "outputs": [
        {
          "data": {
            "text/html": [
              "<div>\n",
              "<style scoped>\n",
              "    .dataframe tbody tr th:only-of-type {\n",
              "        vertical-align: middle;\n",
              "    }\n",
              "\n",
              "    .dataframe tbody tr th {\n",
              "        vertical-align: top;\n",
              "    }\n",
              "\n",
              "    .dataframe thead th {\n",
              "        text-align: right;\n",
              "    }\n",
              "</style>\n",
              "<table border=\"1\" class=\"dataframe\">\n",
              "  <thead>\n",
              "    <tr style=\"text-align: right;\">\n",
              "      <th></th>\n",
              "      <th>uid</th>\n",
              "      <th>mid</th>\n",
              "      <th>rating</th>\n",
              "      <th>timestamp</th>\n",
              "    </tr>\n",
              "  </thead>\n",
              "  <tbody>\n",
              "    <tr>\n",
              "      <th>0</th>\n",
              "      <td>1</td>\n",
              "      <td>1193</td>\n",
              "      <td>5</td>\n",
              "      <td>978300760</td>\n",
              "    </tr>\n",
              "    <tr>\n",
              "      <th>1</th>\n",
              "      <td>1</td>\n",
              "      <td>661</td>\n",
              "      <td>3</td>\n",
              "      <td>978302109</td>\n",
              "    </tr>\n",
              "    <tr>\n",
              "      <th>2</th>\n",
              "      <td>1</td>\n",
              "      <td>914</td>\n",
              "      <td>3</td>\n",
              "      <td>978301968</td>\n",
              "    </tr>\n",
              "    <tr>\n",
              "      <th>3</th>\n",
              "      <td>1</td>\n",
              "      <td>3408</td>\n",
              "      <td>4</td>\n",
              "      <td>978300275</td>\n",
              "    </tr>\n",
              "    <tr>\n",
              "      <th>4</th>\n",
              "      <td>1</td>\n",
              "      <td>2355</td>\n",
              "      <td>5</td>\n",
              "      <td>978824291</td>\n",
              "    </tr>\n",
              "  </tbody>\n",
              "</table>\n",
              "</div>"
            ],
            "text/plain": [
              "   uid   mid  rating  timestamp\n",
              "0    1  1193       5  978300760\n",
              "1    1   661       3  978302109\n",
              "2    1   914       3  978301968\n",
              "3    1  3408       4  978300275\n",
              "4    1  2355       5  978824291"
            ]
          },
          "metadata": {},
          "output_type": "display_data"
        }
      ],
      "source": [
        "ratings_pd = pd.read_csv(os.path.join(DATA_DIR, 'ratings.dat'), \n",
        "                         sep='::',\n",
        "                         names=['uid', 'mid', 'rating', 'timestamp'],\n",
        "                         parse_dates=['timestamp'],\n",
        "                         infer_datetime_format=True,\n",
        "                         engine='python')\n",
        "\n",
        "display(ratings_pd.head())"
      ]
    },
    {
      "cell_type": "code",
      "execution_count": null,
      "metadata": {
        "id": "zs3PxFwGzkCF",
        "outputId": "e182dd6c-13f0-4e09-983e-ba1d63a0a3e6"
      },
      "outputs": [
        {
          "name": "stdout",
          "output_type": "stream",
          "text": [
            "Ce jeu de données contient 1000209 notes, \n",
            "      venant de 6040 utilisateurs, \n",
            "      et de 3706 items (films).\n"
          ]
        }
      ],
      "source": [
        "print(f\"\"\"Ce jeu de données contient {ratings_pd.shape[0]} notes, \n",
        "      venant de {ratings_pd.uid.nunique()} utilisateurs, \n",
        "      et de {ratings_pd.mid.nunique()} items (films).\"\"\")"
      ]
    },
    {
      "cell_type": "markdown",
      "metadata": {
        "id": "txHMp7emzkCG"
      },
      "source": [
        "#### Charger les données sociodémographiques des utilisateurs\n",
        "\n",
        "Le fichier est aussi un csv en format `UserID::Gender::Age::Occupation::Zip-code`, que nous chargerons dans un `dataFrame` ayant les colonnes `uid,gender,age,occupation,zip`. \n",
        "\n"
      ]
    },
    {
      "cell_type": "code",
      "execution_count": null,
      "metadata": {
        "id": "bJwfMNw4zkCG",
        "outputId": "77bbadca-10df-440c-f53b-15b27c2de7a8"
      },
      "outputs": [
        {
          "data": {
            "text/html": [
              "<div>\n",
              "<style scoped>\n",
              "    .dataframe tbody tr th:only-of-type {\n",
              "        vertical-align: middle;\n",
              "    }\n",
              "\n",
              "    .dataframe tbody tr th {\n",
              "        vertical-align: top;\n",
              "    }\n",
              "\n",
              "    .dataframe thead th {\n",
              "        text-align: right;\n",
              "    }\n",
              "</style>\n",
              "<table border=\"1\" class=\"dataframe\">\n",
              "  <thead>\n",
              "    <tr style=\"text-align: right;\">\n",
              "      <th></th>\n",
              "      <th>uid</th>\n",
              "      <th>gender</th>\n",
              "      <th>age</th>\n",
              "      <th>occupation</th>\n",
              "      <th>zip</th>\n",
              "    </tr>\n",
              "  </thead>\n",
              "  <tbody>\n",
              "    <tr>\n",
              "      <th>0</th>\n",
              "      <td>1</td>\n",
              "      <td>F</td>\n",
              "      <td>1</td>\n",
              "      <td>10</td>\n",
              "      <td>48067</td>\n",
              "    </tr>\n",
              "    <tr>\n",
              "      <th>1</th>\n",
              "      <td>2</td>\n",
              "      <td>M</td>\n",
              "      <td>56</td>\n",
              "      <td>16</td>\n",
              "      <td>70072</td>\n",
              "    </tr>\n",
              "    <tr>\n",
              "      <th>2</th>\n",
              "      <td>3</td>\n",
              "      <td>M</td>\n",
              "      <td>25</td>\n",
              "      <td>15</td>\n",
              "      <td>55117</td>\n",
              "    </tr>\n",
              "    <tr>\n",
              "      <th>3</th>\n",
              "      <td>4</td>\n",
              "      <td>M</td>\n",
              "      <td>45</td>\n",
              "      <td>7</td>\n",
              "      <td>02460</td>\n",
              "    </tr>\n",
              "    <tr>\n",
              "      <th>4</th>\n",
              "      <td>5</td>\n",
              "      <td>M</td>\n",
              "      <td>25</td>\n",
              "      <td>20</td>\n",
              "      <td>55455</td>\n",
              "    </tr>\n",
              "  </tbody>\n",
              "</table>\n",
              "</div>"
            ],
            "text/plain": [
              "   uid gender  age  occupation    zip\n",
              "0    1      F    1          10  48067\n",
              "1    2      M   56          16  70072\n",
              "2    3      M   25          15  55117\n",
              "3    4      M   45           7  02460\n",
              "4    5      M   25          20  55455"
            ]
          },
          "metadata": {},
          "output_type": "display_data"
        }
      ],
      "source": [
        "users_pd = pd.read_csv(os.path.join(DATA_DIR, 'users.dat'),\n",
        "                       sep='::',\n",
        "                       names=['uid', 'gender', 'age', 'occupation', 'zip'],\n",
        "                       engine=\"python\")\n",
        "\n",
        "display(users_pd.head())"
      ]
    },
    {
      "cell_type": "code",
      "execution_count": null,
      "metadata": {
        "id": "cj37u5b5zkCH",
        "outputId": "ca50d623-4c79-482a-84ef-38306595e30a"
      },
      "outputs": [
        {
          "name": "stdout",
          "output_type": "stream",
          "text": [
            "Ce jeu de données contient 6040 utilisateurs.\n"
          ]
        }
      ],
      "source": [
        "print(f'Ce jeu de données contient {users_pd.shape[0]} utilisateurs.')"
      ]
    },
    {
      "cell_type": "markdown",
      "metadata": {
        "id": "-M7UJhqjzkCH"
      },
      "source": [
        "Vous avez peut-être remarqué que chaque code postal (zip code) est une suite de 5 chiffres. Puisqu'il y en a beaucoup, nous préférons les tronquer et en garder que les deux premiers chiffres (donc 27392 -> 27). La raison est simple, les codes postaux sont des variables catégorielles et nous n'avons que 6K utilisateurs et >3.4K codes postaux uniques, il est donc improbable que les coefficients qui y seront associés soient très précis."
      ]
    },
    {
      "cell_type": "code",
      "execution_count": null,
      "metadata": {
        "scrolled": true,
        "id": "gWKT1FgAzkCI",
        "outputId": "ea4511b2-1b8f-473e-df16-abd224428a4e"
      },
      "outputs": [
        {
          "name": "stdout",
          "output_type": "stream",
          "text": [
            "Nous débutons avec 3439 code postaux (zip codes) uniques.\n"
          ]
        },
        {
          "data": {
            "text/plain": [
              "0    48\n",
              "1    70\n",
              "2    55\n",
              "3    02\n",
              "4    55\n",
              "Name: zip, dtype: object"
            ]
          },
          "metadata": {},
          "output_type": "display_data"
        },
        {
          "name": "stdout",
          "output_type": "stream",
          "text": [
            "En ne conservant que les deux premiers chiffres de chaque code, nous réduisons le nombre de code uniques à 100.\n"
          ]
        }
      ],
      "source": [
        "print(f'Nous débutons avec {users_pd.zip.nunique()} code postaux (zip codes) uniques.')\n",
        "users_pd['zip'] = users_pd['zip'].apply(lambda x: x[:2])\n",
        "display(users_pd['zip'].head())\n",
        "print(f'En ne conservant que les deux premiers chiffres de chaque code, nous réduisons le nombre de code uniques à {users_pd.zip.nunique()}.')"
      ]
    },
    {
      "cell_type": "markdown",
      "metadata": {
        "id": "LBM9YgfWzkCI"
      },
      "source": [
        "Nous devons aussi charger les *tags* associées aux films (nous utiliserons les *tags* du jeu de données ml-20M). Les utilisateurs associent les *tags* aux films. Chaque paire film-tag est aussi associée à un degré d'affinité (il dépend du nombre d'utilisateurs ayant *tagger* le film avec un *tag*). \n",
        "\n",
        "Encore une fois, nous chargerons les données csv `movieId,tagId,relevance` dans une structure `dataFrame` ayant les colonnes `mid,tid,relevance`. "
      ]
    },
    {
      "cell_type": "code",
      "execution_count": null,
      "metadata": {
        "id": "Q9VQzPuSzkCI",
        "outputId": "90fab817-2bd7-42a5-e5a4-15df88422cb5"
      },
      "outputs": [
        {
          "data": {
            "text/html": [
              "<div>\n",
              "<style scoped>\n",
              "    .dataframe tbody tr th:only-of-type {\n",
              "        vertical-align: middle;\n",
              "    }\n",
              "\n",
              "    .dataframe tbody tr th {\n",
              "        vertical-align: top;\n",
              "    }\n",
              "\n",
              "    .dataframe thead th {\n",
              "        text-align: right;\n",
              "    }\n",
              "</style>\n",
              "<table border=\"1\" class=\"dataframe\">\n",
              "  <thead>\n",
              "    <tr style=\"text-align: right;\">\n",
              "      <th></th>\n",
              "      <th>mid</th>\n",
              "      <th>tid</th>\n",
              "      <th>relevance</th>\n",
              "    </tr>\n",
              "  </thead>\n",
              "  <tbody>\n",
              "    <tr>\n",
              "      <th>0</th>\n",
              "      <td>1</td>\n",
              "      <td>1</td>\n",
              "      <td>0.02500</td>\n",
              "    </tr>\n",
              "    <tr>\n",
              "      <th>1</th>\n",
              "      <td>1</td>\n",
              "      <td>2</td>\n",
              "      <td>0.02500</td>\n",
              "    </tr>\n",
              "    <tr>\n",
              "      <th>2</th>\n",
              "      <td>1</td>\n",
              "      <td>3</td>\n",
              "      <td>0.05775</td>\n",
              "    </tr>\n",
              "    <tr>\n",
              "      <th>3</th>\n",
              "      <td>1</td>\n",
              "      <td>4</td>\n",
              "      <td>0.09675</td>\n",
              "    </tr>\n",
              "    <tr>\n",
              "      <th>4</th>\n",
              "      <td>1</td>\n",
              "      <td>5</td>\n",
              "      <td>0.14675</td>\n",
              "    </tr>\n",
              "    <tr>\n",
              "      <th>5</th>\n",
              "      <td>1</td>\n",
              "      <td>6</td>\n",
              "      <td>0.21700</td>\n",
              "    </tr>\n",
              "    <tr>\n",
              "      <th>6</th>\n",
              "      <td>1</td>\n",
              "      <td>7</td>\n",
              "      <td>0.06700</td>\n",
              "    </tr>\n",
              "    <tr>\n",
              "      <th>7</th>\n",
              "      <td>1</td>\n",
              "      <td>8</td>\n",
              "      <td>0.26275</td>\n",
              "    </tr>\n",
              "    <tr>\n",
              "      <th>8</th>\n",
              "      <td>1</td>\n",
              "      <td>9</td>\n",
              "      <td>0.26200</td>\n",
              "    </tr>\n",
              "    <tr>\n",
              "      <th>9</th>\n",
              "      <td>1</td>\n",
              "      <td>10</td>\n",
              "      <td>0.03200</td>\n",
              "    </tr>\n",
              "  </tbody>\n",
              "</table>\n",
              "</div>"
            ],
            "text/plain": [
              "   mid  tid  relevance\n",
              "0    1    1    0.02500\n",
              "1    1    2    0.02500\n",
              "2    1    3    0.05775\n",
              "3    1    4    0.09675\n",
              "4    1    5    0.14675\n",
              "5    1    6    0.21700\n",
              "6    1    7    0.06700\n",
              "7    1    8    0.26275\n",
              "8    1    9    0.26200\n",
              "9    1   10    0.03200"
            ]
          },
          "metadata": {},
          "output_type": "display_data"
        }
      ],
      "source": [
        "# chargement des tags provenant du jeu ML-20m\n",
        "tags_scores = pd.read_csv(os.path.join(DATA_DIR_20ML, 'genome-scores.csv.gz'), \n",
        "                          skiprows=1, \n",
        "                          names=['mid', 'tid', 'relevance'])\n",
        "display(tags_scores.head(10))"
      ]
    },
    {
      "cell_type": "code",
      "execution_count": null,
      "metadata": {
        "scrolled": true,
        "id": "FqN_KeKwzkCI",
        "outputId": "edf8dff2-1cde-432e-eaa9-a342e57f2cef"
      },
      "outputs": [
        {
          "name": "stdout",
          "output_type": "stream",
          "text": [
            "Les données contiennent 1128 tags uniques.\n",
            "L'étendue des affinitées est de 0.00024999999999997247--1.0.\n"
          ]
        },
        {
          "data": {
            "text/plain": [
              "count    1.170977e+07\n",
              "mean     1.164833e-01\n",
              "std      1.542463e-01\n",
              "min      2.500000e-04\n",
              "25%      2.425000e-02\n",
              "50%      5.650000e-02\n",
              "75%      1.415000e-01\n",
              "max      1.000000e+00\n",
              "Name: relevance, dtype: float64"
            ]
          },
          "metadata": {},
          "output_type": "display_data"
        }
      ],
      "source": [
        "print(f'Les données contiennent {tags_scores.tid.nunique()} tags uniques.')\n",
        "print(f\"L'étendue des affinitées est de {tags_scores.relevance.min()}--{tags_scores.relevance.max()}.\")\n",
        "display(tags_scores.relevance.describe())"
      ]
    },
    {
      "cell_type": "markdown",
      "metadata": {
        "id": "Pk_Tb-W9zkCJ"
      },
      "source": [
        "Notons que les affinitées sont donc (grosso modo) comprises entre des valeurs de 0 et de 1 avec une moyenne de 0.12."
      ]
    },
    {
      "cell_type": "markdown",
      "metadata": {
        "id": "5v0mnU0rzkCJ"
      },
      "source": [
        "#### Charger les noms des tags\n",
        "\n",
        "Ces données pourront être utiles pour mieux comprendre et explorer nos résultats. "
      ]
    },
    {
      "cell_type": "code",
      "execution_count": null,
      "metadata": {
        "id": "t4RfPFKzzkCK",
        "outputId": "e04d485e-0aa0-4481-8390-002504e6e978"
      },
      "outputs": [
        {
          "data": {
            "text/html": [
              "<div>\n",
              "<style scoped>\n",
              "    .dataframe tbody tr th:only-of-type {\n",
              "        vertical-align: middle;\n",
              "    }\n",
              "\n",
              "    .dataframe tbody tr th {\n",
              "        vertical-align: top;\n",
              "    }\n",
              "\n",
              "    .dataframe thead th {\n",
              "        text-align: right;\n",
              "    }\n",
              "</style>\n",
              "<table border=\"1\" class=\"dataframe\">\n",
              "  <thead>\n",
              "    <tr style=\"text-align: right;\">\n",
              "      <th></th>\n",
              "      <th>tid</th>\n",
              "      <th>tName</th>\n",
              "    </tr>\n",
              "  </thead>\n",
              "  <tbody>\n",
              "    <tr>\n",
              "      <th>0</th>\n",
              "      <td>1</td>\n",
              "      <td>007</td>\n",
              "    </tr>\n",
              "    <tr>\n",
              "      <th>1</th>\n",
              "      <td>2</td>\n",
              "      <td>007 (series)</td>\n",
              "    </tr>\n",
              "    <tr>\n",
              "      <th>2</th>\n",
              "      <td>3</td>\n",
              "      <td>18th century</td>\n",
              "    </tr>\n",
              "    <tr>\n",
              "      <th>3</th>\n",
              "      <td>4</td>\n",
              "      <td>1920s</td>\n",
              "    </tr>\n",
              "    <tr>\n",
              "      <th>4</th>\n",
              "      <td>5</td>\n",
              "      <td>1930s</td>\n",
              "    </tr>\n",
              "    <tr>\n",
              "      <th>5</th>\n",
              "      <td>6</td>\n",
              "      <td>1950s</td>\n",
              "    </tr>\n",
              "    <tr>\n",
              "      <th>6</th>\n",
              "      <td>7</td>\n",
              "      <td>1960s</td>\n",
              "    </tr>\n",
              "    <tr>\n",
              "      <th>7</th>\n",
              "      <td>8</td>\n",
              "      <td>1970s</td>\n",
              "    </tr>\n",
              "    <tr>\n",
              "      <th>8</th>\n",
              "      <td>9</td>\n",
              "      <td>1980s</td>\n",
              "    </tr>\n",
              "    <tr>\n",
              "      <th>9</th>\n",
              "      <td>10</td>\n",
              "      <td>19th century</td>\n",
              "    </tr>\n",
              "  </tbody>\n",
              "</table>\n",
              "</div>"
            ],
            "text/plain": [
              "   tid         tName\n",
              "0    1           007\n",
              "1    2  007 (series)\n",
              "2    3  18th century\n",
              "3    4         1920s\n",
              "4    5         1930s\n",
              "5    6         1950s\n",
              "6    7         1960s\n",
              "7    8         1970s\n",
              "8    9         1980s\n",
              "9   10  19th century"
            ]
          },
          "metadata": {},
          "output_type": "display_data"
        }
      ],
      "source": [
        "tags_names = pd.read_csv(os.path.join(DATA_DIR_20ML, 'genome-tags.csv'), skiprows=1, names=['tid', 'tName'])\n",
        "display(tags_names.head(10))"
      ]
    },
    {
      "cell_type": "markdown",
      "metadata": {
        "id": "hQyaYDlpzkCK"
      },
      "source": [
        "Puisque les tags viennent d'un autre ensemble de données qui est aussi plus récent (ml-20M), nous n'avons qu'à garder les tags qui correspondent à des films dans notre ensemble (ml-1M). Heureusement, puisque les deux jeux de données viennent du même fournisseur (movielens), les identifiants des films (`mid`) sont les mêmes dans les deux jeux de données (p.ex., nous n'avons donc pas besoin d'apparier les films selon leur titre, qui sont en général plus bruités).\n",
        "\n",
        "(Notez: Pandas vous donne accès à un ensemble d'opérations comparables aux fonctions de SQL pour les bases de données relationnelles.)"
      ]
    },
    {
      "cell_type": "code",
      "execution_count": null,
      "metadata": {
        "id": "5SmKok4RzkCK",
        "outputId": "da621ccf-85aa-48d2-f848-a6d480067f7a"
      },
      "outputs": [
        {
          "name": "stdout",
          "output_type": "stream",
          "text": [
            "3470\n"
          ]
        }
      ],
      "source": [
        "tags_scores = tags_scores.loc[tags_scores['mid'].isin(ratings_pd['mid'].unique())]\n",
        "print(tags_scores.mid.nunique())"
      ]
    },
    {
      "cell_type": "markdown",
      "metadata": {
        "id": "z6NsFdROzkCL"
      },
      "source": [
        "Nous avons perdu quelques films (qui ne contenaient donc pas de *tags*), mais ce n'est pas très grave pour aujourd'hui.\n",
        "\n",
        "Ensuite, nous conserverons que les affinités les plus hautes pour chaque film. En d'autres mots, nous imaginons donc que la présence d'un *tag* est plus importante que son absence. En plus, cette opération nous permet de réduire le nombre de *tags* par film."
      ]
    },
    {
      "cell_type": "code",
      "execution_count": null,
      "metadata": {
        "scrolled": true,
        "id": "k2QzqVG1zkCL",
        "outputId": "050d64bc-4019-424f-c171-9476d1f8979a"
      },
      "outputs": [
        {
          "name": "stdout",
          "output_type": "stream",
          "text": [
            "unique tags: 1128\n",
            "unique tags w. high relevance: 968\n"
          ]
        }
      ],
      "source": [
        "# Nous conversons que les pairs film-tag ayant une affinité supérieure à 0.9\n",
        "print('unique tags:', tags_scores['tid'].nunique())\n",
        "tags_scores_high = tags_scores.loc[tags_scores['relevance'] > 0.9]\n",
        "print('unique tags w. high relevance:', tags_scores_high['tid'].nunique())"
      ]
    },
    {
      "cell_type": "markdown",
      "metadata": {
        "id": "4rf2BkySzkCL"
      },
      "source": [
        "#### Explorons les *tags*"
      ]
    },
    {
      "cell_type": "markdown",
      "metadata": {
        "id": "8nsnUBxZzkCM"
      },
      "source": [
        "Essayons de comprendre comment les utilisateurs du système ont *tagger* les films. Avant tout, il nous sera pratique d'avoir une structure de type `dataFrame` qui contiendra les noms de tags, les noms de films ainsi que les affinités.  (pour l'instant, ces données sont dans trois différentes structures). \n",
        "\n",
        "En pandas, la fonction `merge` est utile pour joindre deux `dataFrames` en utilisant une clé unique. (C'est une opération inspirée d'une jointure interne (*inner join*) en SQL.)"
      ]
    },
    {
      "cell_type": "code",
      "execution_count": null,
      "metadata": {
        "scrolled": true,
        "id": "9O_GzCbgzkCM",
        "outputId": "f29e59eb-57ba-4cda-d4e3-7d89371590b7"
      },
      "outputs": [
        {
          "data": {
            "text/html": [
              "<div>\n",
              "<style scoped>\n",
              "    .dataframe tbody tr th:only-of-type {\n",
              "        vertical-align: middle;\n",
              "    }\n",
              "\n",
              "    .dataframe tbody tr th {\n",
              "        vertical-align: top;\n",
              "    }\n",
              "\n",
              "    .dataframe thead th {\n",
              "        text-align: right;\n",
              "    }\n",
              "</style>\n",
              "<table border=\"1\" class=\"dataframe\">\n",
              "  <thead>\n",
              "    <tr style=\"text-align: right;\">\n",
              "      <th></th>\n",
              "      <th>mid</th>\n",
              "      <th>tid</th>\n",
              "      <th>relevance</th>\n",
              "      <th>tName</th>\n",
              "      <th>mName</th>\n",
              "      <th>mGenres</th>\n",
              "    </tr>\n",
              "  </thead>\n",
              "  <tbody>\n",
              "    <tr>\n",
              "      <th>0</th>\n",
              "      <td>1</td>\n",
              "      <td>63</td>\n",
              "      <td>0.93325</td>\n",
              "      <td>animated</td>\n",
              "      <td>Toy Story (1995)</td>\n",
              "      <td>Animation|Children's|Comedy</td>\n",
              "    </tr>\n",
              "    <tr>\n",
              "      <th>1</th>\n",
              "      <td>1</td>\n",
              "      <td>64</td>\n",
              "      <td>0.98575</td>\n",
              "      <td>animation</td>\n",
              "      <td>Toy Story (1995)</td>\n",
              "      <td>Animation|Children's|Comedy</td>\n",
              "    </tr>\n",
              "    <tr>\n",
              "      <th>2</th>\n",
              "      <td>1</td>\n",
              "      <td>186</td>\n",
              "      <td>0.95650</td>\n",
              "      <td>cartoon</td>\n",
              "      <td>Toy Story (1995)</td>\n",
              "      <td>Animation|Children's|Comedy</td>\n",
              "    </tr>\n",
              "    <tr>\n",
              "      <th>3</th>\n",
              "      <td>1</td>\n",
              "      <td>203</td>\n",
              "      <td>0.92625</td>\n",
              "      <td>childhood</td>\n",
              "      <td>Toy Story (1995)</td>\n",
              "      <td>Animation|Children's|Comedy</td>\n",
              "    </tr>\n",
              "    <tr>\n",
              "      <th>4</th>\n",
              "      <td>1</td>\n",
              "      <td>204</td>\n",
              "      <td>0.96425</td>\n",
              "      <td>children</td>\n",
              "      <td>Toy Story (1995)</td>\n",
              "      <td>Animation|Children's|Comedy</td>\n",
              "    </tr>\n",
              "  </tbody>\n",
              "</table>\n",
              "</div>"
            ],
            "text/plain": [
              "   mid  tid  relevance      tName             mName  \\\n",
              "0    1   63    0.93325   animated  Toy Story (1995)   \n",
              "1    1   64    0.98575  animation  Toy Story (1995)   \n",
              "2    1  186    0.95650    cartoon  Toy Story (1995)   \n",
              "3    1  203    0.92625  childhood  Toy Story (1995)   \n",
              "4    1  204    0.96425   children  Toy Story (1995)   \n",
              "\n",
              "                       mGenres  \n",
              "0  Animation|Children's|Comedy  \n",
              "1  Animation|Children's|Comedy  \n",
              "2  Animation|Children's|Comedy  \n",
              "3  Animation|Children's|Comedy  \n",
              "4  Animation|Children's|Comedy  "
            ]
          },
          "metadata": {},
          "output_type": "display_data"
        }
      ],
      "source": [
        "tags_high_names_movies = pd.merge(tags_scores_high, tags_names, how='inner', on='tid')\n",
        "tags_high_names_movies = pd.merge(tags_high_names_movies, movies_pd, how='inner', on='mid')\n",
        "display(tags_high_names_movies.head())"
      ]
    },
    {
      "cell_type": "markdown",
      "metadata": {
        "id": "fEz1uTmbzkCN"
      },
      "source": [
        "Un peu comme plus haut, nous pouvons maintenant trouver les films ayant la plus haute affinité pour une certaine *tag*:"
      ]
    },
    {
      "cell_type": "code",
      "execution_count": null,
      "metadata": {
        "id": "3I9nbJsZzkCN",
        "outputId": "f5c70464-36e8-4867-ee7b-7741e1daafa9"
      },
      "outputs": [
        {
          "data": {
            "text/html": [
              "<div>\n",
              "<style scoped>\n",
              "    .dataframe tbody tr th:only-of-type {\n",
              "        vertical-align: middle;\n",
              "    }\n",
              "\n",
              "    .dataframe tbody tr th {\n",
              "        vertical-align: top;\n",
              "    }\n",
              "\n",
              "    .dataframe thead th {\n",
              "        text-align: right;\n",
              "    }\n",
              "</style>\n",
              "<table border=\"1\" class=\"dataframe\">\n",
              "  <thead>\n",
              "    <tr style=\"text-align: right;\">\n",
              "      <th></th>\n",
              "      <th>mid</th>\n",
              "      <th>tid</th>\n",
              "      <th>relevance</th>\n",
              "      <th>tName</th>\n",
              "      <th>mName</th>\n",
              "      <th>mGenres</th>\n",
              "    </tr>\n",
              "  </thead>\n",
              "  <tbody>\n",
              "    <tr>\n",
              "      <th>13151</th>\n",
              "      <td>2710</td>\n",
              "      <td>882</td>\n",
              "      <td>0.96700</td>\n",
              "      <td>scary</td>\n",
              "      <td>Blair Witch Project, The (1999)</td>\n",
              "      <td>Horror</td>\n",
              "    </tr>\n",
              "    <tr>\n",
              "      <th>14005</th>\n",
              "      <td>1342</td>\n",
              "      <td>882</td>\n",
              "      <td>0.96625</td>\n",
              "      <td>scary</td>\n",
              "      <td>Candyman (1992)</td>\n",
              "      <td>Horror</td>\n",
              "    </tr>\n",
              "    <tr>\n",
              "      <th>9205</th>\n",
              "      <td>1347</td>\n",
              "      <td>882</td>\n",
              "      <td>0.96550</td>\n",
              "      <td>scary</td>\n",
              "      <td>Nightmare on Elm Street, A (1984)</td>\n",
              "      <td>Horror</td>\n",
              "    </tr>\n",
              "    <tr>\n",
              "      <th>14658</th>\n",
              "      <td>3892</td>\n",
              "      <td>882</td>\n",
              "      <td>0.96475</td>\n",
              "      <td>scary</td>\n",
              "      <td>Anatomy (Anatomie) (2000)</td>\n",
              "      <td>Horror</td>\n",
              "    </tr>\n",
              "    <tr>\n",
              "      <th>3187</th>\n",
              "      <td>1997</td>\n",
              "      <td>882</td>\n",
              "      <td>0.96200</td>\n",
              "      <td>scary</td>\n",
              "      <td>Exorcist, The (1973)</td>\n",
              "      <td>Horror</td>\n",
              "    </tr>\n",
              "    <tr>\n",
              "      <th>14021</th>\n",
              "      <td>2550</td>\n",
              "      <td>882</td>\n",
              "      <td>0.95625</td>\n",
              "      <td>scary</td>\n",
              "      <td>Haunting, The (1963)</td>\n",
              "      <td>Horror|Thriller</td>\n",
              "    </tr>\n",
              "    <tr>\n",
              "      <th>11492</th>\n",
              "      <td>1350</td>\n",
              "      <td>882</td>\n",
              "      <td>0.94675</td>\n",
              "      <td>scary</td>\n",
              "      <td>Omen, The (1976)</td>\n",
              "      <td>Horror</td>\n",
              "    </tr>\n",
              "    <tr>\n",
              "      <th>11546</th>\n",
              "      <td>2841</td>\n",
              "      <td>882</td>\n",
              "      <td>0.94650</td>\n",
              "      <td>scary</td>\n",
              "      <td>Stir of Echoes (1999)</td>\n",
              "      <td>Thriller</td>\n",
              "    </tr>\n",
              "    <tr>\n",
              "      <th>9340</th>\n",
              "      <td>1974</td>\n",
              "      <td>882</td>\n",
              "      <td>0.94625</td>\n",
              "      <td>scary</td>\n",
              "      <td>Friday the 13th (1980)</td>\n",
              "      <td>Horror</td>\n",
              "    </tr>\n",
              "    <tr>\n",
              "      <th>2976</th>\n",
              "      <td>1387</td>\n",
              "      <td>882</td>\n",
              "      <td>0.94250</td>\n",
              "      <td>scary</td>\n",
              "      <td>Jaws (1975)</td>\n",
              "      <td>Action|Horror</td>\n",
              "    </tr>\n",
              "    <tr>\n",
              "      <th>5121</th>\n",
              "      <td>2460</td>\n",
              "      <td>882</td>\n",
              "      <td>0.93925</td>\n",
              "      <td>scary</td>\n",
              "      <td>Texas Chainsaw Massacre 2, The (1986)</td>\n",
              "      <td>Horror</td>\n",
              "    </tr>\n",
              "    <tr>\n",
              "      <th>2488</th>\n",
              "      <td>1214</td>\n",
              "      <td>882</td>\n",
              "      <td>0.93875</td>\n",
              "      <td>scary</td>\n",
              "      <td>Alien (1979)</td>\n",
              "      <td>Action|Horror|Sci-Fi|Thriller</td>\n",
              "    </tr>\n",
              "    <tr>\n",
              "      <th>9478</th>\n",
              "      <td>3273</td>\n",
              "      <td>882</td>\n",
              "      <td>0.93825</td>\n",
              "      <td>scary</td>\n",
              "      <td>Scream 3 (2000)</td>\n",
              "      <td>Horror|Mystery|Thriller</td>\n",
              "    </tr>\n",
              "    <tr>\n",
              "      <th>13208</th>\n",
              "      <td>1590</td>\n",
              "      <td>882</td>\n",
              "      <td>0.93525</td>\n",
              "      <td>scary</td>\n",
              "      <td>Event Horizon (1997)</td>\n",
              "      <td>Action|Mystery|Sci-Fi|Thriller</td>\n",
              "    </tr>\n",
              "    <tr>\n",
              "      <th>13916</th>\n",
              "      <td>1321</td>\n",
              "      <td>882</td>\n",
              "      <td>0.93475</td>\n",
              "      <td>scary</td>\n",
              "      <td>American Werewolf in London, An (1981)</td>\n",
              "      <td>Horror</td>\n",
              "    </tr>\n",
              "    <tr>\n",
              "      <th>11518</th>\n",
              "      <td>2160</td>\n",
              "      <td>882</td>\n",
              "      <td>0.93325</td>\n",
              "      <td>scary</td>\n",
              "      <td>Rosemary's Baby (1968)</td>\n",
              "      <td>Horror|Thriller</td>\n",
              "    </tr>\n",
              "    <tr>\n",
              "      <th>4825</th>\n",
              "      <td>2719</td>\n",
              "      <td>882</td>\n",
              "      <td>0.92450</td>\n",
              "      <td>scary</td>\n",
              "      <td>Haunting, The (1999)</td>\n",
              "      <td>Horror|Thriller</td>\n",
              "    </tr>\n",
              "    <tr>\n",
              "      <th>7636</th>\n",
              "      <td>3499</td>\n",
              "      <td>882</td>\n",
              "      <td>0.92350</td>\n",
              "      <td>scary</td>\n",
              "      <td>Misery (1990)</td>\n",
              "      <td>Horror</td>\n",
              "    </tr>\n",
              "    <tr>\n",
              "      <th>3452</th>\n",
              "      <td>2762</td>\n",
              "      <td>882</td>\n",
              "      <td>0.92075</td>\n",
              "      <td>scary</td>\n",
              "      <td>Sixth Sense, The (1999)</td>\n",
              "      <td>Thriller</td>\n",
              "    </tr>\n",
              "    <tr>\n",
              "      <th>2781</th>\n",
              "      <td>1258</td>\n",
              "      <td>882</td>\n",
              "      <td>0.91675</td>\n",
              "      <td>scary</td>\n",
              "      <td>Shining, The (1980)</td>\n",
              "      <td>Horror</td>\n",
              "    </tr>\n",
              "    <tr>\n",
              "      <th>12355</th>\n",
              "      <td>3081</td>\n",
              "      <td>882</td>\n",
              "      <td>0.91425</td>\n",
              "      <td>scary</td>\n",
              "      <td>Sleepy Hollow (1999)</td>\n",
              "      <td>Horror|Romance</td>\n",
              "    </tr>\n",
              "    <tr>\n",
              "      <th>2343</th>\n",
              "      <td>1200</td>\n",
              "      <td>882</td>\n",
              "      <td>0.90475</td>\n",
              "      <td>scary</td>\n",
              "      <td>Aliens (1986)</td>\n",
              "      <td>Action|Sci-Fi|Thriller|War</td>\n",
              "    </tr>\n",
              "  </tbody>\n",
              "</table>\n",
              "</div>"
            ],
            "text/plain": [
              "        mid  tid  relevance  tName                                   mName  \\\n",
              "13151  2710  882    0.96700  scary         Blair Witch Project, The (1999)   \n",
              "14005  1342  882    0.96625  scary                         Candyman (1992)   \n",
              "9205   1347  882    0.96550  scary       Nightmare on Elm Street, A (1984)   \n",
              "14658  3892  882    0.96475  scary               Anatomy (Anatomie) (2000)   \n",
              "3187   1997  882    0.96200  scary                    Exorcist, The (1973)   \n",
              "14021  2550  882    0.95625  scary                    Haunting, The (1963)   \n",
              "11492  1350  882    0.94675  scary                        Omen, The (1976)   \n",
              "11546  2841  882    0.94650  scary                   Stir of Echoes (1999)   \n",
              "9340   1974  882    0.94625  scary                  Friday the 13th (1980)   \n",
              "2976   1387  882    0.94250  scary                             Jaws (1975)   \n",
              "5121   2460  882    0.93925  scary   Texas Chainsaw Massacre 2, The (1986)   \n",
              "2488   1214  882    0.93875  scary                            Alien (1979)   \n",
              "9478   3273  882    0.93825  scary                         Scream 3 (2000)   \n",
              "13208  1590  882    0.93525  scary                    Event Horizon (1997)   \n",
              "13916  1321  882    0.93475  scary  American Werewolf in London, An (1981)   \n",
              "11518  2160  882    0.93325  scary                  Rosemary's Baby (1968)   \n",
              "4825   2719  882    0.92450  scary                    Haunting, The (1999)   \n",
              "7636   3499  882    0.92350  scary                           Misery (1990)   \n",
              "3452   2762  882    0.92075  scary                 Sixth Sense, The (1999)   \n",
              "2781   1258  882    0.91675  scary                     Shining, The (1980)   \n",
              "12355  3081  882    0.91425  scary                    Sleepy Hollow (1999)   \n",
              "2343   1200  882    0.90475  scary                           Aliens (1986)   \n",
              "\n",
              "                              mGenres  \n",
              "13151                          Horror  \n",
              "14005                          Horror  \n",
              "9205                           Horror  \n",
              "14658                          Horror  \n",
              "3187                           Horror  \n",
              "14021                 Horror|Thriller  \n",
              "11492                          Horror  \n",
              "11546                        Thriller  \n",
              "9340                           Horror  \n",
              "2976                    Action|Horror  \n",
              "5121                           Horror  \n",
              "2488    Action|Horror|Sci-Fi|Thriller  \n",
              "9478          Horror|Mystery|Thriller  \n",
              "13208  Action|Mystery|Sci-Fi|Thriller  \n",
              "13916                          Horror  \n",
              "11518                 Horror|Thriller  \n",
              "4825                  Horror|Thriller  \n",
              "7636                           Horror  \n",
              "3452                         Thriller  \n",
              "2781                           Horror  \n",
              "12355                  Horror|Romance  \n",
              "2343       Action|Sci-Fi|Thriller|War  "
            ]
          },
          "metadata": {},
          "output_type": "display_data"
        }
      ],
      "source": [
        "tag = 'scary' # Le nom (partiel ou complet) du tag que nous chercherons\n",
        "display(tags_high_names_movies[\n",
        "    tags_high_names_movies.tName.str.contains(tag, \n",
        "                                               regex=False, case=False)].sort_values(by=['relevance'],\n",
        "                                                                                    ascending=False))"
      ]
    },
    {
      "cell_type": "markdown",
      "metadata": {
        "id": "B85QNSYTzkCO"
      },
      "source": [
        "Cette prochaine étape nous permettra d'explorer de manière plus complète les *tags* en plus de fournir un prétraitement qui sera utile pour estimer les modèles à partir de ces données.\n",
        "\n",
        "Dans le jeu de données actuel, chaque pair film-tag est dans un exemple différent (c.-à-d. dans une différente rangée du `dataFrame`). Il sera essentiel pour les modèles que tous les attributs d'un exemple soient sur une même ligne. Nous voulons donc construire une matrice $X$ où chaque exemple aura sa propre ligne. \n",
        "\n",
        "Pour ce faire, nous allons réencoder les `tid` en utilisant un encodage 1-de-K aussi connu comme l'ajout de variables *dummy*. Il est essentiel de comprendre que les données catégorielles (par exemple, « chien / chat ») ne sont pas des variables numériques comme les autres **puisqu'elles n'ont pas d'ordre**. Dans notre jeu de données, les tags ont une valeur numérique (p.ex., la *tag* `scary` a la valeur `882`), mais on ne peut pas comparer les *tags* à l'aide de cette valeur (p.ex., on ne peut pas dire que la *tag* `882` est plus grande que la *tag* `880` ou plus petite que la *tag* `900`). L'encodage 1-de-K traite ce cas en encodant chaque *tag* dans un vecteur binaire, de taille $K$ où la seule valeur non nulle (en général avec une valeur de 1) correspond à l'index du tag. Dans le cas présent, nous avons $K=968$ *tags*, et la *tag* `scary` serait encodée dans un vecteur de `0` ayant une seul `1` à la position `882`. \n",
        "\n",
        "Ci-bas vous verrez qu'après cette transformation (1-de-K), nos données ont maintenant 971 colonnes: 968 pour les tags, une pour le `mid`, une pour la note (`relevance`) et une dernière pour l'index de pandas."
      ]
    },
    {
      "cell_type": "code",
      "execution_count": null,
      "metadata": {
        "id": "xWwfJ2A0zkCO",
        "outputId": "2aeb13a6-e072-4c09-ac75-d584d6488883"
      },
      "outputs": [
        {
          "data": {
            "text/html": [
              "<div>\n",
              "<style scoped>\n",
              "    .dataframe tbody tr th:only-of-type {\n",
              "        vertical-align: middle;\n",
              "    }\n",
              "\n",
              "    .dataframe tbody tr th {\n",
              "        vertical-align: top;\n",
              "    }\n",
              "\n",
              "    .dataframe thead th {\n",
              "        text-align: right;\n",
              "    }\n",
              "</style>\n",
              "<table border=\"1\" class=\"dataframe\">\n",
              "  <thead>\n",
              "    <tr style=\"text-align: right;\">\n",
              "      <th></th>\n",
              "      <th>index</th>\n",
              "      <th>mid</th>\n",
              "      <th>relevance</th>\n",
              "      <th>tid_1</th>\n",
              "      <th>tid_2</th>\n",
              "      <th>tid_3</th>\n",
              "      <th>tid_5</th>\n",
              "      <th>tid_6</th>\n",
              "      <th>tid_7</th>\n",
              "      <th>tid_9</th>\n",
              "      <th>...</th>\n",
              "      <th>tid_1119</th>\n",
              "      <th>tid_1120</th>\n",
              "      <th>tid_1121</th>\n",
              "      <th>tid_1122</th>\n",
              "      <th>tid_1123</th>\n",
              "      <th>tid_1124</th>\n",
              "      <th>tid_1125</th>\n",
              "      <th>tid_1126</th>\n",
              "      <th>tid_1127</th>\n",
              "      <th>tid_1128</th>\n",
              "    </tr>\n",
              "  </thead>\n",
              "  <tbody>\n",
              "    <tr>\n",
              "      <th>0</th>\n",
              "      <td>62</td>\n",
              "      <td>1</td>\n",
              "      <td>0.93325</td>\n",
              "      <td>0</td>\n",
              "      <td>0</td>\n",
              "      <td>0</td>\n",
              "      <td>0</td>\n",
              "      <td>0</td>\n",
              "      <td>0</td>\n",
              "      <td>0</td>\n",
              "      <td>...</td>\n",
              "      <td>0</td>\n",
              "      <td>0</td>\n",
              "      <td>0</td>\n",
              "      <td>0</td>\n",
              "      <td>0</td>\n",
              "      <td>0</td>\n",
              "      <td>0</td>\n",
              "      <td>0</td>\n",
              "      <td>0</td>\n",
              "      <td>0</td>\n",
              "    </tr>\n",
              "    <tr>\n",
              "      <th>1</th>\n",
              "      <td>63</td>\n",
              "      <td>1</td>\n",
              "      <td>0.98575</td>\n",
              "      <td>0</td>\n",
              "      <td>0</td>\n",
              "      <td>0</td>\n",
              "      <td>0</td>\n",
              "      <td>0</td>\n",
              "      <td>0</td>\n",
              "      <td>0</td>\n",
              "      <td>...</td>\n",
              "      <td>0</td>\n",
              "      <td>0</td>\n",
              "      <td>0</td>\n",
              "      <td>0</td>\n",
              "      <td>0</td>\n",
              "      <td>0</td>\n",
              "      <td>0</td>\n",
              "      <td>0</td>\n",
              "      <td>0</td>\n",
              "      <td>0</td>\n",
              "    </tr>\n",
              "    <tr>\n",
              "      <th>2</th>\n",
              "      <td>185</td>\n",
              "      <td>1</td>\n",
              "      <td>0.95650</td>\n",
              "      <td>0</td>\n",
              "      <td>0</td>\n",
              "      <td>0</td>\n",
              "      <td>0</td>\n",
              "      <td>0</td>\n",
              "      <td>0</td>\n",
              "      <td>0</td>\n",
              "      <td>...</td>\n",
              "      <td>0</td>\n",
              "      <td>0</td>\n",
              "      <td>0</td>\n",
              "      <td>0</td>\n",
              "      <td>0</td>\n",
              "      <td>0</td>\n",
              "      <td>0</td>\n",
              "      <td>0</td>\n",
              "      <td>0</td>\n",
              "      <td>0</td>\n",
              "    </tr>\n",
              "    <tr>\n",
              "      <th>3</th>\n",
              "      <td>202</td>\n",
              "      <td>1</td>\n",
              "      <td>0.92625</td>\n",
              "      <td>0</td>\n",
              "      <td>0</td>\n",
              "      <td>0</td>\n",
              "      <td>0</td>\n",
              "      <td>0</td>\n",
              "      <td>0</td>\n",
              "      <td>0</td>\n",
              "      <td>...</td>\n",
              "      <td>0</td>\n",
              "      <td>0</td>\n",
              "      <td>0</td>\n",
              "      <td>0</td>\n",
              "      <td>0</td>\n",
              "      <td>0</td>\n",
              "      <td>0</td>\n",
              "      <td>0</td>\n",
              "      <td>0</td>\n",
              "      <td>0</td>\n",
              "    </tr>\n",
              "    <tr>\n",
              "      <th>4</th>\n",
              "      <td>203</td>\n",
              "      <td>1</td>\n",
              "      <td>0.96425</td>\n",
              "      <td>0</td>\n",
              "      <td>0</td>\n",
              "      <td>0</td>\n",
              "      <td>0</td>\n",
              "      <td>0</td>\n",
              "      <td>0</td>\n",
              "      <td>0</td>\n",
              "      <td>...</td>\n",
              "      <td>0</td>\n",
              "      <td>0</td>\n",
              "      <td>0</td>\n",
              "      <td>0</td>\n",
              "      <td>0</td>\n",
              "      <td>0</td>\n",
              "      <td>0</td>\n",
              "      <td>0</td>\n",
              "      <td>0</td>\n",
              "      <td>0</td>\n",
              "    </tr>\n",
              "  </tbody>\n",
              "</table>\n",
              "<p>5 rows × 971 columns</p>\n",
              "</div>"
            ],
            "text/plain": [
              "   index  mid  relevance  tid_1  tid_2  tid_3  tid_5  tid_6  tid_7  tid_9  \\\n",
              "0     62    1    0.93325      0      0      0      0      0      0      0   \n",
              "1     63    1    0.98575      0      0      0      0      0      0      0   \n",
              "2    185    1    0.95650      0      0      0      0      0      0      0   \n",
              "3    202    1    0.92625      0      0      0      0      0      0      0   \n",
              "4    203    1    0.96425      0      0      0      0      0      0      0   \n",
              "\n",
              "   ...  tid_1119  tid_1120  tid_1121  tid_1122  tid_1123  tid_1124  tid_1125  \\\n",
              "0  ...         0         0         0         0         0         0         0   \n",
              "1  ...         0         0         0         0         0         0         0   \n",
              "2  ...         0         0         0         0         0         0         0   \n",
              "3  ...         0         0         0         0         0         0         0   \n",
              "4  ...         0         0         0         0         0         0         0   \n",
              "\n",
              "   tid_1126  tid_1127  tid_1128  \n",
              "0         0         0         0  \n",
              "1         0         0         0  \n",
              "2         0         0         0  \n",
              "3         0         0         0  \n",
              "4         0         0         0  \n",
              "\n",
              "[5 rows x 971 columns]"
            ]
          },
          "metadata": {},
          "output_type": "display_data"
        }
      ],
      "source": [
        "#print(tags_scores_high.shape)\n",
        "tags_scores_high_dum = pd.get_dummies(tags_scores_high, columns=['tid'])\n",
        "tags_scores_high_dum = tags_scores_high_dum.reset_index()\n",
        "#print(tags_scores_high_dum.shape)\n",
        "display(tags_scores_high_dum.head())\n",
        "tags_per_movie = tags_scores_high_dum.groupby(\"mid\").sum()"
      ]
    },
    {
      "cell_type": "markdown",
      "metadata": {
        "id": "Dprm10OwzkCP"
      },
      "source": [
        "Grâce à ces données, nous pouvons aisément explorer la distribution du nombre de films par tag (et inversement du nombre de tags par film, voir dessous)."
      ]
    },
    {
      "cell_type": "code",
      "execution_count": null,
      "metadata": {
        "id": "ha1WG59OzkCQ",
        "outputId": "d40ad651-f12d-48ab-f220-a8193cfb6043"
      },
      "outputs": [
        {
          "data": {
            "image/png": "[encoded data removed]",
            "text/plain": [
              "<Figure size 432x288 with 1 Axes>"
            ]
          },
          "metadata": {
            "needs_background": "light"
          },
          "output_type": "display_data"
        }
      ],
      "source": [
        "th = tags_scores_high.groupby(\"tid\").count()\n",
        "hists = th.hist(bins=50, column=\"mid\", xlabelsize=15, ylabelsize=15)[0][0]\n",
        "hists.set_ylabel(\"Tags\", size=15)\n",
        "hists.set_xlabel(\"Films par tag\", size=15)\n",
        "hists.set_title(\"Histogramme des films par tag\", size=15);"
      ]
    },
    {
      "cell_type": "markdown",
      "metadata": {
        "id": "HepOBJM8zkCR"
      },
      "source": [
        "Dans cet histogramme chaque barre verticale correspond au nombre de *tags* (axe des y) pour un nombre de films (axe des x). Par exemple, il y a 350 *tags* n'ont été utilisé qu'une poignée de fois (<5). La *tag* la plus populaire a été associée à 210 films.\n",
        "\n",
        "La distribution est asymétrique à gauche ce qui indique que la majorité des tags n'ont été associées qu'à un petit nombre de films."
      ]
    },
    {
      "cell_type": "code",
      "execution_count": null,
      "metadata": {
        "id": "zd7mbtBnzkCR",
        "outputId": "9597cf76-31be-4b38-a646-1122009afd0d"
      },
      "outputs": [
        {
          "name": "stdout",
          "output_type": "stream",
          "text": [
            "La tag la plus populaire \"comedy\" a été associée à 210 films.\n"
          ]
        }
      ],
      "source": [
        "tname = tags_names.at[tags_names.tid.eq(th.mid.idxmax()).idxmax(), 'tName']\n",
        "print(f'La tag la plus populaire \"{tname}\" a été associée à {th.mid.max()} films.')"
      ]
    },
    {
      "cell_type": "markdown",
      "metadata": {
        "id": "Q8LdE98azkCS"
      },
      "source": [
        "En utilisant la même idée (et presque le même code), nous pouvons obtenir quelque chose de similaire pour les films (plutôt que les *tags*). "
      ]
    },
    {
      "cell_type": "code",
      "execution_count": null,
      "metadata": {
        "id": "iBYX51ELzkCS",
        "outputId": "6b16f021-cdab-49b5-ea90-abf9e6a6dbe9"
      },
      "outputs": [
        {
          "data": {
            "image/png": "[encoded data removed]",
            "text/plain": [
              "<Figure size 432x288 with 1 Axes>"
            ]
          },
          "metadata": {
            "needs_background": "light"
          },
          "output_type": "display_data"
        }
      ],
      "source": [
        "hists = tags_scores_high.groupby(\"mid\").count().hist(bins=40, column=\"tid\", xlabelsize=15, ylabelsize=15)\n",
        "hists[0][0].set_ylabel(\"Films\", size=15)\n",
        "hists[0][0].set_xlabel(\"Tags par film\", size=15)\n",
        "hists[0][0].set_title(\"Histogramme des tags par films\", size=15);"
      ]
    },
    {
      "cell_type": "markdown",
      "metadata": {
        "id": "wfPLGrIFzkCS"
      },
      "source": [
        "Sur cet histogramme chaque barre verticale indique le nombre de films (y-axis) associé à un nombre de *tags*. Par exemple, il y a un peu moins de 500 films qui ont reçu une seule 1 *tag*. Un film en a reçu presque 40."
      ]
    },
    {
      "cell_type": "markdown",
      "metadata": {
        "id": "55sPK1VCzkCT"
      },
      "source": [
        "**Question 1:**\n",
        "Quel est le film ayant reçu le plus de *tags* (celui avec prêt de 40)? Bonus: pouvez-vous trouver les 5 films ayant reçu le plus de tags? (Ne passez pas plus de 5 minutes sur cette question.)"
      ]
    },
    {
      "cell_type": "code",
      "execution_count": null,
      "metadata": {
        "id": "_BWypLehzkCT",
        "outputId": "b7ede404-c1ae-4fd5-c93e-63d02dab69c8"
      },
      "outputs": [
        {
          "name": "stdout",
          "output_type": "stream",
          "text": [
            "Le film le plus populaire est \"2502    Matrix, The (1999)\" et il a 40 tags.\n"
          ]
        }
      ],
      "source": [
        "mh = ...\n",
        "mname = ...\n",
        "print(f'The most popular movie \"{mname}\" has {mh.tid.max()} tags')"
      ]
    },
    {
      "cell_type": "markdown",
      "metadata": {
        "id": "njOO5ZeyzkCT"
      },
      "source": [
        "Les prochaines étapes créent un ensemble de données pour l'apprentissage supervisé. Rappelons-nous que nous voulons arriver à prédire les notes que des utilisateurs donneraient à un film à partir de l'utilisateur, du film, ainsi que des attributs des deux."
      ]
    },
    {
      "cell_type": "code",
      "execution_count": null,
      "metadata": {
        "id": "7iiKdikezkCT"
      },
      "outputs": [],
      "source": [
        "# Joindre les utilisateurs, les notes et les tags.\n",
        "data_pd = pd.merge(users_pd, ratings_pd, how='inner', on='uid')\n",
        "data_pd = pd.merge(data_pd, tags_per_movie, how='inner', on='mid')"
      ]
    },
    {
      "cell_type": "markdown",
      "metadata": {
        "id": "wiXMpLSPzkCU"
      },
      "source": [
        "Pour ce tutoriel, nous utiliserons qu'une fraction des données disponibles pour s'assurer que nous puissions estimer les modèles rapidement (en quelques minutes)."
      ]
    },
    {
      "cell_type": "code",
      "execution_count": null,
      "metadata": {
        "id": "Du5XNVSnzkCU",
        "outputId": "ecec3c4b-d5ba-48fe-e65b-0f72ef297c90"
      },
      "outputs": [
        {
          "name": "stdout",
          "output_type": "stream",
          "text": [
            "(19255, 978)\n"
          ]
        }
      ],
      "source": [
        "# on mélange les données et l'on garde 2% de toutes les notes\n",
        "# (nous n'utilisons qu'un petit sous ensemble des données pour des raisons computationelles)\n",
        "data_pd = data_pd.sample(frac=0.02, random_state=1234)\n",
        "print(data_pd.shape)"
      ]
    },
    {
      "cell_type": "markdown",
      "metadata": {
        "id": "FnXK6H7KzkCU"
      },
      "source": [
        "Notre jeu de données final à la taille suivante"
      ]
    },
    {
      "cell_type": "code",
      "execution_count": null,
      "metadata": {
        "id": "YVsRoLyszkCV",
        "outputId": "eb80bf45-ce67-4a30-f625-a24f3b7081c6"
      },
      "outputs": [
        {
          "name": "stdout",
          "output_type": "stream",
          "text": [
            "Statistiques descriptives de notre jeu de donées.\n",
            "\t- 2403 films\n",
            "\t- 4656 utilisateurs\n",
            "\t- 19255 notes\n"
          ]
        }
      ],
      "source": [
        "print('Statistiques descriptives de notre jeu de donées.')\n",
        "print('\\t- %d films'   % data_pd['mid'].nunique())\n",
        "print('\\t- %d utilisateurs'   % data_pd['uid'].nunique())\n",
        "print('\\t- %d notes' % data_pd.shape[0])"
      ]
    },
    {
      "cell_type": "markdown",
      "metadata": {
        "id": "6b0ddTzCzkCV"
      },
      "source": [
        "On note que nous avons plusieurs variables catégorielles (p.ex., sexe, l'emploi, le zip, mid). Comme dans le cas des *tags* nous encoderons ces catégorielles avec des variables dummy."
      ]
    },
    {
      "cell_type": "code",
      "execution_count": null,
      "metadata": {
        "id": "_LGKIfk5zkCW",
        "outputId": "4ed0a104-5fab-4f95-c7d8-e777d78fa7e1"
      },
      "outputs": [
        {
          "name": "stdout",
          "output_type": "stream",
          "text": [
            "(19255, 978)\n"
          ]
        },
        {
          "data": {
            "text/html": [
              "<div>\n",
              "<style scoped>\n",
              "    .dataframe tbody tr th:only-of-type {\n",
              "        vertical-align: middle;\n",
              "    }\n",
              "\n",
              "    .dataframe tbody tr th {\n",
              "        vertical-align: top;\n",
              "    }\n",
              "\n",
              "    .dataframe thead th {\n",
              "        text-align: right;\n",
              "    }\n",
              "</style>\n",
              "<table border=\"1\" class=\"dataframe\">\n",
              "  <thead>\n",
              "    <tr style=\"text-align: right;\">\n",
              "      <th></th>\n",
              "      <th>uid</th>\n",
              "      <th>gender</th>\n",
              "      <th>age</th>\n",
              "      <th>occupation</th>\n",
              "      <th>zip</th>\n",
              "      <th>mid</th>\n",
              "      <th>rating</th>\n",
              "      <th>timestamp</th>\n",
              "      <th>index</th>\n",
              "      <th>relevance</th>\n",
              "      <th>...</th>\n",
              "      <th>tid_1119</th>\n",
              "      <th>tid_1120</th>\n",
              "      <th>tid_1121</th>\n",
              "      <th>tid_1122</th>\n",
              "      <th>tid_1123</th>\n",
              "      <th>tid_1124</th>\n",
              "      <th>tid_1125</th>\n",
              "      <th>tid_1126</th>\n",
              "      <th>tid_1127</th>\n",
              "      <th>tid_1128</th>\n",
              "    </tr>\n",
              "  </thead>\n",
              "  <tbody>\n",
              "    <tr>\n",
              "      <th>903131</th>\n",
              "      <td>2907</td>\n",
              "      <td>F</td>\n",
              "      <td>35</td>\n",
              "      <td>5</td>\n",
              "      <td>12</td>\n",
              "      <td>1460</td>\n",
              "      <td>3</td>\n",
              "      <td>972180633</td>\n",
              "      <td>1464992</td>\n",
              "      <td>0.92650</td>\n",
              "      <td>...</td>\n",
              "      <td>0</td>\n",
              "      <td>0</td>\n",
              "      <td>0</td>\n",
              "      <td>0</td>\n",
              "      <td>0</td>\n",
              "      <td>0</td>\n",
              "      <td>0</td>\n",
              "      <td>0</td>\n",
              "      <td>0</td>\n",
              "      <td>0</td>\n",
              "    </tr>\n",
              "    <tr>\n",
              "      <th>601683</th>\n",
              "      <td>355</td>\n",
              "      <td>M</td>\n",
              "      <td>18</td>\n",
              "      <td>3</td>\n",
              "      <td>55</td>\n",
              "      <td>1644</td>\n",
              "      <td>2</td>\n",
              "      <td>977033178</td>\n",
              "      <td>9771710</td>\n",
              "      <td>5.76650</td>\n",
              "      <td>...</td>\n",
              "      <td>0</td>\n",
              "      <td>0</td>\n",
              "      <td>0</td>\n",
              "      <td>0</td>\n",
              "      <td>0</td>\n",
              "      <td>0</td>\n",
              "      <td>0</td>\n",
              "      <td>0</td>\n",
              "      <td>0</td>\n",
              "      <td>0</td>\n",
              "    </tr>\n",
              "    <tr>\n",
              "      <th>776794</th>\n",
              "      <td>3471</td>\n",
              "      <td>M</td>\n",
              "      <td>18</td>\n",
              "      <td>4</td>\n",
              "      <td>80</td>\n",
              "      <td>94</td>\n",
              "      <td>3</td>\n",
              "      <td>1039903055</td>\n",
              "      <td>103493</td>\n",
              "      <td>0.91375</td>\n",
              "      <td>...</td>\n",
              "      <td>0</td>\n",
              "      <td>0</td>\n",
              "      <td>0</td>\n",
              "      <td>0</td>\n",
              "      <td>0</td>\n",
              "      <td>0</td>\n",
              "      <td>0</td>\n",
              "      <td>0</td>\n",
              "      <td>0</td>\n",
              "      <td>0</td>\n",
              "    </tr>\n",
              "    <tr>\n",
              "      <th>715194</th>\n",
              "      <td>714</td>\n",
              "      <td>M</td>\n",
              "      <td>18</td>\n",
              "      <td>4</td>\n",
              "      <td>76</td>\n",
              "      <td>1222</td>\n",
              "      <td>5</td>\n",
              "      <td>975534889</td>\n",
              "      <td>15904522</td>\n",
              "      <td>12.38950</td>\n",
              "      <td>...</td>\n",
              "      <td>0</td>\n",
              "      <td>0</td>\n",
              "      <td>0</td>\n",
              "      <td>0</td>\n",
              "      <td>0</td>\n",
              "      <td>0</td>\n",
              "      <td>0</td>\n",
              "      <td>0</td>\n",
              "      <td>0</td>\n",
              "      <td>0</td>\n",
              "    </tr>\n",
              "    <tr>\n",
              "      <th>290711</th>\n",
              "      <td>1607</td>\n",
              "      <td>M</td>\n",
              "      <td>45</td>\n",
              "      <td>1</td>\n",
              "      <td>02</td>\n",
              "      <td>16</td>\n",
              "      <td>3</td>\n",
              "      <td>974733792</td>\n",
              "      <td>298237</td>\n",
              "      <td>16.39250</td>\n",
              "      <td>...</td>\n",
              "      <td>0</td>\n",
              "      <td>0</td>\n",
              "      <td>0</td>\n",
              "      <td>0</td>\n",
              "      <td>0</td>\n",
              "      <td>0</td>\n",
              "      <td>0</td>\n",
              "      <td>0</td>\n",
              "      <td>0</td>\n",
              "      <td>0</td>\n",
              "    </tr>\n",
              "    <tr>\n",
              "      <th>366889</th>\n",
              "      <td>3312</td>\n",
              "      <td>F</td>\n",
              "      <td>18</td>\n",
              "      <td>4</td>\n",
              "      <td>90</td>\n",
              "      <td>1711</td>\n",
              "      <td>4</td>\n",
              "      <td>967958932</td>\n",
              "      <td>6768390</td>\n",
              "      <td>3.87775</td>\n",
              "      <td>...</td>\n",
              "      <td>0</td>\n",
              "      <td>0</td>\n",
              "      <td>0</td>\n",
              "      <td>0</td>\n",
              "      <td>0</td>\n",
              "      <td>0</td>\n",
              "      <td>0</td>\n",
              "      <td>0</td>\n",
              "      <td>0</td>\n",
              "      <td>0</td>\n",
              "    </tr>\n",
              "    <tr>\n",
              "      <th>15125</th>\n",
              "      <td>3219</td>\n",
              "      <td>F</td>\n",
              "      <td>18</td>\n",
              "      <td>4</td>\n",
              "      <td>54</td>\n",
              "      <td>2918</td>\n",
              "      <td>5</td>\n",
              "      <td>968474295</td>\n",
              "      <td>35023795</td>\n",
              "      <td>11.35950</td>\n",
              "      <td>...</td>\n",
              "      <td>0</td>\n",
              "      <td>0</td>\n",
              "      <td>0</td>\n",
              "      <td>0</td>\n",
              "      <td>0</td>\n",
              "      <td>0</td>\n",
              "      <td>0</td>\n",
              "      <td>0</td>\n",
              "      <td>0</td>\n",
              "      <td>0</td>\n",
              "    </tr>\n",
              "    <tr>\n",
              "      <th>134596</th>\n",
              "      <td>4849</td>\n",
              "      <td>F</td>\n",
              "      <td>18</td>\n",
              "      <td>4</td>\n",
              "      <td>44</td>\n",
              "      <td>1198</td>\n",
              "      <td>5</td>\n",
              "      <td>963420316</td>\n",
              "      <td>29933947</td>\n",
              "      <td>23.91725</td>\n",
              "      <td>...</td>\n",
              "      <td>0</td>\n",
              "      <td>0</td>\n",
              "      <td>0</td>\n",
              "      <td>0</td>\n",
              "      <td>0</td>\n",
              "      <td>0</td>\n",
              "      <td>0</td>\n",
              "      <td>0</td>\n",
              "      <td>0</td>\n",
              "      <td>0</td>\n",
              "    </tr>\n",
              "    <tr>\n",
              "      <th>623542</th>\n",
              "      <td>2785</td>\n",
              "      <td>M</td>\n",
              "      <td>56</td>\n",
              "      <td>13</td>\n",
              "      <td>29</td>\n",
              "      <td>3638</td>\n",
              "      <td>4</td>\n",
              "      <td>972988422</td>\n",
              "      <td>36145106</td>\n",
              "      <td>9.73300</td>\n",
              "      <td>...</td>\n",
              "      <td>0</td>\n",
              "      <td>0</td>\n",
              "      <td>0</td>\n",
              "      <td>0</td>\n",
              "      <td>0</td>\n",
              "      <td>0</td>\n",
              "      <td>0</td>\n",
              "      <td>0</td>\n",
              "      <td>0</td>\n",
              "      <td>0</td>\n",
              "    </tr>\n",
              "    <tr>\n",
              "      <th>714363</th>\n",
              "      <td>524</td>\n",
              "      <td>M</td>\n",
              "      <td>18</td>\n",
              "      <td>0</td>\n",
              "      <td>91</td>\n",
              "      <td>112</td>\n",
              "      <td>4</td>\n",
              "      <td>976169160</td>\n",
              "      <td>855749</td>\n",
              "      <td>6.74550</td>\n",
              "      <td>...</td>\n",
              "      <td>0</td>\n",
              "      <td>0</td>\n",
              "      <td>0</td>\n",
              "      <td>0</td>\n",
              "      <td>0</td>\n",
              "      <td>0</td>\n",
              "      <td>0</td>\n",
              "      <td>0</td>\n",
              "      <td>0</td>\n",
              "      <td>0</td>\n",
              "    </tr>\n",
              "  </tbody>\n",
              "</table>\n",
              "<p>10 rows × 978 columns</p>\n",
              "</div>"
            ],
            "text/plain": [
              "         uid gender  age  occupation zip   mid  rating   timestamp     index  \\\n",
              "903131  2907      F   35           5  12  1460       3   972180633   1464992   \n",
              "601683   355      M   18           3  55  1644       2   977033178   9771710   \n",
              "776794  3471      M   18           4  80    94       3  1039903055    103493   \n",
              "715194   714      M   18           4  76  1222       5   975534889  15904522   \n",
              "290711  1607      M   45           1  02    16       3   974733792    298237   \n",
              "366889  3312      F   18           4  90  1711       4   967958932   6768390   \n",
              "15125   3219      F   18           4  54  2918       5   968474295  35023795   \n",
              "134596  4849      F   18           4  44  1198       5   963420316  29933947   \n",
              "623542  2785      M   56          13  29  3638       4   972988422  36145106   \n",
              "714363   524      M   18           0  91   112       4   976169160    855749   \n",
              "\n",
              "        relevance  ...  tid_1119  tid_1120  tid_1121  tid_1122  tid_1123  \\\n",
              "903131    0.92650  ...         0         0         0         0         0   \n",
              "601683    5.76650  ...         0         0         0         0         0   \n",
              "776794    0.91375  ...         0         0         0         0         0   \n",
              "715194   12.38950  ...         0         0         0         0         0   \n",
              "290711   16.39250  ...         0         0         0         0         0   \n",
              "366889    3.87775  ...         0         0         0         0         0   \n",
              "15125    11.35950  ...         0         0         0         0         0   \n",
              "134596   23.91725  ...         0         0         0         0         0   \n",
              "623542    9.73300  ...         0         0         0         0         0   \n",
              "714363    6.74550  ...         0         0         0         0         0   \n",
              "\n",
              "        tid_1124  tid_1125  tid_1126  tid_1127  tid_1128  \n",
              "903131         0         0         0         0         0  \n",
              "601683         0         0         0         0         0  \n",
              "776794         0         0         0         0         0  \n",
              "715194         0         0         0         0         0  \n",
              "290711         0         0         0         0         0  \n",
              "366889         0         0         0         0         0  \n",
              "15125          0         0         0         0         0  \n",
              "134596         0         0         0         0         0  \n",
              "623542         0         0         0         0         0  \n",
              "714363         0         0         0         0         0  \n",
              "\n",
              "[10 rows x 978 columns]"
            ]
          },
          "metadata": {},
          "output_type": "display_data"
        }
      ],
      "source": [
        "print(data_pd.shape)\n",
        "display(data_pd[:10])"
      ]
    },
    {
      "cell_type": "code",
      "execution_count": null,
      "metadata": {
        "scrolled": false,
        "id": "eTHWERU3zkCX",
        "outputId": "46082330-38f6-4e2b-f16b-f21dd73f19b1"
      },
      "outputs": [
        {
          "name": "stdout",
          "output_type": "stream",
          "text": [
            "(19255, 8155)\n"
          ]
        },
        {
          "data": {
            "text/html": [
              "<div>\n",
              "<style scoped>\n",
              "    .dataframe tbody tr th:only-of-type {\n",
              "        vertical-align: middle;\n",
              "    }\n",
              "\n",
              "    .dataframe tbody tr th {\n",
              "        vertical-align: top;\n",
              "    }\n",
              "\n",
              "    .dataframe thead th {\n",
              "        text-align: right;\n",
              "    }\n",
              "</style>\n",
              "<table border=\"1\" class=\"dataframe\">\n",
              "  <thead>\n",
              "    <tr style=\"text-align: right;\">\n",
              "      <th></th>\n",
              "      <th>age</th>\n",
              "      <th>rating</th>\n",
              "      <th>timestamp</th>\n",
              "      <th>index</th>\n",
              "      <th>relevance</th>\n",
              "      <th>tid_1</th>\n",
              "      <th>tid_2</th>\n",
              "      <th>tid_3</th>\n",
              "      <th>tid_5</th>\n",
              "      <th>tid_6</th>\n",
              "      <th>...</th>\n",
              "      <th>uid_6028</th>\n",
              "      <th>uid_6030</th>\n",
              "      <th>uid_6031</th>\n",
              "      <th>uid_6032</th>\n",
              "      <th>uid_6033</th>\n",
              "      <th>uid_6035</th>\n",
              "      <th>uid_6036</th>\n",
              "      <th>uid_6037</th>\n",
              "      <th>uid_6039</th>\n",
              "      <th>uid_6040</th>\n",
              "    </tr>\n",
              "  </thead>\n",
              "  <tbody>\n",
              "    <tr>\n",
              "      <th>903131</th>\n",
              "      <td>35</td>\n",
              "      <td>3</td>\n",
              "      <td>972180633</td>\n",
              "      <td>1464992</td>\n",
              "      <td>0.92650</td>\n",
              "      <td>0</td>\n",
              "      <td>0</td>\n",
              "      <td>0</td>\n",
              "      <td>0</td>\n",
              "      <td>0</td>\n",
              "      <td>...</td>\n",
              "      <td>0</td>\n",
              "      <td>0</td>\n",
              "      <td>0</td>\n",
              "      <td>0</td>\n",
              "      <td>0</td>\n",
              "      <td>0</td>\n",
              "      <td>0</td>\n",
              "      <td>0</td>\n",
              "      <td>0</td>\n",
              "      <td>0</td>\n",
              "    </tr>\n",
              "    <tr>\n",
              "      <th>601683</th>\n",
              "      <td>18</td>\n",
              "      <td>2</td>\n",
              "      <td>977033178</td>\n",
              "      <td>9771710</td>\n",
              "      <td>5.76650</td>\n",
              "      <td>0</td>\n",
              "      <td>0</td>\n",
              "      <td>0</td>\n",
              "      <td>0</td>\n",
              "      <td>0</td>\n",
              "      <td>...</td>\n",
              "      <td>0</td>\n",
              "      <td>0</td>\n",
              "      <td>0</td>\n",
              "      <td>0</td>\n",
              "      <td>0</td>\n",
              "      <td>0</td>\n",
              "      <td>0</td>\n",
              "      <td>0</td>\n",
              "      <td>0</td>\n",
              "      <td>0</td>\n",
              "    </tr>\n",
              "    <tr>\n",
              "      <th>776794</th>\n",
              "      <td>18</td>\n",
              "      <td>3</td>\n",
              "      <td>1039903055</td>\n",
              "      <td>103493</td>\n",
              "      <td>0.91375</td>\n",
              "      <td>0</td>\n",
              "      <td>0</td>\n",
              "      <td>0</td>\n",
              "      <td>0</td>\n",
              "      <td>0</td>\n",
              "      <td>...</td>\n",
              "      <td>0</td>\n",
              "      <td>0</td>\n",
              "      <td>0</td>\n",
              "      <td>0</td>\n",
              "      <td>0</td>\n",
              "      <td>0</td>\n",
              "      <td>0</td>\n",
              "      <td>0</td>\n",
              "      <td>0</td>\n",
              "      <td>0</td>\n",
              "    </tr>\n",
              "    <tr>\n",
              "      <th>715194</th>\n",
              "      <td>18</td>\n",
              "      <td>5</td>\n",
              "      <td>975534889</td>\n",
              "      <td>15904522</td>\n",
              "      <td>12.38950</td>\n",
              "      <td>0</td>\n",
              "      <td>0</td>\n",
              "      <td>0</td>\n",
              "      <td>0</td>\n",
              "      <td>0</td>\n",
              "      <td>...</td>\n",
              "      <td>0</td>\n",
              "      <td>0</td>\n",
              "      <td>0</td>\n",
              "      <td>0</td>\n",
              "      <td>0</td>\n",
              "      <td>0</td>\n",
              "      <td>0</td>\n",
              "      <td>0</td>\n",
              "      <td>0</td>\n",
              "      <td>0</td>\n",
              "    </tr>\n",
              "    <tr>\n",
              "      <th>290711</th>\n",
              "      <td>45</td>\n",
              "      <td>3</td>\n",
              "      <td>974733792</td>\n",
              "      <td>298237</td>\n",
              "      <td>16.39250</td>\n",
              "      <td>0</td>\n",
              "      <td>0</td>\n",
              "      <td>0</td>\n",
              "      <td>0</td>\n",
              "      <td>0</td>\n",
              "      <td>...</td>\n",
              "      <td>0</td>\n",
              "      <td>0</td>\n",
              "      <td>0</td>\n",
              "      <td>0</td>\n",
              "      <td>0</td>\n",
              "      <td>0</td>\n",
              "      <td>0</td>\n",
              "      <td>0</td>\n",
              "      <td>0</td>\n",
              "      <td>0</td>\n",
              "    </tr>\n",
              "    <tr>\n",
              "      <th>366889</th>\n",
              "      <td>18</td>\n",
              "      <td>4</td>\n",
              "      <td>967958932</td>\n",
              "      <td>6768390</td>\n",
              "      <td>3.87775</td>\n",
              "      <td>0</td>\n",
              "      <td>0</td>\n",
              "      <td>0</td>\n",
              "      <td>0</td>\n",
              "      <td>0</td>\n",
              "      <td>...</td>\n",
              "      <td>0</td>\n",
              "      <td>0</td>\n",
              "      <td>0</td>\n",
              "      <td>0</td>\n",
              "      <td>0</td>\n",
              "      <td>0</td>\n",
              "      <td>0</td>\n",
              "      <td>0</td>\n",
              "      <td>0</td>\n",
              "      <td>0</td>\n",
              "    </tr>\n",
              "    <tr>\n",
              "      <th>15125</th>\n",
              "      <td>18</td>\n",
              "      <td>5</td>\n",
              "      <td>968474295</td>\n",
              "      <td>35023795</td>\n",
              "      <td>11.35950</td>\n",
              "      <td>0</td>\n",
              "      <td>0</td>\n",
              "      <td>0</td>\n",
              "      <td>0</td>\n",
              "      <td>0</td>\n",
              "      <td>...</td>\n",
              "      <td>0</td>\n",
              "      <td>0</td>\n",
              "      <td>0</td>\n",
              "      <td>0</td>\n",
              "      <td>0</td>\n",
              "      <td>0</td>\n",
              "      <td>0</td>\n",
              "      <td>0</td>\n",
              "      <td>0</td>\n",
              "      <td>0</td>\n",
              "    </tr>\n",
              "    <tr>\n",
              "      <th>134596</th>\n",
              "      <td>18</td>\n",
              "      <td>5</td>\n",
              "      <td>963420316</td>\n",
              "      <td>29933947</td>\n",
              "      <td>23.91725</td>\n",
              "      <td>0</td>\n",
              "      <td>0</td>\n",
              "      <td>0</td>\n",
              "      <td>0</td>\n",
              "      <td>0</td>\n",
              "      <td>...</td>\n",
              "      <td>0</td>\n",
              "      <td>0</td>\n",
              "      <td>0</td>\n",
              "      <td>0</td>\n",
              "      <td>0</td>\n",
              "      <td>0</td>\n",
              "      <td>0</td>\n",
              "      <td>0</td>\n",
              "      <td>0</td>\n",
              "      <td>0</td>\n",
              "    </tr>\n",
              "    <tr>\n",
              "      <th>623542</th>\n",
              "      <td>56</td>\n",
              "      <td>4</td>\n",
              "      <td>972988422</td>\n",
              "      <td>36145106</td>\n",
              "      <td>9.73300</td>\n",
              "      <td>1</td>\n",
              "      <td>1</td>\n",
              "      <td>0</td>\n",
              "      <td>0</td>\n",
              "      <td>0</td>\n",
              "      <td>...</td>\n",
              "      <td>0</td>\n",
              "      <td>0</td>\n",
              "      <td>0</td>\n",
              "      <td>0</td>\n",
              "      <td>0</td>\n",
              "      <td>0</td>\n",
              "      <td>0</td>\n",
              "      <td>0</td>\n",
              "      <td>0</td>\n",
              "      <td>0</td>\n",
              "    </tr>\n",
              "    <tr>\n",
              "      <th>714363</th>\n",
              "      <td>18</td>\n",
              "      <td>4</td>\n",
              "      <td>976169160</td>\n",
              "      <td>855749</td>\n",
              "      <td>6.74550</td>\n",
              "      <td>0</td>\n",
              "      <td>0</td>\n",
              "      <td>0</td>\n",
              "      <td>0</td>\n",
              "      <td>0</td>\n",
              "      <td>...</td>\n",
              "      <td>0</td>\n",
              "      <td>0</td>\n",
              "      <td>0</td>\n",
              "      <td>0</td>\n",
              "      <td>0</td>\n",
              "      <td>0</td>\n",
              "      <td>0</td>\n",
              "      <td>0</td>\n",
              "      <td>0</td>\n",
              "      <td>0</td>\n",
              "    </tr>\n",
              "  </tbody>\n",
              "</table>\n",
              "<p>10 rows × 8155 columns</p>\n",
              "</div>"
            ],
            "text/plain": [
              "        age  rating   timestamp     index  relevance  tid_1  tid_2  tid_3  \\\n",
              "903131   35       3   972180633   1464992    0.92650      0      0      0   \n",
              "601683   18       2   977033178   9771710    5.76650      0      0      0   \n",
              "776794   18       3  1039903055    103493    0.91375      0      0      0   \n",
              "715194   18       5   975534889  15904522   12.38950      0      0      0   \n",
              "290711   45       3   974733792    298237   16.39250      0      0      0   \n",
              "366889   18       4   967958932   6768390    3.87775      0      0      0   \n",
              "15125    18       5   968474295  35023795   11.35950      0      0      0   \n",
              "134596   18       5   963420316  29933947   23.91725      0      0      0   \n",
              "623542   56       4   972988422  36145106    9.73300      1      1      0   \n",
              "714363   18       4   976169160    855749    6.74550      0      0      0   \n",
              "\n",
              "        tid_5  tid_6  ...  uid_6028  uid_6030  uid_6031  uid_6032  uid_6033  \\\n",
              "903131      0      0  ...         0         0         0         0         0   \n",
              "601683      0      0  ...         0         0         0         0         0   \n",
              "776794      0      0  ...         0         0         0         0         0   \n",
              "715194      0      0  ...         0         0         0         0         0   \n",
              "290711      0      0  ...         0         0         0         0         0   \n",
              "366889      0      0  ...         0         0         0         0         0   \n",
              "15125       0      0  ...         0         0         0         0         0   \n",
              "134596      0      0  ...         0         0         0         0         0   \n",
              "623542      0      0  ...         0         0         0         0         0   \n",
              "714363      0      0  ...         0         0         0         0         0   \n",
              "\n",
              "        uid_6035  uid_6036  uid_6037  uid_6039  uid_6040  \n",
              "903131         0         0         0         0         0  \n",
              "601683         0         0         0         0         0  \n",
              "776794         0         0         0         0         0  \n",
              "715194         0         0         0         0         0  \n",
              "290711         0         0         0         0         0  \n",
              "366889         0         0         0         0         0  \n",
              "15125          0         0         0         0         0  \n",
              "134596         0         0         0         0         0  \n",
              "623542         0         0         0         0         0  \n",
              "714363         0         0         0         0         0  \n",
              "\n",
              "[10 rows x 8155 columns]"
            ]
          },
          "metadata": {},
          "output_type": "display_data"
        }
      ],
      "source": [
        "cols = ['gender','occupation','zip','mid','uid']\n",
        "data_pd_dum = pd.get_dummies(data_pd, columns=cols)\n",
        "print(data_pd_dum.shape)\n",
        "display(data_pd_dum.head(10))"
      ]
    },
    {
      "cell_type": "markdown",
      "metadata": {
        "id": "fXdz7_10zkCX"
      },
      "source": [
        "Nous avons choisi d'utiliser pandas pour transformer les variables catégorielles, nous aurions aussi pu utiliser `scikit-learn`. Le module `preprocessing` est introduit ici [here](https://scikit-learn.org/stable/modules/preprocessing.html). Je vous conseille la section sur les [Categorical features](https://scikit-learn.org/stable/modules/preprocessing.html#preprocessing-categorical-features).\n"
      ]
    },
    {
      "cell_type": "markdown",
      "metadata": {
        "id": "fN5WtZVtzkCX"
      },
      "source": [
        "Nous sommes prêts (finalement!) pour construire notre premier jeu de données complet. Pour démarrer, nous utiliserons qu'un sous ensemble des attributs disponibles et notamment nous n'utiliserons pas les *tags*. \n",
        "\n",
        "Ci-dessous, nous allons aussi séparer notre jeu de données en un ensemble d'entraînement et un de test en utilisant la fonction `train_test_split` de `scikit-learn`. "
      ]
    },
    {
      "cell_type": "code",
      "execution_count": null,
      "metadata": {
        "id": "szZXo3K_zkCY",
        "outputId": "86fa8566-02d8-4d7d-aebe-2dc91c17d620"
      },
      "outputs": [
        {
          "name": "stdout",
          "output_type": "stream",
          "text": [
            "(19255, 7183)\n",
            "(19255,)\n"
          ]
        }
      ],
      "source": [
        "attributes = \"mid_*|uid_*|gender_*|age|zip_*|occupation_*\"\n",
        "X = data_pd_dum.filter(regex=('('+attributes+')')) \n",
        "print(X.shape)\n",
        "\n",
        "rating = data_pd_dum['rating']\n",
        "print(rating.shape)\n",
        "\n",
        "# Diviser en Train/Test\n",
        "# On garde 20% des données pour l'ensemble de test.\n",
        "X_train, X_test, y_train, y_test = train_test_split(\n",
        "    X, rating, test_size=0.2, random_state=1234, shuffle=False)"
      ]
    },
    {
      "cell_type": "markdown",
      "metadata": {
        "id": "XWzduZrszkCY"
      },
      "source": [
        "*Particularité des systèmes de recommandations:* nous avons divisé les données sans égard aux utilisateurs et aux items. En d'autres mots, les utilisateurs les plus actifs ainsi que les films les plus populaires (en moyenne) seront plus représentés dans les données non observées. Ce n'est pas nécessairement un problème, mais nous pourrions désirer être plus équitables. Dans ce cas, on pourrait diviser indépendamment les données de chaque utilisateur, et s'assurer par exemple que l'ensemble non observé contient le même nombre de données pour chaque utilisateur (ou chaque film).\n",
        "\n",
        "*Particularité des systèmes de recommandations #2:* dans un cas réel, il aurait sans doute été souhaitable de diviser les notes en fonction du temps. Les notes avant une date précise pour l'ensemble d'entraînement et les autres pour l'ensemble de test."
      ]
    },
    {
      "cell_type": "code",
      "execution_count": null,
      "metadata": {
        "id": "OjGnQp4UzkCY",
        "outputId": "9b49d835-4003-4479-b3bf-0ea68c42d5a0"
      },
      "outputs": [
        {
          "name": "stdout",
          "output_type": "stream",
          "text": [
            "(15404, 7183) (3851, 7183) (15404,) (3851,)\n"
          ]
        }
      ],
      "source": [
        "print(X_train.shape, X_test.shape, y_train.shape, y_test.shape)"
      ]
    },
    {
      "cell_type": "markdown",
      "metadata": {
        "id": "coHj_8ZazkCY"
      },
      "source": [
        "<a id=\"modelling\"></a>\n",
        "# Section 2: Modélisation \n",
        "\n",
        "Les notes ou *ratings* ([échelle de Likert](https://fr.wikipedia.org/wiki/%C3%89chelle_de_Likert)) sont des quantités ordinales. Par contre, pour faciliter la modélisation, nous les traiterons comme des valeurs réelles (nous discuterons de ces questions à la semaine 11). Nous mesurerons donc l'erreur (la fonction de perte) carrée moyenne:\n",
        "\n",
        "$$ \\text{MSE}(f(x),y) := \\frac{1}{n} \\sum_{i=0}^n (f(x_i) - y_i)^2$$ \n",
        "\n",
        "La MSE est la distance moyenne entre la prédiction ($f(x_i)$) et l'étiquette ($y_i$). La fonction MSE retourne une quantité non négative et le modèle parfait a une MSE de $0$. Si le Modèle #1 a une plus petite MSE que le Modèle #2, alors le Modèle 1 est meilleur selon cette mesure.\n",
        "\n",
        "*Entraînement/Test:* rappelez vous que bien que nous estimions les paramètres du modèle à partir de l'ensemble **d'entraînement**, nous évaluons la qualité du modèle à partir des données de **test**."
      ]
    },
    {
      "cell_type": "markdown",
      "metadata": {
        "id": "B1bU2my_zkCZ"
      },
      "source": [
        "### 2.1 Un premier modèle: prédire la moyenne"
      ]
    },
    {
      "cell_type": "markdown",
      "metadata": {
        "id": "lJT0JoJAzkCZ"
      },
      "source": [
        "Il est souvent pratique d'obtenir un point de comparaison en utilisant une méthode très simple. \n",
        "\n",
        "Notre méthode étalon sera un modèle qui prédit la moyenne des notes d'entraînements. C'est donc un modèle constant qui ne prend pas en compte les attributs (des utilisateurs ou des films): \n",
        "\n",
        "$$ \n",
        "y_{ui} = \\text{moyenne globale}\n",
        "$$\n",
        "\n",
        "*Particularité des systèmes de recommandations:* nous pourrions sand doute obtenir un modèle un peu plus performant en prédisant, pour chaque utilisateur la moyenne de ses notes (ou de manière équivalente pour les items) plutôt que la moyenne globale des notes."
      ]
    },
    {
      "cell_type": "code",
      "execution_count": null,
      "metadata": {
        "id": "HE9ItswqzkCZ",
        "outputId": "99d9d486-442a-4fb8-a0eb-264ea28dc17f"
      },
      "outputs": [
        {
          "name": "stdout",
          "output_type": "stream",
          "text": [
            "Modèle constant\n",
            "\tErreur carrée moyenne d'entraînement: 1.577\n",
            "\tErreur carrée moyenne de test: 1.572\n"
          ]
        }
      ],
      "source": [
        "# Quantifier l'erreur de prédiction du modèle étalon\n",
        "\n",
        "print(\"Modèle constant\")\n",
        "\n",
        "print(\"\\tErreur carrée moyenne d'entraînement: %.3f\"\n",
        "      % mean_squared_error(y_train, \n",
        "                           np.full_like(y_train, y_train.mean())))\n",
        "print(\"\\tErreur carrée moyenne de test: %.3f\"\n",
        "      % mean_squared_error(y_test, \n",
        "                           np.full_like(y_test, y_train.mean())))"
      ]
    },
    {
      "cell_type": "markdown",
      "metadata": {
        "id": "3wX1drdgzkCa"
      },
      "source": [
        "Les erreurs d'entraînement et de test sont, dans ce cas, très proches (la différence n'est peut-être pas significative statistiquement). Notre modèle est très simple (en apprentissage automatique on dirait qu'il a sans doute un biais élevé) et on n'imaginerait donc pas que sa performance fluctue énormément d'un ensemble de test à un autre (petite variance).\n",
        "\n",
        "Cette erreur de test indique qu'en moyenne nos prédictions sont à 1.3 unité ($sqrt{1.6}$) de la véritable note. Ça indique donc que nous ne devrions pas être trop surpris que le modèle prédise une note sous 4 pour un film que nous aurions noté comme un 5. Cela dit, cette valeur reste quelque peu abstraite (est-ce un bon modèle ou non?) au moins jusqu'à ce qu'on la compare à la performance d'autres modèles."
      ]
    },
    {
      "cell_type": "markdown",
      "metadata": {
        "id": "kl36A6rJzkCa"
      },
      "source": [
        "### 2.2 Régression Linéaire\n",
        "\n",
        "Pour ce second modèle, nous utiliserons un modèle de régression linéaire des notes à partir des attributs des utilisateurs. Nous utiliserons le sexe des utilisateurs, leur âge, leur code postal et leur emploi. Nous estimons ce modèle\n",
        "$$\n",
        "f(x_{ui}) = \\theta_\\text{gender} x_{\\text{gender}_u} + \\theta_{\\text{age}} x_{\\text{age}_u} + \\theta_\\text{zip} x_{\\text{zip}_u} + \\theta_\\text{occupation} x_{\\text{occupation}_u} + \\theta_\\text{uid} x_{\\text{uid}_u} + \\theta_{\\text{mid}} x_{\\text{mid}_i}\n",
        "$$ \n",
        "\n",
        "$\\theta_{1:6}$ sont les paramètres, $\\text{gender}_u$ est le sexe de l'utilisateur $u$, nous utilisons une notation similaire pour les autres attributs. Aussi, $x_{\\text{uid}_u}$ est l'identité de l'utilisateur, c'est similaire pour $x_{\\text{mid}_i}$ et les films.\n",
        "\n",
        "Veuillez noter que quelques-unes de ces variables sont catégorielles alors elles sont en fait encodées par un vecteur de paramètres. Par exemple, zip est une variable catégorielle avec 100 valeurs possibles, donc $\\theta_{\\text{zip}}$ a 100 dimensions. \n",
        "\n",
        "Pour entrainer le modèle, il faut minimiser l'erreur d'entrainement (train MSE), c'est exactement ce que propose la classe `LinearRegression`. (C'est un problème de [moindre carrés](https://docs.scipy.org/doc/scipy/reference/generated/scipy.linalg.lstsq.html) et il existe donc une solution en forme fermée.)"
      ]
    },
    {
      "cell_type": "code",
      "execution_count": null,
      "metadata": {
        "id": "VGph2WiIzkCb",
        "outputId": "da8b0c97-7ca5-4ad8-b1f2-1ddb08b1fa14"
      },
      "outputs": [
        {
          "name": "stdout",
          "output_type": "stream",
          "text": [
            "Number of parameters:  7184\n"
          ]
        }
      ],
      "source": [
        "# Créer l'objet de régression linéaire\n",
        "reg = linear_model.LinearRegression()\n",
        "\n",
        "# Entraîner le modèle à partir des données d'entraiînement\n",
        "reg.fit(X_train, y_train)\n",
        "\n",
        "print(\"Number of parameters: \", reg.coef_.shape[0]+1)"
      ]
    },
    {
      "cell_type": "markdown",
      "metadata": {
        "id": "YVcueyexzkCb"
      },
      "source": [
        "Avant de regarder les résultats. Pensez-vous que le modèle que nous venons d'entraîner généralisera bien ou non? "
      ]
    },
    {
      "cell_type": "code",
      "execution_count": null,
      "metadata": {
        "id": "Le_SNxaXzkCc",
        "outputId": "40f25796-c83b-4d56-b460-84e8bf6f16c5"
      },
      "outputs": [
        {
          "name": "stdout",
          "output_type": "stream",
          "text": [
            "Erreur carrée moyenne d'entraînement: 0.450\n",
            "Erreur carrée moyenne de test: 897845119385028736.000\n"
          ]
        }
      ],
      "source": [
        "# Obtenir les prédictions d'entraînement\n",
        "y_train_pred = reg.predict(X_train)\n",
        "\n",
        "print(\"Erreur carrée moyenne d'entraînement: %.3f\"\n",
        "      % mean_squared_error(y_train, y_train_pred))\n",
        "\n",
        "# Obtenir les prédictions de test\n",
        "y_test_pred = reg.predict(X_test)\n",
        "\n",
        "print(\"Erreur carrée moyenne de test: %.3f\"\n",
        "      % mean_squared_error(y_test, y_test_pred))"
      ]
    },
    {
      "cell_type": "markdown",
      "metadata": {
        "id": "YFAIBlt6zkCc"
      },
      "source": [
        "Notez que l'erreur d'entraînement est $<<$ que l'erreur de test ($<<$ veut dire « bien plus petit »). C'est évidemment un problème de surentraînement (*overfitting*). C'est-à-dire que le modèle a appris l'ensemble d'entraînement et ne peut donc pas généraliser à de nouvelles données (c'est un modèle à faible biais et variance élevée). \n",
        "\n",
        "Comme nous en avons discuté en classe, il existe plusieurs méthodes pour limiter voir empêcher le surentraînement. Pour l'instant, nous régulariserons le modèle pour limiter le surentraînement. L'idée est que nous ajouterons à la fonction de perte un terme pour empêcher les paramètres de prendre des valeurs trop élevées, ce qui à priori, devrait aider le modèle à mieux généraliser (notamment parce que la fonction sera plus lisse). Cette pénalité ou régularisateur est ajouter à la fonction de perte qui devient:s\n",
        "$$  \\text{loss} := \\text{MSE} + \\alpha \\sum_i ||\\theta_i||_2^2 $$\n",
        "\n",
        "Au lieu de $ \\text{loss} := \\text{MSE} $. Notez: \n",
        "- $||\\cdot||_2$ est la norme 2. C'est-à-dire la racine carrée de la somme des éléments au carré.\n",
        "- $\\alpha$ est un hyperparamètre qui fixe l'importance du régularisateur (si $\\alpha=0$ la régularisateur est nul et si $\\alpha=\\infty$ tous les paramètres régularisés doivent être exactement égales à 0). Un hyperparamètre n'est pas appris pendant l'entraînement, mais fixé à priori (ici, apprendre $\\alpha$ en même temps que $\\theta$ mènerait à estimer $\\alpha=0$). \\[Dans les notes de cours, j'ai utilisé le symbole $\\lambda$ pour cet hyperparamètre.\\]\n",
        "\n",
        "Pendant l'entraînement, le modèle doit trouver un compromis entre la performance (MSE) et la complexité du modèle ($\\theta$ élevés). \n",
        "\n",
        "Notez, qu'il y a différents noms pour ce régularisateur par exemple *weight decay*, *L2-regularization* et régression *ridge*. Scikit-learn utilise la classe `Ridge` dans la libraire `linear_model` pour estimer un modèle de régression linéaire régularisé."
      ]
    },
    {
      "cell_type": "code",
      "execution_count": null,
      "metadata": {
        "id": "Er6MBpJIzkCd",
        "outputId": "80224c05-7b35-43c4-e25e-d6ad3b666078"
      },
      "outputs": [
        {
          "name": "stdout",
          "output_type": "stream",
          "text": [
            "Temps d'apprentissage: 9.96 seconds\n",
            "Nombre de paramètres: 7184\n"
          ]
        }
      ],
      "source": [
        "# Créer le modèle de régression linéaire régularisé\n",
        "regr = linear_model.Ridge(alpha=10)\n",
        "\n",
        "# Entraîner le modèle avec l'ensemble d'entraînement\n",
        "start = time.time()\n",
        "regr.fit(X_train, y_train)\n",
        "fit_time = time.time() - start\n",
        "\n",
        "print(\"Temps d'apprentissage: %.2f seconds\" % fit_time)\n",
        "\n",
        "print(\"Nombre de paramètres:\", regr.coef_.shape[0]+1)"
      ]
    },
    {
      "cell_type": "markdown",
      "metadata": {
        "id": "tgCqN42MzkCd"
      },
      "source": [
        "**Question 3:** Pourquoi le modèle a 7,184 paramètres? En d'autres mots, à quoi correspondent ces paramètres?\n",
        "\n",
        "**Indice:** N'oubliez pas le terme de biais (intercepte)"
      ]
    },
    {
      "cell_type": "code",
      "execution_count": null,
      "metadata": {
        "id": "e_nZnPJdzkCd",
        "outputId": "420b32af-6b90-437f-e4cd-0db5566ff480"
      },
      "outputs": [
        {
          "name": "stdout",
          "output_type": "stream",
          "text": [
            "Erreur au carré moyenne d'entraînement: 0.795\n",
            "Erreur au carré moyenne de test: 1.031\n"
          ]
        }
      ],
      "source": [
        "# Obtenir les prédictions sur l'ensemble d'entraînement\n",
        "y_train_pred = regr.predict(X_train)\n",
        "\n",
        "print(\"Erreur au carré moyenne d'entraînement: %.3f\"\n",
        "      % mean_squared_error(y_train, y_train_pred))\n",
        "\n",
        "# Obtenir les prédictions sur l'ensemble de test\n",
        "y_test_pred = regr.predict(X_test)\n",
        "\n",
        "print(\"Erreur au carré moyenne de test: %.3f\"\n",
        "      % mean_squared_error(y_test, y_test_pred))"
      ]
    },
    {
      "cell_type": "markdown",
      "metadata": {
        "id": "huSoZWHxzkCe"
      },
      "source": [
        "Par rapport au modèle sans régularisation, nous observons que le modèle avec $\\alpha=10$ obtient des erreurs  beaucoup plus proches l'une de l'autre (il y a donc moins de surentraînement). D'autres valeurs de $\\alpha$ devrait aussi affecter la capacité à généraliser du modèle.\n",
        "\n",
        "\n",
        "**Question 4:** Comment trouver la meilleure valeur pour $\\alpha$ étant donné un modèle et un jeu de données?\n",
        "\n",
        "**Indice:** Regardez [RidgeCV](https://scikit-learn.org/stable/modules/generated/sklearn.linear_model.RidgeCV.html#sklearn.linear_model.RidgeCV), une version du modèle ridge avec de la validation croisée."
      ]
    },
    {
      "cell_type": "code",
      "execution_count": null,
      "metadata": {
        "id": "UhoZEnBazkCe",
        "outputId": "5eca8abe-68b2-497e-a8cb-34ea6d0ce761"
      },
      "outputs": [
        {
          "name": "stdout",
          "output_type": "stream",
          "text": [
            "Nombre de paramètres: 7183, estimated alpha: 10\n"
          ]
        }
      ],
      "source": [
        "# Créer l'objet de régression linéaire\n",
        "regRCV = ...\n",
        "\n",
        "# Entraîner le modèle à partir de l'ensemble d'entraînement\n",
        "\n",
        "\n",
        "print(\"Nombre de paramètres: %d, estimated alpha: %d\" % (regRCV.coef_.shape[0], regRCV.alpha_))"
      ]
    },
    {
      "cell_type": "markdown",
      "metadata": {
        "id": "z86XC2erzkCf"
      },
      "source": [
        "Dans ce cas $\\alpha=10$ offre la meilleure performance sur un ensemble (interne) de validation comparativement aux autres valeurs de $\\alpha$ proposées.\n",
        "\n",
        "Remarque technique: puisque l'estimation des paramètres est souvent effectuée en prenant une transformation logarithmique de l'objectif, il est normal d'essayer des valeurs de $\\alpha$ qui correspondent à des puissances de 10."
      ]
    },
    {
      "cell_type": "code",
      "execution_count": null,
      "metadata": {
        "id": "we-DpPfnzkCf",
        "outputId": "0ce9dc91-5b2d-43bf-9b73-9aff5b3ee927"
      },
      "outputs": [
        {
          "name": "stdout",
          "output_type": "stream",
          "text": [
            "Erreur carrée moyenne d'entraînement: 0.795\n",
            "Erreur carrée moyenne de test: 1.031\n"
          ]
        }
      ],
      "source": [
        "# Obtenir les prédictions d'entraînement\n",
        "y_train_pred = regRCV.predict(X_train)\n",
        "\n",
        "print(\"Erreur carrée moyenne d'entraînement: %.3f\"\n",
        "      % mean_squared_error(y_train, y_train_pred))\n",
        "\n",
        "# Obtenir les prédictions de test\n",
        "y_test_pred = regRCV.predict(X_test)\n",
        "\n",
        "print(\"Erreur carrée moyenne de test: %.3f\"\n",
        "      % mean_squared_error(y_test, y_test_pred))"
      ]
    },
    {
      "cell_type": "markdown",
      "metadata": {
        "id": "Ra-BdOiYzkCf"
      },
      "source": [
        "L'avantage de la validation croisée (par exemple `RidgeCV`) est clair. Cette méthode cherche automatiquement la meilleure valeur d'un hyper paramètre (ici $\\alpha$) à partir d'un ensemble possible (ici:  $\\{ 1, 10, 100 \\}$). \n",
        "\n",
        "La validation croisée devrait toujours être utilisée pour trouver de bons hyper paramètres (surtout pour les modèles non linéaires, différents hyper paramètres peuvent donner des résultats bien différents). Il est aussi possible que vous deviez implémenter cette procédure vous-même. Dans ce cas, il est alors nécessaire d'utiliser (explicitement) un ensemble de validation (que vous diviser à partir de votre ensemble d'entraînement). Dans `sklearn` vous pouvez utiliser la fonction `train_test_split`. La taille de l'ensemble de validation est souvent la même que la taille de l'ensemble de test.\n",
        "\n",
        "Très important, **ne sélectionnez jamais vos hyperparamèetres en fonction de votre performance sur l'ensemble de test**, ceci vous donnera des résultats trop optimistes (donc une erreur plus basse) puisque vous utilisez en fait votre ensemble de test pour entraîner votre modèle. L'ensemble de test sert à obtenir une estimation non biaisée de l'erreur qui peut donc être utilisée pour comparer différents modèles. \n",
        "\n",
        "***\n",
        "\n",
        "Maintenant que nous avons un modèle entraîné, nous pouvons explorer ses prédictions"
      ]
    },
    {
      "cell_type": "code",
      "execution_count": null,
      "metadata": {
        "id": "RjsUth3nzkCg"
      },
      "outputs": [],
      "source": [
        "# helpfer function to return non-zero columns\n",
        "def non_zero(row, columns):\n",
        "    col_name = list(columns[~(row == 0)])[0]\n",
        "    #r = re.sub('mid_','',l)\n",
        "    return col_name"
      ]
    },
    {
      "cell_type": "code",
      "execution_count": null,
      "metadata": {
        "id": "5-R-DYt1zkCg"
      },
      "outputs": [],
      "source": [
        "# obtenir le nombre de notes par film (popularité)\n",
        "mids = X_test.filter(regex=('mid_*'))\n",
        "y_mid_cols = mids.apply(lambda x: non_zero(x, mids.columns), axis=1)\n",
        "movie_popularity = X_train.filter(regex=('mid_*')).sum(axis=0)[ y_mid_cols ]\n",
        "\n",
        "# obtenir le nombre de notes par utilisateur (niveau d'activité d'un utilisateur)\n",
        "uids = X_test.filter(regex=('uid_*'))\n",
        "y_uid_cols = uids.apply(lambda x: non_zero(x, uids.columns), axis=1)\n",
        "user_activity = X_train.filter(regex=('uid_*')).sum(axis=0)[ y_uid_cols ]\n",
        "\n",
        "err = (y_test_pred-y_test)"
      ]
    },
    {
      "cell_type": "code",
      "execution_count": null,
      "metadata": {
        "id": "YEyQcIzMzkCg",
        "outputId": "1cc6112c-a52e-4663-82b0-4185ae30cffb"
      },
      "outputs": [
        {
          "data": {
            "image/png": "[encoded data removed]",
            "text/plain": [
              "<Figure size 1080x288 with 2 Axes>"
            ]
          },
          "metadata": {
            "needs_background": "light"
          },
          "output_type": "display_data"
        }
      ],
      "source": [
        "# simplement tracer un sous-ensemble pour l'interprétabilité\n",
        "subn = 500 \n",
        "fig, (ax0, ax1) = plt.subplots(ncols=2)\n",
        "fig.set_figwidth(15)\n",
        "ax0.scatter(movie_popularity[:subn], err[:subn])\n",
        "ax0.set_ylabel('Prediction error')\n",
        "ax0.set_xlabel('Movie Popularity')\n",
        "\n",
        "ax1.scatter(user_activity[:subn], err[:subn])\n",
        "ax1.set_ylabel('Prediction error')\n",
        "ax1.set_xlabel('User Activity');"
      ]
    },
    {
      "cell_type": "markdown",
      "metadata": {
        "id": "BYOVgUbpzkCh"
      },
      "source": [
        "Ces deux figures montrent l'erreur des prédictions (sur un sous-ensemble) de test versus la popularité des films (axe des x à gauche) et le niveau d'activité d'un utilisateur (axe des x à droite). Notez que:\n",
        "\n",
        "- Cette distribution empirique semble symétrique, donc il y n'y a pas de biais particulier à des prédictions plus élevées ou plus basses.\n",
        "- L'erreur de prédiction semble montrer que les films et les utilisateurs ayant plus de données ont aussi une plus petite erreur de prédiction (c.-à-d., les données forment un \"triangle\" pointant vers la droite, ceci devient beaucoup plus évident quand nous entraînons le modèle avec plus de données). Ce résultat tombe sous le sens, le plus de données le modèle observe sur un film, le plus précis le modèle devrait être pour ce film (son estimation de $\\theta_{\\text{mid}}$ sera plus précise). Cet effet est peut-être aussi renforcé par le fait que nous ayons divisé les données aléatoirement en entraînement et test. Il devient plus avantageux pour le modèle de correctement modéliser les films et les utilisateurs ayant le plus de données."
      ]
    },
    {
      "cell_type": "markdown",
      "metadata": {
        "id": "r1X1BJ1szkCh"
      },
      "source": [
        "### 2.3 Régression linéaire avec les tags comme attribut.\n",
        "\n",
        "Nous utilisons encore une fois un modèle de régression linéaire, mais nous y ajoutons les tags des films:\n",
        "\n",
        "$$\n",
        "f(x_{ui}) = \\theta_\\text{gender} x_{\\text{gender}_u} + \\theta_{\\text{age}} x_{\\text{age}_u} + \\theta_\\text{zip} x_{\\text{zip}_u} + \\theta_\\text{occupation} x_{\\text{occupation}_u} + \\theta_\\text{uid} x_{\\text{uid}_u} + \\theta_{\\text{mid}} x_{\\text{mid}_i} \\mathbf{+ x_{\\text{tags}_i}\\boldsymbol\\theta_\\text{tags}}\n",
        "$$ \n",
        "\n",
        "Le dernier terme à droite (en gras) est ajouté par rapport au modèle précédent."
      ]
    },
    {
      "cell_type": "markdown",
      "metadata": {
        "id": "HKRgjOaMzkCh"
      },
      "source": [
        "**Question 5:** Comment pensez-vous que ce modèle performera par rapport au modèle précédent (Section 2.2.)? Pouvez-vous dire quelque chose de formel par rapport à sa performance?\n",
        "\n",
        "**Indice:** Un des modèles est une généralisation de l'autre. "
      ]
    },
    {
      "cell_type": "code",
      "execution_count": null,
      "metadata": {
        "id": "7zAYQw6SzkCh",
        "outputId": "1f38f3f3-2515-4823-88c1-233f8c7f3e62"
      },
      "outputs": [
        {
          "name": "stdout",
          "output_type": "stream",
          "text": [
            "(19255, 8151)\n",
            "(15404, 8151)\n"
          ]
        }
      ],
      "source": [
        "# Nous construisons maintenant un jeu de données en y ajoutant les tags (tid_*)\n",
        "X_tags = data_pd_dum.filter(regex=('('+attributes+\"|tid_*\"+')'))\n",
        "print(X_tags.shape)\n",
        "\n",
        "# Divisons l'échantillon en Entraînement/Test.\n",
        "# Nous utilisons la machine racine (seed) qu'avant pour s'assurer que la division sera la même\n",
        "X_train_tags, X_test_tags, y_train_tags, y_test_tags = train_test_split(\n",
        "    X_tags, rating, test_size=0.2, random_state=1234, shuffle=False)\n",
        "print(X_train_tags.shape)"
      ]
    },
    {
      "cell_type": "code",
      "execution_count": null,
      "metadata": {
        "id": "3jWDjoCTzkCj",
        "outputId": "22d8eaeb-47ea-4468-b7c5-a3f3b5a71b56"
      },
      "outputs": [
        {
          "name": "stdout",
          "output_type": "stream",
          "text": [
            "Temps de l'apprentissage du modèle: 12.92 seconds\n",
            "Nombre de paramètres: 8152\n"
          ]
        }
      ],
      "source": [
        "# Créer l'oject de régression linéaire\n",
        "regr_tags = linear_model.Ridge(alpha=10)\n",
        "\n",
        "# Entraîner le modèle sur l'ensemble d'entraînement\n",
        "start = time.time()\n",
        "regr_tags.fit(X_train_tags, y_train_tags)\n",
        "fit_time = time.time() - start\n",
        "\n",
        "print(\"Temps de l'apprentissage du modèle: %.2f seconds\" % fit_time)\n",
        "print(\"Nombre de paramètres:\", regr_tags.coef_.shape[0]+1)"
      ]
    },
    {
      "cell_type": "code",
      "execution_count": null,
      "metadata": {
        "id": "eLERWiI_zkCj",
        "outputId": "de19c46c-b675-45c8-e8a2-2e7cbf2a9e38"
      },
      "outputs": [
        {
          "name": "stdout",
          "output_type": "stream",
          "text": [
            "Erreur au carré moyenne d'entraînement: 0.7264\n",
            "Erreur au carré moyenne de test: 0.9914\n"
          ]
        }
      ],
      "source": [
        "# Obtenir les prédictions d'entraînement\n",
        "y_train_pred = regr_tags.predict(X_train_tags)\n",
        "\n",
        "print(\"Erreur au carré moyenne d'entraînement: %.4f\"\n",
        "      % mean_squared_error(y_train_tags, y_train_pred))\n",
        "\n",
        "# Obtenir les prédictions de test\n",
        "y_test_pred = regr_tags.predict(X_test_tags)\n",
        "\n",
        "print(\"Erreur au carré moyenne de test: %.4f\"\n",
        "      % mean_squared_error(y_test_tags, y_test_pred))"
      ]
    },
    {
      "cell_type": "markdown",
      "metadata": {
        "id": "N1z6xrDhzkCj"
      },
      "source": [
        "À noter: l'erreur de test est de 0.99 pour ce modèle (2.3) comparé à une erreur MSE de test de 1.03 pour le modèle 2.2. Les tags semblent offrir une performance légèrement supérieure, mais elles ont aussi besoin d'un modèle d'une plus grande taille (968 paramètres en plus à estimer) ce qui prend environ 30% en plus à optimiser. Évidemment, ce n'est pas une comparaison exacte et elle dépend de votre ordinateur. Ceci étant dit, il semble quand même que l'algorithme d'estimation n'est pas linéaire (c.-à-d., augmenter le nombre de paramètres par 10%, augmente la durée de l'estimation par 30%).\n",
        "\n",
        "***"
      ]
    },
    {
      "cell_type": "markdown",
      "metadata": {
        "id": "GFshRUwHzkCj"
      },
      "source": [
        "### 2.4 Apprendre un modèle non linéaire\n",
        "\n",
        "Pour l'instant nous avons étudié l'effet d'utiliser différents attributs sur un modèle linéaire. Il semble qu'ajouter des attributs aide à obtenir une meilleure performance de généralisation.\n",
        "\n",
        "Maintenant nous explorerons un modèle non linéaire, un réseau de neurones à une couche cachée (les réseaux de neurones seront le thème des deux prochaines semaines). La tâche est les données ne changent pas, seulement le modèle.\n",
        "\n",
        "**Le b.a.-ba des réseaux de neurones:** \n",
        "- Un réseau de neurones est constitué de neurones interconnectés. Chaque neurone n'effectue que quelques calculs simples. \n",
        "- Dans un réseau *feed-forward*, les neurones sont organisés dans des ensembles appelés couches (*layers*). \n",
        " - Les neurones de chaque couche obtiennent leurs entrées des neurones de la couche précédente. Les neurones d'une couche envoient donc le résultat de leur calcul à la couche d'après. \n",
        " - La première couche est appelée couche entrante (*input layer*) elle utilise directement les données et les passent à la seconde couche. La dernière couche est celle de sortie (*output layer*) elle calcule les prédictions finales $\\hat{y}$. \n",
        " - Les couches entre la couche d'entrée et de sortie sont appelées les couches cachées (*hidden layers*). Chaque neurone des couches cachées est un modèle linéaire suivit d'une fonction d'activation non linéaire (*activation function*): $f(x) = \\sum_i x_i \\theta_i$. \n",
        "  - Le nombre de neurones des couches d'entrée et de sortie est fixé par les données (le nombre des attributs et le nombre de prédictions par exemple). \n",
        "  - Le nombre de neurones de chaque couche cachée est un hyper paramètre. Un autre hyper paramètre est le nombre de couches cachées.\n",
        "\n",
        "Mathématiquement, pour une tâche de régression (avec une seule prédiction par exemple), un réseau de neurones à une couche cachée est: \n",
        "$$ \n",
        "f(x) = f_\\text{o} ( \\sum_{j=0}^{|\\text{hidden n.}|} \\theta'_{j} f_\\text{h}( \\sum_{i=0}^{|p|}\\theta_{ij} x_i ) ) \n",
        "$$ \n",
        "avec\n",
        "- $\\theta_{ij}$ les paramètres des entrées $i$ et neurone $j$ d'une couche cachée.\n",
        "- $f_h$ est la fonction d'activation d'une couche cachée\n",
        "- $\\theta'_{j}$ sont les paramètres qui connectent le neurone $j$ de la couche cachée à la couche de sortie.\n",
        "- $f_o$ est la fonction d'activation de la couche de sortie\n",
        "\n",
        "\n",
        "Il peut être plus intuitif de visualiser l'architecture d'une réseau de neurones en dessinant les neurones comme étant de noeuds et les connections comme des arrêtes dans un graphe:"
      ]
    },
    {
      "cell_type": "code",
      "execution_count": null,
      "metadata": {
        "id": "2lN9SOStzkCk",
        "outputId": "09eff7d3-d6c1-4166-da14-2b0c39900563"
      },
      "outputs": [
        {
          "data": {
            "image/png": "[encoded data removed]",
            "text/plain": [
              "<Figure size 432x288 with 1 Axes>"
            ]
          },
          "metadata": {
            "needs_background": "light"
          },
          "output_type": "display_data"
        }
      ],
      "source": [
        "# un réseau de neurones à une couche cachée où l'entrée à 10 dimensions (p=10) et la sortie une seule dimension\n",
        "input_dims = 10 # p \n",
        "# nombre de neurones cachées pour chaque couche cachée (pour ajouter une couche il faut ajouter une dimension)\n",
        "hidden_layers_size = [4] \n",
        "output_dims = 1 # nombre de sorties\n",
        "\n",
        "network = DrawNN( [input_dims] + hidden_layers_size + [output_dims] )\n",
        "network.draw()"
      ]
    },
    {
      "cell_type": "code",
      "execution_count": null,
      "metadata": {
        "scrolled": true,
        "id": "FuY7Q7RvzkCk",
        "outputId": "26909332-c041-4a5a-a163-1f4bc0a7cadd"
      },
      "outputs": [
        {
          "name": "stdout",
          "output_type": "stream",
          "text": [
            "Iteration 1, loss = 6.56955926\n",
            "Validation score: -4.536097\n",
            "Iteration 2, loss = 2.12167821\n",
            "Validation score: -1.250044\n",
            "Iteration 3, loss = 1.24974278\n",
            "Validation score: -0.973809\n",
            "Iteration 4, loss = 1.15528883\n",
            "Validation score: -0.885417\n",
            "Iteration 5, loss = 1.09444618\n",
            "Validation score: -0.797478\n",
            "Iteration 6, loss = 1.03693099\n",
            "Validation score: -0.715147\n",
            "Iteration 7, loss = 0.98282816\n",
            "Validation score: -0.634489\n",
            "Iteration 8, loss = 0.93160967\n",
            "Validation score: -0.558859\n",
            "Iteration 9, loss = 0.88383214\n",
            "Validation score: -0.488287\n",
            "Iteration 10, loss = 0.83924576\n",
            "Validation score: -0.420767\n",
            "Iteration 11, loss = 0.79792269\n",
            "Validation score: -0.357542\n",
            "Iteration 12, loss = 0.75975209\n",
            "Validation score: -0.302905\n",
            "Iteration 13, loss = 0.72452769\n",
            "Validation score: -0.248625\n",
            "Iteration 14, loss = 0.69238867\n",
            "Validation score: -0.198602\n",
            "Iteration 15, loss = 0.66326857\n",
            "Validation score: -0.155054\n",
            "Iteration 16, loss = 0.63671488\n",
            "Validation score: -0.119251\n",
            "Iteration 17, loss = 0.61312702\n",
            "Validation score: -0.080486\n",
            "Iteration 18, loss = 0.59194446\n",
            "Validation score: -0.049278\n",
            "Iteration 19, loss = 0.57274156\n",
            "Validation score: -0.022999\n",
            "Iteration 20, loss = 0.55532517\n",
            "Validation score: 0.002410\n",
            "Iteration 21, loss = 0.53999818\n",
            "Validation score: 0.025167\n",
            "Iteration 22, loss = 0.52639797\n",
            "Validation score: 0.043515\n",
            "Iteration 23, loss = 0.51423982\n",
            "Validation score: 0.059633\n",
            "Iteration 24, loss = 0.50286932\n",
            "Validation score: 0.072648\n",
            "Iteration 25, loss = 0.49281153\n",
            "Validation score: 0.086717\n",
            "Iteration 26, loss = 0.48381674\n",
            "Validation score: 0.101367\n",
            "Iteration 27, loss = 0.47536800\n",
            "Validation score: 0.112274\n",
            "Iteration 28, loss = 0.46782695\n",
            "Validation score: 0.121851\n",
            "Iteration 29, loss = 0.46103321\n",
            "Validation score: 0.130795\n",
            "Iteration 30, loss = 0.45473400\n",
            "Validation score: 0.136465\n",
            "Iteration 31, loss = 0.44866214\n",
            "Validation score: 0.142043\n",
            "Iteration 32, loss = 0.44353288\n",
            "Validation score: 0.146468\n",
            "Iteration 33, loss = 0.43856003\n",
            "Validation score: 0.155729\n",
            "Iteration 34, loss = 0.43392629\n",
            "Validation score: 0.160179\n",
            "Iteration 35, loss = 0.43006055\n",
            "Validation score: 0.165758\n",
            "Iteration 36, loss = 0.42584607\n",
            "Validation score: 0.169073\n",
            "Iteration 37, loss = 0.42228365\n",
            "Validation score: 0.174010\n",
            "Iteration 38, loss = 0.41908271\n",
            "Validation score: 0.176813\n",
            "Iteration 39, loss = 0.41545429\n",
            "Validation score: 0.178841\n",
            "Iteration 40, loss = 0.41238192\n",
            "Validation score: 0.176571\n",
            "Iteration 41, loss = 0.40979598\n",
            "Validation score: 0.183233\n",
            "Iteration 42, loss = 0.40709323\n",
            "Validation score: 0.183977\n",
            "Iteration 43, loss = 0.40397130\n",
            "Validation score: 0.179800\n",
            "Iteration 44, loss = 0.40206260\n",
            "Validation score: 0.187936\n",
            "Iteration 45, loss = 0.39942581\n",
            "Validation score: 0.190349\n",
            "Iteration 46, loss = 0.39710784\n",
            "Validation score: 0.191103\n",
            "Iteration 47, loss = 0.39537160\n",
            "Validation score: 0.192631\n",
            "Iteration 48, loss = 0.39268565\n",
            "Validation score: 0.194116\n",
            "Iteration 49, loss = 0.39125345\n",
            "Validation score: 0.194635\n",
            "Iteration 50, loss = 0.38863125\n",
            "Validation score: 0.193640\n",
            "Iteration 51, loss = 0.38695237\n",
            "Validation score: 0.195163\n",
            "Iteration 52, loss = 0.38495420\n",
            "Validation score: 0.196752\n",
            "Iteration 53, loss = 0.38303410\n",
            "Validation score: 0.197206\n",
            "Iteration 54, loss = 0.38177100\n",
            "Validation score: 0.198190\n",
            "Iteration 55, loss = 0.37999612\n",
            "Validation score: 0.198320\n",
            "Iteration 56, loss = 0.37848696\n",
            "Validation score: 0.195625\n",
            "Iteration 57, loss = 0.37652131\n",
            "Validation score: 0.198521\n",
            "Iteration 58, loss = 0.37515503\n",
            "Validation score: 0.193363\n",
            "Iteration 59, loss = 0.37332858\n",
            "Validation score: 0.198813\n",
            "Iteration 60, loss = 0.37144545\n",
            "Validation score: 0.198441\n",
            "Iteration 61, loss = 0.37102877\n",
            "Validation score: 0.197653\n",
            "Iteration 62, loss = 0.36868002\n",
            "Validation score: 0.199397\n",
            "Iteration 63, loss = 0.36740827\n",
            "Validation score: 0.199067\n",
            "Iteration 64, loss = 0.36625290\n",
            "Validation score: 0.198755\n",
            "Iteration 65, loss = 0.36520086\n",
            "Validation score: 0.199639\n",
            "Iteration 66, loss = 0.36329862\n",
            "Validation score: 0.199447\n",
            "Iteration 67, loss = 0.36226388\n",
            "Validation score: 0.198142\n",
            "Iteration 68, loss = 0.36139548\n",
            "Validation score: 0.197718\n",
            "Iteration 69, loss = 0.35969095\n",
            "Validation score: 0.199232\n",
            "Iteration 70, loss = 0.35856112\n",
            "Validation score: 0.193881\n",
            "Iteration 71, loss = 0.35719898\n",
            "Validation score: 0.196554\n",
            "Iteration 72, loss = 0.35589177\n",
            "Validation score: 0.185066\n",
            "Iteration 73, loss = 0.35602646\n",
            "Validation score: 0.197560\n",
            "Iteration 74, loss = 0.35347714\n",
            "Validation score: 0.196614\n",
            "Iteration 75, loss = 0.35313695\n",
            "Validation score: 0.191900\n",
            "Iteration 76, loss = 0.35097403\n",
            "Validation score: 0.194248\n",
            "Validation score did not improve more than tol=0.000100 for 10 consecutive epochs. Stopping.\n",
            "Temps d'apprentissage du modèle: 69.77 seconds\n",
            "Nombre de paramètres: 32613\n"
          ]
        }
      ],
      "source": [
        "# Créer un réseau de neuronnes\n",
        "regr_nn = neural_network.MLPRegressor(alpha=0.1, # l2-regularization (weight decay)\n",
        "                                      hidden_layer_sizes=tuple(hidden_layers_size),\n",
        "                                      early_stopping=True, # stop if validation performance decreases\n",
        "                                      verbose=True,\n",
        "                                      random_state=1234)\n",
        "\n",
        "# Estimer les paramètres du réseau sur nos données\n",
        "\n",
        "#normalize data\n",
        "start = time.time()\n",
        "regr_nn.fit(X_train_tags, y_train_tags)\n",
        "fit_time = time.time() - start\n",
        "\n",
        "print(\"Temps d'apprentissage du modèle: %.2f seconds\" % fit_time)\n",
        "print(\"Nombre de paramètres:\", reduce(lambda x,y: x+y, \n",
        "                                       list(map(lambda x: x.size, regr_nn.coefs_+regr_nn.intercepts_)) ))"
      ]
    },
    {
      "cell_type": "markdown",
      "metadata": {
        "id": "uM191Io8zkCl"
      },
      "source": [
        "Comme pour les autres modèles, nous pouvons régulariser les paramètres du réseau pour éviter le surentrainement:\n",
        "- Nous utilisons la même taille du régularisateur L2 pour tous les paramètres. La taille du régularisateur est donnée par $\\alpha$. \n",
        "- En plus, nous utilisons un second régularisateur qui se nomme `early-stopping`. L'apprentissage des paramètres dans un réseau de neurones est une procédure littérature en utilisant une méthode appelée descente de gradient (par rapport à la régression linéaire, il n'existe pas de solution analytique permettant de trouver les paramètres optimaux en fonction de la fonction d'objectif). Le *Early stopping* évalue simplement une erreur de validation après chaque itération d'entraînement. La procédure stoppe l'apprentissage une fois que l'erreur de validation arrête de progresser. Ceci peut évidemment arriver avant que l'erreur d'entraînement converge. Si ce n'est pas le cas, ce régularisateur n'a aucun effet sur l'apprentissage. Dans `scikit-learn`, la classe `MLPRegressor` avec `early_stopping=True` divise automatiquement l'ensemble d'entraînement en deux (validation et entraînement). Le désavantage évidemment est qu'il reste un tout petit moins de données pour s'entraîner.\n",
        "\n",
        "\n"
      ]
    },
    {
      "cell_type": "markdown",
      "metadata": {
        "id": "LVPVODp0zkCl"
      },
      "source": [
        "**Question 6:** Pourquoi dans `sklearn` ce modèle permet-il de fixer une racine (c.-à-d., `random_state`) alors que le modèle de régression linéaire ne le permet pas? \n"
      ]
    },
    {
      "cell_type": "code",
      "execution_count": null,
      "metadata": {
        "id": "wR8becfIzkCl",
        "outputId": "af1ae411-b4ef-4685-8918-d36fcbf9be67"
      },
      "outputs": [
        {
          "name": "stdout",
          "output_type": "stream",
          "text": [
            "Erreur au carré moyenne d'entraînement: 0.6416\n",
            "Erreur au carré moyenne de test: 1.0292\n"
          ]
        }
      ],
      "source": [
        "# Obtenir les prédictions d'entraînement\n",
        "y_train_pred = regr_nn.predict(X_train_tags)\n",
        "#y_train_pred = regr_nn.predict(scaler.transform(X_train_tags))\n",
        "\n",
        "\n",
        "print(\"Erreur au carré moyenne d'entraînement: %.4f\"\n",
        "      % mean_squared_error(y_train_tags, y_train_pred))\n",
        "\n",
        "# Obtenir les prédictions de test\n",
        "y_test_pred = regr_nn.predict(X_test_tags)\n",
        "#y_test_pred = regr_nn.predict(scaler.transform(X_test_tags))\n",
        "\n",
        "print(\"Erreur au carré moyenne de test: %.4f\"\n",
        "      % mean_squared_error(y_test_tags, y_test_pred))\n",
        "#Train Mean squared error: 0.6623\n",
        "#Test Mean squared error: 1.0465"
      ]
    },
    {
      "cell_type": "markdown",
      "metadata": {
        "id": "VvdFQ05HzkCm"
      },
      "source": [
        "Voici notre tableau des résultats\n",
        "\n",
        "| Modèle        | MSE de test           |\n",
        "| ------------- |:-------------:| \n",
        "| 2.2 (Reg. linéaire avec attributs)     | 1.031 | 0.8650  |\n",
        "| 2.3 (2.2 + *tags* des films)     | 0.991 | 0.8571 |\n",
        "| 2.4 (Réseau de neurones avec les attributs de 2.3) | 1.029 | 0.8650 | \n",
        "\n",
        "Même si les réseaux de neurones sont très puissants (leur capacité est haute), sur cette tâche le réseau de neurones entraîné n'améliore pas la performance d'un modèle de régression plus simple. Ce n'est évidemment pas indicatif de la performance de tous les réseaux de neurones (il est possible qu'une réseau de neurones un peu différents obtiennent de meilleurs résultats). "
      ]
    },
    {
      "cell_type": "markdown",
      "metadata": {
        "id": "LZ6OaYS9zkCm"
      },
      "source": [
        "<a id=\"concluding-remarks\"></a>\n",
        "### Section 3. Conclusions\n",
        "\n",
        "Le but de ce tutoriel était de vous introduire à l'apprentissage automatique de manière très pratique et de complémenter le cours. Nous nous pencherons évidemment en détail sur les réseaux de neurones dans les semaines à venir.\n",
        "\n",
        "Avant de terminer: \n",
        "\n",
        "#### Apprentissage automatique\n",
        "\n",
        "Comme vous avez pu le constater, l'apprentissage machine pratique est très empirique. Une fois que vous avez des données dans un format correct, il est typique de les utiliser pour estimer et comparer différents modèles. Vous pouvez tenter de comprendre les avantages/désavantages de ces modèles dans votre contexte. C'est aussi une bonne manière de mieux comprendre vos données. En pratique, c'est souvent un aspect essentiel que nous n'avons pas énormément abordé dans ce tutoriel (au profit d'une meilleure exploration des modèles).\n",
        "\n",
        "\n",
        "#### Scikit-learn\n",
        "`scikit-learn` est une libraire de ML très pratique et puissant. C'est une boîte à outils de modèles ainsi que de routines pour prétraiter vos données. Elle offre une interface à une grande variété de modèles, elle reste activement développée et en général c'est une excellente plateforme. C'est aussi une libraire ouverte (*open source*) et gratuite à utiliser. \n",
        "\n",
        "Sélection de modèles: choisir le meilleur (ou même un bon) modèle pour une tâche particulière n'est pas une mince affaire. [Cette page](https://scikit-learn.org/stable/tutorial/machine_learning_map/index.html) offre des conseils pour la sélection de modèles disponibles sur `scikit-learn`. N'oubliez pas qu'en pratique, la performance de test n'est souvent qu'une seule mesure parmi d'autres (qui peuvent inclure, par exemple, le temps d'estimation du modèle, le taux de faux positif ou faux négatifs, etc.)\n",
        "\n",
        "Bien que très versatile, `scikit-learn` n'est pas utilisable pour tout. Par exemple, cette libraire n'offre que très peu de réseaux de neurones modernes. Ce n'est pas non plus, la plateforme idéale pour développer de nouveaux modèles.\n",
        "\n",
        "#### D'autres libraires\n",
        "\n",
        "La qualité des logiciels disponibles a largement contribué à la popularité de l'apprentissage automatique dans les dernières années. Les logiciels modernes automatisent une série de tâches qui permettent aux programmeurs d'être plus efficaces. `scikit-learn` est un outil très populaire, mais il existe évidemment d'autres librairies de bonne qualité (tant pour utiliser des modèles existants que pour développer de nouveaux modèles). Il peut évidemment être pratique et tentant d'apprendre plusieurs de ces librairies. À mon avis, c'est encore plus important d'avoir une compréhension des fondamentaux de l'apprentissage automatique d'autant plus que les librairies changent souvent très rapidement. \n",
        "\n",
        "#### Matière à réflexion\n",
        " - Dans nos modèles nous avons pris comme hypothèse que les notes sont les variables dépendantes (y) et que nous avions accès à des attributs des utilisateurs et des items. Imaginone une tâche où nous n'aurions pas accès à des attributs, ou bien à un cas où les attributs ne seraient pas informatifs des notes. Dans ce cas, le modèle de régression linéaire deviendrait: \n",
        " \n",
        "$$\n",
        "f(x_{ui}) = \\theta_\\text{uid} x_{\\text{uid}_u} + \\theta_{\\text{mid}} x_{\\text{mid}_i}\n",
        "$$ \n",
        " \n",
        "\n",
        "- **Question 7:** Quel est le problème avec ce dernier modèle? Je vous suggère d'y réfléchir un peu avant de lire la réponse. \n",
        "\n",
        "- Comme nous le verrons à la semaine 11 (sur les systèmes de recommandation), il existe plusieurs modèles qui utilisent les notes en entrée **et** en sortie. Par exemple, on pourrait directement utiliser les notes historiques d'un utilisateur pour prédire ses notes futures  (pour ce faire on pourrait utiliser un auto-encodeur)."
      ]
    },
    {
      "cell_type": "markdown",
      "metadata": {
        "id": "fSSuRAQjzkCo"
      },
      "source": [
        "## Références\n",
        "\n",
        "\n",
        "Scikit-learn (en anglais)\n",
        "- [Documentation](https://scikit-learn.org/stable/documentation.html)\n",
        "- [Tutoriels](https://scikit-learn.org/stable/tutorial/index.html)\n",
        "- [Aide à la sélection de modèles](https://scikit-learn.org/stable/tutorial/machine_learning_map/index.html)"
      ]
    },
    {
      "cell_type": "markdown",
      "source": [
        "# Bibliographie\n"
      ],
      "metadata": {
        "id": "rBytKxLCi2Fj"
      }
    }
  ],
  "metadata": {
    "kernelspec": {
      "display_name": "Python 3",
      "language": "python",
      "name": "python3"
    },
    "language_info": {
      "codemirror_mode": {
        "name": "ipython",
        "version": 3
      },
      "file_extension": ".py",
      "mimetype": "text/x-python",
      "name": "python",
      "nbconvert_exporter": "python",
      "pygments_lexer": "ipython3",
      "version": "3.7.3"
    },
    "colab": {
      "name": "Workshop_4POINT0_Test.ipynb",
      "provenance": [],
      "toc_visible": true
    }
  },
  "nbformat": 4,
  "nbformat_minor": 0
}